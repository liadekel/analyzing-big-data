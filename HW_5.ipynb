{
  "nbformat": 4,
  "nbformat_minor": 0,
  "metadata": {
    "kernelspec": {
      "display_name": "Python 3",
      "language": "python",
      "name": "python3"
    },
    "language_info": {
      "codemirror_mode": {
        "name": "ipython",
        "version": 3
      },
      "file_extension": ".py",
      "mimetype": "text/x-python",
      "name": "python",
      "nbconvert_exporter": "python",
      "pygments_lexer": "ipython3",
      "version": "3.6.7"
    },
    "colab": {
      "name": "HW 5.ipynb",
      "provenance": [],
      "include_colab_link": true
    }
  },
  "cells": [
    {
      "cell_type": "markdown",
      "metadata": {
        "id": "view-in-github",
        "colab_type": "text"
      },
      "source": [
        "<a href=\"https://colab.research.google.com/github/liadekel/analyzing-big-data/blob/master/HW_5.ipynb\" target=\"_parent\"><img src=\"https://colab.research.google.com/assets/colab-badge.svg\" alt=\"Open In Colab\"/></a>"
      ]
    },
    {
      "cell_type": "markdown",
      "metadata": {
        "id": "g4X6zuhyulUc",
        "colab_type": "text"
      },
      "source": [
        "# Homework Assignment  5"
      ]
    },
    {
      "cell_type": "markdown",
      "metadata": {
        "id": "euP-mSdtulUg",
        "colab_type": "text"
      },
      "source": [
        "**Question 1:** Select a directed network, and develop a simple\n",
        "    link prediction classifier based on the network's directed topology (40pt). \n",
        "    Use node or link embedding features and try to improve the classification (20pt)\n",
        "    \n",
        "**Bonus:** Evaluate the classifier's ability to predict future links (10pt)\n",
        "    \n",
        "** Note:** You can use [Reddit community networks](http://dynamics.cs.washington.edu/data.html), or search\n",
        "for networks using [The Colorado Index of Complex Networks](https://icon.colorado.edu/)."
      ]
    },
    {
      "cell_type": "code",
      "metadata": {
        "id": "kqqlq23sulUi",
        "colab_type": "code",
        "colab": {}
      },
      "source": [
        ""
      ],
      "execution_count": 0,
      "outputs": []
    },
    {
      "cell_type": "markdown",
      "metadata": {
        "id": "VLGS1MiDulUo",
        "colab_type": "text"
      },
      "source": [
        "**Question 2:** Use three different centrality algorithms to identify managers at Enron.\n",
        "    Evaluate the precision@10 of the algorithms, i.e. how many managers attained the top-10 highest ranks (30pt). Draw \n",
        "    the network and visualize one of the centrality measures (10pt)\n",
        "    "
      ]
    },
    {
      "cell_type": "code",
      "metadata": {
        "id": "UQzWpvcfulUq",
        "colab_type": "code",
        "colab": {}
      },
      "source": [
        ""
      ],
      "execution_count": 0,
      "outputs": []
    }
  ]
}