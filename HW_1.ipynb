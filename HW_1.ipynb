{
  "nbformat": 4,
  "nbformat_minor": 0,
  "metadata": {
    "kernelspec": {
      "display_name": "Python 3",
      "language": "python",
      "name": "python3"
    },
    "language_info": {
      "codemirror_mode": {
        "name": "ipython",
        "version": 3
      },
      "file_extension": ".py",
      "mimetype": "text/x-python",
      "name": "python",
      "nbconvert_exporter": "python",
      "pygments_lexer": "ipython3",
      "version": "3.6.9"
    },
    "colab": {
      "name": "HW 1.ipynb",
      "provenance": [],
      "include_colab_link": true
    }
  },
  "cells": [
    {
      "cell_type": "markdown",
      "metadata": {
        "id": "view-in-github",
        "colab_type": "text"
      },
      "source": [
        "<a href=\"https://colab.research.google.com/github/liadekel/analyzing-big-data/blob/master/HW_1.ipynb\" target=\"_parent\"><img src=\"https://colab.research.google.com/assets/colab-badge.svg\" alt=\"Open In Colab\"/></a>"
      ]
    },
    {
      "cell_type": "markdown",
      "metadata": {
        "id": "_fq8BHLiYCyE",
        "colab_type": "text"
      },
      "source": [
        "# Homework Assignment 1\n",
        "### [The Art of Analyzing Big Data - The Data Scientist’s Toolbox](https://www.ise.bgu.ac.il/labs/fire/lectures.html)\n",
        "#### By Dr. Michael Fire "
      ]
    },
    {
      "cell_type": "markdown",
      "metadata": {
        "id": "jYvqtKSOYCyG",
        "colab_type": "text"
      },
      "source": [
        "For this homework you will need to write code that analyzes real-world datasets. The code needs to be written in Python using the [sqlite3](https://docs.python.org/2/library/sqlite3.html) package. \n",
        "\n",
        "**Please note:** You need to answer only the questions that match your ID first digit."
      ]
    },
    {
      "cell_type": "markdown",
      "metadata": {
        "id": "AML-gkV-YCyI",
        "colab_type": "text"
      },
      "source": [
        "# 1. Babies Names Dataset (35pt)"
      ]
    },
    {
      "cell_type": "markdown",
      "metadata": {
        "id": "jvkBrt7SYCyK",
        "colab_type": "text"
      },
      "source": [
        "**Task 1 (for everyone):** Write a code that uses the  [**babies names dataset**](https://catalog.data.gov/dataset/baby-names-from-social-security-card-applications-data-by-state-and-district-of-#topic=developers_navigation) and creates a table named (Names) with the dataset data and the following columns: 'State', 'Gender', 'Name', 'Number', and 'Year' (5pt)\n",
        "**Bonus:** Load the data using a Batch INSERT SQL Query (2pt)"
      ]
    },
    {
      "cell_type": "code",
      "metadata": {
        "id": "h9nEyTepERV5",
        "colab_type": "code",
        "colab": {}
      },
      "source": [
        "# restart state\n",
        "! rm -rf ./datasets"
      ],
      "execution_count": 0,
      "outputs": []
    },
    {
      "cell_type": "code",
      "metadata": {
        "colab_type": "code",
        "id": "VdoedCI8H2KB",
        "outputId": "41be3d12-cc77-4c06-946f-65da552ed136",
        "colab": {
          "base_uri": "https://localhost:8080/",
          "height": 1000
        }
      },
      "source": [
        "# Creating a dataset directory\n",
        "!mkdir ./datasets\n",
        "!mkdir ./datasets/us-baby-name\n",
        "# download the dataset using wget\n",
        "!wget --directory-prefix ./datasets/us-baby-name https://www.ssa.gov/oact/babynames/state/namesbystate.zip\n",
        "!unzip ./datasets/us-baby-name/*.zip  -d ./datasets/us-baby-name/namesbystate\n",
        "# concatenate to one file\n",
        "!cat ./datasets/us-baby-name/namesbystate/*.TXT >> ./datasets/us-baby-name/namesbystate.txt"
      ],
      "execution_count": 16,
      "outputs": [
        {
          "output_type": "stream",
          "text": [
            "--2020-03-23 20:24:28--  https://www.ssa.gov/oact/babynames/state/namesbystate.zip\n",
            "Resolving www.ssa.gov (www.ssa.gov)... 137.200.39.19, 2001:1930:e03::aaaa\n",
            "Connecting to www.ssa.gov (www.ssa.gov)|137.200.39.19|:443... connected.\n",
            "HTTP request sent, awaiting response... 200 OK\n",
            "Length: 21974087 (21M) [application/zip]\n",
            "Saving to: ‘./datasets/us-baby-name/namesbystate.zip’\n",
            "\n",
            "namesbystate.zip    100%[===================>]  20.96M   999KB/s    in 22s     \n",
            "\n",
            "2020-03-23 20:24:50 (993 KB/s) - ‘./datasets/us-baby-name/namesbystate.zip’ saved [21974087/21974087]\n",
            "\n",
            "Archive:  ./datasets/us-baby-name/namesbystate.zip\n",
            "  inflating: ./datasets/us-baby-name/namesbystate/AK.TXT  \n",
            "  inflating: ./datasets/us-baby-name/namesbystate/AL.TXT  \n",
            "  inflating: ./datasets/us-baby-name/namesbystate/AR.TXT  \n",
            "  inflating: ./datasets/us-baby-name/namesbystate/AZ.TXT  \n",
            "  inflating: ./datasets/us-baby-name/namesbystate/CA.TXT  \n",
            "  inflating: ./datasets/us-baby-name/namesbystate/CO.TXT  \n",
            "  inflating: ./datasets/us-baby-name/namesbystate/CT.TXT  \n",
            "  inflating: ./datasets/us-baby-name/namesbystate/DC.TXT  \n",
            "  inflating: ./datasets/us-baby-name/namesbystate/DE.TXT  \n",
            "  inflating: ./datasets/us-baby-name/namesbystate/FL.TXT  \n",
            "  inflating: ./datasets/us-baby-name/namesbystate/GA.TXT  \n",
            "  inflating: ./datasets/us-baby-name/namesbystate/HI.TXT  \n",
            "  inflating: ./datasets/us-baby-name/namesbystate/IA.TXT  \n",
            "  inflating: ./datasets/us-baby-name/namesbystate/ID.TXT  \n",
            "  inflating: ./datasets/us-baby-name/namesbystate/IL.TXT  \n",
            "  inflating: ./datasets/us-baby-name/namesbystate/IN.TXT  \n",
            "  inflating: ./datasets/us-baby-name/namesbystate/KS.TXT  \n",
            "  inflating: ./datasets/us-baby-name/namesbystate/KY.TXT  \n",
            "  inflating: ./datasets/us-baby-name/namesbystate/LA.TXT  \n",
            "  inflating: ./datasets/us-baby-name/namesbystate/MA.TXT  \n",
            "  inflating: ./datasets/us-baby-name/namesbystate/MD.TXT  \n",
            "  inflating: ./datasets/us-baby-name/namesbystate/ME.TXT  \n",
            "  inflating: ./datasets/us-baby-name/namesbystate/MI.TXT  \n",
            "  inflating: ./datasets/us-baby-name/namesbystate/MN.TXT  \n",
            "  inflating: ./datasets/us-baby-name/namesbystate/MO.TXT  \n",
            "  inflating: ./datasets/us-baby-name/namesbystate/MS.TXT  \n",
            "  inflating: ./datasets/us-baby-name/namesbystate/MT.TXT  \n",
            "  inflating: ./datasets/us-baby-name/namesbystate/NC.TXT  \n",
            "  inflating: ./datasets/us-baby-name/namesbystate/ND.TXT  \n",
            "  inflating: ./datasets/us-baby-name/namesbystate/NE.TXT  \n",
            "  inflating: ./datasets/us-baby-name/namesbystate/NH.TXT  \n",
            "  inflating: ./datasets/us-baby-name/namesbystate/NJ.TXT  \n",
            "  inflating: ./datasets/us-baby-name/namesbystate/NM.TXT  \n",
            "  inflating: ./datasets/us-baby-name/namesbystate/NV.TXT  \n",
            "  inflating: ./datasets/us-baby-name/namesbystate/NY.TXT  \n",
            "  inflating: ./datasets/us-baby-name/namesbystate/OH.TXT  \n",
            "  inflating: ./datasets/us-baby-name/namesbystate/OK.TXT  \n",
            "  inflating: ./datasets/us-baby-name/namesbystate/OR.TXT  \n",
            "  inflating: ./datasets/us-baby-name/namesbystate/PA.TXT  \n",
            "  inflating: ./datasets/us-baby-name/namesbystate/RI.TXT  \n",
            "  inflating: ./datasets/us-baby-name/namesbystate/SC.TXT  \n",
            "  inflating: ./datasets/us-baby-name/namesbystate/SD.TXT  \n",
            "  inflating: ./datasets/us-baby-name/namesbystate/StateReadMe.pdf  \n",
            "  inflating: ./datasets/us-baby-name/namesbystate/TN.TXT  \n",
            "  inflating: ./datasets/us-baby-name/namesbystate/TX.TXT  \n",
            "  inflating: ./datasets/us-baby-name/namesbystate/UT.TXT  \n",
            "  inflating: ./datasets/us-baby-name/namesbystate/VA.TXT  \n",
            "  inflating: ./datasets/us-baby-name/namesbystate/VT.TXT  \n",
            "  inflating: ./datasets/us-baby-name/namesbystate/WA.TXT  \n",
            "  inflating: ./datasets/us-baby-name/namesbystate/WI.TXT  \n",
            "  inflating: ./datasets/us-baby-name/namesbystate/WV.TXT  \n",
            "  inflating: ./datasets/us-baby-name/namesbystate/WY.TXT  \n"
          ],
          "name": "stdout"
        }
      ]
    },
    {
      "cell_type": "code",
      "metadata": {
        "id": "MHULZ_GjBBYI",
        "colab_type": "code",
        "colab": {}
      },
      "source": [
        "import sqlite3\n",
        "import matplotlib\n",
        "import matplotlib.pyplot as plt\n",
        "import os\n",
        "%matplotlib inline\n",
        "TEXT_PATH = './datasets/us-baby-name/namesbystate.txt'\n",
        "DB_PATH = './datasets/us-baby-name/namebystate.sqlite'"
      ],
      "execution_count": 0,
      "outputs": []
    },
    {
      "cell_type": "code",
      "metadata": {
        "id": "hZv3Vlj5BXWy",
        "colab_type": "code",
        "outputId": "a9715cca-7324-4e03-8a22-1bc834ae850a",
        "colab": {
          "base_uri": "https://localhost:8080/",
          "height": 1000
        }
      },
      "source": [
        "conn = sqlite3.connect(DB_PATH) # connecting to the database\n",
        "c = conn.cursor() # creating a cursor object\n",
        "# create Names table\n",
        "c.execute(\n",
        "        '''CREATE TABLE IF NOT EXISTS Names\n",
        "             ([State] text,\n",
        "              [Gender] text,\n",
        "              [Year] integer,\n",
        "              [Name] text,\n",
        "              [Number] integer)\n",
        "        '''\n",
        ")\n",
        "\n",
        "#load data into convinient format\n",
        "with open(TEXT_PATH) as f:\n",
        "    names = f.readlines()\n",
        "names = [tuple(name.strip().split(\",\")) for name in names]\n",
        "\n",
        "# insert data to db\n",
        "c.executemany(\n",
        "    '''INSERT INTO Names(State, Gender, Number, Name, Year)\n",
        "       values (?,?,?,?,?)\n",
        "    ''', names\n",
        ")\n",
        "# show all row in Names\n",
        "c.execute(\"SELECT * FROM Names\").fetchall()"
      ],
      "execution_count": 18,
      "outputs": [
        {
          "output_type": "execute_result",
          "data": {
            "text/plain": [
              "[('AK', 'F', 14, 'Mary', 1910),\n",
              " ('AK', 'F', 12, 'Annie', 1910),\n",
              " ('AK', 'F', 10, 'Anna', 1910),\n",
              " ('AK', 'F', 8, 'Margaret', 1910),\n",
              " ('AK', 'F', 7, 'Helen', 1910),\n",
              " ('AK', 'F', 6, 'Elsie', 1910),\n",
              " ('AK', 'F', 6, 'Lucy', 1910),\n",
              " ('AK', 'F', 5, 'Dorothy', 1910),\n",
              " ('AK', 'F', 12, 'Mary', 1911),\n",
              " ('AK', 'F', 7, 'Margaret', 1911),\n",
              " ('AK', 'F', 7, 'Ruth', 1911),\n",
              " ('AK', 'F', 6, 'Annie', 1911),\n",
              " ('AK', 'F', 6, 'Elizabeth', 1911),\n",
              " ('AK', 'F', 6, 'Helen', 1911),\n",
              " ('AK', 'F', 9, 'Mary', 1912),\n",
              " ('AK', 'F', 8, 'Elsie', 1912),\n",
              " ('AK', 'F', 7, 'Agnes', 1912),\n",
              " ('AK', 'F', 7, 'Anna', 1912),\n",
              " ('AK', 'F', 7, 'Helen', 1912),\n",
              " ('AK', 'F', 7, 'Louise', 1912),\n",
              " ('AK', 'F', 6, 'Jean', 1912),\n",
              " ('AK', 'F', 6, 'Ruth', 1912),\n",
              " ('AK', 'F', 5, 'Alice', 1912),\n",
              " ('AK', 'F', 5, 'Esther', 1912),\n",
              " ('AK', 'F', 5, 'Ethel', 1912),\n",
              " ('AK', 'F', 5, 'Margaret', 1912),\n",
              " ('AK', 'F', 5, 'Marie', 1912),\n",
              " ('AK', 'F', 21, 'Mary', 1913),\n",
              " ('AK', 'F', 9, 'Elizabeth', 1913),\n",
              " ('AK', 'F', 8, 'Margaret', 1913),\n",
              " ('AK', 'F', 7, 'Helen', 1913),\n",
              " ('AK', 'F', 5, 'Alice', 1913),\n",
              " ('AK', 'F', 5, 'Annie', 1913),\n",
              " ('AK', 'F', 5, 'Louise', 1913),\n",
              " ('AK', 'F', 22, 'Mary', 1914),\n",
              " ('AK', 'F', 10, 'Margaret', 1914),\n",
              " ('AK', 'F', 8, 'Alice', 1914),\n",
              " ('AK', 'F', 8, 'Annie', 1914),\n",
              " ('AK', 'F', 7, 'Elizabeth', 1914),\n",
              " ('AK', 'F', 7, 'Helen', 1914),\n",
              " ('AK', 'F', 6, 'Clara', 1914),\n",
              " ('AK', 'F', 6, 'Dorothy', 1914),\n",
              " ('AK', 'F', 6, 'Martha', 1914),\n",
              " ('AK', 'F', 5, 'Agnes', 1914),\n",
              " ('AK', 'F', 5, 'Esther', 1914),\n",
              " ('AK', 'F', 5, 'Frances', 1914),\n",
              " ('AK', 'F', 5, 'Julia', 1914),\n",
              " ('AK', 'F', 5, 'Lillian', 1914),\n",
              " ('AK', 'F', 5, 'Mildred', 1914),\n",
              " ('AK', 'F', 5, 'Pauline', 1914),\n",
              " ('AK', 'F', 23, 'Mary', 1915),\n",
              " ('AK', 'F', 13, 'Alice', 1915),\n",
              " ('AK', 'F', 12, 'Helen', 1915),\n",
              " ('AK', 'F', 10, 'Anna', 1915),\n",
              " ('AK', 'F', 10, 'Dorothy', 1915),\n",
              " ('AK', 'F', 9, 'Margaret', 1915),\n",
              " ('AK', 'F', 9, 'Ruth', 1915),\n",
              " ('AK', 'F', 7, 'Elizabeth', 1915),\n",
              " ('AK', 'F', 6, 'Frances', 1915),\n",
              " ('AK', 'F', 6, 'Katherine', 1915),\n",
              " ('AK', 'F', 6, 'Martha', 1915),\n",
              " ('AK', 'F', 5, 'Annie', 1915),\n",
              " ('AK', 'F', 5, 'Clara', 1915),\n",
              " ('AK', 'F', 5, 'Emma', 1915),\n",
              " ('AK', 'F', 5, 'Hazel', 1915),\n",
              " ('AK', 'F', 5, 'Julia', 1915),\n",
              " ('AK', 'F', 5, 'Marie', 1915),\n",
              " ('AK', 'F', 5, 'Minnie', 1915),\n",
              " ('AK', 'F', 5, 'Pauline', 1915),\n",
              " ('AK', 'F', 18, 'Mary', 1916),\n",
              " ('AK', 'F', 12, 'Helen', 1916),\n",
              " ('AK', 'F', 8, 'Dorothy', 1916),\n",
              " ('AK', 'F', 8, 'Frances', 1916),\n",
              " ('AK', 'F', 8, 'Ruth', 1916),\n",
              " ('AK', 'F', 7, 'Alice', 1916),\n",
              " ('AK', 'F', 7, 'Anna', 1916),\n",
              " ('AK', 'F', 6, 'Agnes', 1916),\n",
              " ('AK', 'F', 6, 'Annie', 1916),\n",
              " ('AK', 'F', 6, 'Julia', 1916),\n",
              " ('AK', 'F', 6, 'Lillian', 1916),\n",
              " ('AK', 'F', 6, 'Margaret', 1916),\n",
              " ('AK', 'F', 5, 'Daisy', 1916),\n",
              " ('AK', 'F', 5, 'Edna', 1916),\n",
              " ('AK', 'F', 5, 'Esther', 1916),\n",
              " ('AK', 'F', 5, 'Evelyn', 1916),\n",
              " ('AK', 'F', 5, 'Florence', 1916),\n",
              " ('AK', 'F', 5, 'Katherine', 1916),\n",
              " ('AK', 'F', 5, 'Louise', 1916),\n",
              " ('AK', 'F', 5, 'Lucy', 1916),\n",
              " ('AK', 'F', 5, 'Marie', 1916),\n",
              " ('AK', 'F', 5, 'Sally', 1916),\n",
              " ('AK', 'F', 21, 'Mary', 1917),\n",
              " ('AK', 'F', 11, 'Margaret', 1917),\n",
              " ('AK', 'F', 10, 'Helen', 1917),\n",
              " ('AK', 'F', 9, 'Frances', 1917),\n",
              " ('AK', 'F', 7, 'Alice', 1917),\n",
              " ('AK', 'F', 7, 'Olga', 1917),\n",
              " ('AK', 'F', 7, 'Ruth', 1917),\n",
              " ('AK', 'F', 6, 'Clara', 1917),\n",
              " ('AK', 'F', 6, 'Dorothy', 1917),\n",
              " ('AK', 'F', 5, 'Anna', 1917),\n",
              " ('AK', 'F', 5, 'Edith', 1917),\n",
              " ('AK', 'F', 5, 'Florence', 1917),\n",
              " ('AK', 'F', 5, 'Maggie', 1917),\n",
              " ('AK', 'F', 5, 'Rose', 1917),\n",
              " ('AK', 'F', 5, 'Sophie', 1917),\n",
              " ('AK', 'F', 27, 'Mary', 1918),\n",
              " ('AK', 'F', 11, 'Margaret', 1918),\n",
              " ('AK', 'F', 10, 'Helen', 1918),\n",
              " ('AK', 'F', 10, 'Marie', 1918),\n",
              " ('AK', 'F', 10, 'Martha', 1918),\n",
              " ('AK', 'F', 10, 'Ruth', 1918),\n",
              " ('AK', 'F', 8, 'Anna', 1918),\n",
              " ('AK', 'F', 8, 'Gertrude', 1918),\n",
              " ('AK', 'F', 7, 'Julia', 1918),\n",
              " ('AK', 'F', 7, 'Virginia', 1918),\n",
              " ('AK', 'F', 6, 'Alice', 1918),\n",
              " ('AK', 'F', 6, 'Elizabeth', 1918),\n",
              " ('AK', 'F', 5, 'Annie', 1918),\n",
              " ('AK', 'F', 5, 'Clara', 1918),\n",
              " ('AK', 'F', 5, 'Elsie', 1918),\n",
              " ('AK', 'F', 5, 'Emma', 1918),\n",
              " ('AK', 'F', 5, 'Sarah', 1918),\n",
              " ('AK', 'F', 5, 'Stella', 1918),\n",
              " ('AK', 'F', 5, 'Vera', 1918),\n",
              " ('AK', 'F', 22, 'Mary', 1919),\n",
              " ('AK', 'F', 17, 'Margaret', 1919),\n",
              " ('AK', 'F', 13, 'Dorothy', 1919),\n",
              " ('AK', 'F', 11, 'Betty', 1919),\n",
              " ('AK', 'F', 11, 'Helen', 1919),\n",
              " ('AK', 'F', 9, 'Martha', 1919),\n",
              " ('AK', 'F', 9, 'Virginia', 1919),\n",
              " ('AK', 'F', 8, 'Irene', 1919),\n",
              " ('AK', 'F', 7, 'Elizabeth', 1919),\n",
              " ('AK', 'F', 7, 'Emma', 1919),\n",
              " ('AK', 'F', 7, 'Marie', 1919),\n",
              " ('AK', 'F', 6, 'Agnes', 1919),\n",
              " ('AK', 'F', 6, 'Annie', 1919),\n",
              " ('AK', 'F', 6, 'Barbara', 1919),\n",
              " ('AK', 'F', 6, 'Frances', 1919),\n",
              " ('AK', 'F', 6, 'Gladys', 1919),\n",
              " ('AK', 'F', 6, 'Jean', 1919),\n",
              " ('AK', 'F', 6, 'Louise', 1919),\n",
              " ('AK', 'F', 5, 'Ann', 1919),\n",
              " ('AK', 'F', 5, 'Anna', 1919),\n",
              " ('AK', 'F', 5, 'Evelyn', 1919),\n",
              " ('AK', 'F', 5, 'Josephine', 1919),\n",
              " ('AK', 'F', 5, 'Katherine', 1919),\n",
              " ('AK', 'F', 5, 'Kathryn', 1919),\n",
              " ('AK', 'F', 5, 'Minnie', 1919),\n",
              " ('AK', 'F', 5, 'Ruth', 1919),\n",
              " ('AK', 'F', 5, 'Vera', 1919),\n",
              " ('AK', 'F', 38, 'Mary', 1920),\n",
              " ('AK', 'F', 19, 'Margaret', 1920),\n",
              " ('AK', 'F', 14, 'Helen', 1920),\n",
              " ('AK', 'F', 14, 'Ruth', 1920),\n",
              " ('AK', 'F', 11, 'Martha', 1920),\n",
              " ('AK', 'F', 10, 'Elizabeth', 1920),\n",
              " ('AK', 'F', 10, 'Virginia', 1920),\n",
              " ('AK', 'F', 9, 'Florence', 1920),\n",
              " ('AK', 'F', 8, 'Agnes', 1920),\n",
              " ('AK', 'F', 8, 'Dorothy', 1920),\n",
              " ('AK', 'F', 7, 'Alice', 1920),\n",
              " ('AK', 'F', 7, 'Anna', 1920),\n",
              " ('AK', 'F', 7, 'Edith', 1920),\n",
              " ('AK', 'F', 6, 'Annie', 1920),\n",
              " ('AK', 'F', 6, 'Betty', 1920),\n",
              " ('AK', 'F', 6, 'Elsie', 1920),\n",
              " ('AK', 'F', 6, 'Ethel', 1920),\n",
              " ('AK', 'F', 6, 'Irene', 1920),\n",
              " ('AK', 'F', 6, 'Katie', 1920),\n",
              " ('AK', 'F', 6, 'Rose', 1920),\n",
              " ('AK', 'F', 5, 'Frances', 1920),\n",
              " ('AK', 'F', 5, 'Hazel', 1920),\n",
              " ('AK', 'F', 5, 'Katherine', 1920),\n",
              " ('AK', 'F', 5, 'Lorraine', 1920),\n",
              " ('AK', 'F', 5, 'Patricia', 1920),\n",
              " ('AK', 'F', 36, 'Mary', 1921),\n",
              " ('AK', 'F', 11, 'Dorothy', 1921),\n",
              " ('AK', 'F', 10, 'Alice', 1921),\n",
              " ('AK', 'F', 10, 'Margaret', 1921),\n",
              " ('AK', 'F', 9, 'Annie', 1921),\n",
              " ('AK', 'F', 9, 'Helen', 1921),\n",
              " ('AK', 'F', 8, 'Elizabeth', 1921),\n",
              " ('AK', 'F', 8, 'Virginia', 1921),\n",
              " ('AK', 'F', 7, 'Katherine', 1921),\n",
              " ('AK', 'F', 7, 'Mildred', 1921),\n",
              " ('AK', 'F', 6, 'Anna', 1921),\n",
              " ('AK', 'F', 5, 'Agnes', 1921),\n",
              " ('AK', 'F', 5, 'Bessie', 1921),\n",
              " ('AK', 'F', 5, 'Betty', 1921),\n",
              " ('AK', 'F', 5, 'Elsie', 1921),\n",
              " ('AK', 'F', 5, 'Emma', 1921),\n",
              " ('AK', 'F', 5, 'Esther', 1921),\n",
              " ('AK', 'F', 5, 'Jean', 1921),\n",
              " ('AK', 'F', 5, 'Joan', 1921),\n",
              " ('AK', 'F', 5, 'Lillian', 1921),\n",
              " ('AK', 'F', 5, 'Ruth', 1921),\n",
              " ('AK', 'F', 5, 'Thelma', 1921),\n",
              " ('AK', 'F', 29, 'Mary', 1922),\n",
              " ('AK', 'F', 13, 'Helen', 1922),\n",
              " ('AK', 'F', 12, 'Alice', 1922),\n",
              " ('AK', 'F', 10, 'Anna', 1922),\n",
              " ('AK', 'F', 9, 'Margaret', 1922),\n",
              " ('AK', 'F', 9, 'Martha', 1922),\n",
              " ('AK', 'F', 8, 'Louise', 1922),\n",
              " ('AK', 'F', 7, 'Katherine', 1922),\n",
              " ('AK', 'F', 6, 'Annie', 1922),\n",
              " ('AK', 'F', 6, 'Dorothy', 1922),\n",
              " ('AK', 'F', 6, 'Elizabeth', 1922),\n",
              " ('AK', 'F', 6, 'Emma', 1922),\n",
              " ('AK', 'F', 6, 'Esther', 1922),\n",
              " ('AK', 'F', 6, 'Marie', 1922),\n",
              " ('AK', 'F', 6, 'Ruth', 1922),\n",
              " ('AK', 'F', 5, 'Betty', 1922),\n",
              " ('AK', 'F', 5, 'Clara', 1922),\n",
              " ('AK', 'F', 5, 'Evelyn', 1922),\n",
              " ('AK', 'F', 5, 'Frances', 1922),\n",
              " ('AK', 'F', 5, 'Sarah', 1922),\n",
              " ('AK', 'F', 26, 'Mary', 1923),\n",
              " ('AK', 'F', 13, 'Elizabeth', 1923),\n",
              " ('AK', 'F', 12, 'Anna', 1923),\n",
              " ('AK', 'F', 11, 'Dorothy', 1923),\n",
              " ('AK', 'F', 11, 'Helen', 1923),\n",
              " ('AK', 'F', 11, 'Ruth', 1923),\n",
              " ('AK', 'F', 10, 'Annie', 1923),\n",
              " ('AK', 'F', 10, 'Margaret', 1923),\n",
              " ('AK', 'F', 9, 'Frances', 1923),\n",
              " ('AK', 'F', 9, 'Marie', 1923),\n",
              " ('AK', 'F', 8, 'Florence', 1923),\n",
              " ('AK', 'F', 7, 'Agnes', 1923),\n",
              " ('AK', 'F', 7, 'Alice', 1923),\n",
              " ('AK', 'F', 6, 'Betty', 1923),\n",
              " ('AK', 'F', 6, 'Edna', 1923),\n",
              " ('AK', 'F', 6, 'Elsie', 1923),\n",
              " ('AK', 'F', 6, 'Ethel', 1923),\n",
              " ('AK', 'F', 6, 'Virginia', 1923),\n",
              " ('AK', 'F', 5, 'Jean', 1923),\n",
              " ('AK', 'F', 5, 'Jessie', 1923),\n",
              " ('AK', 'F', 5, 'Julia', 1923),\n",
              " ('AK', 'F', 5, 'Nellie', 1923),\n",
              " ('AK', 'F', 5, 'Olga', 1923),\n",
              " ('AK', 'F', 5, 'Pauline', 1923),\n",
              " ('AK', 'F', 5, 'Sarah', 1923),\n",
              " ('AK', 'F', 41, 'Mary', 1924),\n",
              " ('AK', 'F', 12, 'Elizabeth', 1924),\n",
              " ('AK', 'F', 11, 'Margaret', 1924),\n",
              " ('AK', 'F', 10, 'Betty', 1924),\n",
              " ('AK', 'F', 9, 'Anna', 1924),\n",
              " ('AK', 'F', 9, 'Dorothy', 1924),\n",
              " ('AK', 'F', 9, 'Marie', 1924),\n",
              " ('AK', 'F', 9, 'Ruth', 1924),\n",
              " ('AK', 'F', 8, 'Alice', 1924),\n",
              " ('AK', 'F', 8, 'Patricia', 1924),\n",
              " ('AK', 'F', 7, 'Irene', 1924),\n",
              " ('AK', 'F', 7, 'Mildred', 1924),\n",
              " ('AK', 'F', 6, 'Esther', 1924),\n",
              " ('AK', 'F', 6, 'Ida', 1924),\n",
              " ('AK', 'F', 6, 'Olga', 1924),\n",
              " ('AK', 'F', 5, 'Annie', 1924),\n",
              " ('AK', 'F', 5, 'Clara', 1924),\n",
              " ('AK', 'F', 5, 'Marjorie', 1924),\n",
              " ('AK', 'F', 5, 'Pauline', 1924),\n",
              " ('AK', 'F', 5, 'Vera', 1924),\n",
              " ('AK', 'F', 24, 'Mary', 1925),\n",
              " ('AK', 'F', 17, 'Margaret', 1925),\n",
              " ('AK', 'F', 11, 'Agnes', 1925),\n",
              " ('AK', 'F', 9, 'Betty', 1925),\n",
              " ('AK', 'F', 9, 'Lillian', 1925),\n",
              " ('AK', 'F', 9, 'Mildred', 1925),\n",
              " ('AK', 'F', 8, 'Esther', 1925),\n",
              " ('AK', 'F', 8, 'Helen', 1925),\n",
              " ('AK', 'F', 8, 'Ruth', 1925),\n",
              " ('AK', 'F', 7, 'Anna', 1925),\n",
              " ('AK', 'F', 7, 'Dorothy', 1925),\n",
              " ('AK', 'F', 7, 'Emma', 1925),\n",
              " ('AK', 'F', 7, 'Evelyn', 1925),\n",
              " ('AK', 'F', 7, 'Norma', 1925),\n",
              " ('AK', 'F', 7, 'Sarah', 1925),\n",
              " ('AK', 'F', 6, 'Florence', 1925),\n",
              " ('AK', 'F', 6, 'Louise', 1925),\n",
              " ('AK', 'F', 6, 'Marie', 1925),\n",
              " ('AK', 'F', 6, 'Pauline', 1925),\n",
              " ('AK', 'F', 5, 'Alice', 1925),\n",
              " ('AK', 'F', 5, 'Annie', 1925),\n",
              " ('AK', 'F', 5, 'Beatrice', 1925),\n",
              " ('AK', 'F', 5, 'Elena', 1925),\n",
              " ('AK', 'F', 5, 'Elsie', 1925),\n",
              " ('AK', 'F', 5, 'Irene', 1925),\n",
              " ('AK', 'F', 5, 'Jean', 1925),\n",
              " ('AK', 'F', 5, 'Katherine', 1925),\n",
              " ('AK', 'F', 5, 'Virginia', 1925),\n",
              " ('AK', 'F', 39, 'Mary', 1926),\n",
              " ('AK', 'F', 17, 'Margaret', 1926),\n",
              " ('AK', 'F', 15, 'Alice', 1926),\n",
              " ('AK', 'F', 13, 'Anna', 1926),\n",
              " ('AK', 'F', 9, 'Lucy', 1926),\n",
              " ('AK', 'F', 9, 'Martha', 1926),\n",
              " ('AK', 'F', 8, 'Esther', 1926),\n",
              " ('AK', 'F', 8, 'Helen', 1926),\n",
              " ('AK', 'F', 7, 'Elizabeth', 1926),\n",
              " ('AK', 'F', 7, 'Florence', 1926),\n",
              " ('AK', 'F', 7, 'Gladys', 1926),\n",
              " ('AK', 'F', 7, 'Irene', 1926),\n",
              " ('AK', 'F', 7, 'Ruth', 1926),\n",
              " ('AK', 'F', 6, 'Grace', 1926),\n",
              " ('AK', 'F', 6, 'Hazel', 1926),\n",
              " ('AK', 'F', 6, 'Jessie', 1926),\n",
              " ('AK', 'F', 6, 'Julia', 1926),\n",
              " ('AK', 'F', 6, 'Mildred', 1926),\n",
              " ('AK', 'F', 6, 'Patricia', 1926),\n",
              " ('AK', 'F', 6, 'Pauline', 1926),\n",
              " ('AK', 'F', 5, 'Clara', 1926),\n",
              " ('AK', 'F', 5, 'Laura', 1926),\n",
              " ('AK', 'F', 5, 'Marian', 1926),\n",
              " ('AK', 'F', 5, 'Marie', 1926),\n",
              " ('AK', 'F', 5, 'Sophie', 1926),\n",
              " ('AK', 'F', 30, 'Mary', 1927),\n",
              " ('AK', 'F', 13, 'Dorothy', 1927),\n",
              " ('AK', 'F', 13, 'Helen', 1927),\n",
              " ('AK', 'F', 11, 'Alice', 1927),\n",
              " ('AK', 'F', 11, 'Betty', 1927),\n",
              " ('AK', 'F', 10, 'Elizabeth', 1927),\n",
              " ('AK', 'F', 10, 'Florence', 1927),\n",
              " ('AK', 'F', 8, 'Barbara', 1927),\n",
              " ('AK', 'F', 7, 'Anna', 1927),\n",
              " ('AK', 'F', 7, 'Annie', 1927),\n",
              " ('AK', 'F', 7, 'Margaret', 1927),\n",
              " ('AK', 'F', 7, 'Ruth', 1927),\n",
              " ('AK', 'F', 6, 'Agnes', 1927),\n",
              " ('AK', 'F', 6, 'Elsie', 1927),\n",
              " ('AK', 'F', 6, 'Emma', 1927),\n",
              " ('AK', 'F', 6, 'June', 1927),\n",
              " ('AK', 'F', 6, 'Katherine', 1927),\n",
              " ('AK', 'F', 6, 'Lena', 1927),\n",
              " ('AK', 'F', 5, 'Esther', 1927),\n",
              " ('AK', 'F', 5, 'Evelyn', 1927),\n",
              " ('AK', 'F', 5, 'Irene', 1927),\n",
              " ('AK', 'F', 5, 'Laura', 1927),\n",
              " ('AK', 'F', 5, 'Lillian', 1927),\n",
              " ('AK', 'F', 5, 'Louise', 1927),\n",
              " ('AK', 'F', 5, 'Olga', 1927),\n",
              " ('AK', 'F', 5, 'Sophie', 1927),\n",
              " ('AK', 'F', 27, 'Mary', 1928),\n",
              " ('AK', 'F', 16, 'Margaret', 1928),\n",
              " ('AK', 'F', 13, 'Annie', 1928),\n",
              " ('AK', 'F', 13, 'Dorothy', 1928),\n",
              " ('AK', 'F', 11, 'Alice', 1928),\n",
              " ('AK', 'F', 10, 'Anna', 1928),\n",
              " ('AK', 'F', 10, 'Helen', 1928),\n",
              " ('AK', 'F', 9, 'Elizabeth', 1928),\n",
              " ('AK', 'F', 8, 'Irene', 1928),\n",
              " ('AK', 'F', 8, 'Marie', 1928),\n",
              " ('AK', 'F', 7, 'Betty', 1928),\n",
              " ('AK', 'F', 7, 'Emma', 1928),\n",
              " ('AK', 'F', 6, 'Elsie', 1928),\n",
              " ('AK', 'F', 6, 'Shirley', 1928),\n",
              " ('AK', 'F', 6, 'Sophie', 1928),\n",
              " ('AK', 'F', 5, 'Agnes', 1928),\n",
              " ('AK', 'F', 5, 'Barbara', 1928),\n",
              " ('AK', 'F', 5, 'Clara', 1928),\n",
              " ('AK', 'F', 5, 'Edna', 1928),\n",
              " ('AK', 'F', 5, 'Florence', 1928),\n",
              " ('AK', 'F', 5, 'Frances', 1928),\n",
              " ('AK', 'F', 5, 'Julia', 1928),\n",
              " ('AK', 'F', 5, 'Katherine', 1928),\n",
              " ('AK', 'F', 5, 'Lillian', 1928),\n",
              " ('AK', 'F', 5, 'Mabel', 1928),\n",
              " ('AK', 'F', 5, 'Martha', 1928),\n",
              " ('AK', 'F', 5, 'Ruth', 1928),\n",
              " ('AK', 'F', 25, 'Mary', 1929),\n",
              " ('AK', 'F', 11, 'Margaret', 1929),\n",
              " ('AK', 'F', 10, 'Betty', 1929),\n",
              " ('AK', 'F', 10, 'Dorothy', 1929),\n",
              " ('AK', 'F', 8, 'Agnes', 1929),\n",
              " ('AK', 'F', 8, 'Eva', 1929),\n",
              " ('AK', 'F', 8, 'Julia', 1929),\n",
              " ('AK', 'F', 7, 'Elizabeth', 1929),\n",
              " ('AK', 'F', 7, 'Helen', 1929),\n",
              " ('AK', 'F', 7, 'Martha', 1929),\n",
              " ('AK', 'F', 6, 'Alice', 1929),\n",
              " ('AK', 'F', 6, 'Esther', 1929),\n",
              " ('AK', 'F', 6, 'Frances', 1929),\n",
              " ('AK', 'F', 6, 'Irene', 1929),\n",
              " ('AK', 'F', 6, 'Mabel', 1929),\n",
              " ('AK', 'F', 6, 'Nancy', 1929),\n",
              " ('AK', 'F', 6, 'Pauline', 1929),\n",
              " ('AK', 'F', 5, 'Bertha', 1929),\n",
              " ('AK', 'F', 5, 'Evelyn', 1929),\n",
              " ('AK', 'F', 5, 'Florence', 1929),\n",
              " ('AK', 'F', 5, 'Josephine', 1929),\n",
              " ('AK', 'F', 5, 'Ruth', 1929),\n",
              " ('AK', 'F', 5, 'Virginia', 1929),\n",
              " ('AK', 'F', 35, 'Mary', 1930),\n",
              " ('AK', 'F', 14, 'Alice', 1930),\n",
              " ('AK', 'F', 11, 'Helen', 1930),\n",
              " ('AK', 'F', 10, 'Anna', 1930),\n",
              " ('AK', 'F', 10, 'Marie', 1930),\n",
              " ('AK', 'F', 8, 'Doris', 1930),\n",
              " ('AK', 'F', 8, 'Elizabeth', 1930),\n",
              " ('AK', 'F', 8, 'Martha', 1930),\n",
              " ('AK', 'F', 7, 'Esther', 1930),\n",
              " ('AK', 'F', 6, 'Agnes', 1930),\n",
              " ('AK', 'F', 6, 'Barbara', 1930),\n",
              " ('AK', 'F', 6, 'Betty', 1930),\n",
              " ('AK', 'F', 6, 'Dolly', 1930),\n",
              " ('AK', 'F', 6, 'Evelyn', 1930),\n",
              " ('AK', 'F', 6, 'Jean', 1930),\n",
              " ('AK', 'F', 6, 'Katherine', 1930),\n",
              " ('AK', 'F', 6, 'Margaret', 1930),\n",
              " ('AK', 'F', 6, 'Nancy', 1930),\n",
              " ('AK', 'F', 6, 'Pauline', 1930),\n",
              " ('AK', 'F', 6, 'Virginia', 1930),\n",
              " ('AK', 'F', 5, 'Carrie', 1930),\n",
              " ('AK', 'F', 5, 'Clara', 1930),\n",
              " ('AK', 'F', 5, 'Dorothy', 1930),\n",
              " ('AK', 'F', 5, 'Florence', 1930),\n",
              " ('AK', 'F', 5, 'Jane', 1930),\n",
              " ('AK', 'F', 5, 'Joan', 1930),\n",
              " ('AK', 'F', 5, 'Patricia', 1930),\n",
              " ('AK', 'F', 5, 'Sophie', 1930),\n",
              " ('AK', 'F', 41, 'Mary', 1931),\n",
              " ('AK', 'F', 11, 'Alice', 1931),\n",
              " ('AK', 'F', 11, 'Annie', 1931),\n",
              " ('AK', 'F', 11, 'Ruth', 1931),\n",
              " ('AK', 'F', 10, 'Dorothy', 1931),\n",
              " ('AK', 'F', 10, 'Elizabeth', 1931),\n",
              " ('AK', 'F', 8, 'Agnes', 1931),\n",
              " ('AK', 'F', 7, 'Helen', 1931),\n",
              " ('AK', 'F', 6, 'Betty', 1931),\n",
              " ('AK', 'F', 6, 'Christine', 1931),\n",
              " ('AK', 'F', 6, 'Evelyn', 1931),\n",
              " ('AK', 'F', 6, 'Grace', 1931),\n",
              " ('AK', 'F', 6, 'Margaret', 1931),\n",
              " ('AK', 'F', 5, 'Anna', 1931),\n",
              " ('AK', 'F', 5, 'Clara', 1931),\n",
              " ('AK', 'F', 5, 'Irene', 1931),\n",
              " ('AK', 'F', 5, 'Lena', 1931),\n",
              " ('AK', 'F', 5, 'Martha', 1931),\n",
              " ('AK', 'F', 26, 'Mary', 1932),\n",
              " ('AK', 'F', 17, 'Margaret', 1932),\n",
              " ('AK', 'F', 11, 'Alice', 1932),\n",
              " ('AK', 'F', 10, 'Martha', 1932),\n",
              " ('AK', 'F', 9, 'Anna', 1932),\n",
              " ('AK', 'F', 9, 'Clara', 1932),\n",
              " ('AK', 'F', 9, 'Elizabeth', 1932),\n",
              " ('AK', 'F', 9, 'Louise', 1932),\n",
              " ('AK', 'F', 8, 'Annie', 1932),\n",
              " ('AK', 'F', 8, 'Dorothy', 1932),\n",
              " ('AK', 'F', 8, 'Frances', 1932),\n",
              " ('AK', 'F', 8, 'Nancy', 1932),\n",
              " ('AK', 'F', 8, 'Ruth', 1932),\n",
              " ('AK', 'F', 7, 'Carrie', 1932),\n",
              " ('AK', 'F', 7, 'Eleanor', 1932),\n",
              " ('AK', 'F', 7, 'Helen', 1932),\n",
              " ('AK', 'F', 7, 'Marjorie', 1932),\n",
              " ('AK', 'F', 6, 'Cecelia', 1932),\n",
              " ('AK', 'F', 6, 'Katherine', 1932),\n",
              " ('AK', 'F', 6, 'Marie', 1932),\n",
              " ('AK', 'F', 6, 'Virginia', 1932),\n",
              " ('AK', 'F', 5, 'Elena', 1932),\n",
              " ('AK', 'F', 5, 'Esther', 1932),\n",
              " ('AK', 'F', 5, 'Ethel', 1932),\n",
              " ('AK', 'F', 5, 'Evelyn', 1932),\n",
              " ('AK', 'F', 5, 'Jean', 1932),\n",
              " ('AK', 'F', 5, 'Laura', 1932),\n",
              " ('AK', 'F', 5, 'Shirley', 1932),\n",
              " ('AK', 'F', 25, 'Mary', 1933),\n",
              " ('AK', 'F', 16, 'Martha', 1933),\n",
              " ('AK', 'F', 12, 'Agnes', 1933),\n",
              " ('AK', 'F', 11, 'Betty', 1933),\n",
              " ('AK', 'F', 11, 'Margaret', 1933),\n",
              " ('AK', 'F', 10, 'Elizabeth', 1933),\n",
              " ('AK', 'F', 10, 'Marie', 1933),\n",
              " ('AK', 'F', 9, 'Alice', 1933),\n",
              " ('AK', 'F', 8, 'Helen', 1933),\n",
              " ('AK', 'F', 8, 'Louise', 1933),\n",
              " ('AK', 'F', 8, 'Lucy', 1933),\n",
              " ('AK', 'F', 8, 'Patricia', 1933),\n",
              " ('AK', 'F', 8, 'Shirley', 1933),\n",
              " ('AK', 'F', 7, 'Irene', 1933),\n",
              " ('AK', 'F', 7, 'Lillian', 1933),\n",
              " ('AK', 'F', 6, 'Barbara', 1933),\n",
              " ('AK', 'F', 6, 'Dorothy', 1933),\n",
              " ('AK', 'F', 6, 'Evelyn', 1933),\n",
              " ('AK', 'F', 6, 'Frances', 1933),\n",
              " ('AK', 'F', 6, 'Ruth', 1933),\n",
              " ('AK', 'F', 6, 'Thelma', 1933),\n",
              " ('AK', 'F', 5, 'Ann', 1933),\n",
              " ('AK', 'F', 5, 'Anna', 1933),\n",
              " ('AK', 'F', 5, 'Bertha', 1933),\n",
              " ('AK', 'F', 5, 'Clara', 1933),\n",
              " ('AK', 'F', 5, 'Joan', 1933),\n",
              " ('AK', 'F', 5, 'Lena', 1933),\n",
              " ('AK', 'F', 5, 'Lois', 1933),\n",
              " ('AK', 'F', 5, 'Mildred', 1933),\n",
              " ('AK', 'F', 5, 'Pauline', 1933),\n",
              " ('AK', 'F', 5, 'Rose', 1933),\n",
              " ('AK', 'F', 5, 'Sally', 1933),\n",
              " ('AK', 'F', 5, 'Virginia', 1933),\n",
              " ('AK', 'F', 31, 'Mary', 1934),\n",
              " ('AK', 'F', 14, 'Helen', 1934),\n",
              " ('AK', 'F', 12, 'Elizabeth', 1934),\n",
              " ('AK', 'F', 12, 'Irene', 1934),\n",
              " ('AK', 'F', 9, 'Betty', 1934),\n",
              " ('AK', 'F', 9, 'Margaret', 1934),\n",
              " ('AK', 'F', 9, 'Martha', 1934),\n",
              " ('AK', 'F', 9, 'Pauline', 1934),\n",
              " ('AK', 'F', 8, 'Josephine', 1934),\n",
              " ('AK', 'F', 8, 'Marie', 1934),\n",
              " ('AK', 'F', 7, 'Agnes', 1934),\n",
              " ('AK', 'F', 7, 'Janet', 1934),\n",
              " ('AK', 'F', 7, 'Joan', 1934),\n",
              " ('AK', 'F', 7, 'Louise', 1934),\n",
              " ('AK', 'F', 7, 'Lucy', 1934),\n",
              " ('AK', 'F', 6, 'Alice', 1934),\n",
              " ('AK', 'F', 6, 'Lillian', 1934),\n",
              " ('AK', 'F', 6, 'Mildred', 1934),\n",
              " ('AK', 'F', 5, 'Bertha', 1934),\n",
              " ('AK', 'F', 5, 'Edith', 1934),\n",
              " ('AK', 'F', 5, 'Esther', 1934),\n",
              " ('AK', 'F', 5, 'Evelyn', 1934),\n",
              " ('AK', 'F', 5, 'Florence', 1934),\n",
              " ('AK', 'F', 5, 'Maria', 1934),\n",
              " ('AK', 'F', 5, 'Ruth', 1934),\n",
              " ('AK', 'F', 29, 'Mary', 1935),\n",
              " ('AK', 'F', 13, 'Elizabeth', 1935),\n",
              " ('AK', 'F', 13, 'Margaret', 1935),\n",
              " ('AK', 'F', 9, 'Anna', 1935),\n",
              " ('AK', 'F', 9, 'Shirley', 1935),\n",
              " ('AK', 'F', 8, 'Alice', 1935),\n",
              " ('AK', 'F', 8, 'Barbara', 1935),\n",
              " ('AK', 'F', 8, 'Betty', 1935),\n",
              " ('AK', 'F', 8, 'Helen', 1935),\n",
              " ('AK', 'F', 8, 'Irene', 1935),\n",
              " ('AK', 'F', 8, 'Nancy', 1935),\n",
              " ('AK', 'F', 7, 'Martha', 1935),\n",
              " ('AK', 'F', 7, 'Virginia', 1935),\n",
              " ('AK', 'F', 6, 'Dorothy', 1935),\n",
              " ('AK', 'F', 6, 'Lillian', 1935),\n",
              " ('AK', 'F', 6, 'Patricia', 1935),\n",
              " ('AK', 'F', 5, 'Agnes', 1935),\n",
              " ('AK', 'F', 5, 'Arlene', 1935),\n",
              " ('AK', 'F', 5, 'Carol', 1935),\n",
              " ('AK', 'F', 5, 'Charlotte', 1935),\n",
              " ('AK', 'F', 5, 'Edith', 1935),\n",
              " ('AK', 'F', 5, 'Evelyn', 1935),\n",
              " ('AK', 'F', 5, 'Flora', 1935),\n",
              " ('AK', 'F', 5, 'Marie', 1935),\n",
              " ('AK', 'F', 5, 'Rose', 1935),\n",
              " ('AK', 'F', 5, 'Ruth', 1935),\n",
              " ('AK', 'F', 5, 'Sally', 1935),\n",
              " ('AK', 'F', 5, 'Wilma', 1935),\n",
              " ('AK', 'F', 34, 'Mary', 1936),\n",
              " ('AK', 'F', 15, 'Elizabeth', 1936),\n",
              " ('AK', 'F', 11, 'Anna', 1936),\n",
              " ('AK', 'F', 11, 'Dorothy', 1936),\n",
              " ('AK', 'F', 11, 'Patricia', 1936),\n",
              " ('AK', 'F', 10, 'Agnes', 1936),\n",
              " ('AK', 'F', 10, 'Alice', 1936),\n",
              " ('AK', 'F', 9, 'Margaret', 1936),\n",
              " ('AK', 'F', 9, 'Nancy', 1936),\n",
              " ('AK', 'F', 9, 'Shirley', 1936),\n",
              " ('AK', 'F', 9, 'Virginia', 1936),\n",
              " ('AK', 'F', 8, 'Carol', 1936),\n",
              " ('AK', 'F', 8, 'Evelyn', 1936),\n",
              " ('AK', 'F', 8, 'Joan', 1936),\n",
              " ('AK', 'F', 7, 'Katherine', 1936),\n",
              " ('AK', 'F', 7, 'Marjorie', 1936),\n",
              " ('AK', 'F', 7, 'Nellie', 1936),\n",
              " ('AK', 'F', 6, 'Helen', 1936),\n",
              " ('AK', 'F', 6, 'Jacqueline', 1936),\n",
              " ('AK', 'F', 6, 'Julia', 1936),\n",
              " ('AK', 'F', 6, 'Lucy', 1936),\n",
              " ('AK', 'F', 6, 'Martha', 1936),\n",
              " ('AK', 'F', 6, 'Nora', 1936),\n",
              " ('AK', 'F', 6, 'Ruth', 1936),\n",
              " ('AK', 'F', 6, 'Theresa', 1936),\n",
              " ('AK', 'F', 5, 'Amelia', 1936),\n",
              " ('AK', 'F', 5, 'Christine', 1936),\n",
              " ('AK', 'F', 5, 'Dolores', 1936),\n",
              " ('AK', 'F', 5, 'Elsie', 1936),\n",
              " ('AK', 'F', 5, 'Esther', 1936),\n",
              " ('AK', 'F', 5, 'Geraldine', 1936),\n",
              " ('AK', 'F', 5, 'Lydia', 1936),\n",
              " ('AK', 'F', 5, 'Marie', 1936),\n",
              " ('AK', 'F', 41, 'Mary', 1937),\n",
              " ('AK', 'F', 17, 'Margaret', 1937),\n",
              " ('AK', 'F', 13, 'Carol', 1937),\n",
              " ('AK', 'F', 11, 'Barbara', 1937),\n",
              " ('AK', 'F', 10, 'Virginia', 1937),\n",
              " ('AK', 'F', 9, 'Betty', 1937),\n",
              " ('AK', 'F', 8, 'Anna', 1937),\n",
              " ('AK', 'F', 8, 'Donna', 1937),\n",
              " ('AK', 'F', 8, 'Pauline', 1937),\n",
              " ('AK', 'F', 8, 'Shirley', 1937),\n",
              " ('AK', 'F', 7, 'Annie', 1937),\n",
              " ('AK', 'F', 7, 'Edith', 1937),\n",
              " ('AK', 'F', 7, 'Irene', 1937),\n",
              " ('AK', 'F', 7, 'Lucy', 1937),\n",
              " ('AK', 'F', 7, 'Marie', 1937),\n",
              " ('AK', 'F', 7, 'Martha', 1937),\n",
              " ('AK', 'F', 7, 'Patricia', 1937),\n",
              " ('AK', 'F', 7, 'Sophie', 1937),\n",
              " ('AK', 'F', 6, 'Elizabeth', 1937),\n",
              " ('AK', 'F', 6, 'Gladys', 1937),\n",
              " ('AK', 'F', 6, 'Lois', 1937),\n",
              " ('AK', 'F', 6, 'Nancy', 1937),\n",
              " ('AK', 'F', 5, 'Agnes', 1937),\n",
              " ('AK', 'F', 5, 'Ann', 1937),\n",
              " ('AK', 'F', 5, 'Christine', 1937),\n",
              " ('AK', 'F', 5, 'Doris', 1937),\n",
              " ('AK', 'F', 5, 'Florence', 1937),\n",
              " ('AK', 'F', 5, 'Grace', 1937),\n",
              " ('AK', 'F', 5, 'Helen', 1937),\n",
              " ('AK', 'F', 5, 'Joan', 1937),\n",
              " ('AK', 'F', 5, 'June', 1937),\n",
              " ('AK', 'F', 5, 'Sally', 1937),\n",
              " ('AK', 'F', 5, 'Sylvia', 1937),\n",
              " ('AK', 'F', 36, 'Mary', 1938),\n",
              " ('AK', 'F', 14, 'Alice', 1938),\n",
              " ('AK', 'F', 14, 'Carol', 1938),\n",
              " ('AK', 'F', 13, 'Marie', 1938),\n",
              " ('AK', 'F', 11, 'Patricia', 1938),\n",
              " ('AK', 'F', 10, 'Betty', 1938),\n",
              " ('AK', 'F', 9, 'Barbara', 1938),\n",
              " ('AK', 'F', 9, 'Shirley', 1938),\n",
              " ('AK', 'F', 8, 'Annie', 1938),\n",
              " ('AK', 'F', 8, 'Evelyn', 1938),\n",
              " ('AK', 'F', 8, 'Nancy', 1938),\n",
              " ('AK', 'F', 8, 'Ruth', 1938),\n",
              " ('AK', 'F', 8, 'Virginia', 1938),\n",
              " ('AK', 'F', 7, 'Beverly', 1938),\n",
              " ('AK', 'F', 7, 'Florence', 1938),\n",
              " ('AK', 'F', 7, 'Katherine', 1938),\n",
              " ('AK', 'F', 7, 'Marjorie', 1938),\n",
              " ('AK', 'F', 7, 'Rose', 1938),\n",
              " ('AK', 'F', 6, 'Agnes', 1938),\n",
              " ('AK', 'F', 6, 'Dorothy', 1938),\n",
              " ('AK', 'F', 6, 'Elizabeth', 1938),\n",
              " ('AK', 'F', 6, 'Gertrude', 1938),\n",
              " ('AK', 'F', 6, 'Helen', 1938),\n",
              " ('AK', 'F', 6, 'Jean', 1938),\n",
              " ('AK', 'F', 6, 'Lillian', 1938),\n",
              " ('AK', 'F', 6, 'Louise', 1938),\n",
              " ('AK', 'F', 6, 'Margaret', 1938),\n",
              " ('AK', 'F', 5, 'Bernice', 1938),\n",
              " ('AK', 'F', 5, 'Grace', 1938),\n",
              " ('AK', 'F', 5, 'Josephine', 1938),\n",
              " ('AK', 'F', 5, 'Joyce', 1938),\n",
              " ('AK', 'F', 5, 'Rosemary', 1938),\n",
              " ('AK', 'F', 5, 'Sandra', 1938),\n",
              " ('AK', 'F', 5, 'Sylvia', 1938),\n",
              " ('AK', 'F', 28, 'Mary', 1939),\n",
              " ('AK', 'F', 18, 'Elizabeth', 1939),\n",
              " ('AK', 'F', 13, 'Martha', 1939),\n",
              " ('AK', 'F', 11, 'Alice', 1939),\n",
              " ('AK', 'F', 10, 'Carol', 1939),\n",
              " ('AK', 'F', 10, 'Helen', 1939),\n",
              " ('AK', 'F', 10, 'Jean', 1939),\n",
              " ('AK', 'F', 10, 'Ruth', 1939),\n",
              " ('AK', 'F', 10, 'Virginia', 1939),\n",
              " ('AK', 'F', 9, 'Patricia', 1939),\n",
              " ('AK', 'F', 8, 'Barbara', 1939),\n",
              " ('AK', 'F', 8, 'Karen', 1939),\n",
              " ('AK', 'F', 8, 'Margaret', 1939),\n",
              " ('AK', 'F', 8, 'Phyllis', 1939),\n",
              " ('AK', 'F', 7, 'Anna', 1939),\n",
              " ('AK', 'F', 7, 'Dorothy', 1939),\n",
              " ('AK', 'F', 7, 'Frances', 1939),\n",
              " ('AK', 'F', 7, 'Josephine', 1939),\n",
              " ('AK', 'F', 7, 'Sally', 1939),\n",
              " ('AK', 'F', 6, 'Elsie', 1939),\n",
              " ('AK', 'F', 6, 'Emily', 1939),\n",
              " ('AK', 'F', 6, 'Lorraine', 1939),\n",
              " ('AK', 'F', 6, 'Marilyn', 1939),\n",
              " ('AK', 'F', 6, 'Natalia', 1939),\n",
              " ('AK', 'F', 6, 'Sarah', 1939),\n",
              " ('AK', 'F', 5, 'Bertha', 1939),\n",
              " ('AK', 'F', 5, 'Betty', 1939),\n",
              " ('AK', 'F', 5, 'Grace', 1939),\n",
              " ('AK', 'F', 5, 'Irene', 1939),\n",
              " ('AK', 'F', 5, 'Janet', 1939),\n",
              " ('AK', 'F', 5, 'Judith', 1939),\n",
              " ('AK', 'F', 5, 'Marjorie', 1939),\n",
              " ('AK', 'F', 5, 'Nancy', 1939),\n",
              " ('AK', 'F', 5, 'Pauline', 1939),\n",
              " ('AK', 'F', 43, 'Mary', 1940),\n",
              " ('AK', 'F', 15, 'Barbara', 1940),\n",
              " ('AK', 'F', 15, 'Patricia', 1940),\n",
              " ('AK', 'F', 14, 'Alice', 1940),\n",
              " ('AK', 'F', 12, 'Annie', 1940),\n",
              " ('AK', 'F', 12, 'Helen', 1940),\n",
              " ('AK', 'F', 12, 'Margaret', 1940),\n",
              " ('AK', 'F', 11, 'Dorothy', 1940),\n",
              " ('AK', 'F', 10, 'Marie', 1940),\n",
              " ('AK', 'F', 10, 'Sharon', 1940),\n",
              " ('AK', 'F', 9, 'Agnes', 1940),\n",
              " ('AK', 'F', 9, 'Betty', 1940),\n",
              " ('AK', 'F', 8, 'Carol', 1940),\n",
              " ('AK', 'F', 8, 'Clara', 1940),\n",
              " ('AK', 'F', 8, 'Julia', 1940),\n",
              " ('AK', 'F', 8, 'Sally', 1940),\n",
              " ('AK', 'F', 7, 'Anna', 1940),\n",
              " ('AK', 'F', 7, 'Carolyn', 1940),\n",
              " ('AK', 'F', 7, 'Elizabeth', 1940),\n",
              " ('AK', 'F', 7, 'Irene', 1940),\n",
              " ('AK', 'F', 7, 'Judith', 1940),\n",
              " ('AK', 'F', 7, 'Lucy', 1940),\n",
              " ('AK', 'F', 7, 'Martha', 1940),\n",
              " ('AK', 'F', 7, 'Susan', 1940),\n",
              " ('AK', 'F', 6, 'Donna', 1940),\n",
              " ('AK', 'F', 6, 'Evelyn', 1940),\n",
              " ('AK', 'F', 6, 'Florence', 1940),\n",
              " ('AK', 'F', 6, 'Frances', 1940),\n",
              " ('AK', 'F', 6, 'Judy', 1940),\n",
              " ('AK', 'F', 6, 'Karen', 1940),\n",
              " ('AK', 'F', 6, 'Nancy', 1940),\n",
              " ('AK', 'F', 6, 'Rose', 1940),\n",
              " ('AK', 'F', 6, 'Virginia', 1940),\n",
              " ('AK', 'F', 5, 'Diane', 1940),\n",
              " ('AK', 'F', 5, 'Gloria', 1940),\n",
              " ('AK', 'F', 5, 'Janice', 1940),\n",
              " ('AK', 'F', 5, 'Joanne', 1940),\n",
              " ('AK', 'F', 5, 'Katherine', 1940),\n",
              " ('AK', 'F', 5, 'Lillian', 1940),\n",
              " ('AK', 'F', 5, 'Marilyn', 1940),\n",
              " ('AK', 'F', 5, 'Pauline', 1940),\n",
              " ('AK', 'F', 5, 'Sandra', 1940),\n",
              " ('AK', 'F', 5, 'Shirley', 1940),\n",
              " ('AK', 'F', 5, 'Theresa', 1940),\n",
              " ('AK', 'F', 41, 'Mary', 1941),\n",
              " ('AK', 'F', 18, 'Barbara', 1941),\n",
              " ('AK', 'F', 17, 'Patricia', 1941),\n",
              " ('AK', 'F', 13, 'Judy', 1941),\n",
              " ('AK', 'F', 13, 'Margaret', 1941),\n",
              " ('AK', 'F', 13, 'Nancy', 1941),\n",
              " ('AK', 'F', 12, 'Alice', 1941),\n",
              " ('AK', 'F', 12, 'Carol', 1941),\n",
              " ('AK', 'F', 11, 'Helen', 1941),\n",
              " ('AK', 'F', 11, 'Karen', 1941),\n",
              " ('AK', 'F', 11, 'Martha', 1941),\n",
              " ('AK', 'F', 10, 'Dorothy', 1941),\n",
              " ('AK', 'F', 10, 'Julia', 1941),\n",
              " ('AK', 'F', 10, 'Sharon', 1941),\n",
              " ('AK', 'F', 9, 'Ann', 1941),\n",
              " ('AK', 'F', 9, 'Elizabeth', 1941),\n",
              " ('AK', 'F', 9, 'Pauline', 1941),\n",
              " ('AK', 'F', 8, 'Marie', 1941),\n",
              " ('AK', 'F', 7, 'Agnes', 1941),\n",
              " ('AK', 'F', 7, 'Annie', 1941),\n",
              " ('AK', 'F', 7, 'Evelyn', 1941),\n",
              " ('AK', 'F', 7, 'Florence', 1941),\n",
              " ('AK', 'F', 7, 'Judith', 1941),\n",
              " ('AK', 'F', 7, 'Lucy', 1941),\n",
              " ('AK', 'F', 7, 'Marilyn', 1941),\n",
              " ('AK', 'F', 7, 'Rita', 1941),\n",
              " ('AK', 'F', 7, 'Sally', 1941),\n",
              " ('AK', 'F', 6, 'Anna', 1941),\n",
              " ('AK', 'F', 6, 'Ethel', 1941),\n",
              " ('AK', 'F', 6, 'Frances', 1941),\n",
              " ('AK', 'F', 6, 'Janet', 1941),\n",
              " ('AK', 'F', 6, 'Lois', 1941),\n",
              " ('AK', 'F', 6, 'Lydia', 1941),\n",
              " ('AK', 'F', 6, 'Sarah', 1941),\n",
              " ('AK', 'F', 5, 'Audrey', 1941),\n",
              " ('AK', 'F', 5, 'Betty', 1941),\n",
              " ('AK', 'F', 5, 'Ella', 1941),\n",
              " ('AK', 'F', 5, 'Esther', 1941),\n",
              " ('AK', 'F', 5, 'Joanne', 1941),\n",
              " ('AK', 'F', 5, 'Katherine', 1941),\n",
              " ('AK', 'F', 5, 'Linda', 1941),\n",
              " ('AK', 'F', 5, 'Mabel', 1941),\n",
              " ('AK', 'F', 5, 'Rose', 1941),\n",
              " ('AK', 'F', 5, 'Ruth', 1941),\n",
              " ('AK', 'F', 5, 'Virginia', 1941),\n",
              " ('AK', 'F', 44, 'Mary', 1942),\n",
              " ('AK', 'F', 17, 'Patricia', 1942),\n",
              " ('AK', 'F', 15, 'Judy', 1942),\n",
              " ('AK', 'F', 15, 'Margaret', 1942),\n",
              " ('AK', 'F', 15, 'Sharon', 1942),\n",
              " ('AK', 'F', 14, 'Barbara', 1942),\n",
              " ('AK', 'F', 14, 'Judith', 1942),\n",
              " ('AK', 'F', 13, 'Carol', 1942),\n",
              " ('AK', 'F', 11, 'Martha', 1942),\n",
              " ('AK', 'F', 10, 'Donna', 1942),\n",
              " ('AK', 'F', 10, 'Elizabeth', 1942),\n",
              " ('AK', 'F', 9, 'Anna', 1942),\n",
              " ('AK', 'F', 9, 'Helen', 1942),\n",
              " ('AK', 'F', 9, 'Virginia', 1942),\n",
              " ('AK', 'F', 8, 'Janet', 1942),\n",
              " ('AK', 'F', 8, 'Joan', 1942),\n",
              " ('AK', 'F', 8, 'Karen', 1942),\n",
              " ('AK', 'F', 8, 'Rose', 1942),\n",
              " ('AK', 'F', 8, 'Sandra', 1942),\n",
              " ('AK', 'F', 7, 'Christine', 1942),\n",
              " ('AK', 'F', 7, 'Dorothy', 1942),\n",
              " ('AK', 'F', 7, 'Jane', 1942),\n",
              " ('AK', 'F', 7, 'Lois', 1942),\n",
              " ('AK', 'F', 7, 'Sally', 1942),\n",
              " ('AK', 'F', 6, 'Alice', 1942),\n",
              " ('AK', 'F', 6, 'Bertha', 1942),\n",
              " ('AK', 'F', 6, 'Betty', 1942),\n",
              " ('AK', 'F', 6, 'Catherine', 1942),\n",
              " ('AK', 'F', 6, 'Florence', 1942),\n",
              " ('AK', 'F', 6, 'Frances', 1942),\n",
              " ('AK', 'F', 6, 'Marie', 1942),\n",
              " ('AK', 'F', 6, 'Nancy', 1942),\n",
              " ('AK', 'F', 6, 'Rosemary', 1942),\n",
              " ('AK', 'F', 6, 'Sophie', 1942),\n",
              " ('AK', 'F', 5, 'Annie', 1942),\n",
              " ('AK', 'F', 5, 'Arlene', 1942),\n",
              " ('AK', 'F', 5, 'Bonnie', 1942),\n",
              " ('AK', 'F', 5, 'Carolyn', 1942),\n",
              " ('AK', 'F', 5, 'Jean', 1942),\n",
              " ('AK', 'F', 5, 'Katherine', 1942),\n",
              " ('AK', 'F', 5, 'Lillian', 1942),\n",
              " ('AK', 'F', 5, 'Lorraine', 1942),\n",
              " ('AK', 'F', 5, 'Lucy', 1942),\n",
              " ('AK', 'F', 5, 'Molly', 1942),\n",
              " ('AK', 'F', 5, 'Roberta', 1942),\n",
              " ('AK', 'F', 5, 'Shirley', 1942),\n",
              " ('AK', 'F', 5, 'Susan', 1942),\n",
              " ('AK', 'F', 46, 'Mary', 1943),\n",
              " ('AK', 'F', 20, 'Patricia', 1943),\n",
              " ('AK', 'F', 18, 'Carol', 1943),\n",
              " ('AK', 'F', 14, 'Sharon', 1943),\n",
              " ('AK', 'F', 13, 'Donna', 1943),\n",
              " ('AK', 'F', 13, 'Dorothy', 1943),\n",
              " ('AK', 'F', 13, 'Karen', 1943),\n",
              " ('AK', 'F', 13, 'Margaret', 1943),\n",
              " ('AK', 'F', 13, 'Nancy', 1943),\n",
              " ('AK', 'F', 12, 'Helen', 1943),\n",
              " ('AK', 'F', 12, 'Linda', 1943),\n",
              " ('AK', 'F', 11, 'Virginia', 1943),\n",
              " ('AK', 'F', 10, 'Irene', 1943),\n",
              " ('AK', 'F', 10, 'Martha', 1943),\n",
              " ('AK', 'F', 9, 'Marie', 1943),\n",
              " ('AK', 'F', 8, 'Barbara', 1943),\n",
              " ('AK', 'F', 8, 'Bonnie', 1943),\n",
              " ('AK', 'F', 8, 'Elizabeth', 1943),\n",
              " ('AK', 'F', 8, 'Jane', 1943),\n",
              " ('AK', 'F', 8, 'Judith', 1943),\n",
              " ('AK', 'F', 8, 'Katherine', 1943),\n",
              " ('AK', 'F', 8, 'Susan', 1943),\n",
              " ('AK', 'F', 7, 'Alice', 1943),\n",
              " ('AK', 'F', 7, 'Anna', 1943),\n",
              " ('AK', 'F', 7, 'Kathleen', 1943),\n",
              " ('AK', 'F', 7, 'Kathryn', 1943),\n",
              " ('AK', 'F', 7, 'Lois', 1943),\n",
              " ('AK', 'F', 7, 'Marilyn', 1943),\n",
              " ('AK', 'F', 7, 'Roberta', 1943),\n",
              " ('AK', 'F', 6, 'Ann', 1943),\n",
              " ('AK', 'F', 6, 'Betty', 1943),\n",
              " ('AK', 'F', 6, 'Clara', 1943),\n",
              " ('AK', 'F', 6, 'Lucy', 1943),\n",
              " ('AK', 'F', 6, 'Ruth', 1943),\n",
              " ('AK', 'F', 6, 'Sally', 1943),\n",
              " ('AK', 'F', 6, 'Shirley', 1943),\n",
              " ('AK', 'F', 5, 'Caroline', 1943),\n",
              " ('AK', 'F', 5, 'Diane', 1943),\n",
              " ('AK', 'F', 5, 'Edith', 1943),\n",
              " ('AK', 'F', 5, 'Jean', 1943),\n",
              " ('AK', 'F', 5, 'Kathy', 1943),\n",
              " ('AK', 'F', 5, 'Loretta', 1943),\n",
              " ('AK', 'F', 5, 'Maria', 1943),\n",
              " ('AK', 'F', 5, 'Myra', 1943),\n",
              " ('AK', 'F', 5, 'Pauline', 1943),\n",
              " ('AK', 'F', 42, 'Mary', 1944),\n",
              " ('AK', 'F', 16, 'Linda', 1944),\n",
              " ('AK', 'F', 15, 'Barbara', 1944),\n",
              " ('AK', 'F', 14, 'Sharon', 1944),\n",
              " ('AK', 'F', 13, 'Martha', 1944),\n",
              " ('AK', 'F', 13, 'Susan', 1944),\n",
              " ('AK', 'F', 12, 'Patricia', 1944),\n",
              " ('AK', 'F', 11, 'Betty', 1944),\n",
              " ('AK', 'F', 11, 'Elizabeth', 1944),\n",
              " ('AK', 'F', 11, 'Kathleen', 1944),\n",
              " ('AK', 'F', 11, 'Marie', 1944),\n",
              " ('AK', 'F', 10, 'Janet', 1944),\n",
              " ('AK', 'F', 10, 'Judith', 1944),\n",
              " ('AK', 'F', 10, 'Ruth', 1944),\n",
              " ('AK', 'F', 9, 'Nancy', 1944),\n",
              " ('AK', 'F', 9, 'Pauline', 1944),\n",
              " ('AK', 'F', 8, 'Clara', 1944),\n",
              " ('AK', 'F', 8, 'Jean', 1944),\n",
              " ('AK', 'F', 8, 'Judy', 1944),\n",
              " ('AK', 'F', 8, 'Margaret', 1944),\n",
              " ('AK', 'F', 8, 'Virginia', 1944),\n",
              " ('AK', 'F', 7, 'Annie', 1944),\n",
              " ('AK', 'F', 7, 'Carol', 1944),\n",
              " ('AK', 'F', 7, 'Edna', 1944),\n",
              " ('AK', 'F', 7, 'Helen', 1944),\n",
              " ('AK', 'F', 7, 'Joyce', 1944),\n",
              " ('AK', 'F', 7, 'Karen', 1944),\n",
              " ('AK', 'F', 7, 'Katherine', 1944),\n",
              " ('AK', 'F', 7, 'Lorraine', 1944),\n",
              " ('AK', 'F', 6, 'Alice', 1944),\n",
              " ('AK', 'F', 6, 'Ann', 1944),\n",
              " ('AK', 'F', 6, 'Bonnie', 1944),\n",
              " ('AK', 'F', 6, 'Carolyn', 1944),\n",
              " ('AK', 'F', 6, 'Christine', 1944),\n",
              " ('AK', 'F', 6, 'Diane', 1944),\n",
              " ('AK', 'F', 6, 'Donna', 1944),\n",
              " ('AK', 'F', 6, 'Grace', 1944),\n",
              " ('AK', 'F', 6, 'Marilyn', 1944),\n",
              " ('AK', 'F', 6, 'Rose', 1944),\n",
              " ('AK', 'F', 6, 'Sarah', 1944),\n",
              " ('AK', 'F', 6, 'Shirley', 1944),\n",
              " ('AK', 'F', 5, 'Anna', 1944),\n",
              " ('AK', 'F', 5, 'Beverly', 1944),\n",
              " ('AK', 'F', 5, 'Darlene', 1944),\n",
              " ('AK', 'F', 5, 'Dorothy', 1944),\n",
              " ('AK', 'F', 5, 'Irene', 1944),\n",
              " ('AK', 'F', 5, 'Joan', 1944),\n",
              " ('AK', 'F', 5, 'Lucy', 1944),\n",
              " ('AK', 'F', 5, 'Mattie', 1944),\n",
              " ('AK', 'F', 5, 'Sophie', 1944),\n",
              " ('AK', 'F', 47, 'Mary', 1945),\n",
              " ('AK', 'F', 21, 'Patricia', 1945),\n",
              " ('AK', 'F', 19, 'Alice', 1945),\n",
              " ('AK', 'F', 15, 'Barbara', 1945),\n",
              " ('AK', 'F', 15, 'Susan', 1945),\n",
              " ('AK', 'F', 12, 'Carol', 1945),\n",
              " ('AK', 'F', 12, 'Linda', 1945),\n",
              " ('AK', 'F', 12, 'Shirley', 1945),\n",
              " ('AK', 'F', 11, 'Elizabeth', 1945),\n",
              " ('AK', 'F', 11, 'Janet', 1945),\n",
              " ('AK', 'F', 11, 'Marie', 1945),\n",
              " ('AK', 'F', 10, 'Helen', 1945),\n",
              " ('AK', 'F', 10, 'Margaret', 1945),\n",
              " ('AK', 'F', 10, 'Nancy', 1945),\n",
              " ('AK', 'F', 10, 'Phyllis', 1945),\n",
              " ('AK', 'F', 9, 'Dorothy', 1945),\n",
              " ('AK', 'F', 9, 'Marilyn', 1945),\n",
              " ('AK', 'F', 9, 'Sandra', 1945),\n",
              " ('AK', 'F', 8, 'Annie', 1945),\n",
              " ('AK', 'F', 8, 'Ellen', 1945),\n",
              " ('AK', 'F', 8, 'Grace', 1945),\n",
              " ('AK', 'F', 8, 'Judy', 1945),\n",
              " ('AK', 'F', 8, 'Lucy', 1945),\n",
              " ('AK', 'F', 8, 'Ruth', 1945),\n",
              " ('AK', 'F', 7, 'Agnes', 1945),\n",
              " ('AK', 'F', 7, 'Diane', 1945),\n",
              " ('AK', 'F', 7, 'Donna', 1945),\n",
              " ('AK', 'F', 7, 'Katherine', 1945),\n",
              " ('AK', 'F', 6, 'Anna', 1945),\n",
              " ('AK', 'F', 6, 'Darlene', 1945),\n",
              " ('AK', 'F', 6, 'Evelyn', 1945),\n",
              " ('AK', 'F', 6, 'June', 1945),\n",
              " ('AK', 'F', 6, 'Kathryn', 1945),\n",
              " ('AK', 'F', 6, 'Lorraine', 1945),\n",
              " ('AK', 'F', 6, 'Martha', 1945),\n",
              " ('AK', 'F', 6, 'Virginia', 1945),\n",
              " ('AK', 'F', 5, 'Bonnie', 1945),\n",
              " ('AK', 'F', 5, 'Carrie', 1945),\n",
              " ('AK', 'F', 5, 'Elena', 1945),\n",
              " ('AK', 'F', 5, 'Francine', 1945),\n",
              " ('AK', 'F', 5, 'Ida', 1945),\n",
              " ('AK', 'F', 5, 'Janice', 1945),\n",
              " ('AK', 'F', 5, 'Judith', 1945),\n",
              " ('AK', 'F', 5, 'Karen', 1945),\n",
              " ('AK', 'F', 5, 'Kathleen', 1945),\n",
              " ('AK', 'F', 5, 'Louise', 1945),\n",
              " ('AK', 'F', 5, 'Pamela', 1945),\n",
              " ('AK', 'F', 5, 'Pauline', 1945),\n",
              " ('AK', 'F', 5, 'Rose', 1945),\n",
              " ('AK', 'F', 5, 'Sharon', 1945),\n",
              " ('AK', 'F', 47, 'Mary', 1946),\n",
              " ('AK', 'F', 24, 'Patricia', 1946),\n",
              " ('AK', 'F', 22, 'Margaret', 1946),\n",
              " ('AK', 'F', 22, 'Susan', 1946),\n",
              " ('AK', 'F', 21, 'Linda', 1946),\n",
              " ('AK', 'F', 18, 'Barbara', 1946),\n",
              " ('AK', 'F', 17, 'Karen', 1946),\n",
              " ('AK', 'F', 15, 'Carol', 1946),\n",
              " ('AK', 'F', 14, 'Betty', 1946),\n",
              " ('AK', 'F', 14, 'Helen', 1946),\n",
              " ('AK', 'F', 14, 'Sharon', 1946),\n",
              " ('AK', 'F', 13, 'Jean', 1946),\n",
              " ('AK', 'F', 11, 'Kathleen', 1946),\n",
              " ('AK', 'F', 11, 'Martha', 1946),\n",
              " ('AK', 'F', 11, 'Nancy', 1946),\n",
              " ('AK', 'F', 10, 'Alice', 1946),\n",
              " ('AK', 'F', 10, 'Judy', 1946),\n",
              " ('AK', 'F', 10, 'Marie', 1946),\n",
              " ('AK', 'F', 10, 'Sandra', 1946),\n",
              " ('AK', 'F', 9, 'Ann', 1946),\n",
              " ('AK', 'F', 9, 'Bonnie', 1946),\n",
              " ('AK', 'F', 9, 'Cheryl', 1946),\n",
              " ('AK', 'F', 9, 'Donna', 1946),\n",
              " ('AK', 'F', 9, 'Evelyn', 1946),\n",
              " ('AK', 'F', 9, 'Gloria', 1946),\n",
              " ('AK', 'F', 9, 'Virginia', 1946),\n",
              " ('AK', 'F', 8, 'Elizabeth', 1946),\n",
              " ('AK', 'F', 8, 'Frances', 1946),\n",
              " ('AK', 'F', 8, 'Judith', 1946),\n",
              " ('AK', 'F', 8, 'Shirley', 1946),\n",
              " ('AK', 'F', 7, 'Bernice', 1946),\n",
              " ('AK', 'F', 7, 'Dorothy', 1946),\n",
              " ...]"
            ]
          },
          "metadata": {
            "tags": []
          },
          "execution_count": 18
        }
      ]
    },
    {
      "cell_type": "markdown",
      "metadata": {
        "id": "QEbvkQhCYCyP",
        "colab_type": "text"
      },
      "source": [
        "**Task 2 (for everyone):** Write a query that returns the statistics for the name William (5pt). Use the [the timeit package](https://docs.python.org/3/library/timeit.html) to measure the time it takes the query to run (5pt). **Bonus:** [Create an index](https://www.w3schools.com/sql/sql_create_index.asp)  on the _Name_ column and use the [the timeit package](https://docs.python.org/3/library/timeit.html) to measure the time it takes the query to run with the index (5pt)"
      ]
    },
    {
      "cell_type": "code",
      "metadata": {
        "id": "YBCHPAOzYCyR",
        "colab_type": "code",
        "colab": {
          "base_uri": "https://localhost:8080/",
          "height": 84
        },
        "outputId": "77999ef5-6e13-41d1-ceb8-1a5aec0d1fb8"
      },
      "source": [
        "import time\n",
        "import timeit\n",
        "\n",
        "def test():\n",
        "    query = \"SELECT COUNT(*) FROM Names WHERE Name='William'\"\n",
        "    print(\"There are {} williams\".format(c.execute(query).fetchone()[0]))\n",
        "\n",
        "c.execute(\"DROP INDEX IF EXISTS idx_name\")\n",
        "print(\"Time without index:{}\".format(timeit.timeit(\"test()\", globals=globals(), number=1)))\n",
        "\n",
        "c.execute('''CREATE INDEX IF NOT EXISTS idx_name\n",
        "             ON Names (name);''')\n",
        "print(\"Time with index:{}\".format(timeit.timeit(\"test()\", globals=globals(), number=1)))"
      ],
      "execution_count": 47,
      "outputs": [
        {
          "output_type": "stream",
          "text": [
            "There are 6726 williams\n",
            "Time without index:0.4382013520007604\n",
            "There are 6726 williams\n",
            "Time with index:0.0005346359976101667\n"
          ],
          "name": "stdout"
        }
      ]
    },
    {
      "cell_type": "markdown",
      "metadata": {
        "id": "6dClZxXjYCyU",
        "colab_type": "text"
      },
      "source": [
        "### <span style=\"color:red\"> Please answer only **one** of the following questions according to your ID number (use the formula **<YOUR_ID> mod 4 +1**) </span>"
      ]
    },
    {
      "cell_type": "code",
      "metadata": {
        "id": "iDpqwgwQYCyV",
        "colab_type": "code",
        "colab": {
          "base_uri": "https://localhost:8080/",
          "height": 34
        },
        "outputId": "837dcf36-90f0-4b5d-d6a8-2c0f8eb3557d"
      },
      "source": [
        "# which question to answer - put your ID number and run the code \n",
        "your_id  = \"316460443\"\n",
        "q = int(your_id) % 4 + 1\n",
        "print(\"You need to answer question number %s\" % q)"
      ],
      "execution_count": 37,
      "outputs": [
        {
          "output_type": "stream",
          "text": [
            "You need to answer question number 4\n"
          ],
          "name": "stdout"
        }
      ]
    },
    {
      "cell_type": "markdown",
      "metadata": {
        "id": "bGU71KQ8YCyZ",
        "colab_type": "text"
      },
      "source": [
        "***Question 1:*** Write a function that returns how many babies were born in a given state in a given year.\n",
        "Use it to calculate the number of babies born in LA in 1950 (10pt)"
      ]
    },
    {
      "cell_type": "code",
      "metadata": {
        "id": "0RB3GjaaYCya",
        "colab_type": "code",
        "colab": {}
      },
      "source": [
        ""
      ],
      "execution_count": 0,
      "outputs": []
    },
    {
      "cell_type": "markdown",
      "metadata": {
        "id": "510Wry5WYCye",
        "colab_type": "text"
      },
      "source": [
        "***Question 2:*** Write a function that returns how many male babies were born between a given range of years.\n",
        "Use it to calculate how many babies were born between 1970 and 1975  (10pt)"
      ]
    },
    {
      "cell_type": "code",
      "metadata": {
        "id": "m5wOKWsBYCyf",
        "colab_type": "code",
        "colab": {}
      },
      "source": [
        ""
      ],
      "execution_count": 0,
      "outputs": []
    },
    {
      "cell_type": "markdown",
      "metadata": {
        "id": "x721dD1NYCyi",
        "colab_type": "text"
      },
      "source": [
        "**Question 3:** Write a function that returns the most common female name in a given state. Use it to calculate the most common female name in Wasington in 1987 (10pt)"
      ]
    },
    {
      "cell_type": "code",
      "metadata": {
        "id": "h3t_ouDoYCyj",
        "colab_type": "code",
        "colab": {}
      },
      "source": [
        ""
      ],
      "execution_count": 0,
      "outputs": []
    },
    {
      "cell_type": "markdown",
      "metadata": {
        "id": "mRyUoBvhYCyl",
        "colab_type": "text"
      },
      "source": [
        "**Question 4:** Write a function that returns how many male babies named _William_ where born in a given state in a given year. Use it to find the state in which the highest number of babies _William_ where born in 1999 (10pt)"
      ]
    },
    {
      "cell_type": "code",
      "metadata": {
        "id": "lz1q1mvPYCym",
        "colab_type": "code",
        "colab": {}
      },
      "source": [
        ""
      ],
      "execution_count": 0,
      "outputs": []
    },
    {
      "cell_type": "markdown",
      "metadata": {
        "id": "THz0vDHHYCyo",
        "colab_type": "text"
      },
      "source": [
        "**Question (for everyone):** For the state of NY write code that calculates the second most popular female/male names in each decade (10pt). **Bonus**: Visualize it somehow using Matplotlib (5pt)"
      ]
    },
    {
      "cell_type": "code",
      "metadata": {
        "id": "dVRTQGOS_3G9",
        "colab_type": "code",
        "colab": {}
      },
      "source": [
        ""
      ],
      "execution_count": 0,
      "outputs": []
    },
    {
      "cell_type": "markdown",
      "metadata": {
        "id": "gmdQrLL9YCyp",
        "colab_type": "text"
      },
      "source": [
        "# 2. Flavors of Cacao Dataset (15pt)"
      ]
    },
    {
      "cell_type": "markdown",
      "metadata": {
        "id": "dTpNKH7UYCyq",
        "colab_type": "text"
      },
      "source": [
        "Using the [Flavors of Cacao](https://www.kaggle.com/rombikuboktaeder/choco-flavors) dataset, answer the following questions:"
      ]
    },
    {
      "cell_type": "markdown",
      "metadata": {
        "id": "wbg9gkVtYCyr",
        "colab_type": "text"
      },
      "source": [
        "**Question 1:** Write a function that returns the number of bars manufactured where the bars' BroadBean Origin is a given country. Use the function to calculate the number of bars where BroadBean Origin is 'Fiji' (15pt)"
      ]
    },
    {
      "cell_type": "code",
      "metadata": {
        "id": "D5FWfEiaYCys",
        "colab_type": "code",
        "colab": {}
      },
      "source": [
        ""
      ],
      "execution_count": 0,
      "outputs": []
    },
    {
      "cell_type": "markdown",
      "metadata": {
        "id": "9GCvKxWtYCyu",
        "colab_type": "text"
      },
      "source": [
        "**Question 2:** Write a function that returns the maximal and average cocoa percentage in a bar manufactured by a company in a specific country. Use the function to calculate the maximal and average cocoa percentage in bars manufactured by a Swiss company (15pt)."
      ]
    },
    {
      "cell_type": "code",
      "metadata": {
        "id": "KZJXxtwWYCyv",
        "colab_type": "code",
        "colab": {}
      },
      "source": [
        ""
      ],
      "execution_count": 0,
      "outputs": []
    },
    {
      "cell_type": "markdown",
      "metadata": {
        "id": "GlYqUA1xYCyx",
        "colab_type": "text"
      },
      "source": [
        "**Question 3:** Calculate the second most common bean type(s) and the most rare bean type(s) (15\n",
        "pt)"
      ]
    },
    {
      "cell_type": "code",
      "metadata": {
        "id": "kk0qIAiwYCyx",
        "colab_type": "code",
        "colab": {}
      },
      "source": [
        ""
      ],
      "execution_count": 0,
      "outputs": []
    },
    {
      "cell_type": "markdown",
      "metadata": {
        "id": "aOg-NK_lYCyz",
        "colab_type": "text"
      },
      "source": [
        "**Question 4:** Calculate the number of reviews and the average rating in each year. Calculate the number of reviews and the average rating of each company in each year (15pt)"
      ]
    },
    {
      "cell_type": "code",
      "metadata": {
        "id": "e8qwHAldYCy0",
        "colab_type": "code",
        "colab": {}
      },
      "source": [
        ""
      ],
      "execution_count": 0,
      "outputs": []
    },
    {
      "cell_type": "markdown",
      "metadata": {
        "id": "eKx7_9vyYCy1",
        "colab_type": "text"
      },
      "source": [
        "# 3. Kickstarter Projects Dataset (25pt)"
      ]
    },
    {
      "cell_type": "markdown",
      "metadata": {
        "id": "5HXua9B5YCy2",
        "colab_type": "text"
      },
      "source": [
        "Using the [Kickstarter Projects Dataset](https://www.kaggle.com/kemical/kickstarter-projects#ks-projects-201801.csv), answer the following questions:"
      ]
    },
    {
      "cell_type": "markdown",
      "metadata": {
        "id": "NGgJ1dyeZiFH",
        "colab_type": "text"
      },
      "source": [
        "**Task 1 (for everyone):** Load the dataset to SQLite DB using [PonyORM](https://ponyorm.org) (10pt)"
      ]
    },
    {
      "cell_type": "code",
      "metadata": {
        "id": "TLhhxMDDb2nN",
        "colab_type": "code",
        "colab": {}
      },
      "source": [
        ""
      ],
      "execution_count": 0,
      "outputs": []
    },
    {
      "cell_type": "markdown",
      "metadata": {
        "id": "W1K5VTLoYCy3",
        "colab_type": "text"
      },
      "source": [
        "### <span style=\"color:red\"> Please answer only **one** of the following questions according to your ID number (use the formula **<YOUR_ID> mod 3 +1**) </span>"
      ]
    },
    {
      "cell_type": "code",
      "metadata": {
        "id": "vwlOZtVHYCy3",
        "colab_type": "code",
        "colab": {}
      },
      "source": [
        "# which question to answer - put your ID number and run the code \n",
        "your_id  = \"<fill_your_id>\"\n",
        "q = int(your_id) % 3 + 1\n",
        "print(\"You need to answer question number %s\" % q)"
      ],
      "execution_count": 0,
      "outputs": []
    },
    {
      "cell_type": "markdown",
      "metadata": {
        "id": "gkVN8OnxYCy5",
        "colab_type": "text"
      },
      "source": [
        "**Question 1:** On average which project category received the highest number of backers? (15 pt)"
      ]
    },
    {
      "cell_type": "code",
      "metadata": {
        "id": "vkhb156oYCy6",
        "colab_type": "code",
        "colab": {}
      },
      "source": [
        ""
      ],
      "execution_count": 0,
      "outputs": []
    },
    {
      "cell_type": "markdown",
      "metadata": {
        "id": "LTk5XnNGYCy7",
        "colab_type": "text"
      },
      "source": [
        "**Question 2:** On average which project category received the highest pledged USD? (15 pt)"
      ]
    },
    {
      "cell_type": "code",
      "metadata": {
        "id": "DfiXdIneYCy8",
        "colab_type": "code",
        "colab": {}
      },
      "source": [
        ""
      ],
      "execution_count": 0,
      "outputs": []
    },
    {
      "cell_type": "markdown",
      "metadata": {
        "id": "wM5KvHE1YCy9",
        "colab_type": "text"
      },
      "source": [
        "**Question 3:** In which month occurred the highest number of projects? (15 pt)"
      ]
    },
    {
      "cell_type": "code",
      "metadata": {
        "id": "5DTIStGMYCy-",
        "colab_type": "code",
        "colab": {}
      },
      "source": [
        ""
      ],
      "execution_count": 0,
      "outputs": []
    },
    {
      "cell_type": "markdown",
      "metadata": {
        "id": "ResaA3kxYCy_",
        "colab_type": "text"
      },
      "source": [
        "## 4. Oscars Datasets (10pt)"
      ]
    },
    {
      "cell_type": "markdown",
      "metadata": {
        "id": "WYQasQOKYCzA",
        "colab_type": "text"
      },
      "source": [
        "Using the [Oscars Dataset](https://www.kaggle.com/theacademy/academy-awards), please answer only one of the following questions (you can chose):"
      ]
    },
    {
      "cell_type": "markdown",
      "metadata": {
        "id": "QGDmLdbKYCzA",
        "colab_type": "text"
      },
      "source": [
        "**Question 1:** Who is the female actress with the most Oscar nominees? (10pt)"
      ]
    },
    {
      "cell_type": "code",
      "metadata": {
        "id": "qipeHl6AYCzB",
        "colab_type": "code",
        "colab": {}
      },
      "source": [
        ""
      ],
      "execution_count": 0,
      "outputs": []
    },
    {
      "cell_type": "markdown",
      "metadata": {
        "id": "BR33wDkbYCzD",
        "colab_type": "text"
      },
      "source": [
        "**Question 2:** Who is the male director with the most Oscar nominees? (10pt)"
      ]
    },
    {
      "cell_type": "code",
      "metadata": {
        "id": "2jm9HeghYCzD",
        "colab_type": "code",
        "colab": {}
      },
      "source": [
        ""
      ],
      "execution_count": 0,
      "outputs": []
    },
    {
      "cell_type": "markdown",
      "metadata": {
        "id": "Va320K09YCzE",
        "colab_type": "text"
      },
      "source": [
        "**Question 3:** Which top-10 movies received the highest number of Oscar nominees? (10pt)"
      ]
    },
    {
      "cell_type": "code",
      "metadata": {
        "id": "k9gVwnHVYCzF",
        "colab_type": "code",
        "colab": {}
      },
      "source": [
        ""
      ],
      "execution_count": 0,
      "outputs": []
    },
    {
      "cell_type": "markdown",
      "metadata": {
        "id": "AF15wiyqYCzH",
        "colab_type": "text"
      },
      "source": [
        "**Question 4:** Write a function that receives an actor's name and returns the actor’s number of Oscar nominees. Use the function to calculate the number of times Leonardo DiCaprio was a nominee (10pt)"
      ]
    },
    {
      "cell_type": "code",
      "metadata": {
        "id": "_ZdwQJCWYCzH",
        "colab_type": "code",
        "colab": {}
      },
      "source": [
        ""
      ],
      "execution_count": 0,
      "outputs": []
    },
    {
      "cell_type": "markdown",
      "metadata": {
        "id": "eW1N-PBiYCzJ",
        "colab_type": "text"
      },
      "source": [
        "## 5. Select a Dataset (15pt)"
      ]
    },
    {
      "cell_type": "markdown",
      "metadata": {
        "id": "Me79ek_mYCzJ",
        "colab_type": "text"
      },
      "source": [
        "**Open Question:** Select an interesting dataset and use SQL to discover something interesting (15pt). **Bonus:** Use BigQuery (2pt)"
      ]
    },
    {
      "cell_type": "code",
      "metadata": {
        "id": "xXIIUhgccGWw",
        "colab_type": "code",
        "colab": {}
      },
      "source": [
        ""
      ],
      "execution_count": 0,
      "outputs": []
    }
  ]
}