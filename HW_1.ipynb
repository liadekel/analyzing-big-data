{
  "nbformat": 4,
  "nbformat_minor": 0,
  "metadata": {
    "kernelspec": {
      "display_name": "Python 3",
      "language": "python",
      "name": "python3"
    },
    "language_info": {
      "codemirror_mode": {
        "name": "ipython",
        "version": 3
      },
      "file_extension": ".py",
      "mimetype": "text/x-python",
      "name": "python",
      "nbconvert_exporter": "python",
      "pygments_lexer": "ipython3",
      "version": "3.6.9"
    },
    "colab": {
      "name": "HW 1.ipynb",
      "provenance": [],
      "include_colab_link": true
    }
  },
  "cells": [
    {
      "cell_type": "markdown",
      "metadata": {
        "id": "view-in-github",
        "colab_type": "text"
      },
      "source": [
        "<a href=\"https://colab.research.google.com/github/liadekel/analyzing-big-data/blob/master/HW_1.ipynb\" target=\"_parent\"><img src=\"https://colab.research.google.com/assets/colab-badge.svg\" alt=\"Open In Colab\"/></a>"
      ]
    },
    {
      "cell_type": "markdown",
      "metadata": {
        "id": "_fq8BHLiYCyE",
        "colab_type": "text"
      },
      "source": [
        "# Homework Assignment 1\n",
        "### [The Art of Analyzing Big Data - The Data Scientist’s Toolbox](https://www.ise.bgu.ac.il/labs/fire/lectures.html)\n",
        "#### By Dr. Michael Fire "
      ]
    },
    {
      "cell_type": "markdown",
      "metadata": {
        "id": "jYvqtKSOYCyG",
        "colab_type": "text"
      },
      "source": [
        "For this homework you will need to write code that analyzes real-world datasets. The code needs to be written in Python using the [sqlite3](https://docs.python.org/2/library/sqlite3.html) package. \n",
        "\n",
        "**Please note:** You need to answer only the questions that match your ID first digit."
      ]
    },
    {
      "cell_type": "markdown",
      "metadata": {
        "id": "AML-gkV-YCyI",
        "colab_type": "text"
      },
      "source": [
        "# 1. Babies Names Dataset (35pt)"
      ]
    },
    {
      "cell_type": "markdown",
      "metadata": {
        "id": "jvkBrt7SYCyK",
        "colab_type": "text"
      },
      "source": [
        "**Task 1 (for everyone):** Write a code that uses the  [**babies names dataset**](https://catalog.data.gov/dataset/baby-names-from-social-security-card-applications-data-by-state-and-district-of-#topic=developers_navigation) and creates a table named (Names) with the dataset data and the following columns: 'State', 'Gender', 'Name', 'Number', and 'Year' (5pt)\n",
        "**Bonus:** Load the data using a Batch INSERT SQL Query (2pt)"
      ]
    },
    {
      "cell_type": "code",
      "metadata": {
        "id": "h9nEyTepERV5",
        "colab_type": "code",
        "colab": {}
      },
      "source": [
        "# restart state\n",
        "! rm -rf ./datasets"
      ],
      "execution_count": 0,
      "outputs": []
    },
    {
      "cell_type": "code",
      "metadata": {
        "colab_type": "code",
        "id": "VdoedCI8H2KB",
        "outputId": "cc4e0136-1ee2-42dc-e104-490558373718",
        "colab": {
          "base_uri": "https://localhost:8080/",
          "height": 1000
        }
      },
      "source": [
        "# Creating a dataset directory\n",
        "!mkdir ./datasets\n",
        "!mkdir ./datasets/us-baby-name\n",
        "# download the dataset using wget\n",
        "!wget --directory-prefix ./datasets/us-baby-name https://www.ssa.gov/oact/babynames/state/namesbystate.zip\n",
        "!unzip ./datasets/us-baby-name/*.zip  -d ./datasets/us-baby-name/namesbystate\n",
        "# concatenate to one file\n",
        "!cat ./datasets/us-baby-name/namesbystate/*.TXT >> ./datasets/us-baby-name/namesbystate.txt"
      ],
      "execution_count": 56,
      "outputs": [
        {
          "output_type": "stream",
          "text": [
            "--2020-03-24 08:52:54--  https://www.ssa.gov/oact/babynames/state/namesbystate.zip\n",
            "Resolving www.ssa.gov (www.ssa.gov)... 137.200.4.16, 2001:1930:e03::aaaa\n",
            "Connecting to www.ssa.gov (www.ssa.gov)|137.200.4.16|:443... connected.\n",
            "HTTP request sent, awaiting response... 200 OK\n",
            "Length: 21974087 (21M) [application/zip]\n",
            "Saving to: ‘./datasets/us-baby-name/namesbystate.zip’\n",
            "\n",
            "namesbystate.zip    100%[===================>]  20.96M  2.74MB/s    in 7.7s    \n",
            "\n",
            "2020-03-24 08:53:02 (2.71 MB/s) - ‘./datasets/us-baby-name/namesbystate.zip’ saved [21974087/21974087]\n",
            "\n",
            "Archive:  ./datasets/us-baby-name/namesbystate.zip\n",
            "  inflating: ./datasets/us-baby-name/namesbystate/AK.TXT  \n",
            "  inflating: ./datasets/us-baby-name/namesbystate/AL.TXT  \n",
            "  inflating: ./datasets/us-baby-name/namesbystate/AR.TXT  \n",
            "  inflating: ./datasets/us-baby-name/namesbystate/AZ.TXT  \n",
            "  inflating: ./datasets/us-baby-name/namesbystate/CA.TXT  \n",
            "  inflating: ./datasets/us-baby-name/namesbystate/CO.TXT  \n",
            "  inflating: ./datasets/us-baby-name/namesbystate/CT.TXT  \n",
            "  inflating: ./datasets/us-baby-name/namesbystate/DC.TXT  \n",
            "  inflating: ./datasets/us-baby-name/namesbystate/DE.TXT  \n",
            "  inflating: ./datasets/us-baby-name/namesbystate/FL.TXT  \n",
            "  inflating: ./datasets/us-baby-name/namesbystate/GA.TXT  \n",
            "  inflating: ./datasets/us-baby-name/namesbystate/HI.TXT  \n",
            "  inflating: ./datasets/us-baby-name/namesbystate/IA.TXT  \n",
            "  inflating: ./datasets/us-baby-name/namesbystate/ID.TXT  \n",
            "  inflating: ./datasets/us-baby-name/namesbystate/IL.TXT  \n",
            "  inflating: ./datasets/us-baby-name/namesbystate/IN.TXT  \n",
            "  inflating: ./datasets/us-baby-name/namesbystate/KS.TXT  \n",
            "  inflating: ./datasets/us-baby-name/namesbystate/KY.TXT  \n",
            "  inflating: ./datasets/us-baby-name/namesbystate/LA.TXT  \n",
            "  inflating: ./datasets/us-baby-name/namesbystate/MA.TXT  \n",
            "  inflating: ./datasets/us-baby-name/namesbystate/MD.TXT  \n",
            "  inflating: ./datasets/us-baby-name/namesbystate/ME.TXT  \n",
            "  inflating: ./datasets/us-baby-name/namesbystate/MI.TXT  \n",
            "  inflating: ./datasets/us-baby-name/namesbystate/MN.TXT  \n",
            "  inflating: ./datasets/us-baby-name/namesbystate/MO.TXT  \n",
            "  inflating: ./datasets/us-baby-name/namesbystate/MS.TXT  \n",
            "  inflating: ./datasets/us-baby-name/namesbystate/MT.TXT  \n",
            "  inflating: ./datasets/us-baby-name/namesbystate/NC.TXT  \n",
            "  inflating: ./datasets/us-baby-name/namesbystate/ND.TXT  \n",
            "  inflating: ./datasets/us-baby-name/namesbystate/NE.TXT  \n",
            "  inflating: ./datasets/us-baby-name/namesbystate/NH.TXT  \n",
            "  inflating: ./datasets/us-baby-name/namesbystate/NJ.TXT  \n",
            "  inflating: ./datasets/us-baby-name/namesbystate/NM.TXT  \n",
            "  inflating: ./datasets/us-baby-name/namesbystate/NV.TXT  \n",
            "  inflating: ./datasets/us-baby-name/namesbystate/NY.TXT  \n",
            "  inflating: ./datasets/us-baby-name/namesbystate/OH.TXT  \n",
            "  inflating: ./datasets/us-baby-name/namesbystate/OK.TXT  \n",
            "  inflating: ./datasets/us-baby-name/namesbystate/OR.TXT  \n",
            "  inflating: ./datasets/us-baby-name/namesbystate/PA.TXT  \n",
            "  inflating: ./datasets/us-baby-name/namesbystate/RI.TXT  \n",
            "  inflating: ./datasets/us-baby-name/namesbystate/SC.TXT  \n",
            "  inflating: ./datasets/us-baby-name/namesbystate/SD.TXT  \n",
            "  inflating: ./datasets/us-baby-name/namesbystate/StateReadMe.pdf  \n",
            "  inflating: ./datasets/us-baby-name/namesbystate/TN.TXT  \n",
            "  inflating: ./datasets/us-baby-name/namesbystate/TX.TXT  \n",
            "  inflating: ./datasets/us-baby-name/namesbystate/UT.TXT  \n",
            "  inflating: ./datasets/us-baby-name/namesbystate/VA.TXT  \n",
            "  inflating: ./datasets/us-baby-name/namesbystate/VT.TXT  \n",
            "  inflating: ./datasets/us-baby-name/namesbystate/WA.TXT  \n",
            "  inflating: ./datasets/us-baby-name/namesbystate/WI.TXT  \n",
            "  inflating: ./datasets/us-baby-name/namesbystate/WV.TXT  \n",
            "  inflating: ./datasets/us-baby-name/namesbystate/WY.TXT  \n"
          ],
          "name": "stdout"
        }
      ]
    },
    {
      "cell_type": "code",
      "metadata": {
        "id": "MHULZ_GjBBYI",
        "colab_type": "code",
        "colab": {}
      },
      "source": [
        "import sqlite3\n",
        "import matplotlib\n",
        "import matplotlib.pyplot as plt\n",
        "import os\n",
        "%matplotlib inline\n",
        "TEXT_PATH = './datasets/us-baby-name/namesbystate.txt'\n",
        "DB_PATH = './datasets/us-baby-name/namebystate.sqlite'"
      ],
      "execution_count": 0,
      "outputs": []
    },
    {
      "cell_type": "code",
      "metadata": {
        "id": "hZv3Vlj5BXWy",
        "colab_type": "code",
        "outputId": "7d3208b9-03e5-4c5c-a461-5d88722a1fa1",
        "colab": {
          "base_uri": "https://localhost:8080/",
          "height": 1000
        }
      },
      "source": [
        "conn = sqlite3.connect(DB_PATH) # connecting to the database\n",
        "c = conn.cursor() # creating a cursor object\n",
        "# create Names table\n",
        "c.execute(\n",
        "        '''CREATE TABLE IF NOT EXISTS Names\n",
        "             ([State] text,\n",
        "              [Gender] text,\n",
        "              [Year] integer,\n",
        "              [Name] text,\n",
        "              [Number] integer)\n",
        "        '''\n",
        ")\n",
        "\n",
        "#load data into convinient format\n",
        "with open(TEXT_PATH) as f:\n",
        "    names = f.readlines()\n",
        "names = [tuple(name.strip().split(\",\")) for name in names]\n",
        "\n",
        "# insert data to db\n",
        "c.executemany(\n",
        "    '''INSERT INTO Names(State, Gender, Year, Name, Number)\n",
        "       values (?,?,?,?,?)\n",
        "    ''', names\n",
        ")\n",
        "# show all rows in Names\n",
        "c.execute(\"SELECT * FROM Names\").fetchall()"
      ],
      "execution_count": 58,
      "outputs": [
        {
          "output_type": "execute_result",
          "data": {
            "text/plain": [
              "[('AK', 'F', 1910, 'Mary', 14),\n",
              " ('AK', 'F', 1910, 'Annie', 12),\n",
              " ('AK', 'F', 1910, 'Anna', 10),\n",
              " ('AK', 'F', 1910, 'Margaret', 8),\n",
              " ('AK', 'F', 1910, 'Helen', 7),\n",
              " ('AK', 'F', 1910, 'Elsie', 6),\n",
              " ('AK', 'F', 1910, 'Lucy', 6),\n",
              " ('AK', 'F', 1910, 'Dorothy', 5),\n",
              " ('AK', 'F', 1911, 'Mary', 12),\n",
              " ('AK', 'F', 1911, 'Margaret', 7),\n",
              " ('AK', 'F', 1911, 'Ruth', 7),\n",
              " ('AK', 'F', 1911, 'Annie', 6),\n",
              " ('AK', 'F', 1911, 'Elizabeth', 6),\n",
              " ('AK', 'F', 1911, 'Helen', 6),\n",
              " ('AK', 'F', 1912, 'Mary', 9),\n",
              " ('AK', 'F', 1912, 'Elsie', 8),\n",
              " ('AK', 'F', 1912, 'Agnes', 7),\n",
              " ('AK', 'F', 1912, 'Anna', 7),\n",
              " ('AK', 'F', 1912, 'Helen', 7),\n",
              " ('AK', 'F', 1912, 'Louise', 7),\n",
              " ('AK', 'F', 1912, 'Jean', 6),\n",
              " ('AK', 'F', 1912, 'Ruth', 6),\n",
              " ('AK', 'F', 1912, 'Alice', 5),\n",
              " ('AK', 'F', 1912, 'Esther', 5),\n",
              " ('AK', 'F', 1912, 'Ethel', 5),\n",
              " ('AK', 'F', 1912, 'Margaret', 5),\n",
              " ('AK', 'F', 1912, 'Marie', 5),\n",
              " ('AK', 'F', 1913, 'Mary', 21),\n",
              " ('AK', 'F', 1913, 'Elizabeth', 9),\n",
              " ('AK', 'F', 1913, 'Margaret', 8),\n",
              " ('AK', 'F', 1913, 'Helen', 7),\n",
              " ('AK', 'F', 1913, 'Alice', 5),\n",
              " ('AK', 'F', 1913, 'Annie', 5),\n",
              " ('AK', 'F', 1913, 'Louise', 5),\n",
              " ('AK', 'F', 1914, 'Mary', 22),\n",
              " ('AK', 'F', 1914, 'Margaret', 10),\n",
              " ('AK', 'F', 1914, 'Alice', 8),\n",
              " ('AK', 'F', 1914, 'Annie', 8),\n",
              " ('AK', 'F', 1914, 'Elizabeth', 7),\n",
              " ('AK', 'F', 1914, 'Helen', 7),\n",
              " ('AK', 'F', 1914, 'Clara', 6),\n",
              " ('AK', 'F', 1914, 'Dorothy', 6),\n",
              " ('AK', 'F', 1914, 'Martha', 6),\n",
              " ('AK', 'F', 1914, 'Agnes', 5),\n",
              " ('AK', 'F', 1914, 'Esther', 5),\n",
              " ('AK', 'F', 1914, 'Frances', 5),\n",
              " ('AK', 'F', 1914, 'Julia', 5),\n",
              " ('AK', 'F', 1914, 'Lillian', 5),\n",
              " ('AK', 'F', 1914, 'Mildred', 5),\n",
              " ('AK', 'F', 1914, 'Pauline', 5),\n",
              " ('AK', 'F', 1915, 'Mary', 23),\n",
              " ('AK', 'F', 1915, 'Alice', 13),\n",
              " ('AK', 'F', 1915, 'Helen', 12),\n",
              " ('AK', 'F', 1915, 'Anna', 10),\n",
              " ('AK', 'F', 1915, 'Dorothy', 10),\n",
              " ('AK', 'F', 1915, 'Margaret', 9),\n",
              " ('AK', 'F', 1915, 'Ruth', 9),\n",
              " ('AK', 'F', 1915, 'Elizabeth', 7),\n",
              " ('AK', 'F', 1915, 'Frances', 6),\n",
              " ('AK', 'F', 1915, 'Katherine', 6),\n",
              " ('AK', 'F', 1915, 'Martha', 6),\n",
              " ('AK', 'F', 1915, 'Annie', 5),\n",
              " ('AK', 'F', 1915, 'Clara', 5),\n",
              " ('AK', 'F', 1915, 'Emma', 5),\n",
              " ('AK', 'F', 1915, 'Hazel', 5),\n",
              " ('AK', 'F', 1915, 'Julia', 5),\n",
              " ('AK', 'F', 1915, 'Marie', 5),\n",
              " ('AK', 'F', 1915, 'Minnie', 5),\n",
              " ('AK', 'F', 1915, 'Pauline', 5),\n",
              " ('AK', 'F', 1916, 'Mary', 18),\n",
              " ('AK', 'F', 1916, 'Helen', 12),\n",
              " ('AK', 'F', 1916, 'Dorothy', 8),\n",
              " ('AK', 'F', 1916, 'Frances', 8),\n",
              " ('AK', 'F', 1916, 'Ruth', 8),\n",
              " ('AK', 'F', 1916, 'Alice', 7),\n",
              " ('AK', 'F', 1916, 'Anna', 7),\n",
              " ('AK', 'F', 1916, 'Agnes', 6),\n",
              " ('AK', 'F', 1916, 'Annie', 6),\n",
              " ('AK', 'F', 1916, 'Julia', 6),\n",
              " ('AK', 'F', 1916, 'Lillian', 6),\n",
              " ('AK', 'F', 1916, 'Margaret', 6),\n",
              " ('AK', 'F', 1916, 'Daisy', 5),\n",
              " ('AK', 'F', 1916, 'Edna', 5),\n",
              " ('AK', 'F', 1916, 'Esther', 5),\n",
              " ('AK', 'F', 1916, 'Evelyn', 5),\n",
              " ('AK', 'F', 1916, 'Florence', 5),\n",
              " ('AK', 'F', 1916, 'Katherine', 5),\n",
              " ('AK', 'F', 1916, 'Louise', 5),\n",
              " ('AK', 'F', 1916, 'Lucy', 5),\n",
              " ('AK', 'F', 1916, 'Marie', 5),\n",
              " ('AK', 'F', 1916, 'Sally', 5),\n",
              " ('AK', 'F', 1917, 'Mary', 21),\n",
              " ('AK', 'F', 1917, 'Margaret', 11),\n",
              " ('AK', 'F', 1917, 'Helen', 10),\n",
              " ('AK', 'F', 1917, 'Frances', 9),\n",
              " ('AK', 'F', 1917, 'Alice', 7),\n",
              " ('AK', 'F', 1917, 'Olga', 7),\n",
              " ('AK', 'F', 1917, 'Ruth', 7),\n",
              " ('AK', 'F', 1917, 'Clara', 6),\n",
              " ('AK', 'F', 1917, 'Dorothy', 6),\n",
              " ('AK', 'F', 1917, 'Anna', 5),\n",
              " ('AK', 'F', 1917, 'Edith', 5),\n",
              " ('AK', 'F', 1917, 'Florence', 5),\n",
              " ('AK', 'F', 1917, 'Maggie', 5),\n",
              " ('AK', 'F', 1917, 'Rose', 5),\n",
              " ('AK', 'F', 1917, 'Sophie', 5),\n",
              " ('AK', 'F', 1918, 'Mary', 27),\n",
              " ('AK', 'F', 1918, 'Margaret', 11),\n",
              " ('AK', 'F', 1918, 'Helen', 10),\n",
              " ('AK', 'F', 1918, 'Marie', 10),\n",
              " ('AK', 'F', 1918, 'Martha', 10),\n",
              " ('AK', 'F', 1918, 'Ruth', 10),\n",
              " ('AK', 'F', 1918, 'Anna', 8),\n",
              " ('AK', 'F', 1918, 'Gertrude', 8),\n",
              " ('AK', 'F', 1918, 'Julia', 7),\n",
              " ('AK', 'F', 1918, 'Virginia', 7),\n",
              " ('AK', 'F', 1918, 'Alice', 6),\n",
              " ('AK', 'F', 1918, 'Elizabeth', 6),\n",
              " ('AK', 'F', 1918, 'Annie', 5),\n",
              " ('AK', 'F', 1918, 'Clara', 5),\n",
              " ('AK', 'F', 1918, 'Elsie', 5),\n",
              " ('AK', 'F', 1918, 'Emma', 5),\n",
              " ('AK', 'F', 1918, 'Sarah', 5),\n",
              " ('AK', 'F', 1918, 'Stella', 5),\n",
              " ('AK', 'F', 1918, 'Vera', 5),\n",
              " ('AK', 'F', 1919, 'Mary', 22),\n",
              " ('AK', 'F', 1919, 'Margaret', 17),\n",
              " ('AK', 'F', 1919, 'Dorothy', 13),\n",
              " ('AK', 'F', 1919, 'Betty', 11),\n",
              " ('AK', 'F', 1919, 'Helen', 11),\n",
              " ('AK', 'F', 1919, 'Martha', 9),\n",
              " ('AK', 'F', 1919, 'Virginia', 9),\n",
              " ('AK', 'F', 1919, 'Irene', 8),\n",
              " ('AK', 'F', 1919, 'Elizabeth', 7),\n",
              " ('AK', 'F', 1919, 'Emma', 7),\n",
              " ('AK', 'F', 1919, 'Marie', 7),\n",
              " ('AK', 'F', 1919, 'Agnes', 6),\n",
              " ('AK', 'F', 1919, 'Annie', 6),\n",
              " ('AK', 'F', 1919, 'Barbara', 6),\n",
              " ('AK', 'F', 1919, 'Frances', 6),\n",
              " ('AK', 'F', 1919, 'Gladys', 6),\n",
              " ('AK', 'F', 1919, 'Jean', 6),\n",
              " ('AK', 'F', 1919, 'Louise', 6),\n",
              " ('AK', 'F', 1919, 'Ann', 5),\n",
              " ('AK', 'F', 1919, 'Anna', 5),\n",
              " ('AK', 'F', 1919, 'Evelyn', 5),\n",
              " ('AK', 'F', 1919, 'Josephine', 5),\n",
              " ('AK', 'F', 1919, 'Katherine', 5),\n",
              " ('AK', 'F', 1919, 'Kathryn', 5),\n",
              " ('AK', 'F', 1919, 'Minnie', 5),\n",
              " ('AK', 'F', 1919, 'Ruth', 5),\n",
              " ('AK', 'F', 1919, 'Vera', 5),\n",
              " ('AK', 'F', 1920, 'Mary', 38),\n",
              " ('AK', 'F', 1920, 'Margaret', 19),\n",
              " ('AK', 'F', 1920, 'Helen', 14),\n",
              " ('AK', 'F', 1920, 'Ruth', 14),\n",
              " ('AK', 'F', 1920, 'Martha', 11),\n",
              " ('AK', 'F', 1920, 'Elizabeth', 10),\n",
              " ('AK', 'F', 1920, 'Virginia', 10),\n",
              " ('AK', 'F', 1920, 'Florence', 9),\n",
              " ('AK', 'F', 1920, 'Agnes', 8),\n",
              " ('AK', 'F', 1920, 'Dorothy', 8),\n",
              " ('AK', 'F', 1920, 'Alice', 7),\n",
              " ('AK', 'F', 1920, 'Anna', 7),\n",
              " ('AK', 'F', 1920, 'Edith', 7),\n",
              " ('AK', 'F', 1920, 'Annie', 6),\n",
              " ('AK', 'F', 1920, 'Betty', 6),\n",
              " ('AK', 'F', 1920, 'Elsie', 6),\n",
              " ('AK', 'F', 1920, 'Ethel', 6),\n",
              " ('AK', 'F', 1920, 'Irene', 6),\n",
              " ('AK', 'F', 1920, 'Katie', 6),\n",
              " ('AK', 'F', 1920, 'Rose', 6),\n",
              " ('AK', 'F', 1920, 'Frances', 5),\n",
              " ('AK', 'F', 1920, 'Hazel', 5),\n",
              " ('AK', 'F', 1920, 'Katherine', 5),\n",
              " ('AK', 'F', 1920, 'Lorraine', 5),\n",
              " ('AK', 'F', 1920, 'Patricia', 5),\n",
              " ('AK', 'F', 1921, 'Mary', 36),\n",
              " ('AK', 'F', 1921, 'Dorothy', 11),\n",
              " ('AK', 'F', 1921, 'Alice', 10),\n",
              " ('AK', 'F', 1921, 'Margaret', 10),\n",
              " ('AK', 'F', 1921, 'Annie', 9),\n",
              " ('AK', 'F', 1921, 'Helen', 9),\n",
              " ('AK', 'F', 1921, 'Elizabeth', 8),\n",
              " ('AK', 'F', 1921, 'Virginia', 8),\n",
              " ('AK', 'F', 1921, 'Katherine', 7),\n",
              " ('AK', 'F', 1921, 'Mildred', 7),\n",
              " ('AK', 'F', 1921, 'Anna', 6),\n",
              " ('AK', 'F', 1921, 'Agnes', 5),\n",
              " ('AK', 'F', 1921, 'Bessie', 5),\n",
              " ('AK', 'F', 1921, 'Betty', 5),\n",
              " ('AK', 'F', 1921, 'Elsie', 5),\n",
              " ('AK', 'F', 1921, 'Emma', 5),\n",
              " ('AK', 'F', 1921, 'Esther', 5),\n",
              " ('AK', 'F', 1921, 'Jean', 5),\n",
              " ('AK', 'F', 1921, 'Joan', 5),\n",
              " ('AK', 'F', 1921, 'Lillian', 5),\n",
              " ('AK', 'F', 1921, 'Ruth', 5),\n",
              " ('AK', 'F', 1921, 'Thelma', 5),\n",
              " ('AK', 'F', 1922, 'Mary', 29),\n",
              " ('AK', 'F', 1922, 'Helen', 13),\n",
              " ('AK', 'F', 1922, 'Alice', 12),\n",
              " ('AK', 'F', 1922, 'Anna', 10),\n",
              " ('AK', 'F', 1922, 'Margaret', 9),\n",
              " ('AK', 'F', 1922, 'Martha', 9),\n",
              " ('AK', 'F', 1922, 'Louise', 8),\n",
              " ('AK', 'F', 1922, 'Katherine', 7),\n",
              " ('AK', 'F', 1922, 'Annie', 6),\n",
              " ('AK', 'F', 1922, 'Dorothy', 6),\n",
              " ('AK', 'F', 1922, 'Elizabeth', 6),\n",
              " ('AK', 'F', 1922, 'Emma', 6),\n",
              " ('AK', 'F', 1922, 'Esther', 6),\n",
              " ('AK', 'F', 1922, 'Marie', 6),\n",
              " ('AK', 'F', 1922, 'Ruth', 6),\n",
              " ('AK', 'F', 1922, 'Betty', 5),\n",
              " ('AK', 'F', 1922, 'Clara', 5),\n",
              " ('AK', 'F', 1922, 'Evelyn', 5),\n",
              " ('AK', 'F', 1922, 'Frances', 5),\n",
              " ('AK', 'F', 1922, 'Sarah', 5),\n",
              " ('AK', 'F', 1923, 'Mary', 26),\n",
              " ('AK', 'F', 1923, 'Elizabeth', 13),\n",
              " ('AK', 'F', 1923, 'Anna', 12),\n",
              " ('AK', 'F', 1923, 'Dorothy', 11),\n",
              " ('AK', 'F', 1923, 'Helen', 11),\n",
              " ('AK', 'F', 1923, 'Ruth', 11),\n",
              " ('AK', 'F', 1923, 'Annie', 10),\n",
              " ('AK', 'F', 1923, 'Margaret', 10),\n",
              " ('AK', 'F', 1923, 'Frances', 9),\n",
              " ('AK', 'F', 1923, 'Marie', 9),\n",
              " ('AK', 'F', 1923, 'Florence', 8),\n",
              " ('AK', 'F', 1923, 'Agnes', 7),\n",
              " ('AK', 'F', 1923, 'Alice', 7),\n",
              " ('AK', 'F', 1923, 'Betty', 6),\n",
              " ('AK', 'F', 1923, 'Edna', 6),\n",
              " ('AK', 'F', 1923, 'Elsie', 6),\n",
              " ('AK', 'F', 1923, 'Ethel', 6),\n",
              " ('AK', 'F', 1923, 'Virginia', 6),\n",
              " ('AK', 'F', 1923, 'Jean', 5),\n",
              " ('AK', 'F', 1923, 'Jessie', 5),\n",
              " ('AK', 'F', 1923, 'Julia', 5),\n",
              " ('AK', 'F', 1923, 'Nellie', 5),\n",
              " ('AK', 'F', 1923, 'Olga', 5),\n",
              " ('AK', 'F', 1923, 'Pauline', 5),\n",
              " ('AK', 'F', 1923, 'Sarah', 5),\n",
              " ('AK', 'F', 1924, 'Mary', 41),\n",
              " ('AK', 'F', 1924, 'Elizabeth', 12),\n",
              " ('AK', 'F', 1924, 'Margaret', 11),\n",
              " ('AK', 'F', 1924, 'Betty', 10),\n",
              " ('AK', 'F', 1924, 'Anna', 9),\n",
              " ('AK', 'F', 1924, 'Dorothy', 9),\n",
              " ('AK', 'F', 1924, 'Marie', 9),\n",
              " ('AK', 'F', 1924, 'Ruth', 9),\n",
              " ('AK', 'F', 1924, 'Alice', 8),\n",
              " ('AK', 'F', 1924, 'Patricia', 8),\n",
              " ('AK', 'F', 1924, 'Irene', 7),\n",
              " ('AK', 'F', 1924, 'Mildred', 7),\n",
              " ('AK', 'F', 1924, 'Esther', 6),\n",
              " ('AK', 'F', 1924, 'Ida', 6),\n",
              " ('AK', 'F', 1924, 'Olga', 6),\n",
              " ('AK', 'F', 1924, 'Annie', 5),\n",
              " ('AK', 'F', 1924, 'Clara', 5),\n",
              " ('AK', 'F', 1924, 'Marjorie', 5),\n",
              " ('AK', 'F', 1924, 'Pauline', 5),\n",
              " ('AK', 'F', 1924, 'Vera', 5),\n",
              " ('AK', 'F', 1925, 'Mary', 24),\n",
              " ('AK', 'F', 1925, 'Margaret', 17),\n",
              " ('AK', 'F', 1925, 'Agnes', 11),\n",
              " ('AK', 'F', 1925, 'Betty', 9),\n",
              " ('AK', 'F', 1925, 'Lillian', 9),\n",
              " ('AK', 'F', 1925, 'Mildred', 9),\n",
              " ('AK', 'F', 1925, 'Esther', 8),\n",
              " ('AK', 'F', 1925, 'Helen', 8),\n",
              " ('AK', 'F', 1925, 'Ruth', 8),\n",
              " ('AK', 'F', 1925, 'Anna', 7),\n",
              " ('AK', 'F', 1925, 'Dorothy', 7),\n",
              " ('AK', 'F', 1925, 'Emma', 7),\n",
              " ('AK', 'F', 1925, 'Evelyn', 7),\n",
              " ('AK', 'F', 1925, 'Norma', 7),\n",
              " ('AK', 'F', 1925, 'Sarah', 7),\n",
              " ('AK', 'F', 1925, 'Florence', 6),\n",
              " ('AK', 'F', 1925, 'Louise', 6),\n",
              " ('AK', 'F', 1925, 'Marie', 6),\n",
              " ('AK', 'F', 1925, 'Pauline', 6),\n",
              " ('AK', 'F', 1925, 'Alice', 5),\n",
              " ('AK', 'F', 1925, 'Annie', 5),\n",
              " ('AK', 'F', 1925, 'Beatrice', 5),\n",
              " ('AK', 'F', 1925, 'Elena', 5),\n",
              " ('AK', 'F', 1925, 'Elsie', 5),\n",
              " ('AK', 'F', 1925, 'Irene', 5),\n",
              " ('AK', 'F', 1925, 'Jean', 5),\n",
              " ('AK', 'F', 1925, 'Katherine', 5),\n",
              " ('AK', 'F', 1925, 'Virginia', 5),\n",
              " ('AK', 'F', 1926, 'Mary', 39),\n",
              " ('AK', 'F', 1926, 'Margaret', 17),\n",
              " ('AK', 'F', 1926, 'Alice', 15),\n",
              " ('AK', 'F', 1926, 'Anna', 13),\n",
              " ('AK', 'F', 1926, 'Lucy', 9),\n",
              " ('AK', 'F', 1926, 'Martha', 9),\n",
              " ('AK', 'F', 1926, 'Esther', 8),\n",
              " ('AK', 'F', 1926, 'Helen', 8),\n",
              " ('AK', 'F', 1926, 'Elizabeth', 7),\n",
              " ('AK', 'F', 1926, 'Florence', 7),\n",
              " ('AK', 'F', 1926, 'Gladys', 7),\n",
              " ('AK', 'F', 1926, 'Irene', 7),\n",
              " ('AK', 'F', 1926, 'Ruth', 7),\n",
              " ('AK', 'F', 1926, 'Grace', 6),\n",
              " ('AK', 'F', 1926, 'Hazel', 6),\n",
              " ('AK', 'F', 1926, 'Jessie', 6),\n",
              " ('AK', 'F', 1926, 'Julia', 6),\n",
              " ('AK', 'F', 1926, 'Mildred', 6),\n",
              " ('AK', 'F', 1926, 'Patricia', 6),\n",
              " ('AK', 'F', 1926, 'Pauline', 6),\n",
              " ('AK', 'F', 1926, 'Clara', 5),\n",
              " ('AK', 'F', 1926, 'Laura', 5),\n",
              " ('AK', 'F', 1926, 'Marian', 5),\n",
              " ('AK', 'F', 1926, 'Marie', 5),\n",
              " ('AK', 'F', 1926, 'Sophie', 5),\n",
              " ('AK', 'F', 1927, 'Mary', 30),\n",
              " ('AK', 'F', 1927, 'Dorothy', 13),\n",
              " ('AK', 'F', 1927, 'Helen', 13),\n",
              " ('AK', 'F', 1927, 'Alice', 11),\n",
              " ('AK', 'F', 1927, 'Betty', 11),\n",
              " ('AK', 'F', 1927, 'Elizabeth', 10),\n",
              " ('AK', 'F', 1927, 'Florence', 10),\n",
              " ('AK', 'F', 1927, 'Barbara', 8),\n",
              " ('AK', 'F', 1927, 'Anna', 7),\n",
              " ('AK', 'F', 1927, 'Annie', 7),\n",
              " ('AK', 'F', 1927, 'Margaret', 7),\n",
              " ('AK', 'F', 1927, 'Ruth', 7),\n",
              " ('AK', 'F', 1927, 'Agnes', 6),\n",
              " ('AK', 'F', 1927, 'Elsie', 6),\n",
              " ('AK', 'F', 1927, 'Emma', 6),\n",
              " ('AK', 'F', 1927, 'June', 6),\n",
              " ('AK', 'F', 1927, 'Katherine', 6),\n",
              " ('AK', 'F', 1927, 'Lena', 6),\n",
              " ('AK', 'F', 1927, 'Esther', 5),\n",
              " ('AK', 'F', 1927, 'Evelyn', 5),\n",
              " ('AK', 'F', 1927, 'Irene', 5),\n",
              " ('AK', 'F', 1927, 'Laura', 5),\n",
              " ('AK', 'F', 1927, 'Lillian', 5),\n",
              " ('AK', 'F', 1927, 'Louise', 5),\n",
              " ('AK', 'F', 1927, 'Olga', 5),\n",
              " ('AK', 'F', 1927, 'Sophie', 5),\n",
              " ('AK', 'F', 1928, 'Mary', 27),\n",
              " ('AK', 'F', 1928, 'Margaret', 16),\n",
              " ('AK', 'F', 1928, 'Annie', 13),\n",
              " ('AK', 'F', 1928, 'Dorothy', 13),\n",
              " ('AK', 'F', 1928, 'Alice', 11),\n",
              " ('AK', 'F', 1928, 'Anna', 10),\n",
              " ('AK', 'F', 1928, 'Helen', 10),\n",
              " ('AK', 'F', 1928, 'Elizabeth', 9),\n",
              " ('AK', 'F', 1928, 'Irene', 8),\n",
              " ('AK', 'F', 1928, 'Marie', 8),\n",
              " ('AK', 'F', 1928, 'Betty', 7),\n",
              " ('AK', 'F', 1928, 'Emma', 7),\n",
              " ('AK', 'F', 1928, 'Elsie', 6),\n",
              " ('AK', 'F', 1928, 'Shirley', 6),\n",
              " ('AK', 'F', 1928, 'Sophie', 6),\n",
              " ('AK', 'F', 1928, 'Agnes', 5),\n",
              " ('AK', 'F', 1928, 'Barbara', 5),\n",
              " ('AK', 'F', 1928, 'Clara', 5),\n",
              " ('AK', 'F', 1928, 'Edna', 5),\n",
              " ('AK', 'F', 1928, 'Florence', 5),\n",
              " ('AK', 'F', 1928, 'Frances', 5),\n",
              " ('AK', 'F', 1928, 'Julia', 5),\n",
              " ('AK', 'F', 1928, 'Katherine', 5),\n",
              " ('AK', 'F', 1928, 'Lillian', 5),\n",
              " ('AK', 'F', 1928, 'Mabel', 5),\n",
              " ('AK', 'F', 1928, 'Martha', 5),\n",
              " ('AK', 'F', 1928, 'Ruth', 5),\n",
              " ('AK', 'F', 1929, 'Mary', 25),\n",
              " ('AK', 'F', 1929, 'Margaret', 11),\n",
              " ('AK', 'F', 1929, 'Betty', 10),\n",
              " ('AK', 'F', 1929, 'Dorothy', 10),\n",
              " ('AK', 'F', 1929, 'Agnes', 8),\n",
              " ('AK', 'F', 1929, 'Eva', 8),\n",
              " ('AK', 'F', 1929, 'Julia', 8),\n",
              " ('AK', 'F', 1929, 'Elizabeth', 7),\n",
              " ('AK', 'F', 1929, 'Helen', 7),\n",
              " ('AK', 'F', 1929, 'Martha', 7),\n",
              " ('AK', 'F', 1929, 'Alice', 6),\n",
              " ('AK', 'F', 1929, 'Esther', 6),\n",
              " ('AK', 'F', 1929, 'Frances', 6),\n",
              " ('AK', 'F', 1929, 'Irene', 6),\n",
              " ('AK', 'F', 1929, 'Mabel', 6),\n",
              " ('AK', 'F', 1929, 'Nancy', 6),\n",
              " ('AK', 'F', 1929, 'Pauline', 6),\n",
              " ('AK', 'F', 1929, 'Bertha', 5),\n",
              " ('AK', 'F', 1929, 'Evelyn', 5),\n",
              " ('AK', 'F', 1929, 'Florence', 5),\n",
              " ('AK', 'F', 1929, 'Josephine', 5),\n",
              " ('AK', 'F', 1929, 'Ruth', 5),\n",
              " ('AK', 'F', 1929, 'Virginia', 5),\n",
              " ('AK', 'F', 1930, 'Mary', 35),\n",
              " ('AK', 'F', 1930, 'Alice', 14),\n",
              " ('AK', 'F', 1930, 'Helen', 11),\n",
              " ('AK', 'F', 1930, 'Anna', 10),\n",
              " ('AK', 'F', 1930, 'Marie', 10),\n",
              " ('AK', 'F', 1930, 'Doris', 8),\n",
              " ('AK', 'F', 1930, 'Elizabeth', 8),\n",
              " ('AK', 'F', 1930, 'Martha', 8),\n",
              " ('AK', 'F', 1930, 'Esther', 7),\n",
              " ('AK', 'F', 1930, 'Agnes', 6),\n",
              " ('AK', 'F', 1930, 'Barbara', 6),\n",
              " ('AK', 'F', 1930, 'Betty', 6),\n",
              " ('AK', 'F', 1930, 'Dolly', 6),\n",
              " ('AK', 'F', 1930, 'Evelyn', 6),\n",
              " ('AK', 'F', 1930, 'Jean', 6),\n",
              " ('AK', 'F', 1930, 'Katherine', 6),\n",
              " ('AK', 'F', 1930, 'Margaret', 6),\n",
              " ('AK', 'F', 1930, 'Nancy', 6),\n",
              " ('AK', 'F', 1930, 'Pauline', 6),\n",
              " ('AK', 'F', 1930, 'Virginia', 6),\n",
              " ('AK', 'F', 1930, 'Carrie', 5),\n",
              " ('AK', 'F', 1930, 'Clara', 5),\n",
              " ('AK', 'F', 1930, 'Dorothy', 5),\n",
              " ('AK', 'F', 1930, 'Florence', 5),\n",
              " ('AK', 'F', 1930, 'Jane', 5),\n",
              " ('AK', 'F', 1930, 'Joan', 5),\n",
              " ('AK', 'F', 1930, 'Patricia', 5),\n",
              " ('AK', 'F', 1930, 'Sophie', 5),\n",
              " ('AK', 'F', 1931, 'Mary', 41),\n",
              " ('AK', 'F', 1931, 'Alice', 11),\n",
              " ('AK', 'F', 1931, 'Annie', 11),\n",
              " ('AK', 'F', 1931, 'Ruth', 11),\n",
              " ('AK', 'F', 1931, 'Dorothy', 10),\n",
              " ('AK', 'F', 1931, 'Elizabeth', 10),\n",
              " ('AK', 'F', 1931, 'Agnes', 8),\n",
              " ('AK', 'F', 1931, 'Helen', 7),\n",
              " ('AK', 'F', 1931, 'Betty', 6),\n",
              " ('AK', 'F', 1931, 'Christine', 6),\n",
              " ('AK', 'F', 1931, 'Evelyn', 6),\n",
              " ('AK', 'F', 1931, 'Grace', 6),\n",
              " ('AK', 'F', 1931, 'Margaret', 6),\n",
              " ('AK', 'F', 1931, 'Anna', 5),\n",
              " ('AK', 'F', 1931, 'Clara', 5),\n",
              " ('AK', 'F', 1931, 'Irene', 5),\n",
              " ('AK', 'F', 1931, 'Lena', 5),\n",
              " ('AK', 'F', 1931, 'Martha', 5),\n",
              " ('AK', 'F', 1932, 'Mary', 26),\n",
              " ('AK', 'F', 1932, 'Margaret', 17),\n",
              " ('AK', 'F', 1932, 'Alice', 11),\n",
              " ('AK', 'F', 1932, 'Martha', 10),\n",
              " ('AK', 'F', 1932, 'Anna', 9),\n",
              " ('AK', 'F', 1932, 'Clara', 9),\n",
              " ('AK', 'F', 1932, 'Elizabeth', 9),\n",
              " ('AK', 'F', 1932, 'Louise', 9),\n",
              " ('AK', 'F', 1932, 'Annie', 8),\n",
              " ('AK', 'F', 1932, 'Dorothy', 8),\n",
              " ('AK', 'F', 1932, 'Frances', 8),\n",
              " ('AK', 'F', 1932, 'Nancy', 8),\n",
              " ('AK', 'F', 1932, 'Ruth', 8),\n",
              " ('AK', 'F', 1932, 'Carrie', 7),\n",
              " ('AK', 'F', 1932, 'Eleanor', 7),\n",
              " ('AK', 'F', 1932, 'Helen', 7),\n",
              " ('AK', 'F', 1932, 'Marjorie', 7),\n",
              " ('AK', 'F', 1932, 'Cecelia', 6),\n",
              " ('AK', 'F', 1932, 'Katherine', 6),\n",
              " ('AK', 'F', 1932, 'Marie', 6),\n",
              " ('AK', 'F', 1932, 'Virginia', 6),\n",
              " ('AK', 'F', 1932, 'Elena', 5),\n",
              " ('AK', 'F', 1932, 'Esther', 5),\n",
              " ('AK', 'F', 1932, 'Ethel', 5),\n",
              " ('AK', 'F', 1932, 'Evelyn', 5),\n",
              " ('AK', 'F', 1932, 'Jean', 5),\n",
              " ('AK', 'F', 1932, 'Laura', 5),\n",
              " ('AK', 'F', 1932, 'Shirley', 5),\n",
              " ('AK', 'F', 1933, 'Mary', 25),\n",
              " ('AK', 'F', 1933, 'Martha', 16),\n",
              " ('AK', 'F', 1933, 'Agnes', 12),\n",
              " ('AK', 'F', 1933, 'Betty', 11),\n",
              " ('AK', 'F', 1933, 'Margaret', 11),\n",
              " ('AK', 'F', 1933, 'Elizabeth', 10),\n",
              " ('AK', 'F', 1933, 'Marie', 10),\n",
              " ('AK', 'F', 1933, 'Alice', 9),\n",
              " ('AK', 'F', 1933, 'Helen', 8),\n",
              " ('AK', 'F', 1933, 'Louise', 8),\n",
              " ('AK', 'F', 1933, 'Lucy', 8),\n",
              " ('AK', 'F', 1933, 'Patricia', 8),\n",
              " ('AK', 'F', 1933, 'Shirley', 8),\n",
              " ('AK', 'F', 1933, 'Irene', 7),\n",
              " ('AK', 'F', 1933, 'Lillian', 7),\n",
              " ('AK', 'F', 1933, 'Barbara', 6),\n",
              " ('AK', 'F', 1933, 'Dorothy', 6),\n",
              " ('AK', 'F', 1933, 'Evelyn', 6),\n",
              " ('AK', 'F', 1933, 'Frances', 6),\n",
              " ('AK', 'F', 1933, 'Ruth', 6),\n",
              " ('AK', 'F', 1933, 'Thelma', 6),\n",
              " ('AK', 'F', 1933, 'Ann', 5),\n",
              " ('AK', 'F', 1933, 'Anna', 5),\n",
              " ('AK', 'F', 1933, 'Bertha', 5),\n",
              " ('AK', 'F', 1933, 'Clara', 5),\n",
              " ('AK', 'F', 1933, 'Joan', 5),\n",
              " ('AK', 'F', 1933, 'Lena', 5),\n",
              " ('AK', 'F', 1933, 'Lois', 5),\n",
              " ('AK', 'F', 1933, 'Mildred', 5),\n",
              " ('AK', 'F', 1933, 'Pauline', 5),\n",
              " ('AK', 'F', 1933, 'Rose', 5),\n",
              " ('AK', 'F', 1933, 'Sally', 5),\n",
              " ('AK', 'F', 1933, 'Virginia', 5),\n",
              " ('AK', 'F', 1934, 'Mary', 31),\n",
              " ('AK', 'F', 1934, 'Helen', 14),\n",
              " ('AK', 'F', 1934, 'Elizabeth', 12),\n",
              " ('AK', 'F', 1934, 'Irene', 12),\n",
              " ('AK', 'F', 1934, 'Betty', 9),\n",
              " ('AK', 'F', 1934, 'Margaret', 9),\n",
              " ('AK', 'F', 1934, 'Martha', 9),\n",
              " ('AK', 'F', 1934, 'Pauline', 9),\n",
              " ('AK', 'F', 1934, 'Josephine', 8),\n",
              " ('AK', 'F', 1934, 'Marie', 8),\n",
              " ('AK', 'F', 1934, 'Agnes', 7),\n",
              " ('AK', 'F', 1934, 'Janet', 7),\n",
              " ('AK', 'F', 1934, 'Joan', 7),\n",
              " ('AK', 'F', 1934, 'Louise', 7),\n",
              " ('AK', 'F', 1934, 'Lucy', 7),\n",
              " ('AK', 'F', 1934, 'Alice', 6),\n",
              " ('AK', 'F', 1934, 'Lillian', 6),\n",
              " ('AK', 'F', 1934, 'Mildred', 6),\n",
              " ('AK', 'F', 1934, 'Bertha', 5),\n",
              " ('AK', 'F', 1934, 'Edith', 5),\n",
              " ('AK', 'F', 1934, 'Esther', 5),\n",
              " ('AK', 'F', 1934, 'Evelyn', 5),\n",
              " ('AK', 'F', 1934, 'Florence', 5),\n",
              " ('AK', 'F', 1934, 'Maria', 5),\n",
              " ('AK', 'F', 1934, 'Ruth', 5),\n",
              " ('AK', 'F', 1935, 'Mary', 29),\n",
              " ('AK', 'F', 1935, 'Elizabeth', 13),\n",
              " ('AK', 'F', 1935, 'Margaret', 13),\n",
              " ('AK', 'F', 1935, 'Anna', 9),\n",
              " ('AK', 'F', 1935, 'Shirley', 9),\n",
              " ('AK', 'F', 1935, 'Alice', 8),\n",
              " ('AK', 'F', 1935, 'Barbara', 8),\n",
              " ('AK', 'F', 1935, 'Betty', 8),\n",
              " ('AK', 'F', 1935, 'Helen', 8),\n",
              " ('AK', 'F', 1935, 'Irene', 8),\n",
              " ('AK', 'F', 1935, 'Nancy', 8),\n",
              " ('AK', 'F', 1935, 'Martha', 7),\n",
              " ('AK', 'F', 1935, 'Virginia', 7),\n",
              " ('AK', 'F', 1935, 'Dorothy', 6),\n",
              " ('AK', 'F', 1935, 'Lillian', 6),\n",
              " ('AK', 'F', 1935, 'Patricia', 6),\n",
              " ('AK', 'F', 1935, 'Agnes', 5),\n",
              " ('AK', 'F', 1935, 'Arlene', 5),\n",
              " ('AK', 'F', 1935, 'Carol', 5),\n",
              " ('AK', 'F', 1935, 'Charlotte', 5),\n",
              " ('AK', 'F', 1935, 'Edith', 5),\n",
              " ('AK', 'F', 1935, 'Evelyn', 5),\n",
              " ('AK', 'F', 1935, 'Flora', 5),\n",
              " ('AK', 'F', 1935, 'Marie', 5),\n",
              " ('AK', 'F', 1935, 'Rose', 5),\n",
              " ('AK', 'F', 1935, 'Ruth', 5),\n",
              " ('AK', 'F', 1935, 'Sally', 5),\n",
              " ('AK', 'F', 1935, 'Wilma', 5),\n",
              " ('AK', 'F', 1936, 'Mary', 34),\n",
              " ('AK', 'F', 1936, 'Elizabeth', 15),\n",
              " ('AK', 'F', 1936, 'Anna', 11),\n",
              " ('AK', 'F', 1936, 'Dorothy', 11),\n",
              " ('AK', 'F', 1936, 'Patricia', 11),\n",
              " ('AK', 'F', 1936, 'Agnes', 10),\n",
              " ('AK', 'F', 1936, 'Alice', 10),\n",
              " ('AK', 'F', 1936, 'Margaret', 9),\n",
              " ('AK', 'F', 1936, 'Nancy', 9),\n",
              " ('AK', 'F', 1936, 'Shirley', 9),\n",
              " ('AK', 'F', 1936, 'Virginia', 9),\n",
              " ('AK', 'F', 1936, 'Carol', 8),\n",
              " ('AK', 'F', 1936, 'Evelyn', 8),\n",
              " ('AK', 'F', 1936, 'Joan', 8),\n",
              " ('AK', 'F', 1936, 'Katherine', 7),\n",
              " ('AK', 'F', 1936, 'Marjorie', 7),\n",
              " ('AK', 'F', 1936, 'Nellie', 7),\n",
              " ('AK', 'F', 1936, 'Helen', 6),\n",
              " ('AK', 'F', 1936, 'Jacqueline', 6),\n",
              " ('AK', 'F', 1936, 'Julia', 6),\n",
              " ('AK', 'F', 1936, 'Lucy', 6),\n",
              " ('AK', 'F', 1936, 'Martha', 6),\n",
              " ('AK', 'F', 1936, 'Nora', 6),\n",
              " ('AK', 'F', 1936, 'Ruth', 6),\n",
              " ('AK', 'F', 1936, 'Theresa', 6),\n",
              " ('AK', 'F', 1936, 'Amelia', 5),\n",
              " ('AK', 'F', 1936, 'Christine', 5),\n",
              " ('AK', 'F', 1936, 'Dolores', 5),\n",
              " ('AK', 'F', 1936, 'Elsie', 5),\n",
              " ('AK', 'F', 1936, 'Esther', 5),\n",
              " ('AK', 'F', 1936, 'Geraldine', 5),\n",
              " ('AK', 'F', 1936, 'Lydia', 5),\n",
              " ('AK', 'F', 1936, 'Marie', 5),\n",
              " ('AK', 'F', 1937, 'Mary', 41),\n",
              " ('AK', 'F', 1937, 'Margaret', 17),\n",
              " ('AK', 'F', 1937, 'Carol', 13),\n",
              " ('AK', 'F', 1937, 'Barbara', 11),\n",
              " ('AK', 'F', 1937, 'Virginia', 10),\n",
              " ('AK', 'F', 1937, 'Betty', 9),\n",
              " ('AK', 'F', 1937, 'Anna', 8),\n",
              " ('AK', 'F', 1937, 'Donna', 8),\n",
              " ('AK', 'F', 1937, 'Pauline', 8),\n",
              " ('AK', 'F', 1937, 'Shirley', 8),\n",
              " ('AK', 'F', 1937, 'Annie', 7),\n",
              " ('AK', 'F', 1937, 'Edith', 7),\n",
              " ('AK', 'F', 1937, 'Irene', 7),\n",
              " ('AK', 'F', 1937, 'Lucy', 7),\n",
              " ('AK', 'F', 1937, 'Marie', 7),\n",
              " ('AK', 'F', 1937, 'Martha', 7),\n",
              " ('AK', 'F', 1937, 'Patricia', 7),\n",
              " ('AK', 'F', 1937, 'Sophie', 7),\n",
              " ('AK', 'F', 1937, 'Elizabeth', 6),\n",
              " ('AK', 'F', 1937, 'Gladys', 6),\n",
              " ('AK', 'F', 1937, 'Lois', 6),\n",
              " ('AK', 'F', 1937, 'Nancy', 6),\n",
              " ('AK', 'F', 1937, 'Agnes', 5),\n",
              " ('AK', 'F', 1937, 'Ann', 5),\n",
              " ('AK', 'F', 1937, 'Christine', 5),\n",
              " ('AK', 'F', 1937, 'Doris', 5),\n",
              " ('AK', 'F', 1937, 'Florence', 5),\n",
              " ('AK', 'F', 1937, 'Grace', 5),\n",
              " ('AK', 'F', 1937, 'Helen', 5),\n",
              " ('AK', 'F', 1937, 'Joan', 5),\n",
              " ('AK', 'F', 1937, 'June', 5),\n",
              " ('AK', 'F', 1937, 'Sally', 5),\n",
              " ('AK', 'F', 1937, 'Sylvia', 5),\n",
              " ('AK', 'F', 1938, 'Mary', 36),\n",
              " ('AK', 'F', 1938, 'Alice', 14),\n",
              " ('AK', 'F', 1938, 'Carol', 14),\n",
              " ('AK', 'F', 1938, 'Marie', 13),\n",
              " ('AK', 'F', 1938, 'Patricia', 11),\n",
              " ('AK', 'F', 1938, 'Betty', 10),\n",
              " ('AK', 'F', 1938, 'Barbara', 9),\n",
              " ('AK', 'F', 1938, 'Shirley', 9),\n",
              " ('AK', 'F', 1938, 'Annie', 8),\n",
              " ('AK', 'F', 1938, 'Evelyn', 8),\n",
              " ('AK', 'F', 1938, 'Nancy', 8),\n",
              " ('AK', 'F', 1938, 'Ruth', 8),\n",
              " ('AK', 'F', 1938, 'Virginia', 8),\n",
              " ('AK', 'F', 1938, 'Beverly', 7),\n",
              " ('AK', 'F', 1938, 'Florence', 7),\n",
              " ('AK', 'F', 1938, 'Katherine', 7),\n",
              " ('AK', 'F', 1938, 'Marjorie', 7),\n",
              " ('AK', 'F', 1938, 'Rose', 7),\n",
              " ('AK', 'F', 1938, 'Agnes', 6),\n",
              " ('AK', 'F', 1938, 'Dorothy', 6),\n",
              " ('AK', 'F', 1938, 'Elizabeth', 6),\n",
              " ('AK', 'F', 1938, 'Gertrude', 6),\n",
              " ('AK', 'F', 1938, 'Helen', 6),\n",
              " ('AK', 'F', 1938, 'Jean', 6),\n",
              " ('AK', 'F', 1938, 'Lillian', 6),\n",
              " ('AK', 'F', 1938, 'Louise', 6),\n",
              " ('AK', 'F', 1938, 'Margaret', 6),\n",
              " ('AK', 'F', 1938, 'Bernice', 5),\n",
              " ('AK', 'F', 1938, 'Grace', 5),\n",
              " ('AK', 'F', 1938, 'Josephine', 5),\n",
              " ('AK', 'F', 1938, 'Joyce', 5),\n",
              " ('AK', 'F', 1938, 'Rosemary', 5),\n",
              " ('AK', 'F', 1938, 'Sandra', 5),\n",
              " ('AK', 'F', 1938, 'Sylvia', 5),\n",
              " ('AK', 'F', 1939, 'Mary', 28),\n",
              " ('AK', 'F', 1939, 'Elizabeth', 18),\n",
              " ('AK', 'F', 1939, 'Martha', 13),\n",
              " ('AK', 'F', 1939, 'Alice', 11),\n",
              " ('AK', 'F', 1939, 'Carol', 10),\n",
              " ('AK', 'F', 1939, 'Helen', 10),\n",
              " ('AK', 'F', 1939, 'Jean', 10),\n",
              " ('AK', 'F', 1939, 'Ruth', 10),\n",
              " ('AK', 'F', 1939, 'Virginia', 10),\n",
              " ('AK', 'F', 1939, 'Patricia', 9),\n",
              " ('AK', 'F', 1939, 'Barbara', 8),\n",
              " ('AK', 'F', 1939, 'Karen', 8),\n",
              " ('AK', 'F', 1939, 'Margaret', 8),\n",
              " ('AK', 'F', 1939, 'Phyllis', 8),\n",
              " ('AK', 'F', 1939, 'Anna', 7),\n",
              " ('AK', 'F', 1939, 'Dorothy', 7),\n",
              " ('AK', 'F', 1939, 'Frances', 7),\n",
              " ('AK', 'F', 1939, 'Josephine', 7),\n",
              " ('AK', 'F', 1939, 'Sally', 7),\n",
              " ('AK', 'F', 1939, 'Elsie', 6),\n",
              " ('AK', 'F', 1939, 'Emily', 6),\n",
              " ('AK', 'F', 1939, 'Lorraine', 6),\n",
              " ('AK', 'F', 1939, 'Marilyn', 6),\n",
              " ('AK', 'F', 1939, 'Natalia', 6),\n",
              " ('AK', 'F', 1939, 'Sarah', 6),\n",
              " ('AK', 'F', 1939, 'Bertha', 5),\n",
              " ('AK', 'F', 1939, 'Betty', 5),\n",
              " ('AK', 'F', 1939, 'Grace', 5),\n",
              " ('AK', 'F', 1939, 'Irene', 5),\n",
              " ('AK', 'F', 1939, 'Janet', 5),\n",
              " ('AK', 'F', 1939, 'Judith', 5),\n",
              " ('AK', 'F', 1939, 'Marjorie', 5),\n",
              " ('AK', 'F', 1939, 'Nancy', 5),\n",
              " ('AK', 'F', 1939, 'Pauline', 5),\n",
              " ('AK', 'F', 1940, 'Mary', 43),\n",
              " ('AK', 'F', 1940, 'Barbara', 15),\n",
              " ('AK', 'F', 1940, 'Patricia', 15),\n",
              " ('AK', 'F', 1940, 'Alice', 14),\n",
              " ('AK', 'F', 1940, 'Annie', 12),\n",
              " ('AK', 'F', 1940, 'Helen', 12),\n",
              " ('AK', 'F', 1940, 'Margaret', 12),\n",
              " ('AK', 'F', 1940, 'Dorothy', 11),\n",
              " ('AK', 'F', 1940, 'Marie', 10),\n",
              " ('AK', 'F', 1940, 'Sharon', 10),\n",
              " ('AK', 'F', 1940, 'Agnes', 9),\n",
              " ('AK', 'F', 1940, 'Betty', 9),\n",
              " ('AK', 'F', 1940, 'Carol', 8),\n",
              " ('AK', 'F', 1940, 'Clara', 8),\n",
              " ('AK', 'F', 1940, 'Julia', 8),\n",
              " ('AK', 'F', 1940, 'Sally', 8),\n",
              " ('AK', 'F', 1940, 'Anna', 7),\n",
              " ('AK', 'F', 1940, 'Carolyn', 7),\n",
              " ('AK', 'F', 1940, 'Elizabeth', 7),\n",
              " ('AK', 'F', 1940, 'Irene', 7),\n",
              " ('AK', 'F', 1940, 'Judith', 7),\n",
              " ('AK', 'F', 1940, 'Lucy', 7),\n",
              " ('AK', 'F', 1940, 'Martha', 7),\n",
              " ('AK', 'F', 1940, 'Susan', 7),\n",
              " ('AK', 'F', 1940, 'Donna', 6),\n",
              " ('AK', 'F', 1940, 'Evelyn', 6),\n",
              " ('AK', 'F', 1940, 'Florence', 6),\n",
              " ('AK', 'F', 1940, 'Frances', 6),\n",
              " ('AK', 'F', 1940, 'Judy', 6),\n",
              " ('AK', 'F', 1940, 'Karen', 6),\n",
              " ('AK', 'F', 1940, 'Nancy', 6),\n",
              " ('AK', 'F', 1940, 'Rose', 6),\n",
              " ('AK', 'F', 1940, 'Virginia', 6),\n",
              " ('AK', 'F', 1940, 'Diane', 5),\n",
              " ('AK', 'F', 1940, 'Gloria', 5),\n",
              " ('AK', 'F', 1940, 'Janice', 5),\n",
              " ('AK', 'F', 1940, 'Joanne', 5),\n",
              " ('AK', 'F', 1940, 'Katherine', 5),\n",
              " ('AK', 'F', 1940, 'Lillian', 5),\n",
              " ('AK', 'F', 1940, 'Marilyn', 5),\n",
              " ('AK', 'F', 1940, 'Pauline', 5),\n",
              " ('AK', 'F', 1940, 'Sandra', 5),\n",
              " ('AK', 'F', 1940, 'Shirley', 5),\n",
              " ('AK', 'F', 1940, 'Theresa', 5),\n",
              " ('AK', 'F', 1941, 'Mary', 41),\n",
              " ('AK', 'F', 1941, 'Barbara', 18),\n",
              " ('AK', 'F', 1941, 'Patricia', 17),\n",
              " ('AK', 'F', 1941, 'Judy', 13),\n",
              " ('AK', 'F', 1941, 'Margaret', 13),\n",
              " ('AK', 'F', 1941, 'Nancy', 13),\n",
              " ('AK', 'F', 1941, 'Alice', 12),\n",
              " ('AK', 'F', 1941, 'Carol', 12),\n",
              " ('AK', 'F', 1941, 'Helen', 11),\n",
              " ('AK', 'F', 1941, 'Karen', 11),\n",
              " ('AK', 'F', 1941, 'Martha', 11),\n",
              " ('AK', 'F', 1941, 'Dorothy', 10),\n",
              " ('AK', 'F', 1941, 'Julia', 10),\n",
              " ('AK', 'F', 1941, 'Sharon', 10),\n",
              " ('AK', 'F', 1941, 'Ann', 9),\n",
              " ('AK', 'F', 1941, 'Elizabeth', 9),\n",
              " ('AK', 'F', 1941, 'Pauline', 9),\n",
              " ('AK', 'F', 1941, 'Marie', 8),\n",
              " ('AK', 'F', 1941, 'Agnes', 7),\n",
              " ('AK', 'F', 1941, 'Annie', 7),\n",
              " ('AK', 'F', 1941, 'Evelyn', 7),\n",
              " ('AK', 'F', 1941, 'Florence', 7),\n",
              " ('AK', 'F', 1941, 'Judith', 7),\n",
              " ('AK', 'F', 1941, 'Lucy', 7),\n",
              " ('AK', 'F', 1941, 'Marilyn', 7),\n",
              " ('AK', 'F', 1941, 'Rita', 7),\n",
              " ('AK', 'F', 1941, 'Sally', 7),\n",
              " ('AK', 'F', 1941, 'Anna', 6),\n",
              " ('AK', 'F', 1941, 'Ethel', 6),\n",
              " ('AK', 'F', 1941, 'Frances', 6),\n",
              " ('AK', 'F', 1941, 'Janet', 6),\n",
              " ('AK', 'F', 1941, 'Lois', 6),\n",
              " ('AK', 'F', 1941, 'Lydia', 6),\n",
              " ('AK', 'F', 1941, 'Sarah', 6),\n",
              " ('AK', 'F', 1941, 'Audrey', 5),\n",
              " ('AK', 'F', 1941, 'Betty', 5),\n",
              " ('AK', 'F', 1941, 'Ella', 5),\n",
              " ('AK', 'F', 1941, 'Esther', 5),\n",
              " ('AK', 'F', 1941, 'Joanne', 5),\n",
              " ('AK', 'F', 1941, 'Katherine', 5),\n",
              " ('AK', 'F', 1941, 'Linda', 5),\n",
              " ('AK', 'F', 1941, 'Mabel', 5),\n",
              " ('AK', 'F', 1941, 'Rose', 5),\n",
              " ('AK', 'F', 1941, 'Ruth', 5),\n",
              " ('AK', 'F', 1941, 'Virginia', 5),\n",
              " ('AK', 'F', 1942, 'Mary', 44),\n",
              " ('AK', 'F', 1942, 'Patricia', 17),\n",
              " ('AK', 'F', 1942, 'Judy', 15),\n",
              " ('AK', 'F', 1942, 'Margaret', 15),\n",
              " ('AK', 'F', 1942, 'Sharon', 15),\n",
              " ('AK', 'F', 1942, 'Barbara', 14),\n",
              " ('AK', 'F', 1942, 'Judith', 14),\n",
              " ('AK', 'F', 1942, 'Carol', 13),\n",
              " ('AK', 'F', 1942, 'Martha', 11),\n",
              " ('AK', 'F', 1942, 'Donna', 10),\n",
              " ('AK', 'F', 1942, 'Elizabeth', 10),\n",
              " ('AK', 'F', 1942, 'Anna', 9),\n",
              " ('AK', 'F', 1942, 'Helen', 9),\n",
              " ('AK', 'F', 1942, 'Virginia', 9),\n",
              " ('AK', 'F', 1942, 'Janet', 8),\n",
              " ('AK', 'F', 1942, 'Joan', 8),\n",
              " ('AK', 'F', 1942, 'Karen', 8),\n",
              " ('AK', 'F', 1942, 'Rose', 8),\n",
              " ('AK', 'F', 1942, 'Sandra', 8),\n",
              " ('AK', 'F', 1942, 'Christine', 7),\n",
              " ('AK', 'F', 1942, 'Dorothy', 7),\n",
              " ('AK', 'F', 1942, 'Jane', 7),\n",
              " ('AK', 'F', 1942, 'Lois', 7),\n",
              " ('AK', 'F', 1942, 'Sally', 7),\n",
              " ('AK', 'F', 1942, 'Alice', 6),\n",
              " ('AK', 'F', 1942, 'Bertha', 6),\n",
              " ('AK', 'F', 1942, 'Betty', 6),\n",
              " ('AK', 'F', 1942, 'Catherine', 6),\n",
              " ('AK', 'F', 1942, 'Florence', 6),\n",
              " ('AK', 'F', 1942, 'Frances', 6),\n",
              " ('AK', 'F', 1942, 'Marie', 6),\n",
              " ('AK', 'F', 1942, 'Nancy', 6),\n",
              " ('AK', 'F', 1942, 'Rosemary', 6),\n",
              " ('AK', 'F', 1942, 'Sophie', 6),\n",
              " ('AK', 'F', 1942, 'Annie', 5),\n",
              " ('AK', 'F', 1942, 'Arlene', 5),\n",
              " ('AK', 'F', 1942, 'Bonnie', 5),\n",
              " ('AK', 'F', 1942, 'Carolyn', 5),\n",
              " ('AK', 'F', 1942, 'Jean', 5),\n",
              " ('AK', 'F', 1942, 'Katherine', 5),\n",
              " ('AK', 'F', 1942, 'Lillian', 5),\n",
              " ('AK', 'F', 1942, 'Lorraine', 5),\n",
              " ('AK', 'F', 1942, 'Lucy', 5),\n",
              " ('AK', 'F', 1942, 'Molly', 5),\n",
              " ('AK', 'F', 1942, 'Roberta', 5),\n",
              " ('AK', 'F', 1942, 'Shirley', 5),\n",
              " ('AK', 'F', 1942, 'Susan', 5),\n",
              " ('AK', 'F', 1943, 'Mary', 46),\n",
              " ('AK', 'F', 1943, 'Patricia', 20),\n",
              " ('AK', 'F', 1943, 'Carol', 18),\n",
              " ('AK', 'F', 1943, 'Sharon', 14),\n",
              " ('AK', 'F', 1943, 'Donna', 13),\n",
              " ('AK', 'F', 1943, 'Dorothy', 13),\n",
              " ('AK', 'F', 1943, 'Karen', 13),\n",
              " ('AK', 'F', 1943, 'Margaret', 13),\n",
              " ('AK', 'F', 1943, 'Nancy', 13),\n",
              " ('AK', 'F', 1943, 'Helen', 12),\n",
              " ('AK', 'F', 1943, 'Linda', 12),\n",
              " ('AK', 'F', 1943, 'Virginia', 11),\n",
              " ('AK', 'F', 1943, 'Irene', 10),\n",
              " ('AK', 'F', 1943, 'Martha', 10),\n",
              " ('AK', 'F', 1943, 'Marie', 9),\n",
              " ('AK', 'F', 1943, 'Barbara', 8),\n",
              " ('AK', 'F', 1943, 'Bonnie', 8),\n",
              " ('AK', 'F', 1943, 'Elizabeth', 8),\n",
              " ('AK', 'F', 1943, 'Jane', 8),\n",
              " ('AK', 'F', 1943, 'Judith', 8),\n",
              " ('AK', 'F', 1943, 'Katherine', 8),\n",
              " ('AK', 'F', 1943, 'Susan', 8),\n",
              " ('AK', 'F', 1943, 'Alice', 7),\n",
              " ('AK', 'F', 1943, 'Anna', 7),\n",
              " ('AK', 'F', 1943, 'Kathleen', 7),\n",
              " ('AK', 'F', 1943, 'Kathryn', 7),\n",
              " ('AK', 'F', 1943, 'Lois', 7),\n",
              " ('AK', 'F', 1943, 'Marilyn', 7),\n",
              " ('AK', 'F', 1943, 'Roberta', 7),\n",
              " ('AK', 'F', 1943, 'Ann', 6),\n",
              " ('AK', 'F', 1943, 'Betty', 6),\n",
              " ('AK', 'F', 1943, 'Clara', 6),\n",
              " ('AK', 'F', 1943, 'Lucy', 6),\n",
              " ('AK', 'F', 1943, 'Ruth', 6),\n",
              " ('AK', 'F', 1943, 'Sally', 6),\n",
              " ('AK', 'F', 1943, 'Shirley', 6),\n",
              " ('AK', 'F', 1943, 'Caroline', 5),\n",
              " ('AK', 'F', 1943, 'Diane', 5),\n",
              " ('AK', 'F', 1943, 'Edith', 5),\n",
              " ('AK', 'F', 1943, 'Jean', 5),\n",
              " ('AK', 'F', 1943, 'Kathy', 5),\n",
              " ('AK', 'F', 1943, 'Loretta', 5),\n",
              " ('AK', 'F', 1943, 'Maria', 5),\n",
              " ('AK', 'F', 1943, 'Myra', 5),\n",
              " ('AK', 'F', 1943, 'Pauline', 5),\n",
              " ('AK', 'F', 1944, 'Mary', 42),\n",
              " ('AK', 'F', 1944, 'Linda', 16),\n",
              " ('AK', 'F', 1944, 'Barbara', 15),\n",
              " ('AK', 'F', 1944, 'Sharon', 14),\n",
              " ('AK', 'F', 1944, 'Martha', 13),\n",
              " ('AK', 'F', 1944, 'Susan', 13),\n",
              " ('AK', 'F', 1944, 'Patricia', 12),\n",
              " ('AK', 'F', 1944, 'Betty', 11),\n",
              " ('AK', 'F', 1944, 'Elizabeth', 11),\n",
              " ('AK', 'F', 1944, 'Kathleen', 11),\n",
              " ('AK', 'F', 1944, 'Marie', 11),\n",
              " ('AK', 'F', 1944, 'Janet', 10),\n",
              " ('AK', 'F', 1944, 'Judith', 10),\n",
              " ('AK', 'F', 1944, 'Ruth', 10),\n",
              " ('AK', 'F', 1944, 'Nancy', 9),\n",
              " ('AK', 'F', 1944, 'Pauline', 9),\n",
              " ('AK', 'F', 1944, 'Clara', 8),\n",
              " ('AK', 'F', 1944, 'Jean', 8),\n",
              " ('AK', 'F', 1944, 'Judy', 8),\n",
              " ('AK', 'F', 1944, 'Margaret', 8),\n",
              " ('AK', 'F', 1944, 'Virginia', 8),\n",
              " ('AK', 'F', 1944, 'Annie', 7),\n",
              " ('AK', 'F', 1944, 'Carol', 7),\n",
              " ('AK', 'F', 1944, 'Edna', 7),\n",
              " ('AK', 'F', 1944, 'Helen', 7),\n",
              " ('AK', 'F', 1944, 'Joyce', 7),\n",
              " ('AK', 'F', 1944, 'Karen', 7),\n",
              " ('AK', 'F', 1944, 'Katherine', 7),\n",
              " ('AK', 'F', 1944, 'Lorraine', 7),\n",
              " ('AK', 'F', 1944, 'Alice', 6),\n",
              " ('AK', 'F', 1944, 'Ann', 6),\n",
              " ('AK', 'F', 1944, 'Bonnie', 6),\n",
              " ('AK', 'F', 1944, 'Carolyn', 6),\n",
              " ('AK', 'F', 1944, 'Christine', 6),\n",
              " ('AK', 'F', 1944, 'Diane', 6),\n",
              " ('AK', 'F', 1944, 'Donna', 6),\n",
              " ('AK', 'F', 1944, 'Grace', 6),\n",
              " ('AK', 'F', 1944, 'Marilyn', 6),\n",
              " ('AK', 'F', 1944, 'Rose', 6),\n",
              " ('AK', 'F', 1944, 'Sarah', 6),\n",
              " ('AK', 'F', 1944, 'Shirley', 6),\n",
              " ('AK', 'F', 1944, 'Anna', 5),\n",
              " ('AK', 'F', 1944, 'Beverly', 5),\n",
              " ('AK', 'F', 1944, 'Darlene', 5),\n",
              " ('AK', 'F', 1944, 'Dorothy', 5),\n",
              " ('AK', 'F', 1944, 'Irene', 5),\n",
              " ('AK', 'F', 1944, 'Joan', 5),\n",
              " ('AK', 'F', 1944, 'Lucy', 5),\n",
              " ('AK', 'F', 1944, 'Mattie', 5),\n",
              " ('AK', 'F', 1944, 'Sophie', 5),\n",
              " ('AK', 'F', 1945, 'Mary', 47),\n",
              " ('AK', 'F', 1945, 'Patricia', 21),\n",
              " ('AK', 'F', 1945, 'Alice', 19),\n",
              " ('AK', 'F', 1945, 'Barbara', 15),\n",
              " ('AK', 'F', 1945, 'Susan', 15),\n",
              " ('AK', 'F', 1945, 'Carol', 12),\n",
              " ('AK', 'F', 1945, 'Linda', 12),\n",
              " ('AK', 'F', 1945, 'Shirley', 12),\n",
              " ('AK', 'F', 1945, 'Elizabeth', 11),\n",
              " ('AK', 'F', 1945, 'Janet', 11),\n",
              " ('AK', 'F', 1945, 'Marie', 11),\n",
              " ('AK', 'F', 1945, 'Helen', 10),\n",
              " ('AK', 'F', 1945, 'Margaret', 10),\n",
              " ('AK', 'F', 1945, 'Nancy', 10),\n",
              " ('AK', 'F', 1945, 'Phyllis', 10),\n",
              " ('AK', 'F', 1945, 'Dorothy', 9),\n",
              " ('AK', 'F', 1945, 'Marilyn', 9),\n",
              " ('AK', 'F', 1945, 'Sandra', 9),\n",
              " ('AK', 'F', 1945, 'Annie', 8),\n",
              " ('AK', 'F', 1945, 'Ellen', 8),\n",
              " ('AK', 'F', 1945, 'Grace', 8),\n",
              " ('AK', 'F', 1945, 'Judy', 8),\n",
              " ('AK', 'F', 1945, 'Lucy', 8),\n",
              " ('AK', 'F', 1945, 'Ruth', 8),\n",
              " ('AK', 'F', 1945, 'Agnes', 7),\n",
              " ('AK', 'F', 1945, 'Diane', 7),\n",
              " ('AK', 'F', 1945, 'Donna', 7),\n",
              " ('AK', 'F', 1945, 'Katherine', 7),\n",
              " ('AK', 'F', 1945, 'Anna', 6),\n",
              " ('AK', 'F', 1945, 'Darlene', 6),\n",
              " ('AK', 'F', 1945, 'Evelyn', 6),\n",
              " ('AK', 'F', 1945, 'June', 6),\n",
              " ('AK', 'F', 1945, 'Kathryn', 6),\n",
              " ('AK', 'F', 1945, 'Lorraine', 6),\n",
              " ('AK', 'F', 1945, 'Martha', 6),\n",
              " ('AK', 'F', 1945, 'Virginia', 6),\n",
              " ('AK', 'F', 1945, 'Bonnie', 5),\n",
              " ('AK', 'F', 1945, 'Carrie', 5),\n",
              " ('AK', 'F', 1945, 'Elena', 5),\n",
              " ('AK', 'F', 1945, 'Francine', 5),\n",
              " ('AK', 'F', 1945, 'Ida', 5),\n",
              " ('AK', 'F', 1945, 'Janice', 5),\n",
              " ('AK', 'F', 1945, 'Judith', 5),\n",
              " ('AK', 'F', 1945, 'Karen', 5),\n",
              " ('AK', 'F', 1945, 'Kathleen', 5),\n",
              " ('AK', 'F', 1945, 'Louise', 5),\n",
              " ('AK', 'F', 1945, 'Pamela', 5),\n",
              " ('AK', 'F', 1945, 'Pauline', 5),\n",
              " ('AK', 'F', 1945, 'Rose', 5),\n",
              " ('AK', 'F', 1945, 'Sharon', 5),\n",
              " ('AK', 'F', 1946, 'Mary', 47),\n",
              " ('AK', 'F', 1946, 'Patricia', 24),\n",
              " ('AK', 'F', 1946, 'Margaret', 22),\n",
              " ('AK', 'F', 1946, 'Susan', 22),\n",
              " ('AK', 'F', 1946, 'Linda', 21),\n",
              " ('AK', 'F', 1946, 'Barbara', 18),\n",
              " ('AK', 'F', 1946, 'Karen', 17),\n",
              " ('AK', 'F', 1946, 'Carol', 15),\n",
              " ('AK', 'F', 1946, 'Betty', 14),\n",
              " ('AK', 'F', 1946, 'Helen', 14),\n",
              " ('AK', 'F', 1946, 'Sharon', 14),\n",
              " ('AK', 'F', 1946, 'Jean', 13),\n",
              " ('AK', 'F', 1946, 'Kathleen', 11),\n",
              " ('AK', 'F', 1946, 'Martha', 11),\n",
              " ('AK', 'F', 1946, 'Nancy', 11),\n",
              " ('AK', 'F', 1946, 'Alice', 10),\n",
              " ('AK', 'F', 1946, 'Judy', 10),\n",
              " ('AK', 'F', 1946, 'Marie', 10),\n",
              " ('AK', 'F', 1946, 'Sandra', 10),\n",
              " ('AK', 'F', 1946, 'Ann', 9),\n",
              " ('AK', 'F', 1946, 'Bonnie', 9),\n",
              " ('AK', 'F', 1946, 'Cheryl', 9),\n",
              " ('AK', 'F', 1946, 'Donna', 9),\n",
              " ('AK', 'F', 1946, 'Evelyn', 9),\n",
              " ('AK', 'F', 1946, 'Gloria', 9),\n",
              " ('AK', 'F', 1946, 'Virginia', 9),\n",
              " ('AK', 'F', 1946, 'Elizabeth', 8),\n",
              " ('AK', 'F', 1946, 'Frances', 8),\n",
              " ('AK', 'F', 1946, 'Judith', 8),\n",
              " ('AK', 'F', 1946, 'Shirley', 8),\n",
              " ('AK', 'F', 1946, 'Bernice', 7),\n",
              " ('AK', 'F', 1946, 'Dorothy', 7),\n",
              " ...]"
            ]
          },
          "metadata": {
            "tags": []
          },
          "execution_count": 58
        }
      ]
    },
    {
      "cell_type": "markdown",
      "metadata": {
        "id": "QEbvkQhCYCyP",
        "colab_type": "text"
      },
      "source": [
        "**Task 2 (for everyone):** Write a query that returns the statistics for the name William (5pt). Use the [the timeit package](https://docs.python.org/3/library/timeit.html) to measure the time it takes the query to run (5pt). **Bonus:** [Create an index](https://www.w3schools.com/sql/sql_create_index.asp)  on the _Name_ column and use the [the timeit package](https://docs.python.org/3/library/timeit.html) to measure the time it takes the query to run with the index (5pt)"
      ]
    },
    {
      "cell_type": "code",
      "metadata": {
        "id": "YBCHPAOzYCyR",
        "colab_type": "code",
        "outputId": "f754dbae-e5f7-4a45-9c69-8a8c0ae9346e",
        "colab": {
          "base_uri": "https://localhost:8080/",
          "height": 84
        }
      },
      "source": [
        "import time\n",
        "import timeit\n",
        "\n",
        "def test():\n",
        "    query = \"SELECT COUNT(*) FROM Names WHERE Name='William'\"\n",
        "    print(\"There are {} williams\".format(c.execute(query).fetchone()[0]))\n",
        "\n",
        "c.execute(\"DROP INDEX IF EXISTS idx_name\")\n",
        "print(\"Time without index:{}\".format(timeit.timeit(\"test()\", globals=globals(), number=1)))\n",
        "\n",
        "c.execute('''CREATE INDEX IF NOT EXISTS idx_name\n",
        "             ON Names (name);''')\n",
        "print(\"Time with index:{}\".format(timeit.timeit(\"test()\", globals=globals(), number=1)))"
      ],
      "execution_count": 59,
      "outputs": [
        {
          "output_type": "stream",
          "text": [
            "There are 6726 williams\n",
            "Time without index:0.44438184000000547\n",
            "There are 6726 williams\n",
            "Time with index:0.0006709849999424478\n"
          ],
          "name": "stdout"
        }
      ]
    },
    {
      "cell_type": "markdown",
      "metadata": {
        "id": "6dClZxXjYCyU",
        "colab_type": "text"
      },
      "source": [
        "### <span style=\"color:red\"> Please answer only **one** of the following questions according to your ID number (use the formula **<YOUR_ID> mod 4 +1**) </span>"
      ]
    },
    {
      "cell_type": "code",
      "metadata": {
        "id": "iDpqwgwQYCyV",
        "colab_type": "code",
        "outputId": "878f6e9e-fe0e-4554-c257-0094289f9aa1",
        "colab": {
          "base_uri": "https://localhost:8080/",
          "height": 34
        }
      },
      "source": [
        "# which question to answer - put your ID number and run the code \n",
        "your_id  = \"316460443\"\n",
        "q = int(your_id) % 4 + 1\n",
        "print(\"You need to answer question number %s\" % q)"
      ],
      "execution_count": 6,
      "outputs": [
        {
          "output_type": "stream",
          "text": [
            "You need to answer question number 4\n"
          ],
          "name": "stdout"
        }
      ]
    },
    {
      "cell_type": "markdown",
      "metadata": {
        "id": "bGU71KQ8YCyZ",
        "colab_type": "text"
      },
      "source": [
        "***Question 1:*** Write a function that returns how many babies were born in a given state in a given year.\n",
        "Use it to calculate the number of babies born in LA in 1950 (10pt)"
      ]
    },
    {
      "cell_type": "code",
      "metadata": {
        "id": "0RB3GjaaYCya",
        "colab_type": "code",
        "colab": {}
      },
      "source": [
        ""
      ],
      "execution_count": 0,
      "outputs": []
    },
    {
      "cell_type": "markdown",
      "metadata": {
        "id": "510Wry5WYCye",
        "colab_type": "text"
      },
      "source": [
        "***Question 2:*** Write a function that returns how many male babies were born between a given range of years.\n",
        "Use it to calculate how many babies were born between 1970 and 1975  (10pt)"
      ]
    },
    {
      "cell_type": "code",
      "metadata": {
        "id": "m5wOKWsBYCyf",
        "colab_type": "code",
        "colab": {}
      },
      "source": [
        ""
      ],
      "execution_count": 0,
      "outputs": []
    },
    {
      "cell_type": "markdown",
      "metadata": {
        "id": "x721dD1NYCyi",
        "colab_type": "text"
      },
      "source": [
        "**Question 3:** Write a function that returns the most common female name in a given state. Use it to calculate the most common female name in Wasington in 1987 (10pt)"
      ]
    },
    {
      "cell_type": "code",
      "metadata": {
        "id": "h3t_ouDoYCyj",
        "colab_type": "code",
        "colab": {}
      },
      "source": [
        ""
      ],
      "execution_count": 0,
      "outputs": []
    },
    {
      "cell_type": "markdown",
      "metadata": {
        "id": "mRyUoBvhYCyl",
        "colab_type": "text"
      },
      "source": [
        "**Question 4:** Write a function that returns how many male babies named _William_ where born in a given state in a given year. Use it to find the state in which the highest number of babies _William_ where born in 1999 (10pt)"
      ]
    },
    {
      "cell_type": "code",
      "metadata": {
        "id": "lz1q1mvPYCym",
        "colab_type": "code",
        "colab": {
          "base_uri": "https://localhost:8080/",
          "height": 50
        },
        "outputId": "763f9f58-4e84-466d-8a32-e2fea5c1cba8"
      },
      "source": [
        "def find_babies(year, state=None, gender='M', name='William'):\n",
        "    num = c.execute(\n",
        "    f'''SELECT COUNT(*)\n",
        "        FROM Names\n",
        "        WHERE State='{state}' AND\n",
        "              Gender='{gender}'AND\n",
        "              Name='{name}' AND\n",
        "              Year={year}\n",
        "    '''\n",
        "    ).fetchone()[0]\n",
        "    print(f'Number of babies with name={name}, year={year}, gender={gender} is {num} in state={state}')\n",
        "\n",
        "def find_babies_max(year, state=None, gender='M', name='William'):\n",
        "    num, state = c.execute(\n",
        "    f'''SELECT COUNT(*), State\n",
        "        FROM Names\n",
        "        WHERE Gender='{gender}'AND\n",
        "              Name='{name}' AND\n",
        "              Year={year}\n",
        "        ORDER BY 1 DESC\n",
        "    '''\n",
        "    ).fetchone()\n",
        "    print(f'Max number of babies with name={name}, year={year}, gender={gender} is {num} in state={state}')\n",
        "\n",
        "\n",
        "find_babies(year='1999', state='AK')\n",
        "# implemented more efficiently using single query\n",
        "# could also be implemented with for loop\n",
        "find_babies_max(year=1999)"
      ],
      "execution_count": 72,
      "outputs": [
        {
          "output_type": "stream",
          "text": [
            "Number of babies with name=William, year=1999, gender=M is 1 in state=AK\n",
            "Max number of babies with name=William, year=1999, gender=M is 51 in state=WY\n"
          ],
          "name": "stdout"
        }
      ]
    },
    {
      "cell_type": "markdown",
      "metadata": {
        "id": "THz0vDHHYCyo",
        "colab_type": "text"
      },
      "source": [
        "**Question (for everyone):** For the state of NY write code that calculates the second most popular female/male names in each decade (10pt). **Bonus**: Visualize it somehow using Matplotlib (5pt)"
      ]
    },
    {
      "cell_type": "code",
      "metadata": {
        "id": "dVRTQGOS_3G9",
        "colab_type": "code",
        "colab": {
          "base_uri": "https://localhost:8080/",
          "height": 353
        },
        "outputId": "2cb7ecdc-ff21-4c43-ebb6-1d3440a6f9f0"
      },
      "source": [
        "def find_popular_in_decade(decade, gender, state='NY'):\n",
        "    print(c.execute(\n",
        "    f'''SELECT SUBSTR(Year, 1, 3) || '0', Gender, Name, COUNT(*)\n",
        "        FROM Names\n",
        "        WHERE State='{state}' AND\n",
        "              Gender='{gender}' AND\n",
        "              (SUBSTR(Year, 1, 3) || '0')='{decade}'\n",
        "        GROUP BY SUBSTR(Year, 1, 3), Name, Gender\n",
        "        ORDER BY 4 DESC LIMIT 1\n",
        "    '''\n",
        "    ).fetchall()[0])\n",
        "\n",
        "for decade in range(1910, 2010, 10):\n",
        "    find_popular_in_decade(decade=decade, gender='M')\n",
        "    find_popular_in_decade(decade=decade, gender='F')"
      ],
      "execution_count": 106,
      "outputs": [
        {
          "output_type": "stream",
          "text": [
            "('1910', 'M', 'Aaron', 10)\n",
            "('1910', 'F', 'Ada', 10)\n",
            "('1920', 'M', 'Aaron', 10)\n",
            "('1920', 'F', 'Ada', 10)\n",
            "('1930', 'M', 'Aaron', 10)\n",
            "('1930', 'F', 'Ada', 10)\n",
            "('1940', 'M', 'Aaron', 10)\n",
            "('1940', 'F', 'Abby', 10)\n",
            "('1950', 'M', 'Aaron', 10)\n",
            "('1950', 'F', 'Abbe', 10)\n",
            "('1960', 'M', 'Aaron', 10)\n",
            "('1960', 'F', 'Abby', 10)\n",
            "('1970', 'M', 'Aaron', 10)\n",
            "('1970', 'F', 'Abby', 10)\n",
            "('1980', 'M', 'Aaron', 10)\n",
            "('1980', 'F', 'Abbey', 10)\n",
            "('1990', 'M', 'Aaron', 10)\n",
            "('1990', 'F', 'Abbey', 10)\n",
            "('2000', 'M', 'Aaron', 10)\n",
            "('2000', 'F', 'Aaliyah', 10)\n"
          ],
          "name": "stdout"
        }
      ]
    },
    {
      "cell_type": "markdown",
      "metadata": {
        "id": "gmdQrLL9YCyp",
        "colab_type": "text"
      },
      "source": [
        "# 2. Flavors of Cacao Dataset (15pt)"
      ]
    },
    {
      "cell_type": "markdown",
      "metadata": {
        "id": "dTpNKH7UYCyq",
        "colab_type": "text"
      },
      "source": [
        "Using the [Flavors of Cacao](https://www.kaggle.com/rombikuboktaeder/choco-flavors) dataset, answer the following questions:"
      ]
    },
    {
      "cell_type": "markdown",
      "metadata": {
        "id": "wbg9gkVtYCyr",
        "colab_type": "text"
      },
      "source": [
        "**Question 1:** Write a function that returns the number of bars manufactured where the bars' BroadBean Origin is a given country. Use the function to calculate the number of bars where BroadBean Origin is 'Fiji' (15pt)"
      ]
    },
    {
      "cell_type": "code",
      "metadata": {
        "id": "D5FWfEiaYCys",
        "colab_type": "code",
        "colab": {}
      },
      "source": [
        ""
      ],
      "execution_count": 0,
      "outputs": []
    },
    {
      "cell_type": "markdown",
      "metadata": {
        "id": "9GCvKxWtYCyu",
        "colab_type": "text"
      },
      "source": [
        "**Question 2:** Write a function that returns the maximal and average cocoa percentage in a bar manufactured by a company in a specific country. Use the function to calculate the maximal and average cocoa percentage in bars manufactured by a Swiss company (15pt)."
      ]
    },
    {
      "cell_type": "code",
      "metadata": {
        "id": "KZJXxtwWYCyv",
        "colab_type": "code",
        "colab": {}
      },
      "source": [
        ""
      ],
      "execution_count": 0,
      "outputs": []
    },
    {
      "cell_type": "markdown",
      "metadata": {
        "id": "GlYqUA1xYCyx",
        "colab_type": "text"
      },
      "source": [
        "**Question 3:** Calculate the second most common bean type(s) and the most rare bean type(s) (15\n",
        "pt)"
      ]
    },
    {
      "cell_type": "code",
      "metadata": {
        "id": "kk0qIAiwYCyx",
        "colab_type": "code",
        "colab": {}
      },
      "source": [
        ""
      ],
      "execution_count": 0,
      "outputs": []
    },
    {
      "cell_type": "markdown",
      "metadata": {
        "id": "aOg-NK_lYCyz",
        "colab_type": "text"
      },
      "source": [
        "**Question 4:** Calculate the number of reviews and the average rating in each year. Calculate the number of reviews and the average rating of each company in each year (15pt)"
      ]
    },
    {
      "cell_type": "code",
      "metadata": {
        "id": "e8qwHAldYCy0",
        "colab_type": "code",
        "colab": {}
      },
      "source": [
        ""
      ],
      "execution_count": 0,
      "outputs": []
    },
    {
      "cell_type": "markdown",
      "metadata": {
        "id": "eKx7_9vyYCy1",
        "colab_type": "text"
      },
      "source": [
        "# 3. Kickstarter Projects Dataset (25pt)"
      ]
    },
    {
      "cell_type": "markdown",
      "metadata": {
        "id": "5HXua9B5YCy2",
        "colab_type": "text"
      },
      "source": [
        "Using the [Kickstarter Projects Dataset](https://www.kaggle.com/kemical/kickstarter-projects#ks-projects-201801.csv), answer the following questions:"
      ]
    },
    {
      "cell_type": "markdown",
      "metadata": {
        "id": "NGgJ1dyeZiFH",
        "colab_type": "text"
      },
      "source": [
        "**Task 1 (for everyone):** Load the dataset to SQLite DB using [PonyORM](https://ponyorm.org) (10pt)"
      ]
    },
    {
      "cell_type": "code",
      "metadata": {
        "id": "TLhhxMDDb2nN",
        "colab_type": "code",
        "colab": {}
      },
      "source": [
        ""
      ],
      "execution_count": 0,
      "outputs": []
    },
    {
      "cell_type": "markdown",
      "metadata": {
        "id": "W1K5VTLoYCy3",
        "colab_type": "text"
      },
      "source": [
        "### <span style=\"color:red\"> Please answer only **one** of the following questions according to your ID number (use the formula **<YOUR_ID> mod 3 +1**) </span>"
      ]
    },
    {
      "cell_type": "code",
      "metadata": {
        "id": "vwlOZtVHYCy3",
        "colab_type": "code",
        "colab": {}
      },
      "source": [
        "# which question to answer - put your ID number and run the code \n",
        "your_id  = \"<fill_your_id>\"\n",
        "q = int(your_id) % 3 + 1\n",
        "print(\"You need to answer question number %s\" % q)"
      ],
      "execution_count": 0,
      "outputs": []
    },
    {
      "cell_type": "markdown",
      "metadata": {
        "id": "gkVN8OnxYCy5",
        "colab_type": "text"
      },
      "source": [
        "**Question 1:** On average which project category received the highest number of backers? (15 pt)"
      ]
    },
    {
      "cell_type": "code",
      "metadata": {
        "id": "vkhb156oYCy6",
        "colab_type": "code",
        "colab": {}
      },
      "source": [
        ""
      ],
      "execution_count": 0,
      "outputs": []
    },
    {
      "cell_type": "markdown",
      "metadata": {
        "id": "LTk5XnNGYCy7",
        "colab_type": "text"
      },
      "source": [
        "**Question 2:** On average which project category received the highest pledged USD? (15 pt)"
      ]
    },
    {
      "cell_type": "code",
      "metadata": {
        "id": "DfiXdIneYCy8",
        "colab_type": "code",
        "colab": {}
      },
      "source": [
        ""
      ],
      "execution_count": 0,
      "outputs": []
    },
    {
      "cell_type": "markdown",
      "metadata": {
        "id": "wM5KvHE1YCy9",
        "colab_type": "text"
      },
      "source": [
        "**Question 3:** In which month occurred the highest number of projects? (15 pt)"
      ]
    },
    {
      "cell_type": "code",
      "metadata": {
        "id": "5DTIStGMYCy-",
        "colab_type": "code",
        "colab": {}
      },
      "source": [
        ""
      ],
      "execution_count": 0,
      "outputs": []
    },
    {
      "cell_type": "markdown",
      "metadata": {
        "id": "ResaA3kxYCy_",
        "colab_type": "text"
      },
      "source": [
        "## 4. Oscars Datasets (10pt)"
      ]
    },
    {
      "cell_type": "markdown",
      "metadata": {
        "id": "WYQasQOKYCzA",
        "colab_type": "text"
      },
      "source": [
        "Using the [Oscars Dataset](https://www.kaggle.com/theacademy/academy-awards), please answer only one of the following questions (you can chose):"
      ]
    },
    {
      "cell_type": "markdown",
      "metadata": {
        "id": "QGDmLdbKYCzA",
        "colab_type": "text"
      },
      "source": [
        "**Question 1:** Who is the female actress with the most Oscar nominees? (10pt)"
      ]
    },
    {
      "cell_type": "code",
      "metadata": {
        "id": "qipeHl6AYCzB",
        "colab_type": "code",
        "colab": {}
      },
      "source": [
        ""
      ],
      "execution_count": 0,
      "outputs": []
    },
    {
      "cell_type": "markdown",
      "metadata": {
        "id": "BR33wDkbYCzD",
        "colab_type": "text"
      },
      "source": [
        "**Question 2:** Who is the male director with the most Oscar nominees? (10pt)"
      ]
    },
    {
      "cell_type": "code",
      "metadata": {
        "id": "2jm9HeghYCzD",
        "colab_type": "code",
        "colab": {}
      },
      "source": [
        ""
      ],
      "execution_count": 0,
      "outputs": []
    },
    {
      "cell_type": "markdown",
      "metadata": {
        "id": "Va320K09YCzE",
        "colab_type": "text"
      },
      "source": [
        "**Question 3:** Which top-10 movies received the highest number of Oscar nominees? (10pt)"
      ]
    },
    {
      "cell_type": "code",
      "metadata": {
        "id": "k9gVwnHVYCzF",
        "colab_type": "code",
        "colab": {}
      },
      "source": [
        ""
      ],
      "execution_count": 0,
      "outputs": []
    },
    {
      "cell_type": "markdown",
      "metadata": {
        "id": "AF15wiyqYCzH",
        "colab_type": "text"
      },
      "source": [
        "**Question 4:** Write a function that receives an actor's name and returns the actor’s number of Oscar nominees. Use the function to calculate the number of times Leonardo DiCaprio was a nominee (10pt)"
      ]
    },
    {
      "cell_type": "code",
      "metadata": {
        "id": "_ZdwQJCWYCzH",
        "colab_type": "code",
        "colab": {}
      },
      "source": [
        ""
      ],
      "execution_count": 0,
      "outputs": []
    },
    {
      "cell_type": "markdown",
      "metadata": {
        "id": "eW1N-PBiYCzJ",
        "colab_type": "text"
      },
      "source": [
        "## 5. Select a Dataset (15pt)"
      ]
    },
    {
      "cell_type": "markdown",
      "metadata": {
        "id": "Me79ek_mYCzJ",
        "colab_type": "text"
      },
      "source": [
        "**Open Question:** Select an interesting dataset and use SQL to discover something interesting (15pt). **Bonus:** Use BigQuery (2pt)"
      ]
    },
    {
      "cell_type": "code",
      "metadata": {
        "id": "xXIIUhgccGWw",
        "colab_type": "code",
        "colab": {}
      },
      "source": [
        ""
      ],
      "execution_count": 0,
      "outputs": []
    }
  ]
}