{
  "nbformat": 4,
  "nbformat_minor": 0,
  "metadata": {
    "kernelspec": {
      "display_name": "Python 3",
      "language": "python",
      "name": "python3"
    },
    "language_info": {
      "codemirror_mode": {
        "name": "ipython",
        "version": 3
      },
      "file_extension": ".py",
      "mimetype": "text/x-python",
      "name": "python",
      "nbconvert_exporter": "python",
      "pygments_lexer": "ipython3",
      "version": "3.6.7"
    },
    "colab": {
      "name": "HW-6.ipynb",
      "provenance": [],
      "include_colab_link": true
    }
  },
  "cells": [
    {
      "cell_type": "markdown",
      "metadata": {
        "id": "view-in-github",
        "colab_type": "text"
      },
      "source": [
        "<a href=\"https://colab.research.google.com/github/liadekel/analyzing-big-data/blob/master/HW_6.ipynb\" target=\"_parent\"><img src=\"https://colab.research.google.com/assets/colab-badge.svg\" alt=\"Open In Colab\"/></a>"
      ]
    },
    {
      "cell_type": "markdown",
      "metadata": {
        "id": "ATxpf1JpbCyE",
        "colab_type": "text"
      },
      "source": [
        "# Homework Assignment  6"
      ]
    },
    {
      "cell_type": "code",
      "metadata": {
        "id": "9iDpJcJeSLqp",
        "colab_type": "code",
        "outputId": "e1aee1f9-2feb-41f2-dbca-46156c1e31c0",
        "colab": {
          "base_uri": "https://localhost:8080/",
          "height": 1000
        }
      },
      "source": [
        "!pip install turicreate\n",
        "!pip install kaggle \n",
        "!pip install gensim\n",
        "!pip install pyLDAvis\n",
        "!pip install spaCy\n",
        "!pip install afinn"
      ],
      "execution_count": 1,
      "outputs": [
        {
          "output_type": "stream",
          "text": [
            "Requirement already satisfied: turicreate in /usr/local/lib/python3.6/dist-packages (6.2.2)\n",
            "Requirement already satisfied: scipy>=1.1.0 in /usr/local/lib/python3.6/dist-packages (from turicreate) (1.4.1)\n",
            "Requirement already satisfied: decorator>=4.0.9 in /usr/local/lib/python3.6/dist-packages (from turicreate) (4.4.2)\n",
            "Requirement already satisfied: six>=1.10.0 in /usr/local/lib/python3.6/dist-packages (from turicreate) (1.12.0)\n",
            "Requirement already satisfied: requests>=2.9.1 in /usr/local/lib/python3.6/dist-packages (from turicreate) (2.23.0)\n",
            "Requirement already satisfied: pillow>=5.2.0 in /usr/local/lib/python3.6/dist-packages (from turicreate) (7.0.0)\n",
            "Requirement already satisfied: tensorflow<=2.0.1,>=2.0.0 in /usr/local/lib/python3.6/dist-packages (from turicreate) (2.0.1)\n",
            "Requirement already satisfied: numpy in /usr/local/lib/python3.6/dist-packages (from turicreate) (1.18.4)\n",
            "Requirement already satisfied: pandas>=0.23.2 in /usr/local/lib/python3.6/dist-packages (from turicreate) (1.0.3)\n",
            "Requirement already satisfied: coremltools==3.3 in /usr/local/lib/python3.6/dist-packages (from turicreate) (3.3)\n",
            "Requirement already satisfied: resampy==0.2.1 in /usr/local/lib/python3.6/dist-packages (from turicreate) (0.2.1)\n",
            "Requirement already satisfied: prettytable==0.7.2 in /usr/local/lib/python3.6/dist-packages (from turicreate) (0.7.2)\n",
            "Requirement already satisfied: chardet<4,>=3.0.2 in /usr/local/lib/python3.6/dist-packages (from requests>=2.9.1->turicreate) (3.0.4)\n",
            "Requirement already satisfied: certifi>=2017.4.17 in /usr/local/lib/python3.6/dist-packages (from requests>=2.9.1->turicreate) (2020.4.5.1)\n",
            "Requirement already satisfied: idna<3,>=2.5 in /usr/local/lib/python3.6/dist-packages (from requests>=2.9.1->turicreate) (2.9)\n",
            "Requirement already satisfied: urllib3!=1.25.0,!=1.25.1,<1.26,>=1.21.1 in /usr/local/lib/python3.6/dist-packages (from requests>=2.9.1->turicreate) (1.24.3)\n",
            "Requirement already satisfied: astor>=0.6.0 in /usr/local/lib/python3.6/dist-packages (from tensorflow<=2.0.1,>=2.0.0->turicreate) (0.8.1)\n",
            "Requirement already satisfied: keras-applications>=1.0.8 in /usr/local/lib/python3.6/dist-packages (from tensorflow<=2.0.1,>=2.0.0->turicreate) (1.0.8)\n",
            "Requirement already satisfied: tensorflow-estimator<2.1.0,>=2.0.0 in /usr/local/lib/python3.6/dist-packages (from tensorflow<=2.0.1,>=2.0.0->turicreate) (2.0.1)\n",
            "Requirement already satisfied: grpcio>=1.8.6 in /usr/local/lib/python3.6/dist-packages (from tensorflow<=2.0.1,>=2.0.0->turicreate) (1.28.1)\n",
            "Requirement already satisfied: keras-preprocessing>=1.0.5 in /usr/local/lib/python3.6/dist-packages (from tensorflow<=2.0.1,>=2.0.0->turicreate) (1.1.0)\n",
            "Requirement already satisfied: google-pasta>=0.1.6 in /usr/local/lib/python3.6/dist-packages (from tensorflow<=2.0.1,>=2.0.0->turicreate) (0.2.0)\n",
            "Requirement already satisfied: wrapt>=1.11.1 in /usr/local/lib/python3.6/dist-packages (from tensorflow<=2.0.1,>=2.0.0->turicreate) (1.12.1)\n",
            "Requirement already satisfied: gast==0.2.2 in /usr/local/lib/python3.6/dist-packages (from tensorflow<=2.0.1,>=2.0.0->turicreate) (0.2.2)\n",
            "Requirement already satisfied: protobuf>=3.6.1 in /usr/local/lib/python3.6/dist-packages (from tensorflow<=2.0.1,>=2.0.0->turicreate) (3.10.0)\n",
            "Requirement already satisfied: termcolor>=1.1.0 in /usr/local/lib/python3.6/dist-packages (from tensorflow<=2.0.1,>=2.0.0->turicreate) (1.1.0)\n",
            "Requirement already satisfied: opt-einsum>=2.3.2 in /usr/local/lib/python3.6/dist-packages (from tensorflow<=2.0.1,>=2.0.0->turicreate) (3.2.1)\n",
            "Requirement already satisfied: absl-py>=0.7.0 in /usr/local/lib/python3.6/dist-packages (from tensorflow<=2.0.1,>=2.0.0->turicreate) (0.9.0)\n",
            "Requirement already satisfied: tensorboard<2.1.0,>=2.0.0 in /usr/local/lib/python3.6/dist-packages (from tensorflow<=2.0.1,>=2.0.0->turicreate) (2.0.2)\n",
            "Requirement already satisfied: wheel>=0.26; python_version >= \"3\" in /usr/local/lib/python3.6/dist-packages (from tensorflow<=2.0.1,>=2.0.0->turicreate) (0.34.2)\n",
            "Requirement already satisfied: python-dateutil>=2.6.1 in /usr/local/lib/python3.6/dist-packages (from pandas>=0.23.2->turicreate) (2.8.1)\n",
            "Requirement already satisfied: pytz>=2017.2 in /usr/local/lib/python3.6/dist-packages (from pandas>=0.23.2->turicreate) (2018.9)\n",
            "Requirement already satisfied: numba>=0.32 in /usr/local/lib/python3.6/dist-packages (from resampy==0.2.1->turicreate) (0.48.0)\n",
            "Requirement already satisfied: h5py in /usr/local/lib/python3.6/dist-packages (from keras-applications>=1.0.8->tensorflow<=2.0.1,>=2.0.0->turicreate) (2.10.0)\n",
            "Requirement already satisfied: setuptools in /usr/local/lib/python3.6/dist-packages (from protobuf>=3.6.1->tensorflow<=2.0.1,>=2.0.0->turicreate) (46.1.3)\n",
            "Requirement already satisfied: google-auth-oauthlib<0.5,>=0.4.1 in /usr/local/lib/python3.6/dist-packages (from tensorboard<2.1.0,>=2.0.0->tensorflow<=2.0.1,>=2.0.0->turicreate) (0.4.1)\n",
            "Requirement already satisfied: werkzeug>=0.11.15 in /usr/local/lib/python3.6/dist-packages (from tensorboard<2.1.0,>=2.0.0->tensorflow<=2.0.1,>=2.0.0->turicreate) (1.0.1)\n",
            "Requirement already satisfied: markdown>=2.6.8 in /usr/local/lib/python3.6/dist-packages (from tensorboard<2.1.0,>=2.0.0->tensorflow<=2.0.1,>=2.0.0->turicreate) (3.2.1)\n",
            "Requirement already satisfied: google-auth<2,>=1.6.3 in /usr/local/lib/python3.6/dist-packages (from tensorboard<2.1.0,>=2.0.0->tensorflow<=2.0.1,>=2.0.0->turicreate) (1.7.2)\n",
            "Requirement already satisfied: llvmlite<0.32.0,>=0.31.0dev0 in /usr/local/lib/python3.6/dist-packages (from numba>=0.32->resampy==0.2.1->turicreate) (0.31.0)\n",
            "Requirement already satisfied: requests-oauthlib>=0.7.0 in /usr/local/lib/python3.6/dist-packages (from google-auth-oauthlib<0.5,>=0.4.1->tensorboard<2.1.0,>=2.0.0->tensorflow<=2.0.1,>=2.0.0->turicreate) (1.3.0)\n",
            "Requirement already satisfied: cachetools<3.2,>=2.0.0 in /usr/local/lib/python3.6/dist-packages (from google-auth<2,>=1.6.3->tensorboard<2.1.0,>=2.0.0->tensorflow<=2.0.1,>=2.0.0->turicreate) (3.1.1)\n",
            "Requirement already satisfied: rsa<4.1,>=3.1.4 in /usr/local/lib/python3.6/dist-packages (from google-auth<2,>=1.6.3->tensorboard<2.1.0,>=2.0.0->tensorflow<=2.0.1,>=2.0.0->turicreate) (4.0)\n",
            "Requirement already satisfied: pyasn1-modules>=0.2.1 in /usr/local/lib/python3.6/dist-packages (from google-auth<2,>=1.6.3->tensorboard<2.1.0,>=2.0.0->tensorflow<=2.0.1,>=2.0.0->turicreate) (0.2.8)\n",
            "Requirement already satisfied: oauthlib>=3.0.0 in /usr/local/lib/python3.6/dist-packages (from requests-oauthlib>=0.7.0->google-auth-oauthlib<0.5,>=0.4.1->tensorboard<2.1.0,>=2.0.0->tensorflow<=2.0.1,>=2.0.0->turicreate) (3.1.0)\n",
            "Requirement already satisfied: pyasn1>=0.1.3 in /usr/local/lib/python3.6/dist-packages (from rsa<4.1,>=3.1.4->google-auth<2,>=1.6.3->tensorboard<2.1.0,>=2.0.0->tensorflow<=2.0.1,>=2.0.0->turicreate) (0.4.8)\n",
            "Requirement already satisfied: kaggle in /usr/local/lib/python3.6/dist-packages (1.5.6)\n",
            "Requirement already satisfied: urllib3<1.25,>=1.21.1 in /usr/local/lib/python3.6/dist-packages (from kaggle) (1.24.3)\n",
            "Requirement already satisfied: six>=1.10 in /usr/local/lib/python3.6/dist-packages (from kaggle) (1.12.0)\n",
            "Requirement already satisfied: python-slugify in /usr/local/lib/python3.6/dist-packages (from kaggle) (4.0.0)\n",
            "Requirement already satisfied: python-dateutil in /usr/local/lib/python3.6/dist-packages (from kaggle) (2.8.1)\n",
            "Requirement already satisfied: certifi in /usr/local/lib/python3.6/dist-packages (from kaggle) (2020.4.5.1)\n",
            "Requirement already satisfied: tqdm in /usr/local/lib/python3.6/dist-packages (from kaggle) (4.41.1)\n",
            "Requirement already satisfied: requests in /usr/local/lib/python3.6/dist-packages (from kaggle) (2.23.0)\n",
            "Requirement already satisfied: text-unidecode>=1.3 in /usr/local/lib/python3.6/dist-packages (from python-slugify->kaggle) (1.3)\n",
            "Requirement already satisfied: chardet<4,>=3.0.2 in /usr/local/lib/python3.6/dist-packages (from requests->kaggle) (3.0.4)\n",
            "Requirement already satisfied: idna<3,>=2.5 in /usr/local/lib/python3.6/dist-packages (from requests->kaggle) (2.9)\n",
            "Requirement already satisfied: gensim in /usr/local/lib/python3.6/dist-packages (3.6.0)\n",
            "Requirement already satisfied: smart-open>=1.2.1 in /usr/local/lib/python3.6/dist-packages (from gensim) (2.0.0)\n",
            "Requirement already satisfied: six>=1.5.0 in /usr/local/lib/python3.6/dist-packages (from gensim) (1.12.0)\n",
            "Requirement already satisfied: scipy>=0.18.1 in /usr/local/lib/python3.6/dist-packages (from gensim) (1.4.1)\n",
            "Requirement already satisfied: numpy>=1.11.3 in /usr/local/lib/python3.6/dist-packages (from gensim) (1.18.4)\n",
            "Requirement already satisfied: requests in /usr/local/lib/python3.6/dist-packages (from smart-open>=1.2.1->gensim) (2.23.0)\n",
            "Requirement already satisfied: boto3 in /usr/local/lib/python3.6/dist-packages (from smart-open>=1.2.1->gensim) (1.13.4)\n",
            "Requirement already satisfied: boto in /usr/local/lib/python3.6/dist-packages (from smart-open>=1.2.1->gensim) (2.49.0)\n",
            "Requirement already satisfied: urllib3!=1.25.0,!=1.25.1,<1.26,>=1.21.1 in /usr/local/lib/python3.6/dist-packages (from requests->smart-open>=1.2.1->gensim) (1.24.3)\n",
            "Requirement already satisfied: idna<3,>=2.5 in /usr/local/lib/python3.6/dist-packages (from requests->smart-open>=1.2.1->gensim) (2.9)\n",
            "Requirement already satisfied: chardet<4,>=3.0.2 in /usr/local/lib/python3.6/dist-packages (from requests->smart-open>=1.2.1->gensim) (3.0.4)\n",
            "Requirement already satisfied: certifi>=2017.4.17 in /usr/local/lib/python3.6/dist-packages (from requests->smart-open>=1.2.1->gensim) (2020.4.5.1)\n",
            "Requirement already satisfied: botocore<1.17.0,>=1.16.4 in /usr/local/lib/python3.6/dist-packages (from boto3->smart-open>=1.2.1->gensim) (1.16.4)\n",
            "Requirement already satisfied: s3transfer<0.4.0,>=0.3.0 in /usr/local/lib/python3.6/dist-packages (from boto3->smart-open>=1.2.1->gensim) (0.3.3)\n",
            "Requirement already satisfied: jmespath<1.0.0,>=0.7.1 in /usr/local/lib/python3.6/dist-packages (from boto3->smart-open>=1.2.1->gensim) (0.9.5)\n",
            "Requirement already satisfied: docutils<0.16,>=0.10 in /usr/local/lib/python3.6/dist-packages (from botocore<1.17.0,>=1.16.4->boto3->smart-open>=1.2.1->gensim) (0.15.2)\n",
            "Requirement already satisfied: python-dateutil<3.0.0,>=2.1 in /usr/local/lib/python3.6/dist-packages (from botocore<1.17.0,>=1.16.4->boto3->smart-open>=1.2.1->gensim) (2.8.1)\n",
            "Requirement already satisfied: pyLDAvis in /usr/local/lib/python3.6/dist-packages (2.1.2)\n",
            "Requirement already satisfied: future in /usr/local/lib/python3.6/dist-packages (from pyLDAvis) (0.16.0)\n",
            "Requirement already satisfied: funcy in /usr/local/lib/python3.6/dist-packages (from pyLDAvis) (1.14)\n",
            "Requirement already satisfied: pandas>=0.17.0 in /usr/local/lib/python3.6/dist-packages (from pyLDAvis) (1.0.3)\n",
            "Requirement already satisfied: numpy>=1.9.2 in /usr/local/lib/python3.6/dist-packages (from pyLDAvis) (1.18.4)\n",
            "Requirement already satisfied: jinja2>=2.7.2 in /usr/local/lib/python3.6/dist-packages (from pyLDAvis) (2.11.2)\n",
            "Requirement already satisfied: scipy>=0.18.0 in /usr/local/lib/python3.6/dist-packages (from pyLDAvis) (1.4.1)\n",
            "Requirement already satisfied: numexpr in /usr/local/lib/python3.6/dist-packages (from pyLDAvis) (2.7.1)\n",
            "Requirement already satisfied: joblib>=0.8.4 in /usr/local/lib/python3.6/dist-packages (from pyLDAvis) (0.14.1)\n",
            "Requirement already satisfied: wheel>=0.23.0 in /usr/local/lib/python3.6/dist-packages (from pyLDAvis) (0.34.2)\n",
            "Requirement already satisfied: pytest in /usr/local/lib/python3.6/dist-packages (from pyLDAvis) (3.6.4)\n",
            "Requirement already satisfied: python-dateutil>=2.6.1 in /usr/local/lib/python3.6/dist-packages (from pandas>=0.17.0->pyLDAvis) (2.8.1)\n",
            "Requirement already satisfied: pytz>=2017.2 in /usr/local/lib/python3.6/dist-packages (from pandas>=0.17.0->pyLDAvis) (2018.9)\n",
            "Requirement already satisfied: MarkupSafe>=0.23 in /usr/local/lib/python3.6/dist-packages (from jinja2>=2.7.2->pyLDAvis) (1.1.1)\n",
            "Requirement already satisfied: attrs>=17.4.0 in /usr/local/lib/python3.6/dist-packages (from pytest->pyLDAvis) (19.3.0)\n",
            "Requirement already satisfied: six>=1.10.0 in /usr/local/lib/python3.6/dist-packages (from pytest->pyLDAvis) (1.12.0)\n",
            "Requirement already satisfied: py>=1.5.0 in /usr/local/lib/python3.6/dist-packages (from pytest->pyLDAvis) (1.8.1)\n",
            "Requirement already satisfied: atomicwrites>=1.0 in /usr/local/lib/python3.6/dist-packages (from pytest->pyLDAvis) (1.4.0)\n",
            "Requirement already satisfied: more-itertools>=4.0.0 in /usr/local/lib/python3.6/dist-packages (from pytest->pyLDAvis) (8.2.0)\n",
            "Requirement already satisfied: setuptools in /usr/local/lib/python3.6/dist-packages (from pytest->pyLDAvis) (46.1.3)\n",
            "Requirement already satisfied: pluggy<0.8,>=0.5 in /usr/local/lib/python3.6/dist-packages (from pytest->pyLDAvis) (0.7.1)\n",
            "Requirement already satisfied: spaCy in /usr/local/lib/python3.6/dist-packages (2.2.4)\n",
            "Requirement already satisfied: wasabi<1.1.0,>=0.4.0 in /usr/local/lib/python3.6/dist-packages (from spaCy) (0.6.0)\n",
            "Requirement already satisfied: preshed<3.1.0,>=3.0.2 in /usr/local/lib/python3.6/dist-packages (from spaCy) (3.0.2)\n",
            "Requirement already satisfied: cymem<2.1.0,>=2.0.2 in /usr/local/lib/python3.6/dist-packages (from spaCy) (2.0.3)\n",
            "Requirement already satisfied: tqdm<5.0.0,>=4.38.0 in /usr/local/lib/python3.6/dist-packages (from spaCy) (4.41.1)\n",
            "Requirement already satisfied: numpy>=1.15.0 in /usr/local/lib/python3.6/dist-packages (from spaCy) (1.18.4)\n",
            "Requirement already satisfied: murmurhash<1.1.0,>=0.28.0 in /usr/local/lib/python3.6/dist-packages (from spaCy) (1.0.2)\n",
            "Requirement already satisfied: srsly<1.1.0,>=1.0.2 in /usr/local/lib/python3.6/dist-packages (from spaCy) (1.0.2)\n",
            "Requirement already satisfied: setuptools in /usr/local/lib/python3.6/dist-packages (from spaCy) (46.1.3)\n",
            "Requirement already satisfied: plac<1.2.0,>=0.9.6 in /usr/local/lib/python3.6/dist-packages (from spaCy) (1.1.3)\n",
            "Requirement already satisfied: requests<3.0.0,>=2.13.0 in /usr/local/lib/python3.6/dist-packages (from spaCy) (2.23.0)\n",
            "Requirement already satisfied: thinc==7.4.0 in /usr/local/lib/python3.6/dist-packages (from spaCy) (7.4.0)\n",
            "Requirement already satisfied: catalogue<1.1.0,>=0.0.7 in /usr/local/lib/python3.6/dist-packages (from spaCy) (1.0.0)\n",
            "Requirement already satisfied: blis<0.5.0,>=0.4.0 in /usr/local/lib/python3.6/dist-packages (from spaCy) (0.4.1)\n",
            "Requirement already satisfied: idna<3,>=2.5 in /usr/local/lib/python3.6/dist-packages (from requests<3.0.0,>=2.13.0->spaCy) (2.9)\n",
            "Requirement already satisfied: urllib3!=1.25.0,!=1.25.1,<1.26,>=1.21.1 in /usr/local/lib/python3.6/dist-packages (from requests<3.0.0,>=2.13.0->spaCy) (1.24.3)\n",
            "Requirement already satisfied: chardet<4,>=3.0.2 in /usr/local/lib/python3.6/dist-packages (from requests<3.0.0,>=2.13.0->spaCy) (3.0.4)\n",
            "Requirement already satisfied: certifi>=2017.4.17 in /usr/local/lib/python3.6/dist-packages (from requests<3.0.0,>=2.13.0->spaCy) (2020.4.5.1)\n",
            "Requirement already satisfied: importlib-metadata>=0.20; python_version < \"3.8\" in /usr/local/lib/python3.6/dist-packages (from catalogue<1.1.0,>=0.0.7->spaCy) (1.6.0)\n",
            "Requirement already satisfied: zipp>=0.5 in /usr/local/lib/python3.6/dist-packages (from importlib-metadata>=0.20; python_version < \"3.8\"->catalogue<1.1.0,>=0.0.7->spaCy) (3.1.0)\n",
            "Requirement already satisfied: afinn in /usr/local/lib/python3.6/dist-packages (0.1)\n"
          ],
          "name": "stdout"
        }
      ]
    },
    {
      "cell_type": "code",
      "metadata": {
        "id": "oJc9rKcHz7rR",
        "colab_type": "code",
        "outputId": "b8242383-831d-495e-95fb-f6a2be5e684d",
        "colab": {
          "base_uri": "https://localhost:8080/",
          "height": 34
        }
      },
      "source": [
        "#setting up Kaggle & TuriCreate package s\n",
        "import json\n",
        "import os\n",
        "\n",
        "!mkdir /root/.kaggle/\n",
        "# Installing the Kaggle package\n",
        "\n",
        "#Important Note: complete this with your own key - after running this for the first time remmember to **remove** your API_KEY\n",
        "api_token = {\"username\":\"liaddekel\",\"key\":\"bf0297555b2915c6c31a8f6579de9483\"}\n",
        "\n",
        "# creating kaggle.json file with the personal API-Key details \n",
        "# You can also put this file on your Google Drive\n",
        "\n",
        "with open('/root/.kaggle/kaggle.json', 'w') as file:\n",
        "  json.dump(api_token, file)\n",
        "!chmod 600 /root/.kaggle/kaggle.json"
      ],
      "execution_count": 2,
      "outputs": [
        {
          "output_type": "stream",
          "text": [
            "mkdir: cannot create directory ‘/root/.kaggle/’: File exists\n"
          ],
          "name": "stdout"
        }
      ]
    },
    {
      "cell_type": "markdown",
      "metadata": {
        "id": "T6nDeYS6bCyF",
        "colab_type": "text"
      },
      "source": [
        "**Question 1:** Construct a sentiment classifier using 80% of the reviews in the [Amazon Fine Food Reviews dataset](https://www.kaggle.com/snap/amazon-fine-food-reviews).\n",
        "The classifier needs to predict if a product got a one-star or a five-star review. \n",
        "Evaluate the classifier using the rest of the data (30pt). \n"
      ]
    },
    {
      "cell_type": "code",
      "metadata": {
        "id": "cIoqk24KbCyG",
        "colab_type": "code",
        "outputId": "7a28b456-2c39-430a-8b5c-213ff848146f",
        "colab": {
          "base_uri": "https://localhost:8080/",
          "height": 221
        }
      },
      "source": [
        "!mkdir ./datasets\n",
        "!mkdir ./datasets/amazon\n",
        "\n",
        "# download the dataset from Kaggle and unzip it\n",
        "!kaggle datasets download snap/amazon-fine-food-reviews -p ./datasets/amazon\n",
        "!unzip ./datasets/amazon/*.zip  -d ./datasets/amazon/\n",
        "! ls -l ./datasets/amazon/"
      ],
      "execution_count": 3,
      "outputs": [
        {
          "output_type": "stream",
          "text": [
            "Downloading amazon-fine-food-reviews.zip to ./datasets/amazon\n",
            " 99% 239M/242M [00:04<00:00, 102MB/s]\n",
            "100% 242M/242M [00:04<00:00, 56.7MB/s]\n",
            "Archive:  ./datasets/amazon/amazon-fine-food-reviews.zip\n",
            "  inflating: ./datasets/amazon/Reviews.csv  \n",
            "  inflating: ./datasets/amazon/database.sqlite  \n",
            "  inflating: ./datasets/amazon/hashes.txt  \n",
            "total 905856\n",
            "-rw-r--r-- 1 root root 253873708 May 13 05:36 amazon-fine-food-reviews.zip\n",
            "-rw-r--r-- 1 root root 372798464 Sep 19  2019 database.sqlite\n",
            "-rw-r--r-- 1 root root       277 Sep 19  2019 hashes.txt\n",
            "-rw-r--r-- 1 root root 300904694 Sep 19  2019 Reviews.csv\n"
          ],
          "name": "stdout"
        }
      ]
    },
    {
      "cell_type": "code",
      "metadata": {
        "id": "GOIsfv5Th7Du",
        "colab_type": "code",
        "outputId": "61b2bfff-69a4-4baa-b51c-6d181fc4821d",
        "colab": {
          "base_uri": "https://localhost:8080/",
          "height": 1000
        }
      },
      "source": [
        "import turicreate as tc\n",
        "\n",
        "sf = tc.SFrame.read_csv(\"./datasets/amazon/Reviews.csv\")"
      ],
      "execution_count": 5,
      "outputs": [
        {
          "output_type": "display_data",
          "data": {
            "text/html": [
              "<pre>Unexpected characters after last column. \"B000GW46D4\"\n",
              "Parse failed at token ending at: \n",
              "\tmyself that tastes much better than this.\"\n",
              "35360,B000GW46D4,\u001b[1;31m^\u001b[0mA1DPWQR4WSPXTM,Japri,0,0,2,1331424000,Very unsat\n",
              "Successfully parsed 10 tokens: \n",
              "\t0: 35359\n",
              "\t1: B000GW46D4\n",
              "\t2: A2Y4S4CNGKF21S\n",
              "\t3: H. Swanson\n",
              "\t4: 0\n",
              "\t5: 0\n",
              "\t6: 2\n",
              "\t7: 1332374400\n",
              "\t8: Very dry,  ... rumbly :\",\n",
              "\t9: to the poi ... is.\"\n",
              "35360</pre>"
            ],
            "text/plain": [
              "Unexpected characters after last column. \"B000GW46D4\"\n",
              "Parse failed at token ending at: \n",
              "\tmyself that tastes much better than this.\"\n",
              "35360,B000GW46D4,\u001b[1;31m^\u001b[0mA1DPWQR4WSPXTM,Japri,0,0,2,1331424000,Very unsat\n",
              "Successfully parsed 10 tokens: \n",
              "\t0: 35359\n",
              "\t1: B000GW46D4\n",
              "\t2: A2Y4S4CNGKF21S\n",
              "\t3: H. Swanson\n",
              "\t4: 0\n",
              "\t5: 0\n",
              "\t6: 2\n",
              "\t7: 1332374400\n",
              "\t8: Very dry,  ... rumbly :\",\n",
              "\t9: to the poi ... is.\"\n",
              "35360"
            ]
          },
          "metadata": {
            "tags": []
          }
        },
        {
          "output_type": "display_data",
          "data": {
            "text/html": [
              "<pre>Unexpected characters after last column. \"one of only a very few\"\n",
              "Parse failed at token ending at: \n",
              "\thile. This is a very rare hot sauce, one of only a very few,\u001b[1;31m^\u001b[0m where the actual chile is the major ingredient.\n",
              "Successfully parsed 10 tokens: \n",
              "\t0: 74275\n",
              "\t1: B005B3HKPO\n",
              "\t2: A3OC6M21K4UAQ\n",
              "\t3: tw\n",
              "\t4: 2\n",
              "\t5: 5\n",
              "\t6: 2\n",
              "\t7: 1328486400\n",
              "\t8: whats with ... is smell??\n",
              "\t9: ummm can s ... mmended!.,</pre>"
            ],
            "text/plain": [
              "Unexpected characters after last column. \"one of only a very few\"\n",
              "Parse failed at token ending at: \n",
              "\thile. This is a very rare hot sauce, one of only a very few,\u001b[1;31m^\u001b[0m where the actual chile is the major ingredient.\n",
              "Successfully parsed 10 tokens: \n",
              "\t0: 74275\n",
              "\t1: B005B3HKPO\n",
              "\t2: A3OC6M21K4UAQ\n",
              "\t3: tw\n",
              "\t4: 2\n",
              "\t5: 5\n",
              "\t6: 2\n",
              "\t7: 1328486400\n",
              "\t8: whats with ... is smell??\n",
              "\t9: ummm can s ... mmended!.,"
            ]
          },
          "metadata": {
            "tags": []
          }
        },
        {
          "output_type": "display_data",
          "data": {
            "text/html": [
              "<pre>Unexpected characters after last column. \"B000PMJLJO\"\n",
              "Parse failed at token ending at: \n",
              "\tmyself that tastes much better than this.\"\n",
              "88623,B000PMJLJO,\u001b[1;31m^\u001b[0mA1DPWQR4WSPXTM,Japri,0,0,2,1331424000,Very unsat\n",
              "Successfully parsed 10 tokens: \n",
              "\t0: 88622\n",
              "\t1: B000PMJLJO\n",
              "\t2: A2Y4S4CNGKF21S\n",
              "\t3: H. Swanson\n",
              "\t4: 0\n",
              "\t5: 0\n",
              "\t6: 2\n",
              "\t7: 1332374400\n",
              "\t8: Very dry,  ... rumbly :\",\n",
              "\t9: to the poi ... is.\"\n",
              "88623</pre>"
            ],
            "text/plain": [
              "Unexpected characters after last column. \"B000PMJLJO\"\n",
              "Parse failed at token ending at: \n",
              "\tmyself that tastes much better than this.\"\n",
              "88623,B000PMJLJO,\u001b[1;31m^\u001b[0mA1DPWQR4WSPXTM,Japri,0,0,2,1331424000,Very unsat\n",
              "Successfully parsed 10 tokens: \n",
              "\t0: 88622\n",
              "\t1: B000PMJLJO\n",
              "\t2: A2Y4S4CNGKF21S\n",
              "\t3: H. Swanson\n",
              "\t4: 0\n",
              "\t5: 0\n",
              "\t6: 2\n",
              "\t7: 1332374400\n",
              "\t8: Very dry,  ... rumbly :\",\n",
              "\t9: to the poi ... is.\"\n",
              "88623"
            ]
          },
          "metadata": {
            "tags": []
          }
        },
        {
          "output_type": "display_data",
          "data": {
            "text/html": [
              "<pre>3 lines failed to parse correctly</pre>"
            ],
            "text/plain": [
              "3 lines failed to parse correctly"
            ]
          },
          "metadata": {
            "tags": []
          }
        },
        {
          "output_type": "display_data",
          "data": {
            "text/html": [
              "<pre>Finished parsing file /content/datasets/amazon/Reviews.csv</pre>"
            ],
            "text/plain": [
              "Finished parsing file /content/datasets/amazon/Reviews.csv"
            ]
          },
          "metadata": {
            "tags": []
          }
        },
        {
          "output_type": "display_data",
          "data": {
            "text/html": [
              "<pre>Parsing completed. Parsed 100 lines in 1.07062 secs.</pre>"
            ],
            "text/plain": [
              "Parsing completed. Parsed 100 lines in 1.07062 secs."
            ]
          },
          "metadata": {
            "tags": []
          }
        },
        {
          "output_type": "stream",
          "text": [
            "------------------------------------------------------\n",
            "Inferred types from first 100 line(s) of file as \n",
            "column_type_hints=[int,str,str,str,int,int,int,int,str,str]\n",
            "If parsing fails due to incorrect types, you can correct\n",
            "the inferred type list above and pass it to read_csv in\n",
            "the column_type_hints argument\n",
            "------------------------------------------------------\n"
          ],
          "name": "stdout"
        },
        {
          "output_type": "display_data",
          "data": {
            "text/html": [
              "<pre>Unexpected characters after last column. \"B000GW46D4\"\n",
              "Parse failed at token ending at: \n",
              "\tmyself that tastes much better than this.\"\n",
              "35360,B000GW46D4,\u001b[1;31m^\u001b[0mA1DPWQR4WSPXTM,Japri,0,0,2,1331424000,Very unsat\n",
              "Successfully parsed 10 tokens: \n",
              "\t0: 35359\n",
              "\t1: B000GW46D4\n",
              "\t2: A2Y4S4CNGKF21S\n",
              "\t3: H. Swanson\n",
              "\t4: 0\n",
              "\t5: 0\n",
              "\t6: 2\n",
              "\t7: 1332374400\n",
              "\t8: \"Very dry, ... edibly dry\n",
              "\t9: to the poi ... is.\"\n",
              "35360</pre>"
            ],
            "text/plain": [
              "Unexpected characters after last column. \"B000GW46D4\"\n",
              "Parse failed at token ending at: \n",
              "\tmyself that tastes much better than this.\"\n",
              "35360,B000GW46D4,\u001b[1;31m^\u001b[0mA1DPWQR4WSPXTM,Japri,0,0,2,1331424000,Very unsat\n",
              "Successfully parsed 10 tokens: \n",
              "\t0: 35359\n",
              "\t1: B000GW46D4\n",
              "\t2: A2Y4S4CNGKF21S\n",
              "\t3: H. Swanson\n",
              "\t4: 0\n",
              "\t5: 0\n",
              "\t6: 2\n",
              "\t7: 1332374400\n",
              "\t8: \"Very dry, ... edibly dry\n",
              "\t9: to the poi ... is.\"\n",
              "35360"
            ]
          },
          "metadata": {
            "tags": []
          }
        },
        {
          "output_type": "display_data",
          "data": {
            "text/html": [
              "<pre>Unexpected characters after last column. \"one of only a very few\"\n",
              "Parse failed at token ending at: \n",
              "\thile. This is a very rare hot sauce, one of only a very few,\u001b[1;31m^\u001b[0m where the actual chile is the major ingredient.\n",
              "Successfully parsed 10 tokens: \n",
              "\t0: 74275\n",
              "\t1: B005B3HKPO\n",
              "\t2: A3OC6M21K4UAQ\n",
              "\t3: tw\n",
              "\t4: 2\n",
              "\t5: 5\n",
              "\t6: 2\n",
              "\t7: 1328486400\n",
              "\t8: whats with ... is smell??\n",
              "\t9: \"ummm can  ...  hot sauce</pre>"
            ],
            "text/plain": [
              "Unexpected characters after last column. \"one of only a very few\"\n",
              "Parse failed at token ending at: \n",
              "\thile. This is a very rare hot sauce, one of only a very few,\u001b[1;31m^\u001b[0m where the actual chile is the major ingredient.\n",
              "Successfully parsed 10 tokens: \n",
              "\t0: 74275\n",
              "\t1: B005B3HKPO\n",
              "\t2: A3OC6M21K4UAQ\n",
              "\t3: tw\n",
              "\t4: 2\n",
              "\t5: 5\n",
              "\t6: 2\n",
              "\t7: 1328486400\n",
              "\t8: whats with ... is smell??\n",
              "\t9: \"ummm can  ...  hot sauce"
            ]
          },
          "metadata": {
            "tags": []
          }
        },
        {
          "output_type": "display_data",
          "data": {
            "text/html": [
              "<pre>Unexpected characters after last column. \"B000PMJLJO\"\n",
              "Parse failed at token ending at: \n",
              "\tmyself that tastes much better than this.\"\n",
              "88623,B000PMJLJO,\u001b[1;31m^\u001b[0mA1DPWQR4WSPXTM,Japri,0,0,2,1331424000,Very unsat\n",
              "Successfully parsed 10 tokens: \n",
              "\t0: 88622\n",
              "\t1: B000PMJLJO\n",
              "\t2: A2Y4S4CNGKF21S\n",
              "\t3: H. Swanson\n",
              "\t4: 0\n",
              "\t5: 0\n",
              "\t6: 2\n",
              "\t7: 1332374400\n",
              "\t8: \"Very dry, ... edibly dry\n",
              "\t9: to the poi ... is.\"\n",
              "88623</pre>"
            ],
            "text/plain": [
              "Unexpected characters after last column. \"B000PMJLJO\"\n",
              "Parse failed at token ending at: \n",
              "\tmyself that tastes much better than this.\"\n",
              "88623,B000PMJLJO,\u001b[1;31m^\u001b[0mA1DPWQR4WSPXTM,Japri,0,0,2,1331424000,Very unsat\n",
              "Successfully parsed 10 tokens: \n",
              "\t0: 88622\n",
              "\t1: B000PMJLJO\n",
              "\t2: A2Y4S4CNGKF21S\n",
              "\t3: H. Swanson\n",
              "\t4: 0\n",
              "\t5: 0\n",
              "\t6: 2\n",
              "\t7: 1332374400\n",
              "\t8: \"Very dry, ... edibly dry\n",
              "\t9: to the poi ... is.\"\n",
              "88623"
            ]
          },
          "metadata": {
            "tags": []
          }
        },
        {
          "output_type": "display_data",
          "data": {
            "text/html": [
              "<pre>Unexpected characters after last column. \"but that awful after taste has no place in my afternoons.  Fog Chaser is flavorful but smooth. If you have had difficulty finding a good coffee for the new machines\"\n",
              "Parse failed at token ending at: \n",
              "\te had difficulty finding a good coffee for the new machines,\u001b[1;31m^\u001b[0m do give this one a try.\"\n",
              "181216,B007Y59HVM,#oc-\n",
              "Successfully parsed 10 tokens: \n",
              "\t0: 181213\n",
              "\t1: B007Y59HVM\n",
              "\t2: #oc-R3W5DW4JKJT228\n",
              "\t3: Mamaw\n",
              "\t4: 0\n",
              "\t5: 2\n",
              "\t6: 1\n",
              "\t7: 1346112000\n",
              "\t8: Disappointed\n",
              "\t9: \"I regret  ... he morning</pre>"
            ],
            "text/plain": [
              "Unexpected characters after last column. \"but that awful after taste has no place in my afternoons.  Fog Chaser is flavorful but smooth. If you have had difficulty finding a good coffee for the new machines\"\n",
              "Parse failed at token ending at: \n",
              "\te had difficulty finding a good coffee for the new machines,\u001b[1;31m^\u001b[0m do give this one a try.\"\n",
              "181216,B007Y59HVM,#oc-\n",
              "Successfully parsed 10 tokens: \n",
              "\t0: 181213\n",
              "\t1: B007Y59HVM\n",
              "\t2: #oc-R3W5DW4JKJT228\n",
              "\t3: Mamaw\n",
              "\t4: 0\n",
              "\t5: 2\n",
              "\t6: 1\n",
              "\t7: 1346112000\n",
              "\t8: Disappointed\n",
              "\t9: \"I regret  ... he morning"
            ]
          },
          "metadata": {
            "tags": []
          }
        },
        {
          "output_type": "display_data",
          "data": {
            "text/html": [
              "<pre>Read 71440 lines. Lines per second: 51967.1</pre>"
            ],
            "text/plain": [
              "Read 71440 lines. Lines per second: 51967.1"
            ]
          },
          "metadata": {
            "tags": []
          }
        },
        {
          "output_type": "display_data",
          "data": {
            "text/html": [
              "<pre>Unexpected characters after last column. \"0\"\n",
              "Parse failed at token ending at: \n",
              "\t />\\\"\n",
              "190510,B0012UEHFQ,A2788LGTSGCFA6,\"Mom of 3 \"\"sue\"\"\",0,\u001b[1;31m^\u001b[0m0,5,1329436800,She Loves Them!,I have a crazy do\n",
              "Successfully parsed 10 tokens: \n",
              "\t0: 190509\n",
              "\t1: B0012UEHFQ\n",
              "\t2: A3CR0UBHFX0NE7\n",
              "\t3: Sharee Lee Peterson\n",
              "\t4: 0\n",
              "\t5: 0\n",
              "\t6: 1\n",
              "\t7: 1330300800\n",
              "\t8: Poor Substitute\n",
              "\t9: I had prev ... of 3 \"sue\"</pre>"
            ],
            "text/plain": [
              "Unexpected characters after last column. \"0\"\n",
              "Parse failed at token ending at: \n",
              "\t />\\\"\n",
              "190510,B0012UEHFQ,A2788LGTSGCFA6,\"Mom of 3 \"\"sue\"\"\",0,\u001b[1;31m^\u001b[0m0,5,1329436800,She Loves Them!,I have a crazy do\n",
              "Successfully parsed 10 tokens: \n",
              "\t0: 190509\n",
              "\t1: B0012UEHFQ\n",
              "\t2: A3CR0UBHFX0NE7\n",
              "\t3: Sharee Lee Peterson\n",
              "\t4: 0\n",
              "\t5: 0\n",
              "\t6: 1\n",
              "\t7: 1330300800\n",
              "\t8: Poor Substitute\n",
              "\t9: I had prev ... of 3 \"sue\""
            ]
          },
          "metadata": {
            "tags": []
          }
        },
        {
          "output_type": "display_data",
          "data": {
            "text/html": [
              "<pre>Unexpected characters after last column. \"B000GW46DE\"\n",
              "Parse failed at token ending at: \n",
              "\tyself that tastes much better than this.\"\n",
              "201283,B000GW46DE,\u001b[1;31m^\u001b[0mA1DPWQR4WSPXTM,Japri,0,0,2,1331424000,Very unsat\n",
              "Successfully parsed 10 tokens: \n",
              "\t0: 201282\n",
              "\t1: B000GW46DE\n",
              "\t2: A2Y4S4CNGKF21S\n",
              "\t3: H. Swanson\n",
              "\t4: 0\n",
              "\t5: 0\n",
              "\t6: 2\n",
              "\t7: 1332374400\n",
              "\t8: \"Very dry, ... edibly dry\n",
              "\t9: to the poi ... s.\"\n",
              "201283</pre>"
            ],
            "text/plain": [
              "Unexpected characters after last column. \"B000GW46DE\"\n",
              "Parse failed at token ending at: \n",
              "\tyself that tastes much better than this.\"\n",
              "201283,B000GW46DE,\u001b[1;31m^\u001b[0mA1DPWQR4WSPXTM,Japri,0,0,2,1331424000,Very unsat\n",
              "Successfully parsed 10 tokens: \n",
              "\t0: 201282\n",
              "\t1: B000GW46DE\n",
              "\t2: A2Y4S4CNGKF21S\n",
              "\t3: H. Swanson\n",
              "\t4: 0\n",
              "\t5: 0\n",
              "\t6: 2\n",
              "\t7: 1332374400\n",
              "\t8: \"Very dry, ... edibly dry\n",
              "\t9: to the poi ... s.\"\n",
              "201283"
            ]
          },
          "metadata": {
            "tags": []
          }
        },
        {
          "output_type": "display_data",
          "data": {
            "text/html": [
              "<pre>Unexpected characters after last column. \"B000PMC7GI\"\n",
              "Parse failed at token ending at: \n",
              "\tyself that tastes much better than this.\"\n",
              "353089,B000PMC7GI,\u001b[1;31m^\u001b[0mA1DPWQR4WSPXTM,Japri,0,0,2,1331424000,Very unsat\n",
              "Successfully parsed 10 tokens: \n",
              "\t0: 353088\n",
              "\t1: B000PMC7GI\n",
              "\t2: A2Y4S4CNGKF21S\n",
              "\t3: H. Swanson\n",
              "\t4: 0\n",
              "\t5: 0\n",
              "\t6: 2\n",
              "\t7: 1332374400\n",
              "\t8: \"Very dry, ... edibly dry\n",
              "\t9: to the poi ... s.\"\n",
              "353089</pre>"
            ],
            "text/plain": [
              "Unexpected characters after last column. \"B000PMC7GI\"\n",
              "Parse failed at token ending at: \n",
              "\tyself that tastes much better than this.\"\n",
              "353089,B000PMC7GI,\u001b[1;31m^\u001b[0mA1DPWQR4WSPXTM,Japri,0,0,2,1331424000,Very unsat\n",
              "Successfully parsed 10 tokens: \n",
              "\t0: 353088\n",
              "\t1: B000PMC7GI\n",
              "\t2: A2Y4S4CNGKF21S\n",
              "\t3: H. Swanson\n",
              "\t4: 0\n",
              "\t5: 0\n",
              "\t6: 2\n",
              "\t7: 1332374400\n",
              "\t8: \"Very dry, ... edibly dry\n",
              "\t9: to the poi ... s.\"\n",
              "353089"
            ]
          },
          "metadata": {
            "tags": []
          }
        },
        {
          "output_type": "display_data",
          "data": {
            "text/html": [
              "<pre>Unexpected characters after last column. \"give it a try.  After drinking half of a bottle\"\n",
              "Parse failed at token ending at: \n",
              "\tou haven't, give it a try.  After drinking half of a bottle,\u001b[1;31m^\u001b[0m you will know it's good stuff.\"\n",
              "434576,B001SB1B\n",
              "Successfully parsed 10 tokens: \n",
              "\t0: 434574\n",
              "\t1: B002DHMX3A\n",
              "\t2: A2XNJJ9TF70P4J\n",
              "\t3: Angie\n",
              "\t4: 1\n",
              "\t5: 1\n",
              "\t6: 1\n",
              "\t7: 1307232000\n",
              "\t8: How did th ... s this up?\n",
              "\t9: \"The cerea ... ou haven't</pre>"
            ],
            "text/plain": [
              "Unexpected characters after last column. \"give it a try.  After drinking half of a bottle\"\n",
              "Parse failed at token ending at: \n",
              "\tou haven't, give it a try.  After drinking half of a bottle,\u001b[1;31m^\u001b[0m you will know it's good stuff.\"\n",
              "434576,B001SB1B\n",
              "Successfully parsed 10 tokens: \n",
              "\t0: 434574\n",
              "\t1: B002DHMX3A\n",
              "\t2: A2XNJJ9TF70P4J\n",
              "\t3: Angie\n",
              "\t4: 1\n",
              "\t5: 1\n",
              "\t6: 1\n",
              "\t7: 1307232000\n",
              "\t8: How did th ... s this up?\n",
              "\t9: \"The cerea ... ou haven't"
            ]
          },
          "metadata": {
            "tags": []
          }
        },
        {
          "output_type": "display_data",
          "data": {
            "text/html": [
              "<pre>8 lines failed to parse correctly</pre>"
            ],
            "text/plain": [
              "8 lines failed to parse correctly"
            ]
          },
          "metadata": {
            "tags": []
          }
        },
        {
          "output_type": "display_data",
          "data": {
            "text/html": [
              "<pre>Finished parsing file /content/datasets/amazon/Reviews.csv</pre>"
            ],
            "text/plain": [
              "Finished parsing file /content/datasets/amazon/Reviews.csv"
            ]
          },
          "metadata": {
            "tags": []
          }
        },
        {
          "output_type": "display_data",
          "data": {
            "text/html": [
              "<pre>Parsing completed. Parsed 260995 lines in 3.60999 secs.</pre>"
            ],
            "text/plain": [
              "Parsing completed. Parsed 260995 lines in 3.60999 secs."
            ]
          },
          "metadata": {
            "tags": []
          }
        }
      ]
    },
    {
      "cell_type": "code",
      "metadata": {
        "id": "zHDvFaalPbqi",
        "colab_type": "code",
        "outputId": "29ac5ff7-6a16-490b-e380-77211c1a4b9c",
        "colab": {
          "base_uri": "https://localhost:8080/",
          "height": 677
        }
      },
      "source": [
        "# remove reviews with scores different from 1 or 5\n",
        "sf = sf[(sf['Score'] == 5) | (sf['Score'] == 1)]\n",
        "# convert to sentiments\n",
        "def label2sentiment(label):\n",
        "    if label == 5:\n",
        "        return \"Positive\"\n",
        "    else:\n",
        "        return \"Negative\"\n",
        "\n",
        "sf['sentiment'] = sf['Score'].apply(lambda label: label2sentiment(label))\n",
        "sf"
      ],
      "execution_count": 6,
      "outputs": [
        {
          "output_type": "execute_result",
          "data": {
            "text/html": [
              "<div style=\"max-height:1000px;max-width:1500px;overflow:auto;\"><table frame=\"box\" rules=\"cols\">\n",
              "    <tr>\n",
              "        <th style=\"padding-left: 1em; padding-right: 1em; text-align: center\">Id</th>\n",
              "        <th style=\"padding-left: 1em; padding-right: 1em; text-align: center\">ProductId</th>\n",
              "        <th style=\"padding-left: 1em; padding-right: 1em; text-align: center\">UserId</th>\n",
              "        <th style=\"padding-left: 1em; padding-right: 1em; text-align: center\">ProfileName</th>\n",
              "        <th style=\"padding-left: 1em; padding-right: 1em; text-align: center\">HelpfulnessNumerator</th>\n",
              "        <th style=\"padding-left: 1em; padding-right: 1em; text-align: center\">HelpfulnessDenominator</th>\n",
              "        <th style=\"padding-left: 1em; padding-right: 1em; text-align: center\">Score</th>\n",
              "    </tr>\n",
              "    <tr>\n",
              "        <td style=\"padding-left: 1em; padding-right: 1em; text-align: center; vertical-align: top\">1</td>\n",
              "        <td style=\"padding-left: 1em; padding-right: 1em; text-align: center; vertical-align: top\">B001E4KFG0</td>\n",
              "        <td style=\"padding-left: 1em; padding-right: 1em; text-align: center; vertical-align: top\">A3SGXH7AUHU8GW</td>\n",
              "        <td style=\"padding-left: 1em; padding-right: 1em; text-align: center; vertical-align: top\">delmartian</td>\n",
              "        <td style=\"padding-left: 1em; padding-right: 1em; text-align: center; vertical-align: top\">1</td>\n",
              "        <td style=\"padding-left: 1em; padding-right: 1em; text-align: center; vertical-align: top\">1</td>\n",
              "        <td style=\"padding-left: 1em; padding-right: 1em; text-align: center; vertical-align: top\">5</td>\n",
              "    </tr>\n",
              "    <tr>\n",
              "        <td style=\"padding-left: 1em; padding-right: 1em; text-align: center; vertical-align: top\">2</td>\n",
              "        <td style=\"padding-left: 1em; padding-right: 1em; text-align: center; vertical-align: top\">B00813GRG4</td>\n",
              "        <td style=\"padding-left: 1em; padding-right: 1em; text-align: center; vertical-align: top\">A1D87F6ZCVE5NK</td>\n",
              "        <td style=\"padding-left: 1em; padding-right: 1em; text-align: center; vertical-align: top\">dll pa</td>\n",
              "        <td style=\"padding-left: 1em; padding-right: 1em; text-align: center; vertical-align: top\">0</td>\n",
              "        <td style=\"padding-left: 1em; padding-right: 1em; text-align: center; vertical-align: top\">0</td>\n",
              "        <td style=\"padding-left: 1em; padding-right: 1em; text-align: center; vertical-align: top\">1</td>\n",
              "    </tr>\n",
              "    <tr>\n",
              "        <td style=\"padding-left: 1em; padding-right: 1em; text-align: center; vertical-align: top\">5</td>\n",
              "        <td style=\"padding-left: 1em; padding-right: 1em; text-align: center; vertical-align: top\">B006K2ZZ7K</td>\n",
              "        <td style=\"padding-left: 1em; padding-right: 1em; text-align: center; vertical-align: top\">A1UQRSCLF8GW1T</td>\n",
              "        <td style=\"padding-left: 1em; padding-right: 1em; text-align: center; vertical-align: top\">Michael D. Bigham &quot;M.<br>Wassir&quot; ...</td>\n",
              "        <td style=\"padding-left: 1em; padding-right: 1em; text-align: center; vertical-align: top\">0</td>\n",
              "        <td style=\"padding-left: 1em; padding-right: 1em; text-align: center; vertical-align: top\">0</td>\n",
              "        <td style=\"padding-left: 1em; padding-right: 1em; text-align: center; vertical-align: top\">5</td>\n",
              "    </tr>\n",
              "    <tr>\n",
              "        <td style=\"padding-left: 1em; padding-right: 1em; text-align: center; vertical-align: top\">7</td>\n",
              "        <td style=\"padding-left: 1em; padding-right: 1em; text-align: center; vertical-align: top\">B006K2ZZ7K</td>\n",
              "        <td style=\"padding-left: 1em; padding-right: 1em; text-align: center; vertical-align: top\">A1SP2KVKFXXRU1</td>\n",
              "        <td style=\"padding-left: 1em; padding-right: 1em; text-align: center; vertical-align: top\">David C. Sullivan</td>\n",
              "        <td style=\"padding-left: 1em; padding-right: 1em; text-align: center; vertical-align: top\">0</td>\n",
              "        <td style=\"padding-left: 1em; padding-right: 1em; text-align: center; vertical-align: top\">0</td>\n",
              "        <td style=\"padding-left: 1em; padding-right: 1em; text-align: center; vertical-align: top\">5</td>\n",
              "    </tr>\n",
              "    <tr>\n",
              "        <td style=\"padding-left: 1em; padding-right: 1em; text-align: center; vertical-align: top\">8</td>\n",
              "        <td style=\"padding-left: 1em; padding-right: 1em; text-align: center; vertical-align: top\">B006K2ZZ7K</td>\n",
              "        <td style=\"padding-left: 1em; padding-right: 1em; text-align: center; vertical-align: top\">A3JRGQVEQN31IQ</td>\n",
              "        <td style=\"padding-left: 1em; padding-right: 1em; text-align: center; vertical-align: top\">Pamela G. Williams</td>\n",
              "        <td style=\"padding-left: 1em; padding-right: 1em; text-align: center; vertical-align: top\">0</td>\n",
              "        <td style=\"padding-left: 1em; padding-right: 1em; text-align: center; vertical-align: top\">0</td>\n",
              "        <td style=\"padding-left: 1em; padding-right: 1em; text-align: center; vertical-align: top\">5</td>\n",
              "    </tr>\n",
              "    <tr>\n",
              "        <td style=\"padding-left: 1em; padding-right: 1em; text-align: center; vertical-align: top\">9</td>\n",
              "        <td style=\"padding-left: 1em; padding-right: 1em; text-align: center; vertical-align: top\">B000E7L2R4</td>\n",
              "        <td style=\"padding-left: 1em; padding-right: 1em; text-align: center; vertical-align: top\">A1MZYO9TZK0BBI</td>\n",
              "        <td style=\"padding-left: 1em; padding-right: 1em; text-align: center; vertical-align: top\">R. James</td>\n",
              "        <td style=\"padding-left: 1em; padding-right: 1em; text-align: center; vertical-align: top\">1</td>\n",
              "        <td style=\"padding-left: 1em; padding-right: 1em; text-align: center; vertical-align: top\">1</td>\n",
              "        <td style=\"padding-left: 1em; padding-right: 1em; text-align: center; vertical-align: top\">5</td>\n",
              "    </tr>\n",
              "    <tr>\n",
              "        <td style=\"padding-left: 1em; padding-right: 1em; text-align: center; vertical-align: top\">10</td>\n",
              "        <td style=\"padding-left: 1em; padding-right: 1em; text-align: center; vertical-align: top\">B00171APVA</td>\n",
              "        <td style=\"padding-left: 1em; padding-right: 1em; text-align: center; vertical-align: top\">A21BT40VZCCYT4</td>\n",
              "        <td style=\"padding-left: 1em; padding-right: 1em; text-align: center; vertical-align: top\">Carol A. Reed</td>\n",
              "        <td style=\"padding-left: 1em; padding-right: 1em; text-align: center; vertical-align: top\">0</td>\n",
              "        <td style=\"padding-left: 1em; padding-right: 1em; text-align: center; vertical-align: top\">0</td>\n",
              "        <td style=\"padding-left: 1em; padding-right: 1em; text-align: center; vertical-align: top\">5</td>\n",
              "    </tr>\n",
              "    <tr>\n",
              "        <td style=\"padding-left: 1em; padding-right: 1em; text-align: center; vertical-align: top\">11</td>\n",
              "        <td style=\"padding-left: 1em; padding-right: 1em; text-align: center; vertical-align: top\">B0001PB9FE</td>\n",
              "        <td style=\"padding-left: 1em; padding-right: 1em; text-align: center; vertical-align: top\">A3HDKO7OW0QNK4</td>\n",
              "        <td style=\"padding-left: 1em; padding-right: 1em; text-align: center; vertical-align: top\">Canadian Fan</td>\n",
              "        <td style=\"padding-left: 1em; padding-right: 1em; text-align: center; vertical-align: top\">1</td>\n",
              "        <td style=\"padding-left: 1em; padding-right: 1em; text-align: center; vertical-align: top\">1</td>\n",
              "        <td style=\"padding-left: 1em; padding-right: 1em; text-align: center; vertical-align: top\">5</td>\n",
              "    </tr>\n",
              "    <tr>\n",
              "        <td style=\"padding-left: 1em; padding-right: 1em; text-align: center; vertical-align: top\">12</td>\n",
              "        <td style=\"padding-left: 1em; padding-right: 1em; text-align: center; vertical-align: top\">B0009XLVG0</td>\n",
              "        <td style=\"padding-left: 1em; padding-right: 1em; text-align: center; vertical-align: top\">A2725IB4YY9JEB</td>\n",
              "        <td style=\"padding-left: 1em; padding-right: 1em; text-align: center; vertical-align: top\">A Poeng &quot;SparkyGoHome&quot;</td>\n",
              "        <td style=\"padding-left: 1em; padding-right: 1em; text-align: center; vertical-align: top\">4</td>\n",
              "        <td style=\"padding-left: 1em; padding-right: 1em; text-align: center; vertical-align: top\">4</td>\n",
              "        <td style=\"padding-left: 1em; padding-right: 1em; text-align: center; vertical-align: top\">5</td>\n",
              "    </tr>\n",
              "    <tr>\n",
              "        <td style=\"padding-left: 1em; padding-right: 1em; text-align: center; vertical-align: top\">13</td>\n",
              "        <td style=\"padding-left: 1em; padding-right: 1em; text-align: center; vertical-align: top\">B0009XLVG0</td>\n",
              "        <td style=\"padding-left: 1em; padding-right: 1em; text-align: center; vertical-align: top\">A327PCT23YH90</td>\n",
              "        <td style=\"padding-left: 1em; padding-right: 1em; text-align: center; vertical-align: top\">LT</td>\n",
              "        <td style=\"padding-left: 1em; padding-right: 1em; text-align: center; vertical-align: top\">1</td>\n",
              "        <td style=\"padding-left: 1em; padding-right: 1em; text-align: center; vertical-align: top\">1</td>\n",
              "        <td style=\"padding-left: 1em; padding-right: 1em; text-align: center; vertical-align: top\">1</td>\n",
              "    </tr>\n",
              "</table>\n",
              "<table frame=\"box\" rules=\"cols\">\n",
              "    <tr>\n",
              "        <th style=\"padding-left: 1em; padding-right: 1em; text-align: center\">Time</th>\n",
              "        <th style=\"padding-left: 1em; padding-right: 1em; text-align: center\">Summary</th>\n",
              "        <th style=\"padding-left: 1em; padding-right: 1em; text-align: center\">Text</th>\n",
              "        <th style=\"padding-left: 1em; padding-right: 1em; text-align: center\">sentiment</th>\n",
              "    </tr>\n",
              "    <tr>\n",
              "        <td style=\"padding-left: 1em; padding-right: 1em; text-align: center; vertical-align: top\">1303862400</td>\n",
              "        <td style=\"padding-left: 1em; padding-right: 1em; text-align: center; vertical-align: top\">Good Quality Dog Food</td>\n",
              "        <td style=\"padding-left: 1em; padding-right: 1em; text-align: center; vertical-align: top\">I have bought several of<br>the Vitality canned dog ...</td>\n",
              "        <td style=\"padding-left: 1em; padding-right: 1em; text-align: center; vertical-align: top\">Positive</td>\n",
              "    </tr>\n",
              "    <tr>\n",
              "        <td style=\"padding-left: 1em; padding-right: 1em; text-align: center; vertical-align: top\">1346976000</td>\n",
              "        <td style=\"padding-left: 1em; padding-right: 1em; text-align: center; vertical-align: top\">Not as Advertised</td>\n",
              "        <td style=\"padding-left: 1em; padding-right: 1em; text-align: center; vertical-align: top\">Product arrived labeled<br>as Jumbo Salted ...</td>\n",
              "        <td style=\"padding-left: 1em; padding-right: 1em; text-align: center; vertical-align: top\">Negative</td>\n",
              "    </tr>\n",
              "    <tr>\n",
              "        <td style=\"padding-left: 1em; padding-right: 1em; text-align: center; vertical-align: top\">1350777600</td>\n",
              "        <td style=\"padding-left: 1em; padding-right: 1em; text-align: center; vertical-align: top\">Great taffy</td>\n",
              "        <td style=\"padding-left: 1em; padding-right: 1em; text-align: center; vertical-align: top\">Great taffy at a great<br>price.  There was a wide ...</td>\n",
              "        <td style=\"padding-left: 1em; padding-right: 1em; text-align: center; vertical-align: top\">Positive</td>\n",
              "    </tr>\n",
              "    <tr>\n",
              "        <td style=\"padding-left: 1em; padding-right: 1em; text-align: center; vertical-align: top\">1340150400</td>\n",
              "        <td style=\"padding-left: 1em; padding-right: 1em; text-align: center; vertical-align: top\">Great!  Just as good as<br>the expensive brands! ...</td>\n",
              "        <td style=\"padding-left: 1em; padding-right: 1em; text-align: center; vertical-align: top\">This saltwater taffy had<br>great flavors and was ...</td>\n",
              "        <td style=\"padding-left: 1em; padding-right: 1em; text-align: center; vertical-align: top\">Positive</td>\n",
              "    </tr>\n",
              "    <tr>\n",
              "        <td style=\"padding-left: 1em; padding-right: 1em; text-align: center; vertical-align: top\">1336003200</td>\n",
              "        <td style=\"padding-left: 1em; padding-right: 1em; text-align: center; vertical-align: top\">Wonderful, tasty taffy</td>\n",
              "        <td style=\"padding-left: 1em; padding-right: 1em; text-align: center; vertical-align: top\">This taffy is so good.<br>It is very soft and ...</td>\n",
              "        <td style=\"padding-left: 1em; padding-right: 1em; text-align: center; vertical-align: top\">Positive</td>\n",
              "    </tr>\n",
              "    <tr>\n",
              "        <td style=\"padding-left: 1em; padding-right: 1em; text-align: center; vertical-align: top\">1322006400</td>\n",
              "        <td style=\"padding-left: 1em; padding-right: 1em; text-align: center; vertical-align: top\">Yay Barley</td>\n",
              "        <td style=\"padding-left: 1em; padding-right: 1em; text-align: center; vertical-align: top\">Right now I&#x27;m mostly just<br>sprouting this so my  ...</td>\n",
              "        <td style=\"padding-left: 1em; padding-right: 1em; text-align: center; vertical-align: top\">Positive</td>\n",
              "    </tr>\n",
              "    <tr>\n",
              "        <td style=\"padding-left: 1em; padding-right: 1em; text-align: center; vertical-align: top\">1351209600</td>\n",
              "        <td style=\"padding-left: 1em; padding-right: 1em; text-align: center; vertical-align: top\">Healthy Dog Food</td>\n",
              "        <td style=\"padding-left: 1em; padding-right: 1em; text-align: center; vertical-align: top\">This is a very healthy<br>dog food. Good for their ...</td>\n",
              "        <td style=\"padding-left: 1em; padding-right: 1em; text-align: center; vertical-align: top\">Positive</td>\n",
              "    </tr>\n",
              "    <tr>\n",
              "        <td style=\"padding-left: 1em; padding-right: 1em; text-align: center; vertical-align: top\">1107820800</td>\n",
              "        <td style=\"padding-left: 1em; padding-right: 1em; text-align: center; vertical-align: top\">The Best Hot Sauce in the<br>World ...</td>\n",
              "        <td style=\"padding-left: 1em; padding-right: 1em; text-align: center; vertical-align: top\">I don&#x27;t know if it&#x27;s the<br>cactus or the tequila or ...</td>\n",
              "        <td style=\"padding-left: 1em; padding-right: 1em; text-align: center; vertical-align: top\">Positive</td>\n",
              "    </tr>\n",
              "    <tr>\n",
              "        <td style=\"padding-left: 1em; padding-right: 1em; text-align: center; vertical-align: top\">1282867200</td>\n",
              "        <td style=\"padding-left: 1em; padding-right: 1em; text-align: center; vertical-align: top\">My cats LOVE this &quot;diet&quot;<br>food better than their ...</td>\n",
              "        <td style=\"padding-left: 1em; padding-right: 1em; text-align: center; vertical-align: top\">One of my boys needed to<br>lose some weight and the ...</td>\n",
              "        <td style=\"padding-left: 1em; padding-right: 1em; text-align: center; vertical-align: top\">Positive</td>\n",
              "    </tr>\n",
              "    <tr>\n",
              "        <td style=\"padding-left: 1em; padding-right: 1em; text-align: center; vertical-align: top\">1339545600</td>\n",
              "        <td style=\"padding-left: 1em; padding-right: 1em; text-align: center; vertical-align: top\">My Cats Are Not Fans of<br>the New Food ...</td>\n",
              "        <td style=\"padding-left: 1em; padding-right: 1em; text-align: center; vertical-align: top\">My cats have been happily<br>eating Felidae Platinum ...</td>\n",
              "        <td style=\"padding-left: 1em; padding-right: 1em; text-align: center; vertical-align: top\">Negative</td>\n",
              "    </tr>\n",
              "</table>\n",
              "[190882 rows x 11 columns]<br/>Note: Only the head of the SFrame is printed.<br/>You can use print_rows(num_rows=m, num_columns=n) to print more rows and columns.\n",
              "</div>"
            ],
            "text/plain": [
              "Columns:\n",
              "\tId\tint\n",
              "\tProductId\tstr\n",
              "\tUserId\tstr\n",
              "\tProfileName\tstr\n",
              "\tHelpfulnessNumerator\tint\n",
              "\tHelpfulnessDenominator\tint\n",
              "\tScore\tint\n",
              "\tTime\tint\n",
              "\tSummary\tstr\n",
              "\tText\tstr\n",
              "\tsentiment\tstr\n",
              "\n",
              "Rows: 190882\n",
              "\n",
              "Data:\n",
              "+----+------------+----------------+-------------------------------+----------------------+\n",
              "| Id | ProductId  |     UserId     |          ProfileName          | HelpfulnessNumerator |\n",
              "+----+------------+----------------+-------------------------------+----------------------+\n",
              "| 1  | B001E4KFG0 | A3SGXH7AUHU8GW |           delmartian          |          1           |\n",
              "| 2  | B00813GRG4 | A1D87F6ZCVE5NK |             dll pa            |          0           |\n",
              "| 5  | B006K2ZZ7K | A1UQRSCLF8GW1T | Michael D. Bigham \"M. Wassir\" |          0           |\n",
              "| 7  | B006K2ZZ7K | A1SP2KVKFXXRU1 |       David C. Sullivan       |          0           |\n",
              "| 8  | B006K2ZZ7K | A3JRGQVEQN31IQ |       Pamela G. Williams      |          0           |\n",
              "| 9  | B000E7L2R4 | A1MZYO9TZK0BBI |            R. James           |          1           |\n",
              "| 10 | B00171APVA | A21BT40VZCCYT4 |         Carol A. Reed         |          0           |\n",
              "| 11 | B0001PB9FE | A3HDKO7OW0QNK4 |          Canadian Fan         |          1           |\n",
              "| 12 | B0009XLVG0 | A2725IB4YY9JEB |     A Poeng \"SparkyGoHome\"    |          4           |\n",
              "| 13 | B0009XLVG0 | A327PCT23YH90  |               LT              |          1           |\n",
              "+----+------------+----------------+-------------------------------+----------------------+\n",
              "+------------------------+-------+------------+-------------------------------+\n",
              "| HelpfulnessDenominator | Score |    Time    |            Summary            |\n",
              "+------------------------+-------+------------+-------------------------------+\n",
              "|           1            |   5   | 1303862400 |     Good Quality Dog Food     |\n",
              "|           0            |   1   | 1346976000 |       Not as Advertised       |\n",
              "|           0            |   5   | 1350777600 |          Great taffy          |\n",
              "|           0            |   5   | 1340150400 | Great!  Just as good as th... |\n",
              "|           0            |   5   | 1336003200 |     Wonderful, tasty taffy    |\n",
              "|           1            |   5   | 1322006400 |           Yay Barley          |\n",
              "|           0            |   5   | 1351209600 |        Healthy Dog Food       |\n",
              "|           1            |   5   | 1107820800 | The Best Hot Sauce in the ... |\n",
              "|           4            |   5   | 1282867200 | My cats LOVE this \"diet\" f... |\n",
              "|           1            |   1   | 1339545600 | My Cats Are Not Fans of th... |\n",
              "+------------------------+-------+------------+-------------------------------+\n",
              "+-------------------------------+-----------+\n",
              "|              Text             | sentiment |\n",
              "+-------------------------------+-----------+\n",
              "| I have bought several of t... |  Positive |\n",
              "| Product arrived labeled as... |  Negative |\n",
              "| Great taffy at a great pri... |  Positive |\n",
              "| This saltwater taffy had g... |  Positive |\n",
              "| This taffy is so good.  It... |  Positive |\n",
              "| Right now I'm mostly just ... |  Positive |\n",
              "| This is a very healthy dog... |  Positive |\n",
              "| I don't know if it's the c... |  Positive |\n",
              "| One of my boys needed to l... |  Positive |\n",
              "| My cats have been happily ... |  Negative |\n",
              "+-------------------------------+-----------+\n",
              "[190882 rows x 11 columns]\n",
              "Note: Only the head of the SFrame is printed.\n",
              "You can use print_rows(num_rows=m, num_columns=n) to print more rows and columns."
            ]
          },
          "metadata": {
            "tags": []
          },
          "execution_count": 6
        }
      ]
    },
    {
      "cell_type": "code",
      "metadata": {
        "id": "zBxjK12jkrC_",
        "colab_type": "code",
        "colab": {}
      },
      "source": [
        "# calculate 1-ngrams and 2-ngrams\n",
        "sf['words_1grams'] = tc.text_analytics.count_ngrams(sf['Summary'], n=1, method='word')\n",
        "sf['words_2grams'] = tc.text_analytics.count_ngrams(sf['Summary'], n=2, method='word')"
      ],
      "execution_count": 0,
      "outputs": []
    },
    {
      "cell_type": "code",
      "metadata": {
        "id": "n47nVvI3k2ee",
        "colab_type": "code",
        "outputId": "641d4159-f89f-48f1-eba4-c1d35364de28",
        "colab": {
          "base_uri": "https://localhost:8080/",
          "height": 867
        }
      },
      "source": [
        "train, test = sf.random_split(0.8)\n",
        "cls = tc.classifier.create(train,features=['words_1grams', 'words_2grams'], target=\"sentiment\")"
      ],
      "execution_count": 8,
      "outputs": [
        {
          "output_type": "stream",
          "text": [
            "PROGRESS: Creating a validation set from 5 percent of training data. This may take a while.\n",
            "          You can set ``validation_set=None`` to disable validation tracking.\n",
            "\n",
            "PROGRESS: The following methods are available for this type of problem.\n",
            "PROGRESS: LogisticClassifier, SVMClassifier\n",
            "PROGRESS: The returned model will be chosen according to validation accuracy.\n"
          ],
          "name": "stdout"
        },
        {
          "output_type": "display_data",
          "data": {
            "text/html": [
              "<pre>Logistic regression:</pre>"
            ],
            "text/plain": [
              "Logistic regression:"
            ]
          },
          "metadata": {
            "tags": []
          }
        },
        {
          "output_type": "display_data",
          "data": {
            "text/html": [
              "<pre>--------------------------------------------------------</pre>"
            ],
            "text/plain": [
              "--------------------------------------------------------"
            ]
          },
          "metadata": {
            "tags": []
          }
        },
        {
          "output_type": "display_data",
          "data": {
            "text/html": [
              "<pre>Number of examples          : 145083</pre>"
            ],
            "text/plain": [
              "Number of examples          : 145083"
            ]
          },
          "metadata": {
            "tags": []
          }
        },
        {
          "output_type": "display_data",
          "data": {
            "text/html": [
              "<pre>Number of classes           : 2</pre>"
            ],
            "text/plain": [
              "Number of classes           : 2"
            ]
          },
          "metadata": {
            "tags": []
          }
        },
        {
          "output_type": "display_data",
          "data": {
            "text/html": [
              "<pre>Number of feature columns   : 2</pre>"
            ],
            "text/plain": [
              "Number of feature columns   : 2"
            ]
          },
          "metadata": {
            "tags": []
          }
        },
        {
          "output_type": "display_data",
          "data": {
            "text/html": [
              "<pre>Number of unpacked features : 133722</pre>"
            ],
            "text/plain": [
              "Number of unpacked features : 133722"
            ]
          },
          "metadata": {
            "tags": []
          }
        },
        {
          "output_type": "display_data",
          "data": {
            "text/html": [
              "<pre>Number of coefficients      : 133723</pre>"
            ],
            "text/plain": [
              "Number of coefficients      : 133723"
            ]
          },
          "metadata": {
            "tags": []
          }
        },
        {
          "output_type": "display_data",
          "data": {
            "text/html": [
              "<pre>Starting L-BFGS</pre>"
            ],
            "text/plain": [
              "Starting L-BFGS"
            ]
          },
          "metadata": {
            "tags": []
          }
        },
        {
          "output_type": "display_data",
          "data": {
            "text/html": [
              "<pre>--------------------------------------------------------</pre>"
            ],
            "text/plain": [
              "--------------------------------------------------------"
            ]
          },
          "metadata": {
            "tags": []
          }
        },
        {
          "output_type": "display_data",
          "data": {
            "text/html": [
              "<pre>+-----------+----------+-----------+--------------+-------------------+---------------------+</pre>"
            ],
            "text/plain": [
              "+-----------+----------+-----------+--------------+-------------------+---------------------+"
            ]
          },
          "metadata": {
            "tags": []
          }
        },
        {
          "output_type": "display_data",
          "data": {
            "text/html": [
              "<pre>| Iteration | Passes   | Step size | Elapsed Time | Training Accuracy | Validation Accuracy |</pre>"
            ],
            "text/plain": [
              "| Iteration | Passes   | Step size | Elapsed Time | Training Accuracy | Validation Accuracy |"
            ]
          },
          "metadata": {
            "tags": []
          }
        },
        {
          "output_type": "display_data",
          "data": {
            "text/html": [
              "<pre>+-----------+----------+-----------+--------------+-------------------+---------------------+</pre>"
            ],
            "text/plain": [
              "+-----------+----------+-----------+--------------+-------------------+---------------------+"
            ]
          },
          "metadata": {
            "tags": []
          }
        },
        {
          "output_type": "display_data",
          "data": {
            "text/html": [
              "<pre>| 0         | 2        | 1.000000  | 1.231741     | 0.931853          | 0.908460            |</pre>"
            ],
            "text/plain": [
              "| 0         | 2        | 1.000000  | 1.231741     | 0.931853          | 0.908460            |"
            ]
          },
          "metadata": {
            "tags": []
          }
        },
        {
          "output_type": "display_data",
          "data": {
            "text/html": [
              "<pre>| 1         | 4        | 1.000000  | 1.534260     | 0.981163          | 0.947617            |</pre>"
            ],
            "text/plain": [
              "| 1         | 4        | 1.000000  | 1.534260     | 0.981163          | 0.947617            |"
            ]
          },
          "metadata": {
            "tags": []
          }
        },
        {
          "output_type": "display_data",
          "data": {
            "text/html": [
              "<pre>| 2         | 5        | 1.000000  | 1.734036     | 0.990805          | 0.957046            |</pre>"
            ],
            "text/plain": [
              "| 2         | 5        | 1.000000  | 1.734036     | 0.990805          | 0.957046            |"
            ]
          },
          "metadata": {
            "tags": []
          }
        },
        {
          "output_type": "display_data",
          "data": {
            "text/html": [
              "<pre>| 3         | 6        | 1.000000  | 1.929687     | 0.993742          | 0.962546            |</pre>"
            ],
            "text/plain": [
              "| 3         | 6        | 1.000000  | 1.929687     | 0.993742          | 0.962546            |"
            ]
          },
          "metadata": {
            "tags": []
          }
        },
        {
          "output_type": "display_data",
          "data": {
            "text/html": [
              "<pre>| 4         | 7        | 1.000000  | 2.136399     | 0.994582          | 0.962022            |</pre>"
            ],
            "text/plain": [
              "| 4         | 7        | 1.000000  | 2.136399     | 0.994582          | 0.962022            |"
            ]
          },
          "metadata": {
            "tags": []
          }
        },
        {
          "output_type": "display_data",
          "data": {
            "text/html": [
              "<pre>| 9         | 12       | 1.000000  | 3.124435     | 0.996126          | 0.959141            |</pre>"
            ],
            "text/plain": [
              "| 9         | 12       | 1.000000  | 3.124435     | 0.996126          | 0.959141            |"
            ]
          },
          "metadata": {
            "tags": []
          }
        },
        {
          "output_type": "display_data",
          "data": {
            "text/html": [
              "<pre>+-----------+----------+-----------+--------------+-------------------+---------------------+</pre>"
            ],
            "text/plain": [
              "+-----------+----------+-----------+--------------+-------------------+---------------------+"
            ]
          },
          "metadata": {
            "tags": []
          }
        },
        {
          "output_type": "display_data",
          "data": {
            "text/html": [
              "<pre>SVM:</pre>"
            ],
            "text/plain": [
              "SVM:"
            ]
          },
          "metadata": {
            "tags": []
          }
        },
        {
          "output_type": "display_data",
          "data": {
            "text/html": [
              "<pre>--------------------------------------------------------</pre>"
            ],
            "text/plain": [
              "--------------------------------------------------------"
            ]
          },
          "metadata": {
            "tags": []
          }
        },
        {
          "output_type": "display_data",
          "data": {
            "text/html": [
              "<pre>Number of examples          : 145083</pre>"
            ],
            "text/plain": [
              "Number of examples          : 145083"
            ]
          },
          "metadata": {
            "tags": []
          }
        },
        {
          "output_type": "display_data",
          "data": {
            "text/html": [
              "<pre>Number of classes           : 2</pre>"
            ],
            "text/plain": [
              "Number of classes           : 2"
            ]
          },
          "metadata": {
            "tags": []
          }
        },
        {
          "output_type": "display_data",
          "data": {
            "text/html": [
              "<pre>Number of feature columns   : 2</pre>"
            ],
            "text/plain": [
              "Number of feature columns   : 2"
            ]
          },
          "metadata": {
            "tags": []
          }
        },
        {
          "output_type": "display_data",
          "data": {
            "text/html": [
              "<pre>Number of unpacked features : 133722</pre>"
            ],
            "text/plain": [
              "Number of unpacked features : 133722"
            ]
          },
          "metadata": {
            "tags": []
          }
        },
        {
          "output_type": "display_data",
          "data": {
            "text/html": [
              "<pre>Number of coefficients    : 133723</pre>"
            ],
            "text/plain": [
              "Number of coefficients    : 133723"
            ]
          },
          "metadata": {
            "tags": []
          }
        },
        {
          "output_type": "display_data",
          "data": {
            "text/html": [
              "<pre>Starting L-BFGS</pre>"
            ],
            "text/plain": [
              "Starting L-BFGS"
            ]
          },
          "metadata": {
            "tags": []
          }
        },
        {
          "output_type": "display_data",
          "data": {
            "text/html": [
              "<pre>--------------------------------------------------------</pre>"
            ],
            "text/plain": [
              "--------------------------------------------------------"
            ]
          },
          "metadata": {
            "tags": []
          }
        },
        {
          "output_type": "display_data",
          "data": {
            "text/html": [
              "<pre>+-----------+----------+-----------+--------------+-------------------+---------------------+</pre>"
            ],
            "text/plain": [
              "+-----------+----------+-----------+--------------+-------------------+---------------------+"
            ]
          },
          "metadata": {
            "tags": []
          }
        },
        {
          "output_type": "display_data",
          "data": {
            "text/html": [
              "<pre>| Iteration | Passes   | Step size | Elapsed Time | Training Accuracy | Validation Accuracy |</pre>"
            ],
            "text/plain": [
              "| Iteration | Passes   | Step size | Elapsed Time | Training Accuracy | Validation Accuracy |"
            ]
          },
          "metadata": {
            "tags": []
          }
        },
        {
          "output_type": "display_data",
          "data": {
            "text/html": [
              "<pre>+-----------+----------+-----------+--------------+-------------------+---------------------+</pre>"
            ],
            "text/plain": [
              "+-----------+----------+-----------+--------------+-------------------+---------------------+"
            ]
          },
          "metadata": {
            "tags": []
          }
        },
        {
          "output_type": "display_data",
          "data": {
            "text/html": [
              "<pre>| 0         | 2        | 1.000000  | 0.242748     | 0.931853          | 0.908460            |</pre>"
            ],
            "text/plain": [
              "| 0         | 2        | 1.000000  | 0.242748     | 0.931853          | 0.908460            |"
            ]
          },
          "metadata": {
            "tags": []
          }
        },
        {
          "output_type": "display_data",
          "data": {
            "text/html": [
              "<pre>| 1         | 4        | 1.000000  | 0.525651     | 0.973911          | 0.940021            |</pre>"
            ],
            "text/plain": [
              "| 1         | 4        | 1.000000  | 0.525651     | 0.973911          | 0.940021            |"
            ]
          },
          "metadata": {
            "tags": []
          }
        },
        {
          "output_type": "display_data",
          "data": {
            "text/html": [
              "<pre>| 2         | 5        | 1.000000  | 0.712548     | 0.989434          | 0.957438            |</pre>"
            ],
            "text/plain": [
              "| 2         | 5        | 1.000000  | 0.712548     | 0.989434          | 0.957438            |"
            ]
          },
          "metadata": {
            "tags": []
          }
        },
        {
          "output_type": "display_data",
          "data": {
            "text/html": [
              "<pre>| 3         | 6        | 1.000000  | 0.894118     | 0.992632          | 0.960581            |</pre>"
            ],
            "text/plain": [
              "| 3         | 6        | 1.000000  | 0.894118     | 0.992632          | 0.960581            |"
            ]
          },
          "metadata": {
            "tags": []
          }
        },
        {
          "output_type": "display_data",
          "data": {
            "text/html": [
              "<pre>| 4         | 7        | 1.000000  | 1.078647     | 0.993948          | 0.961498            |</pre>"
            ],
            "text/plain": [
              "| 4         | 7        | 1.000000  | 1.078647     | 0.993948          | 0.961498            |"
            ]
          },
          "metadata": {
            "tags": []
          }
        },
        {
          "output_type": "display_data",
          "data": {
            "text/html": [
              "<pre>| 9         | 12       | 1.000000  | 1.993828     | 0.995575          | 0.960712            |</pre>"
            ],
            "text/plain": [
              "| 9         | 12       | 1.000000  | 1.993828     | 0.995575          | 0.960712            |"
            ]
          },
          "metadata": {
            "tags": []
          }
        },
        {
          "output_type": "display_data",
          "data": {
            "text/html": [
              "<pre>+-----------+----------+-----------+--------------+-------------------+---------------------+</pre>"
            ],
            "text/plain": [
              "+-----------+----------+-----------+--------------+-------------------+---------------------+"
            ]
          },
          "metadata": {
            "tags": []
          }
        },
        {
          "output_type": "stream",
          "text": [
            "PROGRESS: Model selection based on validation accuracy:\n",
            "PROGRESS: ---------------------------------------------\n",
            "PROGRESS: LogisticClassifier              : 0.9591409114719749\n",
            "PROGRESS: SVMClassifier                   : 0.9607124148768988\n",
            "PROGRESS: ---------------------------------------------\n",
            "PROGRESS: Selecting SVMClassifier based on validation set performance.\n"
          ],
          "name": "stdout"
        }
      ]
    },
    {
      "cell_type": "code",
      "metadata": {
        "id": "DnQ_b73Bk6dV",
        "colab_type": "code",
        "colab": {
          "base_uri": "https://localhost:8080/",
          "height": 306
        },
        "outputId": "9bf0d85f-16c7-4d7b-aeb1-1cf6c1024cf1"
      },
      "source": [
        "cls.evaluate(test)"
      ],
      "execution_count": 9,
      "outputs": [
        {
          "output_type": "execute_result",
          "data": {
            "text/plain": [
              "{'accuracy': 0.9624505411000184, 'confusion_matrix': Columns:\n",
              " \ttarget_label\tstr\n",
              " \tpredicted_label\tstr\n",
              " \tcount\tint\n",
              " \n",
              " Rows: 4\n",
              " \n",
              " Data:\n",
              " +--------------+-----------------+-------+\n",
              " | target_label | predicted_label | count |\n",
              " +--------------+-----------------+-------+\n",
              " |   Positive   |     Negative    |  425  |\n",
              " |   Negative   |     Positive    |  1008 |\n",
              " |   Positive   |     Positive    | 32996 |\n",
              " |   Negative   |     Negative    |  3734 |\n",
              " +--------------+-----------------+-------+\n",
              " [4 rows x 3 columns], 'f1_score': 0.9787467556544309, 'precision': 0.9703564286554524, 'recall': 0.9872834445408576}"
            ]
          },
          "metadata": {
            "tags": []
          },
          "execution_count": 9
        }
      ]
    },
    {
      "cell_type": "markdown",
      "metadata": {
        "id": "chKUklQQbCyL",
        "colab_type": "text"
      },
      "source": [
        "**Question 2:** Construct a sentiment classifier using features from the [TextBlob package](https://textblob.readthedocs.io/en/dev/index.html),\n",
        "    and from the [affin package](https://pypi.org/project/afinn/). Compare the two classifiers results and visualize it (however you want) (20pt)"
      ]
    },
    {
      "cell_type": "code",
      "metadata": {
        "id": "nfxAhdI7bCyM",
        "colab_type": "code",
        "outputId": "915c200c-bd2c-4722-8e40-537d8687c58f",
        "colab": {
          "base_uri": "https://localhost:8080/",
          "height": 1000
        }
      },
      "source": [
        "from afinn import Afinn\n",
        "afinn = Afinn()\n",
        "\n",
        "sf = tc.SFrame.read_csv(\"./datasets/amazon/Reviews.csv\")\n",
        "\n",
        "# remove reviews with scores different from 1 or 5\n",
        "sf = sf[(sf['Score'] == 5) | (sf['Score'] == 1)]\n",
        "\n",
        "# convert to sentiments\n",
        "def label2sentiment(label):\n",
        "    if label == 5:\n",
        "        return \"Positive\"\n",
        "    else:\n",
        "        return \"Negative\"\n",
        "\n",
        "sf['sentiment'] = sf['Score'].apply(lambda label: label2sentiment(label))\n",
        "\n",
        "# add affin score column\n",
        "sf['afinn_score'] = sf['Summary'].apply(lambda t: afinn.score(t))\n",
        "\n",
        "train_affin, test_affin = sf.random_split(0.8)"
      ],
      "execution_count": 10,
      "outputs": [
        {
          "output_type": "display_data",
          "data": {
            "text/html": [
              "<pre>Unexpected characters after last column. \"B000GW46D4\"\n",
              "Parse failed at token ending at: \n",
              "\tmyself that tastes much better than this.\"\n",
              "35360,B000GW46D4,\u001b[1;31m^\u001b[0mA1DPWQR4WSPXTM,Japri,0,0,2,1331424000,Very unsat\n",
              "Successfully parsed 10 tokens: \n",
              "\t0: 35359\n",
              "\t1: B000GW46D4\n",
              "\t2: A2Y4S4CNGKF21S\n",
              "\t3: H. Swanson\n",
              "\t4: 0\n",
              "\t5: 0\n",
              "\t6: 2\n",
              "\t7: 1332374400\n",
              "\t8: Very dry,  ... rumbly :\",\n",
              "\t9: to the poi ... is.\"\n",
              "35360</pre>"
            ],
            "text/plain": [
              "Unexpected characters after last column. \"B000GW46D4\"\n",
              "Parse failed at token ending at: \n",
              "\tmyself that tastes much better than this.\"\n",
              "35360,B000GW46D4,\u001b[1;31m^\u001b[0mA1DPWQR4WSPXTM,Japri,0,0,2,1331424000,Very unsat\n",
              "Successfully parsed 10 tokens: \n",
              "\t0: 35359\n",
              "\t1: B000GW46D4\n",
              "\t2: A2Y4S4CNGKF21S\n",
              "\t3: H. Swanson\n",
              "\t4: 0\n",
              "\t5: 0\n",
              "\t6: 2\n",
              "\t7: 1332374400\n",
              "\t8: Very dry,  ... rumbly :\",\n",
              "\t9: to the poi ... is.\"\n",
              "35360"
            ]
          },
          "metadata": {
            "tags": []
          }
        },
        {
          "output_type": "display_data",
          "data": {
            "text/html": [
              "<pre>Unexpected characters after last column. \"one of only a very few\"\n",
              "Parse failed at token ending at: \n",
              "\thile. This is a very rare hot sauce, one of only a very few,\u001b[1;31m^\u001b[0m where the actual chile is the major ingredient.\n",
              "Successfully parsed 10 tokens: \n",
              "\t0: 74275\n",
              "\t1: B005B3HKPO\n",
              "\t2: A3OC6M21K4UAQ\n",
              "\t3: tw\n",
              "\t4: 2\n",
              "\t5: 5\n",
              "\t6: 2\n",
              "\t7: 1328486400\n",
              "\t8: whats with ... is smell??\n",
              "\t9: ummm can s ... mmended!.,</pre>"
            ],
            "text/plain": [
              "Unexpected characters after last column. \"one of only a very few\"\n",
              "Parse failed at token ending at: \n",
              "\thile. This is a very rare hot sauce, one of only a very few,\u001b[1;31m^\u001b[0m where the actual chile is the major ingredient.\n",
              "Successfully parsed 10 tokens: \n",
              "\t0: 74275\n",
              "\t1: B005B3HKPO\n",
              "\t2: A3OC6M21K4UAQ\n",
              "\t3: tw\n",
              "\t4: 2\n",
              "\t5: 5\n",
              "\t6: 2\n",
              "\t7: 1328486400\n",
              "\t8: whats with ... is smell??\n",
              "\t9: ummm can s ... mmended!.,"
            ]
          },
          "metadata": {
            "tags": []
          }
        },
        {
          "output_type": "display_data",
          "data": {
            "text/html": [
              "<pre>Unexpected characters after last column. \"B000PMJLJO\"\n",
              "Parse failed at token ending at: \n",
              "\tmyself that tastes much better than this.\"\n",
              "88623,B000PMJLJO,\u001b[1;31m^\u001b[0mA1DPWQR4WSPXTM,Japri,0,0,2,1331424000,Very unsat\n",
              "Successfully parsed 10 tokens: \n",
              "\t0: 88622\n",
              "\t1: B000PMJLJO\n",
              "\t2: A2Y4S4CNGKF21S\n",
              "\t3: H. Swanson\n",
              "\t4: 0\n",
              "\t5: 0\n",
              "\t6: 2\n",
              "\t7: 1332374400\n",
              "\t8: Very dry,  ... rumbly :\",\n",
              "\t9: to the poi ... is.\"\n",
              "88623</pre>"
            ],
            "text/plain": [
              "Unexpected characters after last column. \"B000PMJLJO\"\n",
              "Parse failed at token ending at: \n",
              "\tmyself that tastes much better than this.\"\n",
              "88623,B000PMJLJO,\u001b[1;31m^\u001b[0mA1DPWQR4WSPXTM,Japri,0,0,2,1331424000,Very unsat\n",
              "Successfully parsed 10 tokens: \n",
              "\t0: 88622\n",
              "\t1: B000PMJLJO\n",
              "\t2: A2Y4S4CNGKF21S\n",
              "\t3: H. Swanson\n",
              "\t4: 0\n",
              "\t5: 0\n",
              "\t6: 2\n",
              "\t7: 1332374400\n",
              "\t8: Very dry,  ... rumbly :\",\n",
              "\t9: to the poi ... is.\"\n",
              "88623"
            ]
          },
          "metadata": {
            "tags": []
          }
        },
        {
          "output_type": "display_data",
          "data": {
            "text/html": [
              "<pre>3 lines failed to parse correctly</pre>"
            ],
            "text/plain": [
              "3 lines failed to parse correctly"
            ]
          },
          "metadata": {
            "tags": []
          }
        },
        {
          "output_type": "display_data",
          "data": {
            "text/html": [
              "<pre>Finished parsing file /content/datasets/amazon/Reviews.csv</pre>"
            ],
            "text/plain": [
              "Finished parsing file /content/datasets/amazon/Reviews.csv"
            ]
          },
          "metadata": {
            "tags": []
          }
        },
        {
          "output_type": "display_data",
          "data": {
            "text/html": [
              "<pre>Parsing completed. Parsed 100 lines in 1.08856 secs.</pre>"
            ],
            "text/plain": [
              "Parsing completed. Parsed 100 lines in 1.08856 secs."
            ]
          },
          "metadata": {
            "tags": []
          }
        },
        {
          "output_type": "stream",
          "text": [
            "------------------------------------------------------\n",
            "Inferred types from first 100 line(s) of file as \n",
            "column_type_hints=[int,str,str,str,int,int,int,int,str,str]\n",
            "If parsing fails due to incorrect types, you can correct\n",
            "the inferred type list above and pass it to read_csv in\n",
            "the column_type_hints argument\n",
            "------------------------------------------------------\n"
          ],
          "name": "stdout"
        },
        {
          "output_type": "display_data",
          "data": {
            "text/html": [
              "<pre>Unexpected characters after last column. \"B000GW46D4\"\n",
              "Parse failed at token ending at: \n",
              "\tmyself that tastes much better than this.\"\n",
              "35360,B000GW46D4,\u001b[1;31m^\u001b[0mA1DPWQR4WSPXTM,Japri,0,0,2,1331424000,Very unsat\n",
              "Successfully parsed 10 tokens: \n",
              "\t0: 35359\n",
              "\t1: B000GW46D4\n",
              "\t2: A2Y4S4CNGKF21S\n",
              "\t3: H. Swanson\n",
              "\t4: 0\n",
              "\t5: 0\n",
              "\t6: 2\n",
              "\t7: 1332374400\n",
              "\t8: \"Very dry, ... edibly dry\n",
              "\t9: to the poi ... is.\"\n",
              "35360</pre>"
            ],
            "text/plain": [
              "Unexpected characters after last column. \"B000GW46D4\"\n",
              "Parse failed at token ending at: \n",
              "\tmyself that tastes much better than this.\"\n",
              "35360,B000GW46D4,\u001b[1;31m^\u001b[0mA1DPWQR4WSPXTM,Japri,0,0,2,1331424000,Very unsat\n",
              "Successfully parsed 10 tokens: \n",
              "\t0: 35359\n",
              "\t1: B000GW46D4\n",
              "\t2: A2Y4S4CNGKF21S\n",
              "\t3: H. Swanson\n",
              "\t4: 0\n",
              "\t5: 0\n",
              "\t6: 2\n",
              "\t7: 1332374400\n",
              "\t8: \"Very dry, ... edibly dry\n",
              "\t9: to the poi ... is.\"\n",
              "35360"
            ]
          },
          "metadata": {
            "tags": []
          }
        },
        {
          "output_type": "display_data",
          "data": {
            "text/html": [
              "<pre>Unexpected characters after last column. \"one of only a very few\"\n",
              "Parse failed at token ending at: \n",
              "\thile. This is a very rare hot sauce, one of only a very few,\u001b[1;31m^\u001b[0m where the actual chile is the major ingredient.\n",
              "Successfully parsed 10 tokens: \n",
              "\t0: 74275\n",
              "\t1: B005B3HKPO\n",
              "\t2: A3OC6M21K4UAQ\n",
              "\t3: tw\n",
              "\t4: 2\n",
              "\t5: 5\n",
              "\t6: 2\n",
              "\t7: 1328486400\n",
              "\t8: whats with ... is smell??\n",
              "\t9: \"ummm can  ...  hot sauce</pre>"
            ],
            "text/plain": [
              "Unexpected characters after last column. \"one of only a very few\"\n",
              "Parse failed at token ending at: \n",
              "\thile. This is a very rare hot sauce, one of only a very few,\u001b[1;31m^\u001b[0m where the actual chile is the major ingredient.\n",
              "Successfully parsed 10 tokens: \n",
              "\t0: 74275\n",
              "\t1: B005B3HKPO\n",
              "\t2: A3OC6M21K4UAQ\n",
              "\t3: tw\n",
              "\t4: 2\n",
              "\t5: 5\n",
              "\t6: 2\n",
              "\t7: 1328486400\n",
              "\t8: whats with ... is smell??\n",
              "\t9: \"ummm can  ...  hot sauce"
            ]
          },
          "metadata": {
            "tags": []
          }
        },
        {
          "output_type": "display_data",
          "data": {
            "text/html": [
              "<pre>Unexpected characters after last column. \"B000PMJLJO\"\n",
              "Parse failed at token ending at: \n",
              "\tmyself that tastes much better than this.\"\n",
              "88623,B000PMJLJO,\u001b[1;31m^\u001b[0mA1DPWQR4WSPXTM,Japri,0,0,2,1331424000,Very unsat\n",
              "Successfully parsed 10 tokens: \n",
              "\t0: 88622\n",
              "\t1: B000PMJLJO\n",
              "\t2: A2Y4S4CNGKF21S\n",
              "\t3: H. Swanson\n",
              "\t4: 0\n",
              "\t5: 0\n",
              "\t6: 2\n",
              "\t7: 1332374400\n",
              "\t8: \"Very dry, ... edibly dry\n",
              "\t9: to the poi ... is.\"\n",
              "88623</pre>"
            ],
            "text/plain": [
              "Unexpected characters after last column. \"B000PMJLJO\"\n",
              "Parse failed at token ending at: \n",
              "\tmyself that tastes much better than this.\"\n",
              "88623,B000PMJLJO,\u001b[1;31m^\u001b[0mA1DPWQR4WSPXTM,Japri,0,0,2,1331424000,Very unsat\n",
              "Successfully parsed 10 tokens: \n",
              "\t0: 88622\n",
              "\t1: B000PMJLJO\n",
              "\t2: A2Y4S4CNGKF21S\n",
              "\t3: H. Swanson\n",
              "\t4: 0\n",
              "\t5: 0\n",
              "\t6: 2\n",
              "\t7: 1332374400\n",
              "\t8: \"Very dry, ... edibly dry\n",
              "\t9: to the poi ... is.\"\n",
              "88623"
            ]
          },
          "metadata": {
            "tags": []
          }
        },
        {
          "output_type": "display_data",
          "data": {
            "text/html": [
              "<pre>Unexpected characters after last column. \"but that awful after taste has no place in my afternoons.  Fog Chaser is flavorful but smooth. If you have had difficulty finding a good coffee for the new machines\"\n",
              "Parse failed at token ending at: \n",
              "\te had difficulty finding a good coffee for the new machines,\u001b[1;31m^\u001b[0m do give this one a try.\"\n",
              "181216,B007Y59HVM,#oc-\n",
              "Successfully parsed 10 tokens: \n",
              "\t0: 181213\n",
              "\t1: B007Y59HVM\n",
              "\t2: #oc-R3W5DW4JKJT228\n",
              "\t3: Mamaw\n",
              "\t4: 0\n",
              "\t5: 2\n",
              "\t6: 1\n",
              "\t7: 1346112000\n",
              "\t8: Disappointed\n",
              "\t9: \"I regret  ... he morning</pre>"
            ],
            "text/plain": [
              "Unexpected characters after last column. \"but that awful after taste has no place in my afternoons.  Fog Chaser is flavorful but smooth. If you have had difficulty finding a good coffee for the new machines\"\n",
              "Parse failed at token ending at: \n",
              "\te had difficulty finding a good coffee for the new machines,\u001b[1;31m^\u001b[0m do give this one a try.\"\n",
              "181216,B007Y59HVM,#oc-\n",
              "Successfully parsed 10 tokens: \n",
              "\t0: 181213\n",
              "\t1: B007Y59HVM\n",
              "\t2: #oc-R3W5DW4JKJT228\n",
              "\t3: Mamaw\n",
              "\t4: 0\n",
              "\t5: 2\n",
              "\t6: 1\n",
              "\t7: 1346112000\n",
              "\t8: Disappointed\n",
              "\t9: \"I regret  ... he morning"
            ]
          },
          "metadata": {
            "tags": []
          }
        },
        {
          "output_type": "display_data",
          "data": {
            "text/html": [
              "<pre>Read 71440 lines. Lines per second: 51746.2</pre>"
            ],
            "text/plain": [
              "Read 71440 lines. Lines per second: 51746.2"
            ]
          },
          "metadata": {
            "tags": []
          }
        },
        {
          "output_type": "display_data",
          "data": {
            "text/html": [
              "<pre>Unexpected characters after last column. \"0\"\n",
              "Parse failed at token ending at: \n",
              "\t />\\\"\n",
              "190510,B0012UEHFQ,A2788LGTSGCFA6,\"Mom of 3 \"\"sue\"\"\",0,\u001b[1;31m^\u001b[0m0,5,1329436800,She Loves Them!,I have a crazy do\n",
              "Successfully parsed 10 tokens: \n",
              "\t0: 190509\n",
              "\t1: B0012UEHFQ\n",
              "\t2: A3CR0UBHFX0NE7\n",
              "\t3: Sharee Lee Peterson\n",
              "\t4: 0\n",
              "\t5: 0\n",
              "\t6: 1\n",
              "\t7: 1330300800\n",
              "\t8: Poor Substitute\n",
              "\t9: I had prev ... of 3 \"sue\"</pre>"
            ],
            "text/plain": [
              "Unexpected characters after last column. \"0\"\n",
              "Parse failed at token ending at: \n",
              "\t />\\\"\n",
              "190510,B0012UEHFQ,A2788LGTSGCFA6,\"Mom of 3 \"\"sue\"\"\",0,\u001b[1;31m^\u001b[0m0,5,1329436800,She Loves Them!,I have a crazy do\n",
              "Successfully parsed 10 tokens: \n",
              "\t0: 190509\n",
              "\t1: B0012UEHFQ\n",
              "\t2: A3CR0UBHFX0NE7\n",
              "\t3: Sharee Lee Peterson\n",
              "\t4: 0\n",
              "\t5: 0\n",
              "\t6: 1\n",
              "\t7: 1330300800\n",
              "\t8: Poor Substitute\n",
              "\t9: I had prev ... of 3 \"sue\""
            ]
          },
          "metadata": {
            "tags": []
          }
        },
        {
          "output_type": "display_data",
          "data": {
            "text/html": [
              "<pre>Unexpected characters after last column. \"B000GW46DE\"\n",
              "Parse failed at token ending at: \n",
              "\tyself that tastes much better than this.\"\n",
              "201283,B000GW46DE,\u001b[1;31m^\u001b[0mA1DPWQR4WSPXTM,Japri,0,0,2,1331424000,Very unsat\n",
              "Successfully parsed 10 tokens: \n",
              "\t0: 201282\n",
              "\t1: B000GW46DE\n",
              "\t2: A2Y4S4CNGKF21S\n",
              "\t3: H. Swanson\n",
              "\t4: 0\n",
              "\t5: 0\n",
              "\t6: 2\n",
              "\t7: 1332374400\n",
              "\t8: \"Very dry, ... edibly dry\n",
              "\t9: to the poi ... s.\"\n",
              "201283</pre>"
            ],
            "text/plain": [
              "Unexpected characters after last column. \"B000GW46DE\"\n",
              "Parse failed at token ending at: \n",
              "\tyself that tastes much better than this.\"\n",
              "201283,B000GW46DE,\u001b[1;31m^\u001b[0mA1DPWQR4WSPXTM,Japri,0,0,2,1331424000,Very unsat\n",
              "Successfully parsed 10 tokens: \n",
              "\t0: 201282\n",
              "\t1: B000GW46DE\n",
              "\t2: A2Y4S4CNGKF21S\n",
              "\t3: H. Swanson\n",
              "\t4: 0\n",
              "\t5: 0\n",
              "\t6: 2\n",
              "\t7: 1332374400\n",
              "\t8: \"Very dry, ... edibly dry\n",
              "\t9: to the poi ... s.\"\n",
              "201283"
            ]
          },
          "metadata": {
            "tags": []
          }
        },
        {
          "output_type": "display_data",
          "data": {
            "text/html": [
              "<pre>Unexpected characters after last column. \"B000PMC7GI\"\n",
              "Parse failed at token ending at: \n",
              "\tyself that tastes much better than this.\"\n",
              "353089,B000PMC7GI,\u001b[1;31m^\u001b[0mA1DPWQR4WSPXTM,Japri,0,0,2,1331424000,Very unsat\n",
              "Successfully parsed 10 tokens: \n",
              "\t0: 353088\n",
              "\t1: B000PMC7GI\n",
              "\t2: A2Y4S4CNGKF21S\n",
              "\t3: H. Swanson\n",
              "\t4: 0\n",
              "\t5: 0\n",
              "\t6: 2\n",
              "\t7: 1332374400\n",
              "\t8: \"Very dry, ... edibly dry\n",
              "\t9: to the poi ... s.\"\n",
              "353089</pre>"
            ],
            "text/plain": [
              "Unexpected characters after last column. \"B000PMC7GI\"\n",
              "Parse failed at token ending at: \n",
              "\tyself that tastes much better than this.\"\n",
              "353089,B000PMC7GI,\u001b[1;31m^\u001b[0mA1DPWQR4WSPXTM,Japri,0,0,2,1331424000,Very unsat\n",
              "Successfully parsed 10 tokens: \n",
              "\t0: 353088\n",
              "\t1: B000PMC7GI\n",
              "\t2: A2Y4S4CNGKF21S\n",
              "\t3: H. Swanson\n",
              "\t4: 0\n",
              "\t5: 0\n",
              "\t6: 2\n",
              "\t7: 1332374400\n",
              "\t8: \"Very dry, ... edibly dry\n",
              "\t9: to the poi ... s.\"\n",
              "353089"
            ]
          },
          "metadata": {
            "tags": []
          }
        },
        {
          "output_type": "display_data",
          "data": {
            "text/html": [
              "<pre>Unexpected characters after last column. \"give it a try.  After drinking half of a bottle\"\n",
              "Parse failed at token ending at: \n",
              "\tou haven't, give it a try.  After drinking half of a bottle,\u001b[1;31m^\u001b[0m you will know it's good stuff.\"\n",
              "434576,B001SB1B\n",
              "Successfully parsed 10 tokens: \n",
              "\t0: 434574\n",
              "\t1: B002DHMX3A\n",
              "\t2: A2XNJJ9TF70P4J\n",
              "\t3: Angie\n",
              "\t4: 1\n",
              "\t5: 1\n",
              "\t6: 1\n",
              "\t7: 1307232000\n",
              "\t8: How did th ... s this up?\n",
              "\t9: \"The cerea ... ou haven't</pre>"
            ],
            "text/plain": [
              "Unexpected characters after last column. \"give it a try.  After drinking half of a bottle\"\n",
              "Parse failed at token ending at: \n",
              "\tou haven't, give it a try.  After drinking half of a bottle,\u001b[1;31m^\u001b[0m you will know it's good stuff.\"\n",
              "434576,B001SB1B\n",
              "Successfully parsed 10 tokens: \n",
              "\t0: 434574\n",
              "\t1: B002DHMX3A\n",
              "\t2: A2XNJJ9TF70P4J\n",
              "\t3: Angie\n",
              "\t4: 1\n",
              "\t5: 1\n",
              "\t6: 1\n",
              "\t7: 1307232000\n",
              "\t8: How did th ... s this up?\n",
              "\t9: \"The cerea ... ou haven't"
            ]
          },
          "metadata": {
            "tags": []
          }
        },
        {
          "output_type": "display_data",
          "data": {
            "text/html": [
              "<pre>8 lines failed to parse correctly</pre>"
            ],
            "text/plain": [
              "8 lines failed to parse correctly"
            ]
          },
          "metadata": {
            "tags": []
          }
        },
        {
          "output_type": "display_data",
          "data": {
            "text/html": [
              "<pre>Finished parsing file /content/datasets/amazon/Reviews.csv</pre>"
            ],
            "text/plain": [
              "Finished parsing file /content/datasets/amazon/Reviews.csv"
            ]
          },
          "metadata": {
            "tags": []
          }
        },
        {
          "output_type": "display_data",
          "data": {
            "text/html": [
              "<pre>Parsing completed. Parsed 260995 lines in 3.51836 secs.</pre>"
            ],
            "text/plain": [
              "Parsing completed. Parsed 260995 lines in 3.51836 secs."
            ]
          },
          "metadata": {
            "tags": []
          }
        }
      ]
    },
    {
      "cell_type": "code",
      "metadata": {
        "id": "lKiD5meZl5s0",
        "colab_type": "code",
        "outputId": "b33d8050-f95e-48f5-99f1-6ed462b4b083",
        "colab": {
          "base_uri": "https://localhost:8080/",
          "height": 340
        }
      },
      "source": [
        "cls_affin = tc.boosted_trees_classifier.create(train_affin,features=['afinn_score'], target=\"sentiment\")"
      ],
      "execution_count": 11,
      "outputs": [
        {
          "output_type": "stream",
          "text": [
            "PROGRESS: Creating a validation set from 5 percent of training data. This may take a while.\n",
            "          You can set ``validation_set=None`` to disable validation tracking.\n",
            "\n"
          ],
          "name": "stdout"
        },
        {
          "output_type": "display_data",
          "data": {
            "text/html": [
              "<pre>Boosted trees classifier:</pre>"
            ],
            "text/plain": [
              "Boosted trees classifier:"
            ]
          },
          "metadata": {
            "tags": []
          }
        },
        {
          "output_type": "display_data",
          "data": {
            "text/html": [
              "<pre>--------------------------------------------------------</pre>"
            ],
            "text/plain": [
              "--------------------------------------------------------"
            ]
          },
          "metadata": {
            "tags": []
          }
        },
        {
          "output_type": "display_data",
          "data": {
            "text/html": [
              "<pre>Number of examples          : 144618</pre>"
            ],
            "text/plain": [
              "Number of examples          : 144618"
            ]
          },
          "metadata": {
            "tags": []
          }
        },
        {
          "output_type": "display_data",
          "data": {
            "text/html": [
              "<pre>Number of classes           : 2</pre>"
            ],
            "text/plain": [
              "Number of classes           : 2"
            ]
          },
          "metadata": {
            "tags": []
          }
        },
        {
          "output_type": "display_data",
          "data": {
            "text/html": [
              "<pre>Number of feature columns   : 1</pre>"
            ],
            "text/plain": [
              "Number of feature columns   : 1"
            ]
          },
          "metadata": {
            "tags": []
          }
        },
        {
          "output_type": "display_data",
          "data": {
            "text/html": [
              "<pre>Number of unpacked features : 1</pre>"
            ],
            "text/plain": [
              "Number of unpacked features : 1"
            ]
          },
          "metadata": {
            "tags": []
          }
        },
        {
          "output_type": "display_data",
          "data": {
            "text/html": [
              "<pre>+-----------+--------------+-------------------+---------------------+-------------------+---------------------+</pre>"
            ],
            "text/plain": [
              "+-----------+--------------+-------------------+---------------------+-------------------+---------------------+"
            ]
          },
          "metadata": {
            "tags": []
          }
        },
        {
          "output_type": "display_data",
          "data": {
            "text/html": [
              "<pre>| Iteration | Elapsed Time | Training Accuracy | Validation Accuracy | Training Log Loss | Validation Log Loss |</pre>"
            ],
            "text/plain": [
              "| Iteration | Elapsed Time | Training Accuracy | Validation Accuracy | Training Log Loss | Validation Log Loss |"
            ]
          },
          "metadata": {
            "tags": []
          }
        },
        {
          "output_type": "display_data",
          "data": {
            "text/html": [
              "<pre>+-----------+--------------+-------------------+---------------------+-------------------+---------------------+</pre>"
            ],
            "text/plain": [
              "+-----------+--------------+-------------------+---------------------+-------------------+---------------------+"
            ]
          },
          "metadata": {
            "tags": []
          }
        },
        {
          "output_type": "display_data",
          "data": {
            "text/html": [
              "<pre>| 1         | 0.049378     | 0.902972          | 0.904756            | 0.517123          | 0.515980            |</pre>"
            ],
            "text/plain": [
              "| 1         | 0.049378     | 0.902972          | 0.904756            | 0.517123          | 0.515980            |"
            ]
          },
          "metadata": {
            "tags": []
          }
        },
        {
          "output_type": "display_data",
          "data": {
            "text/html": [
              "<pre>| 2         | 0.098422     | 0.902972          | 0.904756            | 0.422078          | 0.420004            |</pre>"
            ],
            "text/plain": [
              "| 2         | 0.098422     | 0.902972          | 0.904756            | 0.422078          | 0.420004            |"
            ]
          },
          "metadata": {
            "tags": []
          }
        },
        {
          "output_type": "display_data",
          "data": {
            "text/html": [
              "<pre>| 3         | 0.148247     | 0.902972          | 0.904756            | 0.364944          | 0.362093            |</pre>"
            ],
            "text/plain": [
              "| 3         | 0.148247     | 0.902972          | 0.904756            | 0.364944          | 0.362093            |"
            ]
          },
          "metadata": {
            "tags": []
          }
        },
        {
          "output_type": "display_data",
          "data": {
            "text/html": [
              "<pre>| 4         | 0.201125     | 0.902972          | 0.904756            | 0.328926          | 0.325406            |</pre>"
            ],
            "text/plain": [
              "| 4         | 0.201125     | 0.902972          | 0.904756            | 0.328926          | 0.325406            |"
            ]
          },
          "metadata": {
            "tags": []
          }
        },
        {
          "output_type": "display_data",
          "data": {
            "text/html": [
              "<pre>| 5         | 0.256724     | 0.902972          | 0.904756            | 0.305641          | 0.301543            |</pre>"
            ],
            "text/plain": [
              "| 5         | 0.256724     | 0.902972          | 0.904756            | 0.305641          | 0.301543            |"
            ]
          },
          "metadata": {
            "tags": []
          }
        },
        {
          "output_type": "display_data",
          "data": {
            "text/html": [
              "<pre>| 10        | 0.501450     | 0.902972          | 0.904756            | 0.266545          | 0.260544            |</pre>"
            ],
            "text/plain": [
              "| 10        | 0.501450     | 0.902972          | 0.904756            | 0.266545          | 0.260544            |"
            ]
          },
          "metadata": {
            "tags": []
          }
        },
        {
          "output_type": "display_data",
          "data": {
            "text/html": [
              "<pre>+-----------+--------------+-------------------+---------------------+-------------------+---------------------+</pre>"
            ],
            "text/plain": [
              "+-----------+--------------+-------------------+---------------------+-------------------+---------------------+"
            ]
          },
          "metadata": {
            "tags": []
          }
        }
      ]
    },
    {
      "cell_type": "code",
      "metadata": {
        "id": "LXgKnrrSPbqt",
        "colab_type": "code",
        "colab": {
          "base_uri": "https://localhost:8080/",
          "height": 765
        },
        "outputId": "d2009da1-8f0d-49c8-df50-89938188eca7"
      },
      "source": [
        "ev_affin = cls_affin.evaluate(test_affin)\n",
        "print(ev_affin)"
      ],
      "execution_count": 12,
      "outputs": [
        {
          "output_type": "stream",
          "text": [
            "{'accuracy': 0.9016609748525303, 'auc': 0.8424890307345122, 'confusion_matrix': Columns:\n",
            "\ttarget_label\tstr\n",
            "\tpredicted_label\tstr\n",
            "\tcount\tint\n",
            "\n",
            "Rows: 4\n",
            "\n",
            "Data:\n",
            "+--------------+-----------------+-------+\n",
            "| target_label | predicted_label | count |\n",
            "+--------------+-----------------+-------+\n",
            "|   Negative   |     Negative    |  1452 |\n",
            "|   Positive   |     Negative    |  450  |\n",
            "|   Negative   |     Positive    |  3351 |\n",
            "|   Positive   |     Positive    | 33399 |\n",
            "+--------------+-----------------+-------+\n",
            "[4 rows x 3 columns]\n",
            ", 'f1_score': 0.94616071049165, 'log_loss': 0.269229808636381, 'precision': 0.9088163265306123, 'recall': 0.986705663387397, 'roc_curve': Columns:\n",
            "\tthreshold\tfloat\n",
            "\tfpr\tfloat\n",
            "\ttpr\tfloat\n",
            "\tp\tint\n",
            "\tn\tint\n",
            "\n",
            "Rows: 100001\n",
            "\n",
            "Data:\n",
            "+-----------+-----+-----+-------+------+\n",
            "| threshold | fpr | tpr |   p   |  n   |\n",
            "+-----------+-----+-----+-------+------+\n",
            "|    0.0    | 1.0 | 1.0 | 33849 | 4803 |\n",
            "|   1e-05   | 1.0 | 1.0 | 33849 | 4803 |\n",
            "|   2e-05   | 1.0 | 1.0 | 33849 | 4803 |\n",
            "|   3e-05   | 1.0 | 1.0 | 33849 | 4803 |\n",
            "|   4e-05   | 1.0 | 1.0 | 33849 | 4803 |\n",
            "|   5e-05   | 1.0 | 1.0 | 33849 | 4803 |\n",
            "|   6e-05   | 1.0 | 1.0 | 33849 | 4803 |\n",
            "|   7e-05   | 1.0 | 1.0 | 33849 | 4803 |\n",
            "|   8e-05   | 1.0 | 1.0 | 33849 | 4803 |\n",
            "|   9e-05   | 1.0 | 1.0 | 33849 | 4803 |\n",
            "+-----------+-----+-----+-------+------+\n",
            "[100001 rows x 5 columns]\n",
            "Note: Only the head of the SFrame is printed.\n",
            "You can use print_rows(num_rows=m, num_columns=n) to print more rows and columns.}\n"
          ],
          "name": "stdout"
        }
      ]
    },
    {
      "cell_type": "code",
      "metadata": {
        "id": "Mj68OJ_jjwX2",
        "colab_type": "code",
        "colab": {
          "base_uri": "https://localhost:8080/",
          "height": 306
        },
        "outputId": "352aab39-5134-486b-e6f8-5068dbb0255c"
      },
      "source": [
        "!pip install -U textblob\n",
        "!python -m textblob.download_corpora"
      ],
      "execution_count": 19,
      "outputs": [
        {
          "output_type": "stream",
          "text": [
            "Requirement already up-to-date: textblob in /usr/local/lib/python3.6/dist-packages (0.15.3)\n",
            "Requirement already satisfied, skipping upgrade: nltk>=3.1 in /usr/local/lib/python3.6/dist-packages (from textblob) (3.2.5)\n",
            "Requirement already satisfied, skipping upgrade: six in /usr/local/lib/python3.6/dist-packages (from nltk>=3.1->textblob) (1.12.0)\n",
            "[nltk_data] Downloading package brown to /root/nltk_data...\n",
            "[nltk_data]   Unzipping corpora/brown.zip.\n",
            "[nltk_data] Downloading package punkt to /root/nltk_data...\n",
            "[nltk_data]   Unzipping tokenizers/punkt.zip.\n",
            "[nltk_data] Downloading package wordnet to /root/nltk_data...\n",
            "[nltk_data]   Unzipping corpora/wordnet.zip.\n",
            "[nltk_data] Downloading package averaged_perceptron_tagger to\n",
            "[nltk_data]     /root/nltk_data...\n",
            "[nltk_data]   Unzipping taggers/averaged_perceptron_tagger.zip.\n",
            "[nltk_data] Downloading package conll2000 to /root/nltk_data...\n",
            "[nltk_data]   Unzipping corpora/conll2000.zip.\n",
            "[nltk_data] Downloading package movie_reviews to /root/nltk_data...\n",
            "[nltk_data]   Unzipping corpora/movie_reviews.zip.\n",
            "Finished.\n"
          ],
          "name": "stdout"
        }
      ]
    },
    {
      "cell_type": "code",
      "metadata": {
        "id": "0-h8VyaJmBla",
        "colab_type": "code",
        "colab": {
          "base_uri": "https://localhost:8080/",
          "height": 1000
        },
        "outputId": "b6d8ad05-baec-4678-d994-244a6dce05ee"
      },
      "source": [
        "from textblob import TextBlob\n",
        "\n",
        "# add word_count column\n",
        "sf['word_count'] = sf['Summary'].apply(lambda t: len(TextBlob(t).words))\n",
        "# add setntiments columns\n",
        "sf['polar'] = sf['Summary'].apply(lambda t: TextBlob(t).sentiment.polarity)\n",
        "sf['subj'] = sf['Summary'].apply(lambda t: TextBlob(t).sentiment.subjectivity)\n",
        "sf"
      ],
      "execution_count": 33,
      "outputs": [
        {
          "output_type": "execute_result",
          "data": {
            "text/html": [
              "<div style=\"max-height:1000px;max-width:1500px;overflow:auto;\"><table frame=\"box\" rules=\"cols\">\n",
              "    <tr>\n",
              "        <th style=\"padding-left: 1em; padding-right: 1em; text-align: center\">Id</th>\n",
              "        <th style=\"padding-left: 1em; padding-right: 1em; text-align: center\">ProductId</th>\n",
              "        <th style=\"padding-left: 1em; padding-right: 1em; text-align: center\">UserId</th>\n",
              "        <th style=\"padding-left: 1em; padding-right: 1em; text-align: center\">ProfileName</th>\n",
              "        <th style=\"padding-left: 1em; padding-right: 1em; text-align: center\">HelpfulnessNumerator</th>\n",
              "        <th style=\"padding-left: 1em; padding-right: 1em; text-align: center\">HelpfulnessDenominator</th>\n",
              "        <th style=\"padding-left: 1em; padding-right: 1em; text-align: center\">Score</th>\n",
              "    </tr>\n",
              "    <tr>\n",
              "        <td style=\"padding-left: 1em; padding-right: 1em; text-align: center; vertical-align: top\">1</td>\n",
              "        <td style=\"padding-left: 1em; padding-right: 1em; text-align: center; vertical-align: top\">B001E4KFG0</td>\n",
              "        <td style=\"padding-left: 1em; padding-right: 1em; text-align: center; vertical-align: top\">A3SGXH7AUHU8GW</td>\n",
              "        <td style=\"padding-left: 1em; padding-right: 1em; text-align: center; vertical-align: top\">delmartian</td>\n",
              "        <td style=\"padding-left: 1em; padding-right: 1em; text-align: center; vertical-align: top\">1</td>\n",
              "        <td style=\"padding-left: 1em; padding-right: 1em; text-align: center; vertical-align: top\">1</td>\n",
              "        <td style=\"padding-left: 1em; padding-right: 1em; text-align: center; vertical-align: top\">5</td>\n",
              "    </tr>\n",
              "    <tr>\n",
              "        <td style=\"padding-left: 1em; padding-right: 1em; text-align: center; vertical-align: top\">2</td>\n",
              "        <td style=\"padding-left: 1em; padding-right: 1em; text-align: center; vertical-align: top\">B00813GRG4</td>\n",
              "        <td style=\"padding-left: 1em; padding-right: 1em; text-align: center; vertical-align: top\">A1D87F6ZCVE5NK</td>\n",
              "        <td style=\"padding-left: 1em; padding-right: 1em; text-align: center; vertical-align: top\">dll pa</td>\n",
              "        <td style=\"padding-left: 1em; padding-right: 1em; text-align: center; vertical-align: top\">0</td>\n",
              "        <td style=\"padding-left: 1em; padding-right: 1em; text-align: center; vertical-align: top\">0</td>\n",
              "        <td style=\"padding-left: 1em; padding-right: 1em; text-align: center; vertical-align: top\">1</td>\n",
              "    </tr>\n",
              "    <tr>\n",
              "        <td style=\"padding-left: 1em; padding-right: 1em; text-align: center; vertical-align: top\">5</td>\n",
              "        <td style=\"padding-left: 1em; padding-right: 1em; text-align: center; vertical-align: top\">B006K2ZZ7K</td>\n",
              "        <td style=\"padding-left: 1em; padding-right: 1em; text-align: center; vertical-align: top\">A1UQRSCLF8GW1T</td>\n",
              "        <td style=\"padding-left: 1em; padding-right: 1em; text-align: center; vertical-align: top\">Michael D. Bigham &quot;M.<br>Wassir&quot; ...</td>\n",
              "        <td style=\"padding-left: 1em; padding-right: 1em; text-align: center; vertical-align: top\">0</td>\n",
              "        <td style=\"padding-left: 1em; padding-right: 1em; text-align: center; vertical-align: top\">0</td>\n",
              "        <td style=\"padding-left: 1em; padding-right: 1em; text-align: center; vertical-align: top\">5</td>\n",
              "    </tr>\n",
              "    <tr>\n",
              "        <td style=\"padding-left: 1em; padding-right: 1em; text-align: center; vertical-align: top\">7</td>\n",
              "        <td style=\"padding-left: 1em; padding-right: 1em; text-align: center; vertical-align: top\">B006K2ZZ7K</td>\n",
              "        <td style=\"padding-left: 1em; padding-right: 1em; text-align: center; vertical-align: top\">A1SP2KVKFXXRU1</td>\n",
              "        <td style=\"padding-left: 1em; padding-right: 1em; text-align: center; vertical-align: top\">David C. Sullivan</td>\n",
              "        <td style=\"padding-left: 1em; padding-right: 1em; text-align: center; vertical-align: top\">0</td>\n",
              "        <td style=\"padding-left: 1em; padding-right: 1em; text-align: center; vertical-align: top\">0</td>\n",
              "        <td style=\"padding-left: 1em; padding-right: 1em; text-align: center; vertical-align: top\">5</td>\n",
              "    </tr>\n",
              "    <tr>\n",
              "        <td style=\"padding-left: 1em; padding-right: 1em; text-align: center; vertical-align: top\">8</td>\n",
              "        <td style=\"padding-left: 1em; padding-right: 1em; text-align: center; vertical-align: top\">B006K2ZZ7K</td>\n",
              "        <td style=\"padding-left: 1em; padding-right: 1em; text-align: center; vertical-align: top\">A3JRGQVEQN31IQ</td>\n",
              "        <td style=\"padding-left: 1em; padding-right: 1em; text-align: center; vertical-align: top\">Pamela G. Williams</td>\n",
              "        <td style=\"padding-left: 1em; padding-right: 1em; text-align: center; vertical-align: top\">0</td>\n",
              "        <td style=\"padding-left: 1em; padding-right: 1em; text-align: center; vertical-align: top\">0</td>\n",
              "        <td style=\"padding-left: 1em; padding-right: 1em; text-align: center; vertical-align: top\">5</td>\n",
              "    </tr>\n",
              "    <tr>\n",
              "        <td style=\"padding-left: 1em; padding-right: 1em; text-align: center; vertical-align: top\">9</td>\n",
              "        <td style=\"padding-left: 1em; padding-right: 1em; text-align: center; vertical-align: top\">B000E7L2R4</td>\n",
              "        <td style=\"padding-left: 1em; padding-right: 1em; text-align: center; vertical-align: top\">A1MZYO9TZK0BBI</td>\n",
              "        <td style=\"padding-left: 1em; padding-right: 1em; text-align: center; vertical-align: top\">R. James</td>\n",
              "        <td style=\"padding-left: 1em; padding-right: 1em; text-align: center; vertical-align: top\">1</td>\n",
              "        <td style=\"padding-left: 1em; padding-right: 1em; text-align: center; vertical-align: top\">1</td>\n",
              "        <td style=\"padding-left: 1em; padding-right: 1em; text-align: center; vertical-align: top\">5</td>\n",
              "    </tr>\n",
              "    <tr>\n",
              "        <td style=\"padding-left: 1em; padding-right: 1em; text-align: center; vertical-align: top\">10</td>\n",
              "        <td style=\"padding-left: 1em; padding-right: 1em; text-align: center; vertical-align: top\">B00171APVA</td>\n",
              "        <td style=\"padding-left: 1em; padding-right: 1em; text-align: center; vertical-align: top\">A21BT40VZCCYT4</td>\n",
              "        <td style=\"padding-left: 1em; padding-right: 1em; text-align: center; vertical-align: top\">Carol A. Reed</td>\n",
              "        <td style=\"padding-left: 1em; padding-right: 1em; text-align: center; vertical-align: top\">0</td>\n",
              "        <td style=\"padding-left: 1em; padding-right: 1em; text-align: center; vertical-align: top\">0</td>\n",
              "        <td style=\"padding-left: 1em; padding-right: 1em; text-align: center; vertical-align: top\">5</td>\n",
              "    </tr>\n",
              "    <tr>\n",
              "        <td style=\"padding-left: 1em; padding-right: 1em; text-align: center; vertical-align: top\">11</td>\n",
              "        <td style=\"padding-left: 1em; padding-right: 1em; text-align: center; vertical-align: top\">B0001PB9FE</td>\n",
              "        <td style=\"padding-left: 1em; padding-right: 1em; text-align: center; vertical-align: top\">A3HDKO7OW0QNK4</td>\n",
              "        <td style=\"padding-left: 1em; padding-right: 1em; text-align: center; vertical-align: top\">Canadian Fan</td>\n",
              "        <td style=\"padding-left: 1em; padding-right: 1em; text-align: center; vertical-align: top\">1</td>\n",
              "        <td style=\"padding-left: 1em; padding-right: 1em; text-align: center; vertical-align: top\">1</td>\n",
              "        <td style=\"padding-left: 1em; padding-right: 1em; text-align: center; vertical-align: top\">5</td>\n",
              "    </tr>\n",
              "    <tr>\n",
              "        <td style=\"padding-left: 1em; padding-right: 1em; text-align: center; vertical-align: top\">12</td>\n",
              "        <td style=\"padding-left: 1em; padding-right: 1em; text-align: center; vertical-align: top\">B0009XLVG0</td>\n",
              "        <td style=\"padding-left: 1em; padding-right: 1em; text-align: center; vertical-align: top\">A2725IB4YY9JEB</td>\n",
              "        <td style=\"padding-left: 1em; padding-right: 1em; text-align: center; vertical-align: top\">A Poeng &quot;SparkyGoHome&quot;</td>\n",
              "        <td style=\"padding-left: 1em; padding-right: 1em; text-align: center; vertical-align: top\">4</td>\n",
              "        <td style=\"padding-left: 1em; padding-right: 1em; text-align: center; vertical-align: top\">4</td>\n",
              "        <td style=\"padding-left: 1em; padding-right: 1em; text-align: center; vertical-align: top\">5</td>\n",
              "    </tr>\n",
              "    <tr>\n",
              "        <td style=\"padding-left: 1em; padding-right: 1em; text-align: center; vertical-align: top\">13</td>\n",
              "        <td style=\"padding-left: 1em; padding-right: 1em; text-align: center; vertical-align: top\">B0009XLVG0</td>\n",
              "        <td style=\"padding-left: 1em; padding-right: 1em; text-align: center; vertical-align: top\">A327PCT23YH90</td>\n",
              "        <td style=\"padding-left: 1em; padding-right: 1em; text-align: center; vertical-align: top\">LT</td>\n",
              "        <td style=\"padding-left: 1em; padding-right: 1em; text-align: center; vertical-align: top\">1</td>\n",
              "        <td style=\"padding-left: 1em; padding-right: 1em; text-align: center; vertical-align: top\">1</td>\n",
              "        <td style=\"padding-left: 1em; padding-right: 1em; text-align: center; vertical-align: top\">1</td>\n",
              "    </tr>\n",
              "</table>\n",
              "<table frame=\"box\" rules=\"cols\">\n",
              "    <tr>\n",
              "        <th style=\"padding-left: 1em; padding-right: 1em; text-align: center\">Time</th>\n",
              "        <th style=\"padding-left: 1em; padding-right: 1em; text-align: center\">Summary</th>\n",
              "        <th style=\"padding-left: 1em; padding-right: 1em; text-align: center\">Text</th>\n",
              "        <th style=\"padding-left: 1em; padding-right: 1em; text-align: center\">sentiment</th>\n",
              "        <th style=\"padding-left: 1em; padding-right: 1em; text-align: center\">afinn_score</th>\n",
              "        <th style=\"padding-left: 1em; padding-right: 1em; text-align: center\">word_count</th>\n",
              "    </tr>\n",
              "    <tr>\n",
              "        <td style=\"padding-left: 1em; padding-right: 1em; text-align: center; vertical-align: top\">1303862400</td>\n",
              "        <td style=\"padding-left: 1em; padding-right: 1em; text-align: center; vertical-align: top\">Good Quality Dog Food</td>\n",
              "        <td style=\"padding-left: 1em; padding-right: 1em; text-align: center; vertical-align: top\">I have bought several of<br>the Vitality canned dog ...</td>\n",
              "        <td style=\"padding-left: 1em; padding-right: 1em; text-align: center; vertical-align: top\">Positive</td>\n",
              "        <td style=\"padding-left: 1em; padding-right: 1em; text-align: center; vertical-align: top\">5.0</td>\n",
              "        <td style=\"padding-left: 1em; padding-right: 1em; text-align: center; vertical-align: top\">4</td>\n",
              "    </tr>\n",
              "    <tr>\n",
              "        <td style=\"padding-left: 1em; padding-right: 1em; text-align: center; vertical-align: top\">1346976000</td>\n",
              "        <td style=\"padding-left: 1em; padding-right: 1em; text-align: center; vertical-align: top\">Not as Advertised</td>\n",
              "        <td style=\"padding-left: 1em; padding-right: 1em; text-align: center; vertical-align: top\">Product arrived labeled<br>as Jumbo Salted ...</td>\n",
              "        <td style=\"padding-left: 1em; padding-right: 1em; text-align: center; vertical-align: top\">Negative</td>\n",
              "        <td style=\"padding-left: 1em; padding-right: 1em; text-align: center; vertical-align: top\">0.0</td>\n",
              "        <td style=\"padding-left: 1em; padding-right: 1em; text-align: center; vertical-align: top\">3</td>\n",
              "    </tr>\n",
              "    <tr>\n",
              "        <td style=\"padding-left: 1em; padding-right: 1em; text-align: center; vertical-align: top\">1350777600</td>\n",
              "        <td style=\"padding-left: 1em; padding-right: 1em; text-align: center; vertical-align: top\">Great taffy</td>\n",
              "        <td style=\"padding-left: 1em; padding-right: 1em; text-align: center; vertical-align: top\">Great taffy at a great<br>price.  There was a wide ...</td>\n",
              "        <td style=\"padding-left: 1em; padding-right: 1em; text-align: center; vertical-align: top\">Positive</td>\n",
              "        <td style=\"padding-left: 1em; padding-right: 1em; text-align: center; vertical-align: top\">3.0</td>\n",
              "        <td style=\"padding-left: 1em; padding-right: 1em; text-align: center; vertical-align: top\">2</td>\n",
              "    </tr>\n",
              "    <tr>\n",
              "        <td style=\"padding-left: 1em; padding-right: 1em; text-align: center; vertical-align: top\">1340150400</td>\n",
              "        <td style=\"padding-left: 1em; padding-right: 1em; text-align: center; vertical-align: top\">Great!  Just as good as<br>the expensive brands! ...</td>\n",
              "        <td style=\"padding-left: 1em; padding-right: 1em; text-align: center; vertical-align: top\">This saltwater taffy had<br>great flavors and was ...</td>\n",
              "        <td style=\"padding-left: 1em; padding-right: 1em; text-align: center; vertical-align: top\">Positive</td>\n",
              "        <td style=\"padding-left: 1em; padding-right: 1em; text-align: center; vertical-align: top\">6.0</td>\n",
              "        <td style=\"padding-left: 1em; padding-right: 1em; text-align: center; vertical-align: top\">8</td>\n",
              "    </tr>\n",
              "    <tr>\n",
              "        <td style=\"padding-left: 1em; padding-right: 1em; text-align: center; vertical-align: top\">1336003200</td>\n",
              "        <td style=\"padding-left: 1em; padding-right: 1em; text-align: center; vertical-align: top\">Wonderful, tasty taffy</td>\n",
              "        <td style=\"padding-left: 1em; padding-right: 1em; text-align: center; vertical-align: top\">This taffy is so good.<br>It is very soft and ...</td>\n",
              "        <td style=\"padding-left: 1em; padding-right: 1em; text-align: center; vertical-align: top\">Positive</td>\n",
              "        <td style=\"padding-left: 1em; padding-right: 1em; text-align: center; vertical-align: top\">4.0</td>\n",
              "        <td style=\"padding-left: 1em; padding-right: 1em; text-align: center; vertical-align: top\">3</td>\n",
              "    </tr>\n",
              "    <tr>\n",
              "        <td style=\"padding-left: 1em; padding-right: 1em; text-align: center; vertical-align: top\">1322006400</td>\n",
              "        <td style=\"padding-left: 1em; padding-right: 1em; text-align: center; vertical-align: top\">Yay Barley</td>\n",
              "        <td style=\"padding-left: 1em; padding-right: 1em; text-align: center; vertical-align: top\">Right now I&#x27;m mostly just<br>sprouting this so my  ...</td>\n",
              "        <td style=\"padding-left: 1em; padding-right: 1em; text-align: center; vertical-align: top\">Positive</td>\n",
              "        <td style=\"padding-left: 1em; padding-right: 1em; text-align: center; vertical-align: top\">0.0</td>\n",
              "        <td style=\"padding-left: 1em; padding-right: 1em; text-align: center; vertical-align: top\">2</td>\n",
              "    </tr>\n",
              "    <tr>\n",
              "        <td style=\"padding-left: 1em; padding-right: 1em; text-align: center; vertical-align: top\">1351209600</td>\n",
              "        <td style=\"padding-left: 1em; padding-right: 1em; text-align: center; vertical-align: top\">Healthy Dog Food</td>\n",
              "        <td style=\"padding-left: 1em; padding-right: 1em; text-align: center; vertical-align: top\">This is a very healthy<br>dog food. Good for their ...</td>\n",
              "        <td style=\"padding-left: 1em; padding-right: 1em; text-align: center; vertical-align: top\">Positive</td>\n",
              "        <td style=\"padding-left: 1em; padding-right: 1em; text-align: center; vertical-align: top\">2.0</td>\n",
              "        <td style=\"padding-left: 1em; padding-right: 1em; text-align: center; vertical-align: top\">3</td>\n",
              "    </tr>\n",
              "    <tr>\n",
              "        <td style=\"padding-left: 1em; padding-right: 1em; text-align: center; vertical-align: top\">1107820800</td>\n",
              "        <td style=\"padding-left: 1em; padding-right: 1em; text-align: center; vertical-align: top\">The Best Hot Sauce in the<br>World ...</td>\n",
              "        <td style=\"padding-left: 1em; padding-right: 1em; text-align: center; vertical-align: top\">I don&#x27;t know if it&#x27;s the<br>cactus or the tequila or ...</td>\n",
              "        <td style=\"padding-left: 1em; padding-right: 1em; text-align: center; vertical-align: top\">Positive</td>\n",
              "        <td style=\"padding-left: 1em; padding-right: 1em; text-align: center; vertical-align: top\">3.0</td>\n",
              "        <td style=\"padding-left: 1em; padding-right: 1em; text-align: center; vertical-align: top\">7</td>\n",
              "    </tr>\n",
              "    <tr>\n",
              "        <td style=\"padding-left: 1em; padding-right: 1em; text-align: center; vertical-align: top\">1282867200</td>\n",
              "        <td style=\"padding-left: 1em; padding-right: 1em; text-align: center; vertical-align: top\">My cats LOVE this &quot;diet&quot;<br>food better than their ...</td>\n",
              "        <td style=\"padding-left: 1em; padding-right: 1em; text-align: center; vertical-align: top\">One of my boys needed to<br>lose some weight and the ...</td>\n",
              "        <td style=\"padding-left: 1em; padding-right: 1em; text-align: center; vertical-align: top\">Positive</td>\n",
              "        <td style=\"padding-left: 1em; padding-right: 1em; text-align: center; vertical-align: top\">5.0</td>\n",
              "        <td style=\"padding-left: 1em; padding-right: 1em; text-align: center; vertical-align: top\">11</td>\n",
              "    </tr>\n",
              "    <tr>\n",
              "        <td style=\"padding-left: 1em; padding-right: 1em; text-align: center; vertical-align: top\">1339545600</td>\n",
              "        <td style=\"padding-left: 1em; padding-right: 1em; text-align: center; vertical-align: top\">My Cats Are Not Fans of<br>the New Food ...</td>\n",
              "        <td style=\"padding-left: 1em; padding-right: 1em; text-align: center; vertical-align: top\">My cats have been happily<br>eating Felidae Platinum ...</td>\n",
              "        <td style=\"padding-left: 1em; padding-right: 1em; text-align: center; vertical-align: top\">Negative</td>\n",
              "        <td style=\"padding-left: 1em; padding-right: 1em; text-align: center; vertical-align: top\">0.0</td>\n",
              "        <td style=\"padding-left: 1em; padding-right: 1em; text-align: center; vertical-align: top\">9</td>\n",
              "    </tr>\n",
              "</table>\n",
              "<table frame=\"box\" rules=\"cols\">\n",
              "    <tr>\n",
              "        <th style=\"padding-left: 1em; padding-right: 1em; text-align: center\">2grams</th>\n",
              "        <th style=\"padding-left: 1em; padding-right: 1em; text-align: center\">polarity</th>\n",
              "        <th style=\"padding-left: 1em; padding-right: 1em; text-align: center\">subjectivity</th>\n",
              "        <th style=\"padding-left: 1em; padding-right: 1em; text-align: center\">polar</th>\n",
              "        <th style=\"padding-left: 1em; padding-right: 1em; text-align: center\">subj</th>\n",
              "    </tr>\n",
              "    <tr>\n",
              "        <td style=\"padding-left: 1em; padding-right: 1em; text-align: center; vertical-align: top\">[[[G, o, o, d], [Q, u, a,<br>l, i, t, y]], [[Q, u, a, ...</td>\n",
              "        <td style=\"padding-left: 1em; padding-right: 1em; text-align: center; vertical-align: top\">0.7</td>\n",
              "        <td style=\"padding-left: 1em; padding-right: 1em; text-align: center; vertical-align: top\">0.6000000000000001</td>\n",
              "        <td style=\"padding-left: 1em; padding-right: 1em; text-align: center; vertical-align: top\">0.7</td>\n",
              "        <td style=\"padding-left: 1em; padding-right: 1em; text-align: center; vertical-align: top\">0.6000000000000001</td>\n",
              "    </tr>\n",
              "    <tr>\n",
              "        <td style=\"padding-left: 1em; padding-right: 1em; text-align: center; vertical-align: top\">[[[N, o, t], [a, s]],<br>[[a, s], [A, d, v, e, r, ...</td>\n",
              "        <td style=\"padding-left: 1em; padding-right: 1em; text-align: center; vertical-align: top\">0.0</td>\n",
              "        <td style=\"padding-left: 1em; padding-right: 1em; text-align: center; vertical-align: top\">0.0</td>\n",
              "        <td style=\"padding-left: 1em; padding-right: 1em; text-align: center; vertical-align: top\">0.0</td>\n",
              "        <td style=\"padding-left: 1em; padding-right: 1em; text-align: center; vertical-align: top\">0.0</td>\n",
              "    </tr>\n",
              "    <tr>\n",
              "        <td style=\"padding-left: 1em; padding-right: 1em; text-align: center; vertical-align: top\">[[[G, r, e, a, t], [t, a,<br>f, f, y]]] ...</td>\n",
              "        <td style=\"padding-left: 1em; padding-right: 1em; text-align: center; vertical-align: top\">0.8</td>\n",
              "        <td style=\"padding-left: 1em; padding-right: 1em; text-align: center; vertical-align: top\">0.75</td>\n",
              "        <td style=\"padding-left: 1em; padding-right: 1em; text-align: center; vertical-align: top\">0.8</td>\n",
              "        <td style=\"padding-left: 1em; padding-right: 1em; text-align: center; vertical-align: top\">0.75</td>\n",
              "    </tr>\n",
              "    <tr>\n",
              "        <td style=\"padding-left: 1em; padding-right: 1em; text-align: center; vertical-align: top\">[[[G, r, e, a, t], [J, u,<br>s, t]], [[J, u, s, t], ...</td>\n",
              "        <td style=\"padding-left: 1em; padding-right: 1em; text-align: center; vertical-align: top\">0.35833333333333334</td>\n",
              "        <td style=\"padding-left: 1em; padding-right: 1em; text-align: center; vertical-align: top\">0.6833333333333332</td>\n",
              "        <td style=\"padding-left: 1em; padding-right: 1em; text-align: center; vertical-align: top\">0.35833333333333334</td>\n",
              "        <td style=\"padding-left: 1em; padding-right: 1em; text-align: center; vertical-align: top\">0.6833333333333332</td>\n",
              "    </tr>\n",
              "    <tr>\n",
              "        <td style=\"padding-left: 1em; padding-right: 1em; text-align: center; vertical-align: top\">[[[W, o, n, d, e, r, f,<br>u, l], [t, a, s, t, y]], ...</td>\n",
              "        <td style=\"padding-left: 1em; padding-right: 1em; text-align: center; vertical-align: top\">1.0</td>\n",
              "        <td style=\"padding-left: 1em; padding-right: 1em; text-align: center; vertical-align: top\">1.0</td>\n",
              "        <td style=\"padding-left: 1em; padding-right: 1em; text-align: center; vertical-align: top\">1.0</td>\n",
              "        <td style=\"padding-left: 1em; padding-right: 1em; text-align: center; vertical-align: top\">1.0</td>\n",
              "    </tr>\n",
              "    <tr>\n",
              "        <td style=\"padding-left: 1em; padding-right: 1em; text-align: center; vertical-align: top\">[[[Y, a, y], [B, a, r, l,<br>e, y]]] ...</td>\n",
              "        <td style=\"padding-left: 1em; padding-right: 1em; text-align: center; vertical-align: top\">0.0</td>\n",
              "        <td style=\"padding-left: 1em; padding-right: 1em; text-align: center; vertical-align: top\">0.0</td>\n",
              "        <td style=\"padding-left: 1em; padding-right: 1em; text-align: center; vertical-align: top\">0.0</td>\n",
              "        <td style=\"padding-left: 1em; padding-right: 1em; text-align: center; vertical-align: top\">0.0</td>\n",
              "    </tr>\n",
              "    <tr>\n",
              "        <td style=\"padding-left: 1em; padding-right: 1em; text-align: center; vertical-align: top\">[[[H, e, a, l, t, h, y],<br>[D, o, g]], [[D, o, g], ...</td>\n",
              "        <td style=\"padding-left: 1em; padding-right: 1em; text-align: center; vertical-align: top\">0.5</td>\n",
              "        <td style=\"padding-left: 1em; padding-right: 1em; text-align: center; vertical-align: top\">0.5</td>\n",
              "        <td style=\"padding-left: 1em; padding-right: 1em; text-align: center; vertical-align: top\">0.5</td>\n",
              "        <td style=\"padding-left: 1em; padding-right: 1em; text-align: center; vertical-align: top\">0.5</td>\n",
              "    </tr>\n",
              "    <tr>\n",
              "        <td style=\"padding-left: 1em; padding-right: 1em; text-align: center; vertical-align: top\">[[[T, h, e], [B, e, s,<br>t]], [[B, e, s, t], [H, ...</td>\n",
              "        <td style=\"padding-left: 1em; padding-right: 1em; text-align: center; vertical-align: top\">0.625</td>\n",
              "        <td style=\"padding-left: 1em; padding-right: 1em; text-align: center; vertical-align: top\">0.5750000000000001</td>\n",
              "        <td style=\"padding-left: 1em; padding-right: 1em; text-align: center; vertical-align: top\">0.625</td>\n",
              "        <td style=\"padding-left: 1em; padding-right: 1em; text-align: center; vertical-align: top\">0.5750000000000001</td>\n",
              "    </tr>\n",
              "    <tr>\n",
              "        <td style=\"padding-left: 1em; padding-right: 1em; text-align: center; vertical-align: top\">[[[M, y], [c, a, t, s]],<br>[[c, a, t, s], [L, O, V, ...</td>\n",
              "        <td style=\"padding-left: 1em; padding-right: 1em; text-align: center; vertical-align: top\">0.3333333333333333</td>\n",
              "        <td style=\"padding-left: 1em; padding-right: 1em; text-align: center; vertical-align: top\">0.3923076923076923</td>\n",
              "        <td style=\"padding-left: 1em; padding-right: 1em; text-align: center; vertical-align: top\">0.3333333333333333</td>\n",
              "        <td style=\"padding-left: 1em; padding-right: 1em; text-align: center; vertical-align: top\">0.3923076923076923</td>\n",
              "    </tr>\n",
              "    <tr>\n",
              "        <td style=\"padding-left: 1em; padding-right: 1em; text-align: center; vertical-align: top\">[[[M, y], [C, a, t, s]],<br>[[C, a, t, s], [A, r, ...</td>\n",
              "        <td style=\"padding-left: 1em; padding-right: 1em; text-align: center; vertical-align: top\">0.13636363636363635</td>\n",
              "        <td style=\"padding-left: 1em; padding-right: 1em; text-align: center; vertical-align: top\">0.45454545454545453</td>\n",
              "        <td style=\"padding-left: 1em; padding-right: 1em; text-align: center; vertical-align: top\">0.13636363636363635</td>\n",
              "        <td style=\"padding-left: 1em; padding-right: 1em; text-align: center; vertical-align: top\">0.45454545454545453</td>\n",
              "    </tr>\n",
              "</table>\n",
              "[190882 rows x 18 columns]<br/>Note: Only the head of the SFrame is printed.<br/>You can use print_rows(num_rows=m, num_columns=n) to print more rows and columns.\n",
              "</div>"
            ],
            "text/plain": [
              "Columns:\n",
              "\tId\tint\n",
              "\tProductId\tstr\n",
              "\tUserId\tstr\n",
              "\tProfileName\tstr\n",
              "\tHelpfulnessNumerator\tint\n",
              "\tHelpfulnessDenominator\tint\n",
              "\tScore\tint\n",
              "\tTime\tint\n",
              "\tSummary\tstr\n",
              "\tText\tstr\n",
              "\tsentiment\tstr\n",
              "\tafinn_score\tfloat\n",
              "\tword_count\tint\n",
              "\t2grams\tlist\n",
              "\tpolarity\tfloat\n",
              "\tsubjectivity\tfloat\n",
              "\tpolar\tfloat\n",
              "\tsubj\tfloat\n",
              "\n",
              "Rows: 190882\n",
              "\n",
              "Data:\n",
              "+----+------------+----------------+-------------------------------+----------------------+\n",
              "| Id | ProductId  |     UserId     |          ProfileName          | HelpfulnessNumerator |\n",
              "+----+------------+----------------+-------------------------------+----------------------+\n",
              "| 1  | B001E4KFG0 | A3SGXH7AUHU8GW |           delmartian          |          1           |\n",
              "| 2  | B00813GRG4 | A1D87F6ZCVE5NK |             dll pa            |          0           |\n",
              "| 5  | B006K2ZZ7K | A1UQRSCLF8GW1T | Michael D. Bigham \"M. Wassir\" |          0           |\n",
              "| 7  | B006K2ZZ7K | A1SP2KVKFXXRU1 |       David C. Sullivan       |          0           |\n",
              "| 8  | B006K2ZZ7K | A3JRGQVEQN31IQ |       Pamela G. Williams      |          0           |\n",
              "| 9  | B000E7L2R4 | A1MZYO9TZK0BBI |            R. James           |          1           |\n",
              "| 10 | B00171APVA | A21BT40VZCCYT4 |         Carol A. Reed         |          0           |\n",
              "| 11 | B0001PB9FE | A3HDKO7OW0QNK4 |          Canadian Fan         |          1           |\n",
              "| 12 | B0009XLVG0 | A2725IB4YY9JEB |     A Poeng \"SparkyGoHome\"    |          4           |\n",
              "| 13 | B0009XLVG0 | A327PCT23YH90  |               LT              |          1           |\n",
              "+----+------------+----------------+-------------------------------+----------------------+\n",
              "+------------------------+-------+------------+-------------------------------+\n",
              "| HelpfulnessDenominator | Score |    Time    |            Summary            |\n",
              "+------------------------+-------+------------+-------------------------------+\n",
              "|           1            |   5   | 1303862400 |     Good Quality Dog Food     |\n",
              "|           0            |   1   | 1346976000 |       Not as Advertised       |\n",
              "|           0            |   5   | 1350777600 |          Great taffy          |\n",
              "|           0            |   5   | 1340150400 | Great!  Just as good as th... |\n",
              "|           0            |   5   | 1336003200 |     Wonderful, tasty taffy    |\n",
              "|           1            |   5   | 1322006400 |           Yay Barley          |\n",
              "|           0            |   5   | 1351209600 |        Healthy Dog Food       |\n",
              "|           1            |   5   | 1107820800 | The Best Hot Sauce in the ... |\n",
              "|           4            |   5   | 1282867200 | My cats LOVE this \"diet\" f... |\n",
              "|           1            |   1   | 1339545600 | My Cats Are Not Fans of th... |\n",
              "+------------------------+-------+------------+-------------------------------+\n",
              "+-------------------------------+-----------+-------------+------------+\n",
              "|              Text             | sentiment | afinn_score | word_count |\n",
              "+-------------------------------+-----------+-------------+------------+\n",
              "| I have bought several of t... |  Positive |     5.0     |     4      |\n",
              "| Product arrived labeled as... |  Negative |     0.0     |     3      |\n",
              "| Great taffy at a great pri... |  Positive |     3.0     |     2      |\n",
              "| This saltwater taffy had g... |  Positive |     6.0     |     8      |\n",
              "| This taffy is so good.  It... |  Positive |     4.0     |     3      |\n",
              "| Right now I'm mostly just ... |  Positive |     0.0     |     2      |\n",
              "| This is a very healthy dog... |  Positive |     2.0     |     3      |\n",
              "| I don't know if it's the c... |  Positive |     3.0     |     7      |\n",
              "| One of my boys needed to l... |  Positive |     5.0     |     11     |\n",
              "| My cats have been happily ... |  Negative |     0.0     |     9      |\n",
              "+-------------------------------+-----------+-------------+------------+\n",
              "+-------------------------------+---------------------+---------------------+\n",
              "|             2grams            |       polarity      |     subjectivity    |\n",
              "+-------------------------------+---------------------+---------------------+\n",
              "| [[[G, o, o, d], [Q, u, a, ... |         0.7         |  0.6000000000000001 |\n",
              "| [[[N, o, t], [a, s]], [[a,... |         0.0         |         0.0         |\n",
              "| [[[G, r, e, a, t], [t, a, ... |         0.8         |         0.75        |\n",
              "| [[[G, r, e, a, t], [J, u, ... | 0.35833333333333334 |  0.6833333333333332 |\n",
              "| [[[W, o, n, d, e, r, f, u,... |         1.0         |         1.0         |\n",
              "| [[[Y, a, y], [B, a, r, l, ... |         0.0         |         0.0         |\n",
              "| [[[H, e, a, l, t, h, y], [... |         0.5         |         0.5         |\n",
              "| [[[T, h, e], [B, e, s, t]]... |        0.625        |  0.5750000000000001 |\n",
              "| [[[M, y], [c, a, t, s]], [... |  0.3333333333333333 |  0.3923076923076923 |\n",
              "| [[[M, y], [C, a, t, s]], [... | 0.13636363636363635 | 0.45454545454545453 |\n",
              "+-------------------------------+---------------------+---------------------+\n",
              "+---------------------+---------------------+\n",
              "|        polar        |         subj        |\n",
              "+---------------------+---------------------+\n",
              "|         0.7         |  0.6000000000000001 |\n",
              "|         0.0         |         0.0         |\n",
              "|         0.8         |         0.75        |\n",
              "| 0.35833333333333334 |  0.6833333333333332 |\n",
              "|         1.0         |         1.0         |\n",
              "|         0.0         |         0.0         |\n",
              "|         0.5         |         0.5         |\n",
              "|        0.625        |  0.5750000000000001 |\n",
              "|  0.3333333333333333 |  0.3923076923076923 |\n",
              "| 0.13636363636363635 | 0.45454545454545453 |\n",
              "+---------------------+---------------------+\n",
              "[190882 rows x 18 columns]\n",
              "Note: Only the head of the SFrame is printed.\n",
              "You can use print_rows(num_rows=m, num_columns=n) to print more rows and columns."
            ]
          },
          "metadata": {
            "tags": []
          },
          "execution_count": 33
        }
      ]
    },
    {
      "cell_type": "code",
      "metadata": {
        "id": "kryZHGosoAM7",
        "colab_type": "code",
        "colab": {}
      },
      "source": [
        ""
      ],
      "execution_count": 0,
      "outputs": []
    },
    {
      "cell_type": "code",
      "metadata": {
        "id": "8r0avR4Hot_E",
        "colab_type": "code",
        "colab": {
          "base_uri": "https://localhost:8080/",
          "height": 340
        },
        "outputId": "aff67689-5a4a-4a2b-fd86-09f0ac912185"
      },
      "source": [
        "textblob_train, textblob_test = sf.random_split(0.8)\n",
        "cls_textblob = tc.boosted_trees_classifier.create(textblob_train,features=['subj', 'polar', 'word_count'], target=\"sentiment\")"
      ],
      "execution_count": 36,
      "outputs": [
        {
          "output_type": "stream",
          "text": [
            "PROGRESS: Creating a validation set from 5 percent of training data. This may take a while.\n",
            "          You can set ``validation_set=None`` to disable validation tracking.\n",
            "\n"
          ],
          "name": "stdout"
        },
        {
          "output_type": "display_data",
          "data": {
            "text/html": [
              "<pre>Boosted trees classifier:</pre>"
            ],
            "text/plain": [
              "Boosted trees classifier:"
            ]
          },
          "metadata": {
            "tags": []
          }
        },
        {
          "output_type": "display_data",
          "data": {
            "text/html": [
              "<pre>--------------------------------------------------------</pre>"
            ],
            "text/plain": [
              "--------------------------------------------------------"
            ]
          },
          "metadata": {
            "tags": []
          }
        },
        {
          "output_type": "display_data",
          "data": {
            "text/html": [
              "<pre>Number of examples          : 145186</pre>"
            ],
            "text/plain": [
              "Number of examples          : 145186"
            ]
          },
          "metadata": {
            "tags": []
          }
        },
        {
          "output_type": "display_data",
          "data": {
            "text/html": [
              "<pre>Number of classes           : 2</pre>"
            ],
            "text/plain": [
              "Number of classes           : 2"
            ]
          },
          "metadata": {
            "tags": []
          }
        },
        {
          "output_type": "display_data",
          "data": {
            "text/html": [
              "<pre>Number of feature columns   : 3</pre>"
            ],
            "text/plain": [
              "Number of feature columns   : 3"
            ]
          },
          "metadata": {
            "tags": []
          }
        },
        {
          "output_type": "display_data",
          "data": {
            "text/html": [
              "<pre>Number of unpacked features : 3</pre>"
            ],
            "text/plain": [
              "Number of unpacked features : 3"
            ]
          },
          "metadata": {
            "tags": []
          }
        },
        {
          "output_type": "display_data",
          "data": {
            "text/html": [
              "<pre>+-----------+--------------+-------------------+---------------------+-------------------+---------------------+</pre>"
            ],
            "text/plain": [
              "+-----------+--------------+-------------------+---------------------+-------------------+---------------------+"
            ]
          },
          "metadata": {
            "tags": []
          }
        },
        {
          "output_type": "display_data",
          "data": {
            "text/html": [
              "<pre>| Iteration | Elapsed Time | Training Accuracy | Validation Accuracy | Training Log Loss | Validation Log Loss |</pre>"
            ],
            "text/plain": [
              "| Iteration | Elapsed Time | Training Accuracy | Validation Accuracy | Training Log Loss | Validation Log Loss |"
            ]
          },
          "metadata": {
            "tags": []
          }
        },
        {
          "output_type": "display_data",
          "data": {
            "text/html": [
              "<pre>+-----------+--------------+-------------------+---------------------+-------------------+---------------------+</pre>"
            ],
            "text/plain": [
              "+-----------+--------------+-------------------+---------------------+-------------------+---------------------+"
            ]
          },
          "metadata": {
            "tags": []
          }
        },
        {
          "output_type": "display_data",
          "data": {
            "text/html": [
              "<pre>| 1         | 0.086370     | 0.903992          | 0.904083            | 0.516121          | 0.515780            |</pre>"
            ],
            "text/plain": [
              "| 1         | 0.086370     | 0.903992          | 0.904083            | 0.516121          | 0.515780            |"
            ]
          },
          "metadata": {
            "tags": []
          }
        },
        {
          "output_type": "display_data",
          "data": {
            "text/html": [
              "<pre>| 2         | 0.162201     | 0.904316          | 0.904606            | 0.420234          | 0.419217            |</pre>"
            ],
            "text/plain": [
              "| 2         | 0.162201     | 0.904316          | 0.904606            | 0.420234          | 0.419217            |"
            ]
          },
          "metadata": {
            "tags": []
          }
        },
        {
          "output_type": "display_data",
          "data": {
            "text/html": [
              "<pre>| 3         | 0.237877     | 0.904474          | 0.905391            | 0.362218          | 0.360675            |</pre>"
            ],
            "text/plain": [
              "| 3         | 0.237877     | 0.904474          | 0.905391            | 0.362218          | 0.360675            |"
            ]
          },
          "metadata": {
            "tags": []
          }
        },
        {
          "output_type": "display_data",
          "data": {
            "text/html": [
              "<pre>| 4         | 0.316723     | 0.904426          | 0.904999            | 0.325389          | 0.323413            |</pre>"
            ],
            "text/plain": [
              "| 4         | 0.316723     | 0.904426          | 0.904999            | 0.325389          | 0.323413            |"
            ]
          },
          "metadata": {
            "tags": []
          }
        },
        {
          "output_type": "display_data",
          "data": {
            "text/html": [
              "<pre>| 5         | 0.398442     | 0.904991          | 0.905522            | 0.301156          | 0.298701            |</pre>"
            ],
            "text/plain": [
              "| 5         | 0.398442     | 0.904991          | 0.905522            | 0.301156          | 0.298701            |"
            ]
          },
          "metadata": {
            "tags": []
          }
        },
        {
          "output_type": "display_data",
          "data": {
            "text/html": [
              "<pre>| 10        | 0.796503     | 0.905404          | 0.906176            | 0.257226          | 0.254186            |</pre>"
            ],
            "text/plain": [
              "| 10        | 0.796503     | 0.905404          | 0.906176            | 0.257226          | 0.254186            |"
            ]
          },
          "metadata": {
            "tags": []
          }
        },
        {
          "output_type": "display_data",
          "data": {
            "text/html": [
              "<pre>+-----------+--------------+-------------------+---------------------+-------------------+---------------------+</pre>"
            ],
            "text/plain": [
              "+-----------+--------------+-------------------+---------------------+-------------------+---------------------+"
            ]
          },
          "metadata": {
            "tags": []
          }
        }
      ]
    },
    {
      "cell_type": "code",
      "metadata": {
        "id": "UNLzQsYuqmNX",
        "colab_type": "code",
        "colab": {
          "base_uri": "https://localhost:8080/",
          "height": 765
        },
        "outputId": "2186a7fa-e0a5-4563-a660-d94490349e07"
      },
      "source": [
        "ev_textblob = cls_textblob.evaluate(textblob_test)\n",
        "print(ev_textblob)"
      ],
      "execution_count": 37,
      "outputs": [
        {
          "output_type": "stream",
          "text": [
            "{'accuracy': 0.9040573921269774, 'auc': 0.8578329016503534, 'confusion_matrix': Columns:\n",
            "\ttarget_label\tstr\n",
            "\tpredicted_label\tstr\n",
            "\tcount\tint\n",
            "\n",
            "Rows: 4\n",
            "\n",
            "Data:\n",
            "+--------------+-----------------+-------+\n",
            "| target_label | predicted_label | count |\n",
            "+--------------+-----------------+-------+\n",
            "|   Positive   |     Negative    |  331  |\n",
            "|   Negative   |     Negative    |  1348 |\n",
            "|   Positive   |     Positive    | 33055 |\n",
            "|   Negative   |     Positive    |  3320 |\n",
            "+--------------+-----------------+-------+\n",
            "[4 rows x 3 columns]\n",
            ", 'f1_score': 0.9476641676581471, 'log_loss': 0.26014776023957537, 'precision': 0.9087285223367697, 'recall': 0.9900856646498533, 'roc_curve': Columns:\n",
            "\tthreshold\tfloat\n",
            "\tfpr\tfloat\n",
            "\ttpr\tfloat\n",
            "\tp\tint\n",
            "\tn\tint\n",
            "\n",
            "Rows: 100001\n",
            "\n",
            "Data:\n",
            "+-----------+-----+-----+-------+------+\n",
            "| threshold | fpr | tpr |   p   |  n   |\n",
            "+-----------+-----+-----+-------+------+\n",
            "|    0.0    | 1.0 | 1.0 | 33386 | 4668 |\n",
            "|   1e-05   | 1.0 | 1.0 | 33386 | 4668 |\n",
            "|   2e-05   | 1.0 | 1.0 | 33386 | 4668 |\n",
            "|   3e-05   | 1.0 | 1.0 | 33386 | 4668 |\n",
            "|   4e-05   | 1.0 | 1.0 | 33386 | 4668 |\n",
            "|   5e-05   | 1.0 | 1.0 | 33386 | 4668 |\n",
            "|   6e-05   | 1.0 | 1.0 | 33386 | 4668 |\n",
            "|   7e-05   | 1.0 | 1.0 | 33386 | 4668 |\n",
            "|   8e-05   | 1.0 | 1.0 | 33386 | 4668 |\n",
            "|   9e-05   | 1.0 | 1.0 | 33386 | 4668 |\n",
            "+-----------+-----+-----+-------+------+\n",
            "[100001 rows x 5 columns]\n",
            "Note: Only the head of the SFrame is printed.\n",
            "You can use print_rows(num_rows=m, num_columns=n) to print more rows and columns.}\n"
          ],
          "name": "stdout"
        }
      ]
    },
    {
      "cell_type": "code",
      "metadata": {
        "id": "sI1ajEpJmvDt",
        "colab_type": "code",
        "outputId": "b7b9af9a-649a-4e89-9929-de765259bb14",
        "colab": {
          "base_uri": "https://localhost:8080/",
          "height": 299
        }
      },
      "source": [
        "import matplotlib.pyplot as plt\n",
        "%matplotlib inline\n",
        "\n",
        "# we will compare the two classifiers by their roc curve.\n",
        "# as we already saw from the eval report, the classifer *without* affin yielded \n",
        "# better score.\n",
        "plt.style.use('ggplot')\n",
        "plt.plot(ev_affin['roc_curve']['fpr'],\n",
        "         ev_affin['roc_curve']['tpr'],\n",
        "         color ='cornflowerblue',\n",
        "         label='Affin (area = %0.2f)' %ev_affin['auc'], linewidth=3)\n",
        "plt.plot(ev_textblob['roc_curve']['fpr'],\n",
        "         ev_textblob['roc_curve']['tpr'],\n",
        "         color='green',\n",
        "         label='TextBlob (area = %0.2f)' %ev_textblob['auc'],linewidth=3)\n",
        "plt.xlim([0.0, 1.0])\n",
        "plt.ylim([0.0, 1.05])\n",
        "plt.xlabel('False Positive Rate')\n",
        "plt.ylabel('True Positive Rate')\n",
        "plt.legend()\n",
        "plt.title('ROC curve')\n",
        "plt.show()"
      ],
      "execution_count": 38,
      "outputs": [
        {
          "output_type": "display_data",
          "data": {
            "image/png": "[encoded data removed]",
            "text/plain": [
              "<Figure size 432x288 with 1 Axes>"
            ]
          },
          "metadata": {
            "tags": []
          }
        }
      ]
    },
    {
      "cell_type": "markdown",
      "metadata": {
        "id": "GklKQldybCyP",
        "colab_type": "text"
      },
      "source": [
        "**Question 3:**  Select a different reviews dataset and create a sentiment classifier which utilizes word embeddings (25pt).\n",
        "Evaluate this classifier (5pt). Try to improve your classifier by adding additional features (20pt)"
      ]
    },
    {
      "cell_type": "code",
      "metadata": {
        "colab_type": "code",
        "outputId": "f684ecfe-71d7-469a-9715-f2fd1fc80cb6",
        "id": "25mQHQgu6JZv",
        "colab": {
          "base_uri": "https://localhost:8080/",
          "height": 221
        }
      },
      "source": [
        "!mkdir ./datasets/hotels\n",
        "\n",
        "# download the dataset from Kaggle and unzip it\n",
        "!kaggle datasets download datafiniti/hotel-reviews -p ./datasets/hotels\n",
        "!unzip ./datasets/hotels/*.zip  -d ./datasets/hotels\n",
        "! ls -l ./datasets/hotels"
      ],
      "execution_count": 0,
      "outputs": [
        {
          "output_type": "stream",
          "text": [
            "Downloading hotel-reviews.zip to ./datasets/hotels\n",
            "  0% 0.00/13.1M [00:00<?, ?B/s]\n",
            "100% 13.1M/13.1M [00:00<00:00, 121MB/s]\n",
            "Archive:  ./datasets/hotels/hotel-reviews.zip\n",
            "  inflating: ./datasets/hotels/7282_1.csv  \n",
            "  inflating: ./datasets/hotels/Datafiniti_Hotel_Reviews.csv  \n",
            "  inflating: ./datasets/hotels/Datafiniti_Hotel_Reviews_Jun19.csv  \n",
            "total 199488\n",
            "-rw-r--r-- 1 root root  16548391 Sep 20  2019 7282_1.csv\n",
            "-rw-r--r-- 1 root root  49564735 Sep 20  2019 Datafiniti_Hotel_Reviews.csv\n",
            "-rw-r--r-- 1 root root 124452060 Sep 20  2019 Datafiniti_Hotel_Reviews_Jun19.csv\n",
            "-rw-r--r-- 1 root root  13705194 May 12 18:05 hotel-reviews.zip\n"
          ],
          "name": "stdout"
        }
      ]
    },
    {
      "cell_type": "code",
      "metadata": {
        "id": "MgS9j6eRbCyQ",
        "colab_type": "code",
        "outputId": "40590dea-9639-4b83-927d-650134d91670",
        "colab": {
          "base_uri": "https://localhost:8080/",
          "height": 428
        }
      },
      "source": [
        "import spacy\n",
        "!python -m spacy download en_core_web_lg # Important! you need to restart runtime after install\n",
        "nlp = spacy.load('en_core_web_lg')"
      ],
      "execution_count": 0,
      "outputs": [
        {
          "output_type": "stream",
          "text": [
            "Requirement already satisfied: en_core_web_lg==2.2.5 from https://github.com/explosion/spacy-models/releases/download/en_core_web_lg-2.2.5/en_core_web_lg-2.2.5.tar.gz#egg=en_core_web_lg==2.2.5 in /usr/local/lib/python3.6/dist-packages (2.2.5)\n",
            "Requirement already satisfied: spacy>=2.2.2 in /usr/local/lib/python3.6/dist-packages (from en_core_web_lg==2.2.5) (2.2.4)\n",
            "Requirement already satisfied: murmurhash<1.1.0,>=0.28.0 in /usr/local/lib/python3.6/dist-packages (from spacy>=2.2.2->en_core_web_lg==2.2.5) (1.0.2)\n",
            "Requirement already satisfied: cymem<2.1.0,>=2.0.2 in /usr/local/lib/python3.6/dist-packages (from spacy>=2.2.2->en_core_web_lg==2.2.5) (2.0.3)\n",
            "Requirement already satisfied: blis<0.5.0,>=0.4.0 in /usr/local/lib/python3.6/dist-packages (from spacy>=2.2.2->en_core_web_lg==2.2.5) (0.4.1)\n",
            "Requirement already satisfied: wasabi<1.1.0,>=0.4.0 in /usr/local/lib/python3.6/dist-packages (from spacy>=2.2.2->en_core_web_lg==2.2.5) (0.6.0)\n",
            "Requirement already satisfied: numpy>=1.15.0 in /usr/local/lib/python3.6/dist-packages (from spacy>=2.2.2->en_core_web_lg==2.2.5) (1.18.4)\n",
            "Requirement already satisfied: requests<3.0.0,>=2.13.0 in /usr/local/lib/python3.6/dist-packages (from spacy>=2.2.2->en_core_web_lg==2.2.5) (2.23.0)\n",
            "Requirement already satisfied: thinc==7.4.0 in /usr/local/lib/python3.6/dist-packages (from spacy>=2.2.2->en_core_web_lg==2.2.5) (7.4.0)\n",
            "Requirement already satisfied: setuptools in /usr/local/lib/python3.6/dist-packages (from spacy>=2.2.2->en_core_web_lg==2.2.5) (46.1.3)\n",
            "Requirement already satisfied: catalogue<1.1.0,>=0.0.7 in /usr/local/lib/python3.6/dist-packages (from spacy>=2.2.2->en_core_web_lg==2.2.5) (1.0.0)\n",
            "Requirement already satisfied: plac<1.2.0,>=0.9.6 in /usr/local/lib/python3.6/dist-packages (from spacy>=2.2.2->en_core_web_lg==2.2.5) (1.1.3)\n",
            "Requirement already satisfied: tqdm<5.0.0,>=4.38.0 in /usr/local/lib/python3.6/dist-packages (from spacy>=2.2.2->en_core_web_lg==2.2.5) (4.41.1)\n",
            "Requirement already satisfied: preshed<3.1.0,>=3.0.2 in /usr/local/lib/python3.6/dist-packages (from spacy>=2.2.2->en_core_web_lg==2.2.5) (3.0.2)\n",
            "Requirement already satisfied: srsly<1.1.0,>=1.0.2 in /usr/local/lib/python3.6/dist-packages (from spacy>=2.2.2->en_core_web_lg==2.2.5) (1.0.2)\n",
            "Requirement already satisfied: urllib3!=1.25.0,!=1.25.1,<1.26,>=1.21.1 in /usr/local/lib/python3.6/dist-packages (from requests<3.0.0,>=2.13.0->spacy>=2.2.2->en_core_web_lg==2.2.5) (1.24.3)\n",
            "Requirement already satisfied: idna<3,>=2.5 in /usr/local/lib/python3.6/dist-packages (from requests<3.0.0,>=2.13.0->spacy>=2.2.2->en_core_web_lg==2.2.5) (2.9)\n",
            "Requirement already satisfied: chardet<4,>=3.0.2 in /usr/local/lib/python3.6/dist-packages (from requests<3.0.0,>=2.13.0->spacy>=2.2.2->en_core_web_lg==2.2.5) (3.0.4)\n",
            "Requirement already satisfied: certifi>=2017.4.17 in /usr/local/lib/python3.6/dist-packages (from requests<3.0.0,>=2.13.0->spacy>=2.2.2->en_core_web_lg==2.2.5) (2020.4.5.1)\n",
            "Requirement already satisfied: importlib-metadata>=0.20; python_version < \"3.8\" in /usr/local/lib/python3.6/dist-packages (from catalogue<1.1.0,>=0.0.7->spacy>=2.2.2->en_core_web_lg==2.2.5) (1.6.0)\n",
            "Requirement already satisfied: zipp>=0.5 in /usr/local/lib/python3.6/dist-packages (from importlib-metadata>=0.20; python_version < \"3.8\"->catalogue<1.1.0,>=0.0.7->spacy>=2.2.2->en_core_web_lg==2.2.5) (3.1.0)\n",
            "\u001b[38;5;2m✔ Download and installation successful\u001b[0m\n",
            "You can now load the model via spacy.load('en_core_web_lg')\n"
          ],
          "name": "stdout"
        }
      ]
    },
    {
      "cell_type": "code",
      "metadata": {
        "id": "NHv-djQkCJzn",
        "colab_type": "code",
        "outputId": "e57015fa-4a54-4944-95b4-585c30648369",
        "colab": {
          "base_uri": "https://localhost:8080/",
          "height": 221
        }
      },
      "source": [
        "import turicreate as tc\n",
        "\n",
        "sf = tc.SFrame.read_csv(\"./datasets/hotels/Datafiniti_Hotel_Reviews_Jun19.csv\")\n",
        "\n",
        "sf = sf[(sf['reviews.rating'] <=1) | (sf['reviews.rating'] >= 5)]\n",
        "\n",
        "def points2sentiment(points):\n",
        "    if points >= 5:\n",
        "        return \"Positive\"\n",
        "    else:\n",
        "        return \"Negative\"\n",
        "\n",
        "sf['sentiment'] = sf['reviews.rating'].apply(lambda points: points2sentiment(points))"
      ],
      "execution_count": 0,
      "outputs": [
        {
          "output_type": "display_data",
          "data": {
            "text/html": [
              "<pre>Finished parsing file /content/datasets/hotels/Datafiniti_Hotel_Reviews_Jun19.csv</pre>"
            ],
            "text/plain": [
              "Finished parsing file /content/datasets/hotels/Datafiniti_Hotel_Reviews_Jun19.csv"
            ]
          },
          "metadata": {
            "tags": []
          }
        },
        {
          "output_type": "display_data",
          "data": {
            "text/html": [
              "<pre>Parsing completed. Parsed 100 lines in 1.01452 secs.</pre>"
            ],
            "text/plain": [
              "Parsing completed. Parsed 100 lines in 1.01452 secs."
            ]
          },
          "metadata": {
            "tags": []
          }
        },
        {
          "output_type": "stream",
          "text": [
            "------------------------------------------------------\n",
            "Inferred types from first 100 line(s) of file as \n",
            "column_type_hints=[str,str,str,str,str,str,str,str,str,float,float,str,int,str,str,str,str,int,str,str,str,str,str,str,str,str]\n",
            "If parsing fails due to incorrect types, you can correct\n",
            "the inferred type list above and pass it to read_csv in\n",
            "the column_type_hints argument\n",
            "------------------------------------------------------\n"
          ],
          "name": "stdout"
        },
        {
          "output_type": "display_data",
          "data": {
            "text/html": [
              "<pre>Read 4219 lines. Lines per second: 3456.21</pre>"
            ],
            "text/plain": [
              "Read 4219 lines. Lines per second: 3456.21"
            ]
          },
          "metadata": {
            "tags": []
          }
        },
        {
          "output_type": "display_data",
          "data": {
            "text/html": [
              "<pre>Finished parsing file /content/datasets/hotels/Datafiniti_Hotel_Reviews_Jun19.csv</pre>"
            ],
            "text/plain": [
              "Finished parsing file /content/datasets/hotels/Datafiniti_Hotel_Reviews_Jun19.csv"
            ]
          },
          "metadata": {
            "tags": []
          }
        },
        {
          "output_type": "display_data",
          "data": {
            "text/html": [
              "<pre>Parsing completed. Parsed 10000 lines in 1.51749 secs.</pre>"
            ],
            "text/plain": [
              "Parsing completed. Parsed 10000 lines in 1.51749 secs."
            ]
          },
          "metadata": {
            "tags": []
          }
        }
      ]
    },
    {
      "cell_type": "code",
      "metadata": {
        "id": "YWXPOX7OC9bn",
        "colab_type": "code",
        "outputId": "b113f26b-d7fd-4f9b-aaa2-08585eafecef",
        "colab": {
          "base_uri": "https://localhost:8080/",
          "height": 1000
        }
      },
      "source": [
        "from tqdm import tqdm\n",
        "\n",
        "l = []\n",
        "for i in tqdm(range(len(sf))):\n",
        "    text = sf[i][\"reviews.text\"]\n",
        "    l.append(nlp(text).vector)\n",
        "sf['vector'] = l "
      ],
      "execution_count": 0,
      "outputs": [
        {
          "output_type": "stream",
          "text": [
            "\n",
            "  0%|          | 0/5407 [00:00<?, ?it/s]\u001b[A\n",
            "  0%|          | 6/5407 [00:00<01:37, 55.54it/s]\u001b[A\n",
            "  0%|          | 11/5407 [00:00<01:45, 50.98it/s]\u001b[A\n",
            "  0%|          | 16/5407 [00:00<01:54, 46.90it/s]\u001b[A\n",
            "  0%|          | 19/5407 [00:00<03:04, 29.24it/s]\u001b[A\n",
            "  0%|          | 23/5407 [00:00<02:49, 31.69it/s]\u001b[A\n",
            "  0%|          | 27/5407 [00:00<02:45, 32.59it/s]\u001b[A\n",
            "  1%|          | 31/5407 [00:00<02:45, 32.54it/s]\u001b[A\n",
            "  1%|          | 35/5407 [00:00<02:36, 34.38it/s]\u001b[A\n",
            "  1%|          | 42/5407 [00:01<02:13, 40.14it/s]\u001b[A\n",
            "  1%|          | 48/5407 [00:01<02:00, 44.49it/s]\u001b[A\n",
            "  1%|          | 55/5407 [00:01<01:49, 49.06it/s]\u001b[A\n",
            "  1%|          | 61/5407 [00:01<02:01, 44.14it/s]\u001b[A\n",
            "  1%|          | 66/5407 [00:01<02:26, 36.42it/s]\u001b[A\n",
            "  1%|▏         | 71/5407 [00:01<02:28, 35.95it/s]\u001b[A\n",
            "  1%|▏         | 76/5407 [00:01<02:16, 38.94it/s]\u001b[A\n",
            "  2%|▏         | 82/5407 [00:02<02:05, 42.33it/s]\u001b[A\n",
            "  2%|▏         | 87/5407 [00:02<02:28, 35.83it/s]\u001b[A\n",
            "  2%|▏         | 93/5407 [00:02<02:14, 39.58it/s]\u001b[A\n",
            "  2%|▏         | 99/5407 [00:02<02:04, 42.49it/s]\u001b[A\n",
            "  2%|▏         | 104/5407 [00:02<02:05, 42.25it/s]\u001b[A\n",
            "  2%|▏         | 109/5407 [00:02<02:15, 39.21it/s]\u001b[A\n",
            "  2%|▏         | 114/5407 [00:02<02:21, 37.28it/s]\u001b[A\n",
            "  2%|▏         | 118/5407 [00:02<02:22, 37.18it/s]\u001b[A\n",
            "  2%|▏         | 123/5407 [00:03<02:31, 34.88it/s]\u001b[A\n",
            "  2%|▏         | 127/5407 [00:03<02:47, 31.52it/s]\u001b[A\n",
            "  2%|▏         | 131/5407 [00:03<02:38, 33.29it/s]\u001b[A\n",
            "  2%|▏         | 135/5407 [00:03<02:30, 35.03it/s]\u001b[A\n",
            "  3%|▎         | 139/5407 [00:03<02:37, 33.49it/s]\u001b[A\n",
            "  3%|▎         | 145/5407 [00:03<02:32, 34.51it/s]\u001b[A\n",
            "  3%|▎         | 149/5407 [00:04<03:15, 26.83it/s]\u001b[A\n",
            "  3%|▎         | 153/5407 [00:04<02:59, 29.30it/s]\u001b[A\n",
            "  3%|▎         | 157/5407 [00:04<03:16, 26.66it/s]\u001b[A\n",
            "  3%|▎         | 162/5407 [00:04<02:52, 30.40it/s]\u001b[A\n",
            "  3%|▎         | 167/5407 [00:04<02:32, 34.41it/s]\u001b[A\n",
            "  3%|▎         | 172/5407 [00:04<02:22, 36.63it/s]\u001b[A\n",
            "  3%|▎         | 177/5407 [00:04<02:36, 33.51it/s]\u001b[A\n",
            "  3%|▎         | 181/5407 [00:04<02:35, 33.68it/s]\u001b[A\n",
            "  3%|▎         | 185/5407 [00:05<02:58, 29.32it/s]\u001b[A\n",
            "  4%|▎         | 190/5407 [00:05<02:43, 31.95it/s]\u001b[A\n",
            "  4%|▎         | 195/5407 [00:05<02:27, 35.41it/s]\u001b[A\n",
            "  4%|▎         | 200/5407 [00:05<02:15, 38.51it/s]\u001b[A\n",
            "  4%|▍         | 205/5407 [00:05<02:20, 36.98it/s]\u001b[A\n",
            "  4%|▍         | 210/5407 [00:05<02:13, 38.82it/s]\u001b[A\n",
            " 44%|████▍     | 2386/5407 [01:09<00:53, 56.58it/s]\n",
            "  4%|▍         | 219/5407 [00:05<02:24, 36.02it/s]\u001b[A\n",
            "  4%|▍         | 223/5407 [00:06<02:33, 33.86it/s]\u001b[A\n",
            "  4%|▍         | 227/5407 [00:06<02:32, 33.95it/s]\u001b[A\n",
            "  4%|▍         | 231/5407 [00:06<03:00, 28.62it/s]\u001b[A\n",
            "  4%|▍         | 236/5407 [00:06<03:06, 27.80it/s]\u001b[A\n",
            "  4%|▍         | 240/5407 [00:06<03:04, 28.04it/s]\u001b[A\n",
            "  4%|▍         | 243/5407 [00:06<04:03, 21.19it/s]\u001b[A\n",
            "  5%|▍         | 247/5407 [00:07<03:36, 23.82it/s]\u001b[A\n",
            "  5%|▍         | 250/5407 [00:07<03:24, 25.18it/s]\u001b[A\n",
            "  5%|▍         | 254/5407 [00:07<03:06, 27.67it/s]\u001b[A\n",
            "  5%|▍         | 258/5407 [00:07<02:51, 30.08it/s]\u001b[A\n",
            "  5%|▍         | 263/5407 [00:07<02:32, 33.62it/s]\u001b[A\n",
            "  5%|▍         | 270/5407 [00:07<02:11, 39.05it/s]\u001b[A\n",
            "  5%|▌         | 277/5407 [00:07<01:55, 44.59it/s]\u001b[A\n",
            "  5%|▌         | 283/5407 [00:07<01:47, 47.55it/s]\u001b[A\n",
            "  5%|▌         | 289/5407 [00:08<02:00, 42.40it/s]\u001b[A\n",
            "  5%|▌         | 294/5407 [00:08<02:13, 38.38it/s]\u001b[A\n",
            "  6%|▌         | 299/5407 [00:08<02:16, 37.49it/s]\u001b[A\n",
            "  6%|▌         | 304/5407 [00:08<02:09, 39.41it/s]\u001b[A\n",
            "  6%|▌         | 309/5407 [00:08<02:06, 40.18it/s]\u001b[A\n",
            "  6%|▌         | 314/5407 [00:08<02:13, 38.02it/s]\u001b[A\n",
            "  6%|▌         | 319/5407 [00:08<02:07, 39.81it/s]\u001b[A\n",
            "  6%|▌         | 325/5407 [00:08<02:01, 41.97it/s]\u001b[A\n",
            "  6%|▌         | 330/5407 [00:09<01:58, 42.69it/s]\u001b[A\n",
            "  6%|▌         | 335/5407 [00:09<01:54, 44.29it/s]\u001b[A\n",
            "  6%|▋         | 340/5407 [00:09<01:58, 42.93it/s]\u001b[A\n",
            "  6%|▋         | 345/5407 [00:09<02:09, 38.96it/s]\u001b[A\n",
            "  6%|▋         | 350/5407 [00:09<02:07, 39.51it/s]\u001b[A\n",
            "  7%|▋         | 355/5407 [00:09<02:04, 40.47it/s]\u001b[A\n",
            "  7%|▋         | 360/5407 [00:09<02:06, 39.95it/s]\u001b[A\n",
            "  7%|▋         | 365/5407 [00:09<02:02, 41.28it/s]\u001b[A\n",
            "  7%|▋         | 370/5407 [00:10<02:03, 40.94it/s]\u001b[A\n",
            "  7%|▋         | 375/5407 [00:10<02:17, 36.52it/s]\u001b[A\n",
            "  7%|▋         | 380/5407 [00:10<02:10, 38.39it/s]\u001b[A\n",
            "  7%|▋         | 384/5407 [00:10<02:51, 29.25it/s]\u001b[A\n",
            "  7%|▋         | 388/5407 [00:10<02:48, 29.76it/s]\u001b[A\n",
            "  7%|▋         | 394/5407 [00:10<02:24, 34.66it/s]\u001b[A\n",
            "  7%|▋         | 400/5407 [00:10<02:08, 38.84it/s]\u001b[A\n",
            "  8%|▊         | 407/5407 [00:10<01:53, 44.20it/s]\u001b[A\n",
            "  8%|▊         | 413/5407 [00:11<02:14, 37.08it/s]\u001b[A\n",
            "  8%|▊         | 418/5407 [00:11<02:27, 33.80it/s]\u001b[A\n",
            "  8%|▊         | 422/5407 [00:11<02:52, 28.94it/s]\u001b[A\n",
            "  8%|▊         | 426/5407 [00:11<02:44, 30.37it/s]\u001b[A\n",
            "  8%|▊         | 432/5407 [00:11<02:23, 34.71it/s]\u001b[A\n",
            "  8%|▊         | 436/5407 [00:11<02:22, 34.80it/s]\u001b[A\n",
            "  8%|▊         | 440/5407 [00:12<02:30, 33.01it/s]\u001b[A\n",
            "  8%|▊         | 444/5407 [00:12<02:28, 33.40it/s]\u001b[A\n",
            "  8%|▊         | 449/5407 [00:12<02:17, 36.19it/s]\u001b[A\n",
            "  8%|▊         | 453/5407 [00:12<02:30, 32.84it/s]\u001b[A\n",
            "  8%|▊         | 457/5407 [00:12<02:29, 33.15it/s]\u001b[A\n",
            "  9%|▊         | 461/5407 [00:12<02:43, 30.34it/s]\u001b[A\n",
            "  9%|▊         | 465/5407 [00:12<02:39, 30.98it/s]\u001b[A\n",
            "  9%|▊         | 469/5407 [00:12<02:40, 30.71it/s]\u001b[A\n",
            "  9%|▉         | 475/5407 [00:13<02:18, 35.55it/s]\u001b[A\n",
            "  9%|▉         | 480/5407 [00:13<02:11, 37.39it/s]\u001b[A\n",
            "  9%|▉         | 484/5407 [00:13<02:13, 36.99it/s]\u001b[A\n",
            "  9%|▉         | 489/5407 [00:13<02:04, 39.56it/s]\u001b[A\n",
            "  9%|▉         | 494/5407 [00:13<02:08, 38.31it/s]\u001b[A\n",
            "  9%|▉         | 498/5407 [00:13<02:14, 36.41it/s]\u001b[A\n",
            "  9%|▉         | 502/5407 [00:13<02:24, 33.87it/s]\u001b[A\n",
            "  9%|▉         | 507/5407 [00:13<02:13, 36.59it/s]\u001b[A\n",
            "  9%|▉         | 511/5407 [00:14<02:10, 37.46it/s]\u001b[A\n",
            " 10%|▉         | 518/5407 [00:14<01:55, 42.28it/s]\u001b[A\n",
            " 10%|▉         | 523/5407 [00:14<01:56, 41.87it/s]\u001b[A\n",
            " 10%|▉         | 528/5407 [00:14<01:57, 41.61it/s]\u001b[A\n",
            " 10%|▉         | 533/5407 [00:14<01:51, 43.61it/s]\u001b[A\n",
            " 10%|▉         | 539/5407 [00:14<01:48, 44.79it/s]\u001b[A\n",
            " 10%|█         | 545/5407 [00:14<01:41, 47.75it/s]\u001b[A\n",
            " 10%|█         | 550/5407 [00:14<01:48, 44.60it/s]\u001b[A\n",
            " 10%|█         | 556/5407 [00:14<01:41, 47.83it/s]\u001b[A\n",
            " 10%|█         | 563/5407 [00:15<01:40, 48.38it/s]\u001b[A\n",
            " 11%|█         | 570/5407 [00:15<01:32, 52.49it/s]\u001b[A\n",
            " 11%|█         | 577/5407 [00:15<01:27, 55.07it/s]\u001b[A\n",
            " 11%|█         | 584/5407 [00:15<01:23, 58.02it/s]\u001b[A\n",
            " 11%|█         | 590/5407 [00:15<01:31, 52.62it/s]\u001b[A\n",
            " 11%|█         | 596/5407 [00:15<01:35, 50.47it/s]\u001b[A\n",
            " 11%|█         | 602/5407 [00:15<01:34, 50.97it/s]\u001b[A\n",
            " 11%|█▏        | 609/5407 [00:15<01:28, 54.16it/s]\u001b[A\n",
            " 11%|█▏        | 616/5407 [00:16<01:23, 57.05it/s]\u001b[A\n",
            " 12%|█▏        | 623/5407 [00:16<01:20, 59.29it/s]\u001b[A\n",
            " 12%|█▏        | 630/5407 [00:16<01:18, 61.23it/s]\u001b[A\n",
            " 12%|█▏        | 637/5407 [00:16<01:21, 58.81it/s]\u001b[A\n",
            " 12%|█▏        | 643/5407 [00:16<01:21, 58.39it/s]\u001b[A\n",
            " 12%|█▏        | 650/5407 [00:16<01:18, 60.45it/s]\u001b[A\n",
            " 12%|█▏        | 657/5407 [00:16<01:29, 53.01it/s]\u001b[A\n",
            " 12%|█▏        | 663/5407 [00:16<01:31, 51.70it/s]\u001b[A\n",
            " 12%|█▏        | 669/5407 [00:16<01:29, 53.08it/s]\u001b[A\n",
            " 12%|█▏        | 675/5407 [00:17<01:40, 47.05it/s]\u001b[A\n",
            " 13%|█▎        | 680/5407 [00:17<01:46, 44.50it/s]\u001b[A\n",
            " 13%|█▎        | 687/5407 [00:17<01:36, 48.91it/s]\u001b[A\n",
            " 13%|█▎        | 694/5407 [00:17<01:29, 52.43it/s]\u001b[A\n",
            " 13%|█▎        | 700/5407 [00:17<01:28, 53.11it/s]\u001b[A\n",
            " 13%|█▎        | 707/5407 [00:17<01:22, 56.79it/s]\u001b[A\n",
            " 13%|█▎        | 713/5407 [00:17<01:23, 56.19it/s]\u001b[A\n",
            " 13%|█▎        | 719/5407 [00:17<01:33, 50.10it/s]\u001b[A\n",
            " 13%|█▎        | 725/5407 [00:18<01:36, 48.65it/s]\u001b[A\n",
            " 14%|█▎        | 731/5407 [00:18<01:34, 49.59it/s]\u001b[A\n",
            " 14%|█▎        | 737/5407 [00:18<01:34, 49.64it/s]\u001b[A\n",
            " 14%|█▎        | 743/5407 [00:18<01:35, 48.86it/s]\u001b[A\n",
            " 14%|█▍        | 749/5407 [00:18<01:32, 50.44it/s]\u001b[A\n",
            " 14%|█▍        | 755/5407 [00:18<01:29, 51.75it/s]\u001b[A\n",
            " 14%|█▍        | 761/5407 [00:18<01:33, 49.83it/s]\u001b[A\n",
            " 14%|█▍        | 767/5407 [00:18<01:34, 48.87it/s]\u001b[A\n",
            " 14%|█▍        | 773/5407 [00:19<01:29, 51.75it/s]\u001b[A\n",
            " 14%|█▍        | 779/5407 [00:19<01:38, 46.89it/s]\u001b[A\n",
            " 14%|█▍        | 784/5407 [00:19<01:53, 40.75it/s]\u001b[A\n",
            " 15%|█▍        | 789/5407 [00:19<02:04, 36.95it/s]\u001b[A\n",
            " 15%|█▍        | 794/5407 [00:19<02:02, 37.63it/s]\u001b[A\n",
            " 15%|█▍        | 799/5407 [00:19<02:01, 37.91it/s]\u001b[A\n",
            " 15%|█▍        | 804/5407 [00:19<01:55, 39.84it/s]\u001b[A\n",
            " 15%|█▍        | 809/5407 [00:19<01:57, 39.16it/s]\u001b[A\n",
            " 15%|█▌        | 813/5407 [00:20<02:04, 37.03it/s]\u001b[A\n",
            " 15%|█▌        | 817/5407 [00:20<02:16, 33.63it/s]\u001b[A\n",
            " 15%|█▌        | 824/5407 [00:20<02:00, 38.17it/s]\u001b[A\n",
            " 15%|█▌        | 829/5407 [00:20<01:52, 40.72it/s]\u001b[A\n",
            " 15%|█▌        | 834/5407 [00:20<02:08, 35.47it/s]\u001b[A\n",
            " 15%|█▌        | 838/5407 [00:20<02:25, 31.30it/s]\u001b[A\n",
            " 16%|█▌        | 843/5407 [00:20<02:12, 34.36it/s]\u001b[A\n",
            " 16%|█▌        | 850/5407 [00:21<01:55, 39.52it/s]\u001b[A\n",
            " 16%|█▌        | 855/5407 [00:21<02:02, 37.08it/s]\u001b[A\n",
            " 16%|█▌        | 861/5407 [00:21<01:49, 41.37it/s]\u001b[A\n",
            " 16%|█▌        | 867/5407 [00:21<01:42, 44.13it/s]\u001b[A\n",
            " 16%|█▌        | 874/5407 [00:21<01:33, 48.32it/s]\u001b[A\n",
            " 16%|█▋        | 880/5407 [00:21<01:35, 47.30it/s]\u001b[A\n",
            " 16%|█▋        | 885/5407 [00:21<01:37, 46.51it/s]\u001b[A\n",
            " 16%|█▋        | 890/5407 [00:21<01:39, 45.38it/s]\u001b[A\n",
            " 17%|█▋        | 895/5407 [00:22<02:14, 33.65it/s]\u001b[A\n",
            " 17%|█▋        | 902/5407 [00:22<01:54, 39.45it/s]\u001b[A\n",
            " 17%|█▋        | 908/5407 [00:22<01:43, 43.41it/s]\u001b[A\n",
            " 17%|█▋        | 913/5407 [00:22<01:42, 43.97it/s]\u001b[A\n",
            " 17%|█▋        | 918/5407 [00:22<01:38, 45.37it/s]\u001b[A\n",
            " 17%|█▋        | 923/5407 [00:22<02:05, 35.78it/s]\u001b[A\n",
            " 17%|█▋        | 928/5407 [00:22<02:14, 33.23it/s]\u001b[A\n",
            " 17%|█▋        | 935/5407 [00:23<01:56, 38.47it/s]\u001b[A\n",
            " 17%|█▋        | 940/5407 [00:23<01:53, 39.43it/s]\u001b[A\n",
            " 17%|█▋        | 945/5407 [00:23<02:03, 36.05it/s]\u001b[A\n",
            " 18%|█▊        | 950/5407 [00:23<02:01, 36.69it/s]\u001b[A\n",
            " 18%|█▊        | 954/5407 [00:23<02:02, 36.31it/s]\u001b[A\n",
            " 18%|█▊        | 958/5407 [00:23<02:03, 36.03it/s]\u001b[A\n",
            " 18%|█▊        | 962/5407 [00:23<02:16, 32.54it/s]\u001b[A\n",
            " 18%|█▊        | 967/5407 [00:24<02:12, 33.52it/s]\u001b[A\n",
            " 18%|█▊        | 971/5407 [00:24<02:10, 33.87it/s]\u001b[A\n",
            " 18%|█▊        | 975/5407 [00:24<02:30, 29.36it/s]\u001b[A\n",
            " 18%|█▊        | 979/5407 [00:24<02:27, 30.03it/s]\u001b[A\n",
            " 18%|█▊        | 983/5407 [00:24<02:24, 30.71it/s]\u001b[A\n",
            " 18%|█▊        | 987/5407 [00:24<02:26, 30.18it/s]\u001b[A\n",
            " 18%|█▊        | 991/5407 [00:24<02:25, 30.39it/s]\u001b[A\n",
            " 18%|█▊        | 995/5407 [00:25<02:49, 26.11it/s]\u001b[A\n",
            " 19%|█▊        | 1001/5407 [00:25<02:23, 30.68it/s]\u001b[A\n",
            " 19%|█▊        | 1006/5407 [00:25<02:11, 33.36it/s]\u001b[A\n",
            " 19%|█▊        | 1010/5407 [00:25<02:19, 31.63it/s]\u001b[A\n",
            " 19%|█▉        | 1014/5407 [00:25<02:43, 26.80it/s]\u001b[A\n",
            " 19%|█▉        | 1018/5407 [00:25<02:38, 27.67it/s]\u001b[A\n",
            " 19%|█▉        | 1021/5407 [00:25<02:37, 27.81it/s]\u001b[A\n",
            " 19%|█▉        | 1024/5407 [00:25<02:50, 25.74it/s]\u001b[A\n",
            " 19%|█▉        | 1027/5407 [00:26<03:12, 22.72it/s]\u001b[A\n",
            " 19%|█▉        | 1031/5407 [00:26<02:57, 24.61it/s]\u001b[A\n",
            " 19%|█▉        | 1034/5407 [00:26<03:43, 19.56it/s]\u001b[A\n",
            " 19%|█▉        | 1037/5407 [00:26<03:23, 21.48it/s]\u001b[A\n",
            " 19%|█▉        | 1041/5407 [00:26<02:56, 24.71it/s]\u001b[A\n",
            " 19%|█▉        | 1047/5407 [00:26<02:26, 29.68it/s]\u001b[A\n",
            " 19%|█▉        | 1051/5407 [00:26<02:27, 29.58it/s]\u001b[A\n",
            " 20%|█▉        | 1055/5407 [00:27<02:30, 29.01it/s]\u001b[A\n",
            " 20%|█▉        | 1059/5407 [00:27<02:19, 31.13it/s]\u001b[A\n",
            " 20%|█▉        | 1063/5407 [00:27<02:12, 32.79it/s]\u001b[A\n",
            " 20%|█▉        | 1067/5407 [00:27<02:19, 31.00it/s]\u001b[A\n",
            " 20%|█▉        | 1071/5407 [00:27<02:13, 32.49it/s]\u001b[A\n",
            " 20%|█▉        | 1076/5407 [00:27<01:59, 36.22it/s]\u001b[A\n",
            " 20%|█▉        | 1081/5407 [00:27<01:50, 39.02it/s]\u001b[A\n",
            " 20%|██        | 1086/5407 [00:27<01:46, 40.50it/s]\u001b[A\n",
            " 20%|██        | 1091/5407 [00:27<01:42, 42.23it/s]\u001b[A\n",
            " 20%|██        | 1096/5407 [00:28<01:42, 42.18it/s]\u001b[A\n",
            " 20%|██        | 1102/5407 [00:28<01:36, 44.49it/s]\u001b[A\n",
            " 20%|██        | 1107/5407 [00:28<01:48, 39.72it/s]\u001b[A\n",
            " 21%|██        | 1112/5407 [00:28<01:46, 40.18it/s]\u001b[A\n",
            " 21%|██        | 1117/5407 [00:28<01:41, 42.07it/s]\u001b[A\n",
            " 21%|██        | 1123/5407 [00:28<01:35, 44.87it/s]\u001b[A\n",
            " 21%|██        | 1129/5407 [00:28<01:33, 45.71it/s]\u001b[A\n",
            " 21%|██        | 1134/5407 [00:29<01:53, 37.53it/s]\u001b[A\n",
            " 21%|██        | 1139/5407 [00:29<02:02, 34.74it/s]\u001b[A\n",
            " 21%|██        | 1143/5407 [00:29<02:17, 30.96it/s]\u001b[A\n",
            " 21%|██        | 1148/5407 [00:29<02:13, 32.01it/s]\u001b[A\n",
            " 21%|██▏       | 1152/5407 [00:29<02:20, 30.21it/s]\u001b[A\n",
            " 21%|██▏       | 1157/5407 [00:29<02:05, 33.97it/s]\u001b[A\n",
            " 21%|██▏       | 1161/5407 [00:29<02:06, 33.45it/s]\u001b[A\n",
            " 22%|██▏       | 1167/5407 [00:29<01:50, 38.51it/s]\u001b[A\n",
            " 22%|██▏       | 1172/5407 [00:30<02:23, 29.48it/s]\u001b[A\n",
            " 22%|██▏       | 1176/5407 [00:30<02:27, 28.62it/s]\u001b[A\n",
            " 22%|██▏       | 1180/5407 [00:30<02:18, 30.54it/s]\u001b[A\n",
            " 22%|██▏       | 1186/5407 [00:30<02:25, 29.01it/s]\u001b[A\n",
            " 22%|██▏       | 1191/5407 [00:30<02:11, 32.01it/s]\u001b[A\n",
            " 22%|██▏       | 1196/5407 [00:30<01:58, 35.46it/s]\u001b[A\n",
            " 22%|██▏       | 1201/5407 [00:31<01:49, 38.51it/s]\u001b[A\n",
            " 22%|██▏       | 1208/5407 [00:31<01:36, 43.32it/s]\u001b[A\n",
            " 22%|██▏       | 1215/5407 [00:31<01:28, 47.31it/s]\u001b[A\n",
            " 23%|██▎       | 1221/5407 [00:31<01:34, 44.15it/s]\u001b[A\n",
            " 23%|██▎       | 1228/5407 [00:31<01:26, 48.44it/s]\u001b[A\n",
            " 23%|██▎       | 1234/5407 [00:31<01:22, 50.31it/s]\u001b[A\n",
            " 23%|██▎       | 1240/5407 [00:31<01:52, 36.96it/s]\u001b[A\n",
            " 23%|██▎       | 1245/5407 [00:32<01:58, 35.13it/s]\u001b[A\n",
            " 23%|██▎       | 1250/5407 [00:32<01:50, 37.55it/s]\u001b[A\n",
            " 23%|██▎       | 1256/5407 [00:32<01:42, 40.55it/s]\u001b[A\n",
            " 23%|██▎       | 1261/5407 [00:32<01:45, 39.18it/s]\u001b[A\n",
            " 23%|██▎       | 1266/5407 [00:32<01:49, 37.85it/s]\u001b[A\n",
            " 24%|██▎       | 1271/5407 [00:32<01:47, 38.46it/s]\u001b[A\n",
            " 24%|██▎       | 1275/5407 [00:32<01:51, 37.18it/s]\u001b[A\n",
            " 24%|██▎       | 1279/5407 [00:32<01:55, 35.79it/s]\u001b[A\n",
            " 24%|██▎       | 1284/5407 [00:33<01:48, 37.85it/s]\u001b[A\n",
            " 24%|██▍       | 1288/5407 [00:33<01:52, 36.77it/s]\u001b[A\n",
            " 24%|██▍       | 1292/5407 [00:33<02:02, 33.72it/s]\u001b[A\n",
            " 24%|██▍       | 1296/5407 [00:33<02:00, 34.24it/s]\u001b[A\n",
            " 24%|██▍       | 1301/5407 [00:33<01:53, 36.31it/s]\u001b[A\n",
            " 24%|██▍       | 1305/5407 [00:33<01:59, 34.43it/s]\u001b[A\n",
            " 24%|██▍       | 1309/5407 [00:33<02:03, 33.07it/s]\u001b[A\n",
            " 24%|██▍       | 1314/5407 [00:33<01:56, 35.06it/s]\u001b[A\n",
            " 24%|██▍       | 1319/5407 [00:34<01:48, 37.83it/s]\u001b[A\n",
            " 24%|██▍       | 1323/5407 [00:34<01:55, 35.33it/s]\u001b[A\n",
            " 25%|██▍       | 1327/5407 [00:34<02:01, 33.59it/s]\u001b[A\n",
            " 25%|██▍       | 1333/5407 [00:34<01:46, 38.22it/s]\u001b[A\n",
            " 25%|██▍       | 1339/5407 [00:34<01:37, 41.60it/s]\u001b[A\n",
            " 25%|██▍       | 1345/5407 [00:34<01:36, 42.10it/s]\u001b[A\n",
            " 25%|██▍       | 1351/5407 [00:34<01:31, 44.39it/s]\u001b[A\n",
            " 25%|██▌       | 1357/5407 [00:34<01:26, 46.56it/s]\u001b[A\n",
            " 25%|██▌       | 1362/5407 [00:35<01:25, 47.33it/s]\u001b[A\n",
            " 25%|██▌       | 1368/5407 [00:35<01:23, 48.41it/s]\u001b[A\n",
            " 25%|██▌       | 1373/5407 [00:35<01:24, 47.96it/s]\u001b[A\n",
            " 25%|██▌       | 1378/5407 [00:35<01:23, 48.01it/s]\u001b[A\n",
            " 26%|██▌       | 1383/5407 [00:35<01:35, 42.00it/s]\u001b[A\n",
            " 26%|██▌       | 1388/5407 [00:35<01:44, 38.38it/s]\u001b[A\n",
            " 26%|██▌       | 1396/5407 [00:35<01:30, 44.44it/s]\u001b[A\n",
            " 26%|██▌       | 1402/5407 [00:35<01:23, 47.88it/s]\u001b[A\n",
            " 26%|██▌       | 1409/5407 [00:35<01:17, 51.82it/s]\u001b[A\n",
            " 26%|██▌       | 1416/5407 [00:36<01:13, 54.58it/s]\u001b[A\n",
            " 26%|██▋       | 1422/5407 [00:36<01:12, 54.98it/s]\u001b[A\n",
            " 26%|██▋       | 1428/5407 [00:36<01:34, 41.92it/s]\u001b[A\n",
            " 27%|██▋       | 1433/5407 [00:36<01:51, 35.62it/s]\u001b[A\n",
            " 27%|██▋       | 1438/5407 [00:36<01:42, 38.59it/s]\u001b[A\n",
            " 27%|██▋       | 1446/5407 [00:36<01:28, 44.80it/s]\u001b[A\n",
            " 27%|██▋       | 1454/5407 [00:36<01:17, 50.91it/s]\u001b[A\n",
            " 27%|██▋       | 1462/5407 [00:37<01:10, 55.61it/s]\u001b[A\n",
            " 27%|██▋       | 1469/5407 [00:37<01:17, 50.77it/s]\u001b[A\n",
            " 27%|██▋       | 1475/5407 [00:37<01:29, 44.14it/s]\u001b[A\n",
            " 27%|██▋       | 1480/5407 [00:37<01:29, 43.81it/s]\u001b[A\n",
            " 27%|██▋       | 1485/5407 [00:37<01:31, 42.96it/s]\u001b[A\n",
            " 28%|██▊       | 1490/5407 [00:37<01:36, 40.44it/s]\u001b[A\n",
            " 28%|██▊       | 1495/5407 [00:37<01:40, 39.02it/s]\u001b[A\n",
            " 28%|██▊       | 1500/5407 [00:38<01:42, 37.99it/s]\u001b[A\n",
            " 28%|██▊       | 1505/5407 [00:38<01:36, 40.32it/s]\u001b[A\n",
            " 28%|██▊       | 1510/5407 [00:38<01:43, 37.64it/s]\u001b[A\n",
            " 28%|██▊       | 1515/5407 [00:38<01:41, 38.19it/s]\u001b[A\n",
            " 28%|██▊       | 1519/5407 [00:38<01:57, 32.95it/s]\u001b[A\n",
            " 28%|██▊       | 1524/5407 [00:38<01:47, 36.10it/s]\u001b[A\n",
            " 28%|██▊       | 1529/5407 [00:38<01:43, 37.29it/s]\u001b[A\n",
            " 28%|██▊       | 1533/5407 [00:39<01:57, 32.89it/s]\u001b[A\n",
            " 28%|██▊       | 1537/5407 [00:39<01:53, 34.09it/s]\u001b[A\n",
            " 29%|██▊       | 1541/5407 [00:39<01:54, 33.83it/s]\u001b[A\n",
            " 29%|██▊       | 1548/5407 [00:39<01:39, 38.84it/s]\u001b[A\n",
            " 29%|██▊       | 1554/5407 [00:39<01:31, 42.13it/s]\u001b[A\n",
            " 29%|██▉       | 1559/5407 [00:39<01:28, 43.42it/s]\u001b[A\n",
            " 29%|██▉       | 1564/5407 [00:39<01:41, 37.91it/s]\u001b[A\n",
            " 29%|██▉       | 1569/5407 [00:39<01:54, 33.62it/s]\u001b[A\n",
            " 29%|██▉       | 1573/5407 [00:40<01:55, 33.12it/s]\u001b[A\n",
            " 29%|██▉       | 1577/5407 [00:40<02:02, 31.20it/s]\u001b[A\n",
            " 29%|██▉       | 1581/5407 [00:40<02:22, 26.87it/s]\u001b[A\n",
            " 29%|██▉       | 1584/5407 [00:40<02:20, 27.12it/s]\u001b[A\n",
            " 29%|██▉       | 1588/5407 [00:40<02:11, 29.11it/s]\u001b[A\n",
            " 29%|██▉       | 1592/5407 [00:40<02:04, 30.71it/s]\u001b[A\n",
            " 30%|██▉       | 1596/5407 [00:40<02:00, 31.66it/s]\u001b[A\n",
            " 30%|██▉       | 1600/5407 [00:41<02:14, 28.38it/s]\u001b[A\n",
            " 30%|██▉       | 1604/5407 [00:41<02:06, 29.95it/s]\u001b[A\n",
            " 30%|██▉       | 1608/5407 [00:41<02:01, 31.29it/s]\u001b[A\n",
            " 30%|██▉       | 1612/5407 [00:41<02:07, 29.81it/s]\u001b[A\n",
            " 30%|██▉       | 1616/5407 [00:41<02:08, 29.51it/s]\u001b[A\n",
            " 30%|██▉       | 1622/5407 [00:41<01:50, 34.17it/s]\u001b[A\n",
            " 30%|███       | 1628/5407 [00:41<01:38, 38.21it/s]\u001b[A\n",
            " 30%|███       | 1635/5407 [00:41<01:26, 43.56it/s]\u001b[A\n",
            " 30%|███       | 1640/5407 [00:41<01:28, 42.59it/s]\u001b[A\n",
            " 30%|███       | 1645/5407 [00:42<01:24, 44.37it/s]\u001b[A\n",
            " 31%|███       | 1651/5407 [00:42<01:21, 45.87it/s]\u001b[A\n",
            " 31%|███       | 1656/5407 [00:42<01:38, 37.96it/s]\u001b[A\n",
            " 31%|███       | 1662/5407 [00:42<01:27, 42.64it/s]\u001b[A\n",
            " 31%|███       | 1668/5407 [00:42<01:20, 46.69it/s]\u001b[A\n",
            " 31%|███       | 1674/5407 [00:42<01:15, 49.42it/s]\u001b[A\n",
            " 31%|███       | 1681/5407 [00:42<01:11, 51.95it/s]\u001b[A\n",
            " 31%|███       | 1688/5407 [00:42<01:07, 54.90it/s]\u001b[A\n",
            " 31%|███▏      | 1694/5407 [00:43<01:06, 56.07it/s]\u001b[A\n",
            " 31%|███▏      | 1700/5407 [00:43<01:05, 56.30it/s]\u001b[A\n",
            " 32%|███▏      | 1706/5407 [00:43<01:06, 55.26it/s]\u001b[A\n",
            " 32%|███▏      | 1712/5407 [00:43<01:15, 49.08it/s]\u001b[A\n",
            " 32%|███▏      | 1718/5407 [00:43<01:21, 45.39it/s]\u001b[A\n",
            " 32%|███▏      | 1723/5407 [00:43<01:32, 39.67it/s]\u001b[A\n",
            " 32%|███▏      | 1728/5407 [00:43<01:37, 37.87it/s]\u001b[A\n",
            " 32%|███▏      | 1732/5407 [00:43<01:35, 38.33it/s]\u001b[A\n",
            " 32%|███▏      | 1736/5407 [00:44<01:46, 34.37it/s]\u001b[A\n",
            " 32%|███▏      | 1741/5407 [00:44<01:43, 35.29it/s]\u001b[A\n",
            " 32%|███▏      | 1747/5407 [00:44<01:31, 40.07it/s]\u001b[A\n",
            " 32%|███▏      | 1754/5407 [00:44<01:20, 45.37it/s]\u001b[A\n",
            " 33%|███▎      | 1761/5407 [00:44<01:13, 49.49it/s]\u001b[A\n",
            " 33%|███▎      | 1767/5407 [00:44<01:31, 39.69it/s]\u001b[A\n",
            " 33%|███▎      | 1772/5407 [00:44<01:38, 36.74it/s]\u001b[A\n",
            " 33%|███▎      | 1777/5407 [00:45<01:34, 38.22it/s]\u001b[A\n",
            " 33%|███▎      | 1783/5407 [00:45<01:25, 42.55it/s]\u001b[A\n",
            " 33%|███▎      | 1790/5407 [00:45<01:16, 47.12it/s]\u001b[A\n",
            " 33%|███▎      | 1797/5407 [00:45<01:09, 52.08it/s]\u001b[A\n",
            " 33%|███▎      | 1804/5407 [00:45<01:04, 55.61it/s]\u001b[A\n",
            " 33%|███▎      | 1810/5407 [00:45<01:04, 55.86it/s]\u001b[A\n",
            " 34%|███▎      | 1817/5407 [00:45<01:02, 57.79it/s]\u001b[A\n",
            " 34%|███▎      | 1824/5407 [00:45<00:59, 60.09it/s]\u001b[A\n",
            " 34%|███▍      | 1831/5407 [00:45<00:57, 62.51it/s]\u001b[A\n",
            " 34%|███▍      | 1838/5407 [00:46<00:57, 62.35it/s]\u001b[A\n",
            " 34%|███▍      | 1845/5407 [00:46<00:56, 62.90it/s]\u001b[A\n",
            " 34%|███▍      | 1852/5407 [00:46<00:57, 62.16it/s]\u001b[A\n",
            " 34%|███▍      | 1860/5407 [00:46<00:54, 64.90it/s]\u001b[A\n",
            " 35%|███▍      | 1867/5407 [00:46<00:56, 63.17it/s]\u001b[A\n",
            " 35%|███▍      | 1874/5407 [00:46<00:56, 62.85it/s]\u001b[A\n",
            " 35%|███▍      | 1881/5407 [00:46<00:55, 63.20it/s]\u001b[A\n",
            " 35%|███▍      | 1888/5407 [00:46<00:54, 65.05it/s]\u001b[A\n",
            " 35%|███▌      | 1895/5407 [00:46<00:58, 59.54it/s]\u001b[A\n",
            " 35%|███▌      | 1902/5407 [00:47<00:56, 62.27it/s]\u001b[A\n",
            " 35%|███▌      | 1909/5407 [00:47<00:56, 61.39it/s]\u001b[A\n",
            " 35%|███▌      | 1916/5407 [00:47<00:56, 61.66it/s]\u001b[A\n",
            " 36%|███▌      | 1923/5407 [00:47<00:55, 62.93it/s]\u001b[A\n",
            " 36%|███▌      | 1930/5407 [00:47<00:53, 64.62it/s]\u001b[A\n",
            " 36%|███▌      | 1937/5407 [00:47<00:54, 63.41it/s]\u001b[A\n",
            " 36%|███▌      | 1944/5407 [00:47<00:53, 64.18it/s]\u001b[A\n",
            " 36%|███▌      | 1951/5407 [00:47<00:52, 65.34it/s]\u001b[A\n",
            " 36%|███▌      | 1959/5407 [00:47<00:51, 66.85it/s]\u001b[A\n",
            " 36%|███▋      | 1966/5407 [00:48<00:51, 66.94it/s]\u001b[A\n",
            " 36%|███▋      | 1973/5407 [00:48<00:56, 60.78it/s]\u001b[A\n",
            " 37%|███▋      | 1980/5407 [00:48<00:57, 59.10it/s]\u001b[A\n",
            " 37%|███▋      | 1987/5407 [00:48<00:58, 58.20it/s]\u001b[A\n",
            " 37%|███▋      | 1994/5407 [00:48<00:57, 59.67it/s]\u001b[A\n",
            " 37%|███▋      | 2001/5407 [00:48<00:57, 58.87it/s]\u001b[A\n",
            " 37%|███▋      | 2008/5407 [00:48<00:55, 60.91it/s]\u001b[A\n",
            " 37%|███▋      | 2015/5407 [00:48<01:00, 55.72it/s]\u001b[A\n",
            " 37%|███▋      | 2021/5407 [00:49<01:02, 54.40it/s]\u001b[A\n",
            " 38%|███▊      | 2028/5407 [00:49<00:59, 56.48it/s]\u001b[A\n",
            " 38%|███▊      | 2035/5407 [00:49<00:58, 57.80it/s]\u001b[A\n",
            " 38%|███▊      | 2041/5407 [00:49<01:00, 55.73it/s]\u001b[A\n",
            " 38%|███▊      | 2047/5407 [00:49<01:08, 49.12it/s]\u001b[A\n",
            " 38%|███▊      | 2053/5407 [00:49<01:22, 40.85it/s]\u001b[A\n",
            " 38%|███▊      | 2058/5407 [00:49<01:23, 40.22it/s]\u001b[A\n",
            " 38%|███▊      | 2063/5407 [00:49<01:19, 41.97it/s]\u001b[A\n",
            " 38%|███▊      | 2068/5407 [00:50<01:25, 39.03it/s]\u001b[A\n",
            " 38%|███▊      | 2074/5407 [00:50<01:17, 42.89it/s]\u001b[A\n",
            " 38%|███▊      | 2080/5407 [00:50<01:13, 45.18it/s]\u001b[A\n",
            " 39%|███▊      | 2085/5407 [00:50<01:25, 39.04it/s]\u001b[A\n",
            " 39%|███▊      | 2092/5407 [00:50<01:15, 44.05it/s]\u001b[A\n",
            " 39%|███▉      | 2099/5407 [00:50<01:08, 48.18it/s]\u001b[A\n",
            " 39%|███▉      | 2105/5407 [00:50<01:06, 49.83it/s]\u001b[A\n",
            " 39%|███▉      | 2111/5407 [00:51<01:20, 40.90it/s]\u001b[A\n",
            " 39%|███▉      | 2118/5407 [00:51<01:12, 45.51it/s]\u001b[A\n",
            " 39%|███▉      | 2125/5407 [00:51<01:05, 49.80it/s]\u001b[A\n",
            " 39%|███▉      | 2131/5407 [00:51<01:02, 52.12it/s]\u001b[A\n",
            " 40%|███▉      | 2137/5407 [00:51<01:29, 36.37it/s]\u001b[A\n",
            " 40%|███▉      | 2142/5407 [00:51<01:30, 36.03it/s]\u001b[A\n",
            " 40%|███▉      | 2147/5407 [00:51<01:25, 38.00it/s]\u001b[A\n",
            " 40%|███▉      | 2152/5407 [00:52<01:21, 40.12it/s]\u001b[A\n",
            " 40%|███▉      | 2157/5407 [00:52<01:17, 41.71it/s]\u001b[A\n",
            " 40%|███▉      | 2162/5407 [00:52<01:16, 42.23it/s]\u001b[A\n",
            " 40%|████      | 2168/5407 [00:52<01:13, 44.32it/s]\u001b[A\n",
            " 40%|████      | 2173/5407 [00:52<01:12, 44.45it/s]\u001b[A\n",
            " 40%|████      | 2178/5407 [00:52<01:13, 44.04it/s]\u001b[A\n",
            " 40%|████      | 2184/5407 [00:52<01:08, 47.01it/s]\u001b[A\n",
            " 41%|████      | 2190/5407 [00:52<01:06, 48.15it/s]\u001b[A\n",
            " 41%|████      | 2195/5407 [00:52<01:16, 42.25it/s]\u001b[A\n",
            " 41%|████      | 2200/5407 [00:53<01:13, 43.78it/s]\u001b[A\n",
            " 41%|████      | 2206/5407 [00:53<01:07, 47.23it/s]\u001b[A\n",
            " 41%|████      | 2212/5407 [00:53<01:03, 49.95it/s]\u001b[A\n",
            " 41%|████      | 2219/5407 [00:53<01:00, 52.51it/s]\u001b[A\n",
            " 41%|████      | 2225/5407 [00:53<00:58, 54.39it/s]\u001b[A\n",
            " 41%|████▏     | 2231/5407 [00:53<00:58, 53.86it/s]\u001b[A\n",
            " 41%|████▏     | 2238/5407 [00:53<00:55, 57.18it/s]\u001b[A\n",
            " 42%|████▏     | 2245/5407 [00:53<00:53, 58.83it/s]\u001b[A\n",
            " 42%|████▏     | 2251/5407 [00:53<00:55, 57.11it/s]\u001b[A\n",
            " 42%|████▏     | 2257/5407 [00:54<01:06, 47.17it/s]\u001b[A\n",
            " 42%|████▏     | 2263/5407 [00:54<01:13, 42.63it/s]\u001b[A\n",
            " 42%|████▏     | 2268/5407 [00:54<01:17, 40.41it/s]\u001b[A\n",
            " 42%|████▏     | 2273/5407 [00:54<01:19, 39.66it/s]\u001b[A\n",
            " 42%|████▏     | 2278/5407 [00:54<01:18, 39.84it/s]\u001b[A\n",
            " 42%|████▏     | 2283/5407 [00:54<01:16, 40.94it/s]\u001b[A\n",
            " 42%|████▏     | 2288/5407 [00:54<01:19, 39.09it/s]\u001b[A\n",
            " 42%|████▏     | 2292/5407 [00:55<01:23, 37.50it/s]\u001b[A\n",
            " 42%|████▏     | 2296/5407 [00:55<01:25, 36.57it/s]\u001b[A\n",
            " 43%|████▎     | 2300/5407 [00:55<01:27, 35.35it/s]\u001b[A\n",
            " 43%|████▎     | 2304/5407 [00:55<01:34, 32.97it/s]\u001b[A\n",
            " 43%|████▎     | 2309/5407 [00:55<01:26, 35.75it/s]\u001b[A\n",
            " 43%|████▎     | 2313/5407 [00:55<01:39, 31.03it/s]\u001b[A\n",
            " 43%|████▎     | 2317/5407 [00:55<01:33, 32.95it/s]\u001b[A\n",
            " 43%|████▎     | 2321/5407 [00:55<01:29, 34.39it/s]\u001b[A\n",
            " 43%|████▎     | 2326/5407 [00:56<01:22, 37.44it/s]\u001b[A\n",
            " 43%|████▎     | 2331/5407 [00:56<01:17, 39.74it/s]\u001b[A\n",
            " 43%|████▎     | 2336/5407 [00:56<01:18, 38.89it/s]\u001b[A\n",
            " 43%|████▎     | 2341/5407 [00:56<01:26, 35.40it/s]\u001b[A\n",
            " 43%|████▎     | 2345/5407 [00:56<01:29, 34.28it/s]\u001b[A\n",
            " 43%|████▎     | 2350/5407 [00:56<01:23, 36.68it/s]\u001b[A\n",
            " 44%|████▎     | 2356/5407 [00:56<01:15, 40.54it/s]\u001b[A\n",
            " 44%|████▎     | 2363/5407 [00:56<01:06, 45.62it/s]\u001b[A\n",
            " 44%|████▍     | 2370/5407 [00:57<01:01, 49.63it/s]\u001b[A\n",
            " 44%|████▍     | 2377/5407 [00:57<00:56, 53.67it/s]\u001b[A\n",
            " 44%|████▍     | 2383/5407 [00:57<00:55, 54.96it/s]\u001b[A\n",
            " 44%|████▍     | 2389/5407 [00:57<00:54, 55.54it/s]\u001b[A\n",
            " 44%|████▍     | 2395/5407 [00:57<00:56, 53.54it/s]\u001b[A\n",
            " 44%|████▍     | 2403/5407 [00:57<00:51, 57.82it/s]\u001b[A\n",
            " 45%|████▍     | 2409/5407 [00:57<01:06, 45.12it/s]\u001b[A\n",
            " 45%|████▍     | 2415/5407 [00:57<01:13, 40.82it/s]\u001b[A\n",
            " 45%|████▍     | 2422/5407 [00:58<01:05, 45.60it/s]\u001b[A\n",
            " 45%|████▍     | 2428/5407 [00:58<01:00, 48.94it/s]\u001b[A\n",
            " 45%|████▌     | 2434/5407 [00:58<01:03, 47.19it/s]\u001b[A\n",
            " 45%|████▌     | 2440/5407 [00:58<00:59, 50.12it/s]\u001b[A\n",
            " 45%|████▌     | 2447/5407 [00:58<00:55, 53.18it/s]\u001b[A\n",
            " 45%|████▌     | 2453/5407 [00:58<00:54, 54.28it/s]\u001b[A\n",
            " 45%|████▌     | 2460/5407 [00:58<00:51, 57.47it/s]\u001b[A\n",
            " 46%|████▌     | 2466/5407 [00:58<00:50, 57.78it/s]\u001b[A\n",
            " 46%|████▌     | 2472/5407 [00:58<00:50, 57.99it/s]\u001b[A\n",
            " 46%|████▌     | 2479/5407 [00:59<00:50, 57.82it/s]\u001b[A\n",
            " 46%|████▌     | 2485/5407 [00:59<00:56, 51.88it/s]\u001b[A\n",
            " 46%|████▌     | 2491/5407 [00:59<00:56, 51.54it/s]\u001b[A\n",
            " 46%|████▌     | 2498/5407 [00:59<00:53, 53.88it/s]\u001b[A\n",
            " 46%|████▋     | 2504/5407 [00:59<00:52, 54.83it/s]\u001b[A\n",
            " 46%|████▋     | 2510/5407 [00:59<00:52, 54.90it/s]\u001b[A\n",
            " 47%|████▋     | 2516/5407 [00:59<00:56, 50.80it/s]\u001b[A\n",
            " 47%|████▋     | 2522/5407 [00:59<00:56, 50.90it/s]\u001b[A\n",
            " 47%|████▋     | 2528/5407 [01:00<01:03, 44.99it/s]\u001b[A\n",
            " 47%|████▋     | 2533/5407 [01:00<01:32, 31.16it/s]\u001b[A\n",
            " 47%|████▋     | 2539/5407 [01:00<01:19, 36.19it/s]\u001b[A\n",
            " 47%|████▋     | 2546/5407 [01:00<01:09, 41.25it/s]\u001b[A\n",
            " 47%|████▋     | 2551/5407 [01:00<01:14, 38.16it/s]\u001b[A\n",
            " 47%|████▋     | 2556/5407 [01:00<01:11, 40.04it/s]\u001b[A\n",
            " 47%|████▋     | 2562/5407 [01:00<01:04, 44.43it/s]\u001b[A\n",
            " 48%|████▊     | 2569/5407 [01:01<00:58, 48.30it/s]\u001b[A\n",
            " 48%|████▊     | 2575/5407 [01:01<00:56, 50.54it/s]\u001b[A\n",
            " 48%|████▊     | 2581/5407 [01:01<00:54, 52.10it/s]\u001b[A\n",
            " 48%|████▊     | 2587/5407 [01:01<00:52, 53.22it/s]\u001b[A\n",
            " 48%|████▊     | 2594/5407 [01:01<00:50, 55.91it/s]\u001b[A\n",
            " 48%|████▊     | 2600/5407 [01:01<00:57, 48.47it/s]\u001b[A\n",
            " 48%|████▊     | 2606/5407 [01:01<01:09, 40.50it/s]\u001b[A\n",
            " 48%|████▊     | 2611/5407 [01:02<01:24, 32.98it/s]\u001b[A\n",
            " 48%|████▊     | 2615/5407 [01:02<01:24, 32.91it/s]\u001b[A\n",
            " 48%|████▊     | 2619/5407 [01:02<01:24, 33.13it/s]\u001b[A\n",
            " 49%|████▊     | 2623/5407 [01:02<01:31, 30.40it/s]\u001b[A\n",
            " 49%|████▊     | 2627/5407 [01:02<01:33, 29.83it/s]\u001b[A\n",
            " 49%|████▊     | 2631/5407 [01:02<01:40, 27.59it/s]\u001b[A\n",
            " 49%|████▊     | 2635/5407 [01:02<01:33, 29.59it/s]\u001b[A\n",
            " 49%|████▉     | 2639/5407 [01:03<01:35, 28.88it/s]\u001b[A\n",
            " 49%|████▉     | 2642/5407 [01:03<01:42, 27.04it/s]\u001b[A\n",
            " 49%|████▉     | 2645/5407 [01:03<01:51, 24.76it/s]\u001b[A\n",
            " 49%|████▉     | 2648/5407 [01:03<01:55, 23.96it/s]\u001b[A\n",
            " 49%|████▉     | 2652/5407 [01:03<01:44, 26.49it/s]\u001b[A\n",
            " 49%|████▉     | 2655/5407 [01:03<01:42, 26.98it/s]\u001b[A\n",
            " 49%|████▉     | 2659/5407 [01:03<01:35, 28.69it/s]\u001b[A\n",
            " 49%|████▉     | 2663/5407 [01:03<01:27, 31.25it/s]\u001b[A\n",
            " 49%|████▉     | 2669/5407 [01:03<01:15, 36.43it/s]\u001b[A\n",
            " 49%|████▉     | 2676/5407 [01:04<01:07, 40.34it/s]\u001b[A\n",
            " 50%|████▉     | 2681/5407 [01:04<01:10, 38.75it/s]\u001b[A\n",
            " 50%|████▉     | 2687/5407 [01:04<01:04, 42.01it/s]\u001b[A\n",
            " 50%|████▉     | 2692/5407 [01:04<01:03, 42.99it/s]\u001b[A\n",
            " 50%|████▉     | 2698/5407 [01:04<00:57, 46.81it/s]\u001b[A\n",
            " 50%|█████     | 2705/5407 [01:04<00:53, 50.89it/s]\u001b[A\n",
            " 50%|█████     | 2712/5407 [01:04<00:50, 53.41it/s]\u001b[A\n",
            " 50%|█████     | 2718/5407 [01:04<00:48, 54.92it/s]\u001b[A\n",
            " 50%|█████     | 2725/5407 [01:05<00:46, 57.56it/s]\u001b[A\n",
            " 51%|█████     | 2731/5407 [01:05<00:48, 55.13it/s]\u001b[A\n",
            " 51%|█████     | 2737/5407 [01:05<00:49, 54.45it/s]\u001b[A\n",
            " 51%|█████     | 2744/5407 [01:05<00:46, 56.83it/s]\u001b[A\n",
            " 51%|█████     | 2750/5407 [01:05<00:46, 57.58it/s]\u001b[A\n",
            " 51%|█████     | 2757/5407 [01:05<00:45, 58.41it/s]\u001b[A\n",
            " 51%|█████     | 2764/5407 [01:05<00:46, 57.09it/s]\u001b[A\n",
            " 51%|█████     | 2770/5407 [01:05<00:54, 48.51it/s]\u001b[A\n",
            " 51%|█████▏    | 2776/5407 [01:06<01:00, 43.52it/s]\u001b[A\n",
            " 51%|█████▏    | 2781/5407 [01:06<01:03, 41.65it/s]\u001b[A\n",
            " 52%|█████▏    | 2786/5407 [01:06<01:07, 38.64it/s]\u001b[A\n",
            " 52%|█████▏    | 2792/5407 [01:06<01:00, 42.88it/s]\u001b[A\n",
            " 52%|█████▏    | 2798/5407 [01:06<00:56, 46.42it/s]\u001b[A\n",
            " 52%|█████▏    | 2805/5407 [01:06<00:51, 50.15it/s]\u001b[A\n",
            " 52%|█████▏    | 2811/5407 [01:06<00:50, 51.39it/s]\u001b[A\n",
            " 52%|█████▏    | 2817/5407 [01:06<00:51, 50.65it/s]\u001b[A\n",
            " 52%|█████▏    | 2823/5407 [01:06<00:49, 51.94it/s]\u001b[A\n",
            " 52%|█████▏    | 2829/5407 [01:07<00:47, 54.03it/s]\u001b[A\n",
            " 52%|█████▏    | 2835/5407 [01:07<00:49, 52.43it/s]\u001b[A\n",
            " 53%|█████▎    | 2841/5407 [01:07<00:58, 43.97it/s]\u001b[A\n",
            " 53%|█████▎    | 2846/5407 [01:07<01:05, 38.82it/s]\u001b[A\n",
            " 53%|█████▎    | 2851/5407 [01:07<01:22, 31.06it/s]\u001b[A\n",
            " 53%|█████▎    | 2855/5407 [01:07<01:25, 29.68it/s]\u001b[A\n",
            " 53%|█████▎    | 2859/5407 [01:08<01:20, 31.75it/s]\u001b[A\n",
            " 53%|█████▎    | 2864/5407 [01:08<01:11, 35.32it/s]\u001b[A\n",
            " 53%|█████▎    | 2870/5407 [01:08<01:05, 38.92it/s]\u001b[A\n",
            " 53%|█████▎    | 2877/5407 [01:08<00:57, 43.75it/s]\u001b[A\n",
            " 53%|█████▎    | 2883/5407 [01:08<00:53, 46.75it/s]\u001b[A\n",
            " 53%|█████▎    | 2890/5407 [01:08<00:49, 50.79it/s]\u001b[A\n",
            " 54%|█████▎    | 2896/5407 [01:08<00:47, 52.91it/s]\u001b[A\n",
            " 54%|█████▎    | 2902/5407 [01:08<00:52, 47.55it/s]\u001b[A\n",
            " 54%|█████▍    | 2908/5407 [01:09<00:56, 44.52it/s]\u001b[A\n",
            " 54%|█████▍    | 2913/5407 [01:09<00:55, 45.00it/s]\u001b[A\n",
            " 54%|█████▍    | 2920/5407 [01:09<00:50, 48.92it/s]\u001b[A\n",
            " 54%|█████▍    | 2927/5407 [01:09<00:46, 53.60it/s]\u001b[A\n",
            " 54%|█████▍    | 2933/5407 [01:09<00:45, 54.75it/s]\u001b[A\n",
            " 54%|█████▍    | 2939/5407 [01:09<00:44, 55.95it/s]\u001b[A\n",
            " 54%|█████▍    | 2945/5407 [01:09<00:45, 53.98it/s]\u001b[A\n",
            " 55%|█████▍    | 2951/5407 [01:09<00:50, 48.75it/s]\u001b[A\n",
            " 55%|█████▍    | 2957/5407 [01:09<00:55, 44.11it/s]\u001b[A\n",
            " 55%|█████▍    | 2962/5407 [01:10<00:54, 45.26it/s]\u001b[A\n",
            " 55%|█████▍    | 2968/5407 [01:10<00:51, 47.45it/s]\u001b[A\n",
            " 55%|█████▍    | 2973/5407 [01:10<00:53, 45.78it/s]\u001b[A\n",
            " 55%|█████▌    | 2978/5407 [01:10<00:52, 46.26it/s]\u001b[A\n",
            " 55%|█████▌    | 2983/5407 [01:10<00:58, 41.43it/s]\u001b[A\n",
            " 55%|█████▌    | 2989/5407 [01:10<00:53, 45.56it/s]\u001b[A\n",
            " 55%|█████▌    | 2995/5407 [01:10<00:49, 48.82it/s]\u001b[A\n",
            " 56%|█████▌    | 3001/5407 [01:10<00:47, 51.02it/s]\u001b[A\n",
            " 56%|█████▌    | 3007/5407 [01:11<00:51, 46.71it/s]\u001b[A\n",
            " 56%|█████▌    | 3014/5407 [01:11<00:47, 50.34it/s]\u001b[A\n",
            " 56%|█████▌    | 3021/5407 [01:11<00:44, 53.34it/s]\u001b[A\n",
            " 56%|█████▌    | 3027/5407 [01:11<00:45, 52.63it/s]\u001b[A\n",
            " 56%|█████▌    | 3033/5407 [01:11<00:50, 46.63it/s]\u001b[A\n",
            " 56%|█████▌    | 3038/5407 [01:11<00:53, 44.12it/s]\u001b[A\n",
            " 56%|█████▋    | 3043/5407 [01:11<00:54, 43.29it/s]\u001b[A\n",
            " 56%|█████▋    | 3048/5407 [01:11<00:55, 42.52it/s]\u001b[A\n",
            " 56%|█████▋    | 3053/5407 [01:12<01:02, 37.74it/s]\u001b[A\n",
            " 57%|█████▋    | 3057/5407 [01:12<01:03, 36.84it/s]\u001b[A\n",
            " 57%|█████▋    | 3061/5407 [01:12<01:03, 37.05it/s]\u001b[A\n",
            " 57%|█████▋    | 3065/5407 [01:12<01:05, 35.67it/s]\u001b[A\n",
            " 57%|█████▋    | 3069/5407 [01:12<01:08, 33.95it/s]\u001b[A\n",
            " 57%|█████▋    | 3073/5407 [01:12<01:11, 32.50it/s]\u001b[A\n",
            " 57%|█████▋    | 3077/5407 [01:12<01:11, 32.51it/s]\u001b[A\n",
            " 57%|█████▋    | 3081/5407 [01:12<01:08, 34.02it/s]\u001b[A\n",
            " 57%|█████▋    | 3085/5407 [01:13<01:07, 34.28it/s]\u001b[A\n",
            " 57%|█████▋    | 3089/5407 [01:13<01:07, 34.29it/s]\u001b[A\n",
            " 57%|█████▋    | 3093/5407 [01:13<01:05, 35.53it/s]\u001b[A\n",
            " 57%|█████▋    | 3097/5407 [01:13<01:21, 28.50it/s]\u001b[A\n",
            " 57%|█████▋    | 3101/5407 [01:13<01:15, 30.61it/s]\u001b[A\n",
            " 57%|█████▋    | 3105/5407 [01:13<01:35, 24.23it/s]\u001b[A\n",
            " 57%|█████▋    | 3109/5407 [01:13<01:31, 25.22it/s]\u001b[A\n",
            " 58%|█████▊    | 3112/5407 [01:14<01:44, 21.87it/s]\u001b[A\n",
            " 58%|█████▊    | 3117/5407 [01:14<01:31, 25.09it/s]\u001b[A\n",
            " 58%|█████▊    | 3121/5407 [01:14<01:26, 26.49it/s]\u001b[A\n",
            " 58%|█████▊    | 3124/5407 [01:14<01:29, 25.46it/s]\u001b[A\n",
            " 58%|█████▊    | 3128/5407 [01:14<01:26, 26.36it/s]\u001b[A\n",
            " 58%|█████▊    | 3131/5407 [01:14<01:47, 21.23it/s]\u001b[A\n",
            " 58%|█████▊    | 3134/5407 [01:14<01:45, 21.45it/s]\u001b[A\n",
            " 58%|█████▊    | 3139/5407 [01:15<01:30, 25.02it/s]\u001b[A\n",
            " 58%|█████▊    | 3143/5407 [01:15<01:21, 27.91it/s]\u001b[A\n",
            " 58%|█████▊    | 3148/5407 [01:15<01:11, 31.48it/s]\u001b[A\n",
            " 58%|█████▊    | 3152/5407 [01:15<01:07, 33.55it/s]\u001b[A\n",
            " 58%|█████▊    | 3156/5407 [01:15<01:05, 34.12it/s]\u001b[A\n",
            " 58%|█████▊    | 3160/5407 [01:15<01:13, 30.37it/s]\u001b[A\n",
            " 59%|█████▊    | 3165/5407 [01:15<01:07, 33.38it/s]\u001b[A\n",
            " 59%|█████▊    | 3170/5407 [01:15<01:03, 35.38it/s]\u001b[A\n",
            " 59%|█████▊    | 3174/5407 [01:16<01:02, 35.93it/s]\u001b[A\n",
            " 59%|█████▉    | 3179/5407 [01:16<00:59, 37.54it/s]\u001b[A\n",
            " 59%|█████▉    | 3183/5407 [01:16<00:58, 38.08it/s]\u001b[A\n",
            " 59%|█████▉    | 3188/5407 [01:16<00:55, 40.17it/s]\u001b[A\n",
            " 59%|█████▉    | 3193/5407 [01:16<01:00, 36.51it/s]\u001b[A\n",
            " 59%|█████▉    | 3197/5407 [01:16<01:00, 36.50it/s]\u001b[A\n",
            " 59%|█████▉    | 3201/5407 [01:16<00:59, 37.17it/s]\u001b[A\n",
            " 59%|█████▉    | 3205/5407 [01:16<00:59, 36.83it/s]\u001b[A\n",
            " 59%|█████▉    | 3209/5407 [01:17<01:03, 34.52it/s]\u001b[A\n",
            " 59%|█████▉    | 3213/5407 [01:17<01:13, 30.02it/s]\u001b[A\n",
            " 60%|█████▉    | 3218/5407 [01:17<01:06, 33.14it/s]\u001b[A\n",
            " 60%|█████▉    | 3222/5407 [01:17<01:06, 32.69it/s]\u001b[A\n",
            " 60%|█████▉    | 3226/5407 [01:17<01:04, 33.65it/s]\u001b[A\n",
            " 60%|█████▉    | 3230/5407 [01:17<01:03, 34.11it/s]\u001b[A\n",
            " 60%|█████▉    | 3234/5407 [01:17<01:08, 31.59it/s]\u001b[A\n",
            " 60%|█████▉    | 3239/5407 [01:17<01:03, 33.91it/s]\u001b[A\n",
            " 60%|█████▉    | 3243/5407 [01:18<01:07, 32.10it/s]\u001b[A\n",
            " 60%|██████    | 3247/5407 [01:18<01:03, 33.82it/s]\u001b[A\n",
            " 60%|██████    | 3253/5407 [01:18<00:57, 37.58it/s]\u001b[A\n",
            " 60%|██████    | 3257/5407 [01:18<01:00, 35.80it/s]\u001b[A\n",
            " 60%|██████    | 3262/5407 [01:18<01:02, 34.35it/s]\u001b[A\n",
            " 60%|██████    | 3266/5407 [01:18<01:02, 34.25it/s]\u001b[A\n",
            " 60%|██████    | 3270/5407 [01:18<01:07, 31.61it/s]\u001b[A\n",
            " 61%|██████    | 3274/5407 [01:18<01:05, 32.67it/s]\u001b[A\n",
            " 61%|██████    | 3278/5407 [01:19<01:07, 31.45it/s]\u001b[A\n",
            " 61%|██████    | 3283/5407 [01:19<01:02, 33.87it/s]\u001b[A\n",
            " 61%|██████    | 3288/5407 [01:19<00:57, 36.81it/s]\u001b[A\n",
            " 61%|██████    | 3292/5407 [01:19<00:57, 36.54it/s]\u001b[A\n",
            " 61%|██████    | 3296/5407 [01:19<01:04, 32.50it/s]\u001b[A\n",
            " 61%|██████    | 3301/5407 [01:19<01:01, 34.51it/s]\u001b[A\n",
            " 61%|██████    | 3305/5407 [01:19<01:05, 32.27it/s]\u001b[A\n",
            " 61%|██████    | 3309/5407 [01:19<01:03, 32.91it/s]\u001b[A\n",
            " 61%|██████▏   | 3313/5407 [01:20<01:04, 32.40it/s]\u001b[A\n",
            " 61%|██████▏   | 3317/5407 [01:20<01:05, 32.11it/s]\u001b[A\n",
            " 61%|██████▏   | 3321/5407 [01:20<01:08, 30.42it/s]\u001b[A\n",
            " 62%|██████▏   | 3328/5407 [01:20<00:57, 36.25it/s]\u001b[A\n",
            " 62%|██████▏   | 3335/5407 [01:20<00:48, 42.36it/s]\u001b[A\n",
            " 62%|██████▏   | 3341/5407 [01:20<00:44, 46.25it/s]\u001b[A\n",
            " 62%|██████▏   | 3348/5407 [01:20<00:40, 51.07it/s]\u001b[A\n",
            " 62%|██████▏   | 3354/5407 [01:20<00:39, 52.58it/s]\u001b[A\n",
            " 62%|██████▏   | 3361/5407 [01:21<00:38, 52.63it/s]\u001b[A\n",
            " 62%|██████▏   | 3368/5407 [01:21<00:36, 55.74it/s]\u001b[A\n",
            " 62%|██████▏   | 3374/5407 [01:21<00:37, 54.09it/s]\u001b[A\n",
            " 63%|██████▎   | 3380/5407 [01:21<00:45, 44.39it/s]\u001b[A\n",
            " 63%|██████▎   | 3385/5407 [01:21<00:55, 36.57it/s]\u001b[A\n",
            " 63%|██████▎   | 3390/5407 [01:21<00:56, 35.67it/s]\u001b[A\n",
            " 63%|██████▎   | 3394/5407 [01:21<00:57, 35.26it/s]\u001b[A\n",
            " 63%|██████▎   | 3398/5407 [01:22<01:00, 33.35it/s]\u001b[A\n",
            " 63%|██████▎   | 3402/5407 [01:22<01:17, 25.85it/s]\u001b[A\n",
            " 63%|██████▎   | 3406/5407 [01:22<01:15, 26.51it/s]\u001b[A\n",
            " 63%|██████▎   | 3410/5407 [01:22<01:09, 28.55it/s]\u001b[A\n",
            " 63%|██████▎   | 3414/5407 [01:22<01:11, 27.82it/s]\u001b[A\n",
            " 63%|██████▎   | 3418/5407 [01:22<01:05, 30.47it/s]\u001b[A\n",
            " 63%|██████▎   | 3423/5407 [01:22<00:59, 33.26it/s]\u001b[A\n",
            " 63%|██████▎   | 3427/5407 [01:22<00:57, 34.56it/s]\u001b[A\n",
            " 63%|██████▎   | 3433/5407 [01:23<00:51, 38.57it/s]\u001b[A\n",
            " 64%|██████▎   | 3439/5407 [01:23<00:47, 41.59it/s]\u001b[A\n",
            " 64%|██████▎   | 3445/5407 [01:23<00:45, 42.66it/s]\u001b[A\n",
            " 64%|██████▍   | 3450/5407 [01:23<00:44, 44.15it/s]\u001b[A\n",
            " 64%|██████▍   | 3456/5407 [01:23<00:42, 45.45it/s]\u001b[A\n",
            " 64%|██████▍   | 3461/5407 [01:23<00:46, 41.94it/s]\u001b[A\n",
            " 64%|██████▍   | 3466/5407 [01:23<00:52, 36.91it/s]\u001b[A\n",
            " 64%|██████▍   | 3470/5407 [01:24<01:12, 26.70it/s]\u001b[A\n",
            " 64%|██████▍   | 3474/5407 [01:24<01:11, 26.85it/s]\u001b[A\n",
            " 64%|██████▍   | 3478/5407 [01:24<01:16, 25.15it/s]\u001b[A\n",
            " 64%|██████▍   | 3482/5407 [01:24<01:10, 27.33it/s]\u001b[A\n",
            " 64%|██████▍   | 3485/5407 [01:24<01:14, 25.77it/s]\u001b[A\n",
            " 65%|██████▍   | 3490/5407 [01:24<01:07, 28.36it/s]\u001b[A\n",
            " 65%|██████▍   | 3494/5407 [01:24<01:03, 30.36it/s]\u001b[A\n",
            " 65%|██████▍   | 3499/5407 [01:25<00:56, 33.54it/s]\u001b[A\n",
            " 65%|██████▍   | 3503/5407 [01:25<00:58, 32.74it/s]\u001b[A\n",
            " 65%|██████▍   | 3509/5407 [01:25<00:50, 37.78it/s]\u001b[A\n",
            " 65%|██████▌   | 3515/5407 [01:25<00:44, 42.37it/s]\u001b[A\n",
            " 65%|██████▌   | 3520/5407 [01:25<00:46, 40.31it/s]\u001b[A\n",
            " 65%|██████▌   | 3525/5407 [01:25<00:51, 36.26it/s]\u001b[A\n",
            " 65%|██████▌   | 3530/5407 [01:25<00:53, 35.41it/s]\u001b[A\n",
            " 65%|██████▌   | 3537/5407 [01:25<00:45, 41.54it/s]\u001b[A\n",
            " 66%|██████▌   | 3543/5407 [01:26<00:41, 44.86it/s]\u001b[A\n",
            " 66%|██████▌   | 3548/5407 [01:26<00:40, 46.01it/s]\u001b[A\n",
            " 66%|██████▌   | 3553/5407 [01:26<00:44, 41.99it/s]\u001b[A\n",
            " 66%|██████▌   | 3558/5407 [01:26<00:43, 42.94it/s]\u001b[A\n",
            " 66%|██████▌   | 3563/5407 [01:26<00:41, 44.80it/s]\u001b[A\n",
            " 66%|██████▌   | 3568/5407 [01:26<00:45, 40.27it/s]\u001b[A\n",
            " 66%|██████▌   | 3573/5407 [01:26<00:49, 37.17it/s]\u001b[A\n",
            " 66%|██████▌   | 3578/5407 [01:26<00:47, 38.68it/s]\u001b[A\n",
            " 66%|██████▋   | 3584/5407 [01:27<00:43, 42.25it/s]\u001b[A\n",
            " 66%|██████▋   | 3590/5407 [01:27<00:41, 44.00it/s]\u001b[A\n",
            " 66%|██████▋   | 3595/5407 [01:27<00:41, 43.26it/s]\u001b[A\n",
            " 67%|██████▋   | 3601/5407 [01:27<00:39, 46.17it/s]\u001b[A\n",
            " 67%|██████▋   | 3606/5407 [01:27<00:41, 43.75it/s]\u001b[A\n",
            " 67%|██████▋   | 3611/5407 [01:27<00:44, 40.63it/s]\u001b[A\n",
            " 67%|██████▋   | 3616/5407 [01:27<00:57, 30.88it/s]\u001b[A\n",
            " 67%|██████▋   | 3621/5407 [01:28<00:52, 33.79it/s]\u001b[A\n",
            " 67%|██████▋   | 3625/5407 [01:28<00:55, 32.00it/s]\u001b[A\n",
            " 67%|██████▋   | 3629/5407 [01:28<01:18, 22.51it/s]\u001b[A\n",
            " 67%|██████▋   | 3632/5407 [01:28<01:14, 23.72it/s]\u001b[A\n",
            " 67%|██████▋   | 3635/5407 [01:28<01:14, 23.88it/s]\u001b[A\n",
            " 67%|██████▋   | 3640/5407 [01:28<01:03, 27.73it/s]\u001b[A\n",
            " 67%|██████▋   | 3645/5407 [01:28<00:55, 31.55it/s]\u001b[A\n",
            " 68%|██████▊   | 3650/5407 [01:29<00:50, 34.64it/s]\u001b[A\n",
            " 68%|██████▊   | 3655/5407 [01:29<00:50, 34.75it/s]\u001b[A\n",
            " 68%|██████▊   | 3660/5407 [01:29<00:45, 38.02it/s]\u001b[A\n",
            " 68%|██████▊   | 3665/5407 [01:29<00:43, 40.13it/s]\u001b[A\n",
            " 68%|██████▊   | 3670/5407 [01:29<00:42, 40.66it/s]\u001b[A\n",
            " 68%|██████▊   | 3677/5407 [01:29<00:38, 45.37it/s]\u001b[A\n",
            " 68%|██████▊   | 3684/5407 [01:29<00:35, 49.20it/s]\u001b[A\n",
            " 68%|██████▊   | 3690/5407 [01:29<00:36, 47.36it/s]\u001b[A\n",
            " 68%|██████▊   | 3695/5407 [01:30<00:44, 38.54it/s]\u001b[A\n",
            " 68%|██████▊   | 3700/5407 [01:30<00:55, 30.72it/s]\u001b[A\n",
            " 69%|██████▊   | 3704/5407 [01:30<00:54, 31.05it/s]\u001b[A\n",
            " 69%|██████▊   | 3708/5407 [01:30<00:54, 31.18it/s]\u001b[A\n",
            " 69%|██████▊   | 3712/5407 [01:30<01:00, 27.86it/s]\u001b[A\n",
            " 69%|██████▊   | 3716/5407 [01:30<01:03, 26.45it/s]\u001b[A\n",
            " 69%|██████▉   | 3722/5407 [01:31<00:53, 31.47it/s]\u001b[A\n",
            " 69%|██████▉   | 3726/5407 [01:31<00:54, 30.97it/s]\u001b[A\n",
            " 69%|██████▉   | 3730/5407 [01:31<00:57, 29.17it/s]\u001b[A\n",
            " 69%|██████▉   | 3734/5407 [01:31<00:52, 31.59it/s]\u001b[A\n",
            " 69%|██████▉   | 3738/5407 [01:31<00:52, 31.90it/s]\u001b[A\n",
            " 69%|██████▉   | 3742/5407 [01:31<00:56, 29.57it/s]\u001b[A\n",
            " 69%|██████▉   | 3746/5407 [01:31<00:53, 31.10it/s]\u001b[A\n",
            " 69%|██████▉   | 3753/5407 [01:31<00:44, 36.97it/s]\u001b[A\n",
            " 70%|██████▉   | 3759/5407 [01:32<00:39, 41.57it/s]\u001b[A\n",
            " 70%|██████▉   | 3764/5407 [01:32<00:47, 34.35it/s]\u001b[A\n",
            " 70%|██████▉   | 3769/5407 [01:32<00:49, 33.08it/s]\u001b[A\n",
            " 70%|██████▉   | 3773/5407 [01:32<00:48, 33.78it/s]\u001b[A\n",
            " 70%|██████▉   | 3777/5407 [01:32<00:49, 32.65it/s]\u001b[A\n",
            " 70%|██████▉   | 3781/5407 [01:32<00:51, 31.52it/s]\u001b[A\n",
            " 70%|███████   | 3785/5407 [01:32<00:50, 32.29it/s]\u001b[A\n",
            " 70%|███████   | 3789/5407 [01:33<00:52, 30.97it/s]\u001b[A\n",
            " 70%|███████   | 3793/5407 [01:33<00:49, 32.45it/s]\u001b[A\n",
            " 70%|███████   | 3798/5407 [01:33<00:44, 36.26it/s]\u001b[A\n",
            " 70%|███████   | 3804/5407 [01:33<00:39, 40.74it/s]\u001b[A\n",
            " 70%|███████   | 3811/5407 [01:33<00:35, 45.41it/s]\u001b[A\n",
            " 71%|███████   | 3817/5407 [01:33<00:34, 46.16it/s]\u001b[A\n",
            " 71%|███████   | 3823/5407 [01:33<00:33, 47.47it/s]\u001b[A\n",
            " 71%|███████   | 3829/5407 [01:33<00:31, 49.99it/s]\u001b[A\n",
            " 71%|███████   | 3835/5407 [01:33<00:30, 51.21it/s]\u001b[A\n",
            " 71%|███████   | 3841/5407 [01:34<00:31, 50.19it/s]\u001b[A\n",
            " 71%|███████   | 3847/5407 [01:34<00:33, 46.95it/s]\u001b[A\n",
            " 71%|███████   | 3852/5407 [01:34<00:37, 41.32it/s]\u001b[A\n",
            " 71%|███████▏  | 3857/5407 [01:34<00:39, 39.20it/s]\u001b[A\n",
            " 71%|███████▏  | 3864/5407 [01:34<00:34, 44.94it/s]\u001b[A\n",
            " 72%|███████▏  | 3869/5407 [01:34<00:33, 46.28it/s]\u001b[A\n",
            " 72%|███████▏  | 3876/5407 [01:34<00:30, 50.14it/s]\u001b[A\n",
            " 72%|███████▏  | 3883/5407 [01:34<00:27, 54.64it/s]\u001b[A\n",
            " 72%|███████▏  | 3890/5407 [01:35<00:26, 57.38it/s]\u001b[A\n",
            " 72%|███████▏  | 3897/5407 [01:35<00:25, 58.57it/s]\u001b[A\n",
            " 72%|███████▏  | 3904/5407 [01:35<00:25, 59.99it/s]\u001b[A\n",
            " 72%|███████▏  | 3911/5407 [01:35<00:25, 58.41it/s]\u001b[A\n",
            " 72%|███████▏  | 3918/5407 [01:35<00:24, 61.10it/s]\u001b[A\n",
            " 73%|███████▎  | 3925/5407 [01:35<00:24, 60.63it/s]\u001b[A\n",
            " 73%|███████▎  | 3932/5407 [01:35<00:24, 61.01it/s]\u001b[A\n",
            " 73%|███████▎  | 3939/5407 [01:35<00:24, 60.30it/s]\u001b[A\n",
            " 73%|███████▎  | 3946/5407 [01:35<00:23, 60.99it/s]\u001b[A\n",
            " 73%|███████▎  | 3953/5407 [01:36<00:24, 58.73it/s]\u001b[A\n",
            " 73%|███████▎  | 3959/5407 [01:36<00:24, 58.81it/s]\u001b[A\n",
            " 73%|███████▎  | 3965/5407 [01:36<00:24, 57.89it/s]\u001b[A\n",
            " 73%|███████▎  | 3971/5407 [01:36<00:32, 43.95it/s]\u001b[A\n",
            " 74%|███████▎  | 3976/5407 [01:36<00:34, 41.81it/s]\u001b[A\n",
            " 74%|███████▎  | 3981/5407 [01:36<00:33, 42.08it/s]\u001b[A\n",
            " 74%|███████▎  | 3986/5407 [01:36<00:35, 39.57it/s]\u001b[A\n",
            " 74%|███████▍  | 3991/5407 [01:37<00:38, 36.76it/s]\u001b[A\n",
            " 74%|███████▍  | 3996/5407 [01:37<00:36, 39.12it/s]\u001b[A\n",
            " 74%|███████▍  | 4001/5407 [01:37<00:38, 36.43it/s]\u001b[A\n",
            " 74%|███████▍  | 4006/5407 [01:37<00:35, 39.53it/s]\u001b[A\n",
            " 74%|███████▍  | 4011/5407 [01:37<00:33, 42.04it/s]\u001b[A\n",
            " 74%|███████▍  | 4016/5407 [01:37<00:34, 40.45it/s]\u001b[A\n",
            " 74%|███████▍  | 4021/5407 [01:37<00:33, 41.02it/s]\u001b[A\n",
            " 74%|███████▍  | 4026/5407 [01:37<00:39, 34.83it/s]\u001b[A\n",
            " 75%|███████▍  | 4030/5407 [01:38<00:39, 35.14it/s]\u001b[A\n",
            " 75%|███████▍  | 4034/5407 [01:38<00:42, 32.46it/s]\u001b[A\n",
            " 75%|███████▍  | 4038/5407 [01:38<00:47, 29.12it/s]\u001b[A\n",
            " 75%|███████▍  | 4042/5407 [01:38<00:45, 29.68it/s]\u001b[A\n",
            " 75%|███████▍  | 4046/5407 [01:38<00:46, 29.05it/s]\u001b[A\n",
            " 75%|███████▍  | 4049/5407 [01:38<00:48, 27.90it/s]\u001b[A\n",
            " 75%|███████▍  | 4053/5407 [01:38<00:45, 29.91it/s]\u001b[A\n",
            " 75%|███████▌  | 4059/5407 [01:39<00:38, 35.11it/s]\u001b[A\n",
            " 75%|███████▌  | 4066/5407 [01:39<00:33, 40.37it/s]\u001b[A\n",
            " 75%|███████▌  | 4072/5407 [01:39<00:30, 43.70it/s]\u001b[A\n",
            " 75%|███████▌  | 4077/5407 [01:39<00:30, 43.36it/s]\u001b[A\n",
            " 76%|███████▌  | 4083/5407 [01:39<00:28, 46.70it/s]\u001b[A\n",
            " 76%|███████▌  | 4089/5407 [01:39<00:26, 49.24it/s]\u001b[A\n",
            " 76%|███████▌  | 4095/5407 [01:39<00:26, 49.51it/s]\u001b[A\n",
            " 76%|███████▌  | 4101/5407 [01:39<00:25, 50.93it/s]\u001b[A\n",
            " 76%|███████▌  | 4107/5407 [01:39<00:24, 52.01it/s]\u001b[A\n",
            " 76%|███████▌  | 4114/5407 [01:39<00:23, 56.05it/s]\u001b[A\n",
            " 76%|███████▌  | 4120/5407 [01:40<00:23, 54.60it/s]\u001b[A\n",
            " 76%|███████▋  | 4127/5407 [01:40<00:22, 56.82it/s]\u001b[A\n",
            " 76%|███████▋  | 4134/5407 [01:40<00:21, 59.12it/s]\u001b[A\n",
            " 77%|███████▋  | 4141/5407 [01:40<00:21, 59.36it/s]\u001b[A\n",
            " 77%|███████▋  | 4148/5407 [01:40<00:20, 60.21it/s]\u001b[A\n",
            " 77%|███████▋  | 4155/5407 [01:40<00:21, 57.14it/s]\u001b[A\n",
            " 77%|███████▋  | 4161/5407 [01:40<00:26, 47.62it/s]\u001b[A\n",
            " 77%|███████▋  | 4167/5407 [01:40<00:24, 50.15it/s]\u001b[A\n",
            " 77%|███████▋  | 4174/5407 [01:41<00:22, 54.57it/s]\u001b[A\n",
            " 77%|███████▋  | 4182/5407 [01:41<00:20, 59.21it/s]\u001b[A\n",
            " 77%|███████▋  | 4189/5407 [01:41<00:21, 57.32it/s]\u001b[A\n",
            " 78%|███████▊  | 4195/5407 [01:41<00:23, 51.01it/s]\u001b[A\n",
            " 78%|███████▊  | 4201/5407 [01:41<00:28, 41.82it/s]\u001b[A\n",
            " 78%|███████▊  | 4206/5407 [01:41<00:29, 41.16it/s]\u001b[A\n",
            " 78%|███████▊  | 4211/5407 [01:41<00:31, 38.16it/s]\u001b[A\n",
            " 78%|███████▊  | 4216/5407 [01:42<00:34, 34.74it/s]\u001b[A\n",
            " 78%|███████▊  | 4220/5407 [01:42<00:35, 33.84it/s]\u001b[A\n",
            " 78%|███████▊  | 4224/5407 [01:42<00:38, 30.71it/s]\u001b[A\n",
            " 78%|███████▊  | 4228/5407 [01:42<00:45, 26.01it/s]\u001b[A\n",
            " 78%|███████▊  | 4231/5407 [01:42<00:46, 25.52it/s]\u001b[A\n",
            " 78%|███████▊  | 4235/5407 [01:42<00:41, 28.34it/s]\u001b[A\n",
            " 78%|███████▊  | 4239/5407 [01:42<00:39, 29.43it/s]\u001b[A\n",
            " 78%|███████▊  | 4243/5407 [01:43<00:42, 27.54it/s]\u001b[A\n",
            " 79%|███████▊  | 4246/5407 [01:43<00:42, 27.20it/s]\u001b[A\n",
            " 79%|███████▊  | 4252/5407 [01:43<00:38, 30.37it/s]\u001b[A\n",
            " 79%|███████▊  | 4256/5407 [01:43<00:35, 32.48it/s]\u001b[A\n",
            " 79%|███████▉  | 4260/5407 [01:43<00:45, 25.30it/s]\u001b[A\n",
            " 79%|███████▉  | 4264/5407 [01:43<00:40, 28.04it/s]\u001b[A\n",
            " 79%|███████▉  | 4268/5407 [01:43<00:40, 28.40it/s]\u001b[A\n",
            " 79%|███████▉  | 4272/5407 [01:44<00:45, 25.10it/s]\u001b[A\n",
            " 79%|███████▉  | 4275/5407 [01:44<00:47, 23.89it/s]\u001b[A\n",
            " 79%|███████▉  | 4278/5407 [01:44<00:50, 22.27it/s]\u001b[A\n",
            " 79%|███████▉  | 4281/5407 [01:44<00:57, 19.69it/s]\u001b[A\n",
            " 79%|███████▉  | 4285/5407 [01:44<00:51, 21.76it/s]\u001b[A\n",
            " 79%|███████▉  | 4289/5407 [01:44<00:45, 24.64it/s]\u001b[A\n",
            " 79%|███████▉  | 4293/5407 [01:45<00:40, 27.47it/s]\u001b[A\n",
            " 79%|███████▉  | 4297/5407 [01:45<00:40, 27.23it/s]\u001b[A\n",
            " 80%|███████▉  | 4301/5407 [01:45<00:37, 29.32it/s]\u001b[A\n",
            " 80%|███████▉  | 4305/5407 [01:45<00:34, 31.66it/s]\u001b[A\n",
            " 80%|███████▉  | 4310/5407 [01:45<00:33, 32.98it/s]\u001b[A\n",
            " 80%|███████▉  | 4314/5407 [01:45<00:37, 29.38it/s]\u001b[A\n",
            " 80%|███████▉  | 4318/5407 [01:45<00:35, 30.42it/s]\u001b[A\n",
            " 80%|███████▉  | 4323/5407 [01:45<00:33, 32.77it/s]\u001b[A\n",
            " 80%|████████  | 4327/5407 [01:46<00:32, 32.88it/s]\u001b[A\n",
            " 80%|████████  | 4331/5407 [01:46<00:33, 32.30it/s]\u001b[A\n",
            " 80%|████████  | 4335/5407 [01:46<00:35, 30.55it/s]\u001b[A\n",
            " 80%|████████  | 4339/5407 [01:46<00:32, 32.68it/s]\u001b[A\n",
            " 80%|████████  | 4343/5407 [01:46<00:31, 34.14it/s]\u001b[A\n",
            " 80%|████████  | 4347/5407 [01:46<00:30, 34.30it/s]\u001b[A\n",
            " 80%|████████  | 4351/5407 [01:46<00:38, 27.42it/s]\u001b[A\n",
            " 81%|████████  | 4355/5407 [01:47<00:36, 28.81it/s]\u001b[A\n",
            " 81%|████████  | 4360/5407 [01:47<00:34, 30.62it/s]\u001b[A\n",
            " 81%|████████  | 4364/5407 [01:47<00:32, 32.31it/s]\u001b[A\n",
            " 81%|████████  | 4369/5407 [01:47<00:30, 34.11it/s]\u001b[A\n",
            " 81%|████████  | 4374/5407 [01:47<00:28, 36.26it/s]\u001b[A\n",
            " 81%|████████  | 4379/5407 [01:47<00:26, 38.50it/s]\u001b[A\n",
            " 81%|████████  | 4383/5407 [01:47<00:26, 38.89it/s]\u001b[A\n",
            " 81%|████████  | 4388/5407 [01:47<00:25, 40.32it/s]\u001b[A\n",
            " 81%|████████  | 4393/5407 [01:47<00:28, 35.49it/s]\u001b[A\n",
            " 81%|████████▏ | 4397/5407 [01:48<00:29, 34.56it/s]\u001b[A\n",
            " 81%|████████▏ | 4402/5407 [01:48<00:31, 32.24it/s]\u001b[A\n",
            " 81%|████████▏ | 4406/5407 [01:48<00:32, 30.65it/s]\u001b[A\n",
            " 82%|████████▏ | 4410/5407 [01:48<00:30, 32.74it/s]\u001b[A\n",
            " 82%|████████▏ | 4414/5407 [01:48<00:31, 31.58it/s]\u001b[A\n",
            " 82%|████████▏ | 4418/5407 [01:48<00:36, 27.18it/s]\u001b[A\n",
            " 82%|████████▏ | 4421/5407 [01:49<00:37, 26.02it/s]\u001b[A\n",
            " 82%|████████▏ | 4425/5407 [01:49<00:35, 27.63it/s]\u001b[A\n",
            " 82%|████████▏ | 4429/5407 [01:49<00:34, 28.65it/s]\u001b[A\n",
            " 82%|████████▏ | 4433/5407 [01:49<00:31, 30.65it/s]\u001b[A\n",
            " 82%|████████▏ | 4437/5407 [01:49<00:30, 32.07it/s]\u001b[A\n",
            " 82%|████████▏ | 4441/5407 [01:49<00:31, 30.23it/s]\u001b[A\n",
            " 82%|████████▏ | 4445/5407 [01:49<00:32, 29.41it/s]\u001b[A\n",
            " 82%|████████▏ | 4449/5407 [01:49<00:32, 29.04it/s]\u001b[A\n",
            " 82%|████████▏ | 4453/5407 [01:50<00:32, 29.12it/s]\u001b[A\n",
            " 82%|████████▏ | 4456/5407 [01:50<00:32, 29.34it/s]\u001b[A\n",
            " 83%|████████▎ | 4461/5407 [01:50<00:29, 31.95it/s]\u001b[A\n",
            " 83%|████████▎ | 4465/5407 [01:50<00:31, 29.96it/s]\u001b[A\n",
            " 83%|████████▎ | 4469/5407 [01:50<00:31, 29.60it/s]\u001b[A\n",
            " 83%|████████▎ | 4473/5407 [01:50<00:32, 28.33it/s]\u001b[A\n",
            " 83%|████████▎ | 4476/5407 [01:50<00:33, 27.55it/s]\u001b[A\n",
            " 83%|████████▎ | 4480/5407 [01:50<00:30, 30.06it/s]\u001b[A\n",
            " 83%|████████▎ | 4484/5407 [01:51<00:29, 30.97it/s]\u001b[A\n",
            " 83%|████████▎ | 4488/5407 [01:51<00:30, 30.52it/s]\u001b[A\n",
            " 83%|████████▎ | 4492/5407 [01:51<00:28, 32.42it/s]\u001b[A\n",
            " 83%|████████▎ | 4496/5407 [01:51<00:28, 32.12it/s]\u001b[A\n",
            " 83%|████████▎ | 4500/5407 [01:51<00:27, 33.53it/s]\u001b[A\n",
            " 83%|████████▎ | 4504/5407 [01:51<00:29, 30.96it/s]\u001b[A\n",
            " 83%|████████▎ | 4508/5407 [01:51<00:28, 31.08it/s]\u001b[A\n",
            " 83%|████████▎ | 4512/5407 [01:51<00:27, 32.22it/s]\u001b[A\n",
            " 84%|████████▎ | 4516/5407 [01:52<00:26, 33.15it/s]\u001b[A\n",
            " 84%|████████▎ | 4520/5407 [01:52<00:25, 34.47it/s]\u001b[A\n",
            " 84%|████████▎ | 4524/5407 [01:52<00:25, 34.43it/s]\u001b[A\n",
            " 84%|████████▎ | 4528/5407 [01:52<00:28, 31.33it/s]\u001b[A\n",
            " 84%|████████▍ | 4532/5407 [01:52<00:28, 30.42it/s]\u001b[A\n",
            " 84%|████████▍ | 4537/5407 [01:52<00:25, 33.69it/s]\u001b[A\n",
            " 84%|████████▍ | 4542/5407 [01:52<00:23, 37.13it/s]\u001b[A\n",
            " 84%|████████▍ | 4548/5407 [01:52<00:21, 40.75it/s]\u001b[A\n",
            " 84%|████████▍ | 4553/5407 [01:52<00:19, 42.86it/s]\u001b[A\n",
            " 84%|████████▍ | 4558/5407 [01:53<00:21, 38.80it/s]\u001b[A\n",
            " 84%|████████▍ | 4563/5407 [01:53<00:21, 39.25it/s]\u001b[A\n",
            " 84%|████████▍ | 4568/5407 [01:53<00:21, 39.20it/s]\u001b[A\n",
            " 85%|████████▍ | 4574/5407 [01:53<00:19, 43.69it/s]\u001b[A\n",
            " 85%|████████▍ | 4579/5407 [01:53<00:18, 44.82it/s]\u001b[A\n",
            " 85%|████████▍ | 4584/5407 [01:53<00:17, 45.92it/s]\u001b[A\n",
            " 85%|████████▍ | 4590/5407 [01:53<00:16, 49.39it/s]\u001b[A\n",
            " 85%|████████▌ | 4597/5407 [01:53<00:15, 52.50it/s]\u001b[A\n",
            " 85%|████████▌ | 4603/5407 [01:54<00:20, 38.37it/s]\u001b[A\n",
            " 85%|████████▌ | 4608/5407 [01:54<00:23, 34.59it/s]\u001b[A\n",
            " 85%|████████▌ | 4615/5407 [01:54<00:19, 39.96it/s]\u001b[A\n",
            " 85%|████████▌ | 4621/5407 [01:54<00:18, 42.57it/s]\u001b[A\n",
            " 86%|████████▌ | 4628/5407 [01:54<00:16, 47.36it/s]\u001b[A\n",
            " 86%|████████▌ | 4635/5407 [01:54<00:15, 51.14it/s]\u001b[A\n",
            " 86%|████████▌ | 4642/5407 [01:54<00:14, 54.26it/s]\u001b[A\n",
            " 86%|████████▌ | 4649/5407 [01:55<00:13, 56.46it/s]\u001b[A\n",
            " 86%|████████▌ | 4655/5407 [01:55<00:13, 56.72it/s]\u001b[A\n",
            " 86%|████████▌ | 4662/5407 [01:55<00:13, 54.32it/s]\u001b[A\n",
            " 86%|████████▋ | 4668/5407 [01:55<00:16, 44.50it/s]\u001b[A\n",
            " 86%|████████▋ | 4673/5407 [01:55<00:18, 39.21it/s]\u001b[A\n",
            " 87%|████████▋ | 4678/5407 [01:55<00:19, 37.06it/s]\u001b[A\n",
            " 87%|████████▋ | 4683/5407 [01:55<00:19, 36.98it/s]\u001b[A\n",
            " 87%|████████▋ | 4688/5407 [01:56<00:18, 38.18it/s]\u001b[A\n",
            " 87%|████████▋ | 4692/5407 [01:56<00:19, 36.22it/s]\u001b[A\n",
            " 87%|████████▋ | 4696/5407 [01:56<00:19, 36.09it/s]\u001b[A\n",
            " 87%|████████▋ | 4701/5407 [01:56<00:18, 37.79it/s]\u001b[A\n",
            " 87%|████████▋ | 4705/5407 [01:56<00:22, 30.67it/s]\u001b[A\n",
            " 87%|████████▋ | 4709/5407 [01:56<00:21, 32.27it/s]\u001b[A\n",
            " 87%|████████▋ | 4715/5407 [01:56<00:18, 36.68it/s]\u001b[A\n",
            " 87%|████████▋ | 4721/5407 [01:56<00:17, 39.03it/s]\u001b[A\n",
            " 87%|████████▋ | 4726/5407 [01:57<00:16, 40.33it/s]\u001b[A\n",
            " 87%|████████▋ | 4731/5407 [01:57<00:18, 36.57it/s]\u001b[A\n",
            " 88%|████████▊ | 4735/5407 [01:57<00:21, 30.62it/s]\u001b[A\n",
            " 88%|████████▊ | 4739/5407 [01:57<00:21, 31.76it/s]\u001b[A\n",
            " 88%|████████▊ | 4743/5407 [01:57<00:20, 33.10it/s]\u001b[A\n",
            " 88%|████████▊ | 4747/5407 [01:57<00:19, 33.08it/s]\u001b[A\n",
            " 88%|████████▊ | 4752/5407 [01:57<00:18, 36.08it/s]\u001b[A\n",
            " 88%|████████▊ | 4756/5407 [01:57<00:17, 36.99it/s]\u001b[A\n",
            " 88%|████████▊ | 4760/5407 [01:58<00:22, 29.20it/s]\u001b[A\n",
            " 88%|████████▊ | 4765/5407 [01:58<00:20, 32.05it/s]\u001b[A\n",
            " 88%|████████▊ | 4769/5407 [01:58<00:20, 30.87it/s]\u001b[A\n",
            " 88%|████████▊ | 4773/5407 [01:58<00:21, 30.12it/s]\u001b[A\n",
            " 88%|████████▊ | 4777/5407 [01:58<00:22, 27.41it/s]\u001b[A\n",
            " 88%|████████▊ | 4780/5407 [01:58<00:25, 25.06it/s]\u001b[A\n",
            " 88%|████████▊ | 4784/5407 [01:59<00:23, 26.59it/s]\u001b[A\n",
            " 89%|████████▊ | 4789/5407 [01:59<00:21, 29.39it/s]\u001b[A\n",
            " 89%|████████▊ | 4793/5407 [01:59<00:20, 29.85it/s]\u001b[A\n",
            " 89%|████████▊ | 4798/5407 [01:59<00:18, 33.00it/s]\u001b[A\n",
            " 89%|████████▉ | 4802/5407 [01:59<00:17, 34.23it/s]\u001b[A\n",
            " 89%|████████▉ | 4806/5407 [01:59<00:17, 34.42it/s]\u001b[A\n",
            " 89%|████████▉ | 4810/5407 [01:59<00:16, 35.29it/s]\u001b[A\n",
            " 89%|████████▉ | 4814/5407 [01:59<00:17, 34.00it/s]\u001b[A\n",
            " 89%|████████▉ | 4818/5407 [01:59<00:19, 30.38it/s]\u001b[A\n",
            " 89%|████████▉ | 4822/5407 [02:00<00:21, 27.54it/s]\u001b[A\n",
            " 89%|████████▉ | 4825/5407 [02:00<00:20, 27.89it/s]\u001b[A\n",
            " 89%|████████▉ | 4830/5407 [02:00<00:18, 30.65it/s]\u001b[A\n",
            " 89%|████████▉ | 4834/5407 [02:00<00:19, 30.01it/s]\u001b[A\n",
            " 89%|████████▉ | 4839/5407 [02:00<00:17, 33.31it/s]\u001b[A\n",
            " 90%|████████▉ | 4843/5407 [02:00<00:17, 32.55it/s]\u001b[A\n",
            " 90%|████████▉ | 4847/5407 [02:00<00:19, 29.45it/s]\u001b[A\n",
            " 90%|████████▉ | 4851/5407 [02:01<00:19, 28.52it/s]\u001b[A\n",
            " 90%|████████▉ | 4855/5407 [02:01<00:18, 30.48it/s]\u001b[A\n",
            " 90%|████████▉ | 4859/5407 [02:01<00:17, 31.14it/s]\u001b[A\n",
            " 90%|████████▉ | 4863/5407 [02:01<00:18, 29.41it/s]\u001b[A\n",
            " 90%|█████████ | 4867/5407 [02:01<00:17, 31.43it/s]\u001b[A\n",
            " 90%|█████████ | 4871/5407 [02:01<00:17, 30.50it/s]\u001b[A\n",
            " 90%|█████████ | 4875/5407 [02:01<00:20, 26.45it/s]\u001b[A\n",
            " 90%|█████████ | 4879/5407 [02:02<00:18, 29.30it/s]\u001b[A\n",
            " 90%|█████████ | 4883/5407 [02:02<00:18, 28.61it/s]\u001b[A\n",
            " 90%|█████████ | 4887/5407 [02:02<00:16, 30.91it/s]\u001b[A\n",
            " 91%|█████████ | 4895/5407 [02:02<00:13, 37.05it/s]\u001b[A\n",
            " 91%|█████████ | 4901/5407 [02:02<00:12, 41.26it/s]\u001b[A\n",
            " 91%|█████████ | 4907/5407 [02:02<00:11, 44.49it/s]\u001b[A\n",
            " 91%|█████████ | 4912/5407 [02:02<00:13, 36.42it/s]\u001b[A\n",
            " 91%|█████████ | 4917/5407 [02:02<00:13, 37.18it/s]\u001b[A\n",
            " 91%|█████████ | 4922/5407 [02:03<00:12, 38.25it/s]\u001b[A\n",
            " 91%|█████████ | 4927/5407 [02:03<00:12, 38.25it/s]\u001b[A\n",
            " 91%|█████████ | 4932/5407 [02:03<00:11, 41.12it/s]\u001b[A\n",
            " 91%|█████████▏| 4938/5407 [02:03<00:11, 42.63it/s]\u001b[A\n",
            " 91%|█████████▏| 4943/5407 [02:03<00:10, 44.05it/s]\u001b[A\n",
            " 92%|█████████▏| 4948/5407 [02:03<00:10, 41.90it/s]\u001b[A\n",
            " 92%|█████████▏| 4953/5407 [02:03<00:12, 36.78it/s]\u001b[A\n",
            " 92%|█████████▏| 4957/5407 [02:04<00:14, 30.70it/s]\u001b[A\n",
            " 92%|█████████▏| 4961/5407 [02:04<00:15, 28.92it/s]\u001b[A\n",
            " 92%|█████████▏| 4965/5407 [02:04<00:17, 24.92it/s]\u001b[A\n",
            " 92%|█████████▏| 4969/5407 [02:04<00:16, 27.00it/s]\u001b[A\n",
            " 92%|█████████▏| 4973/5407 [02:04<00:15, 28.71it/s]\u001b[A\n",
            " 92%|█████████▏| 4977/5407 [02:04<00:14, 29.05it/s]\u001b[A\n",
            " 92%|█████████▏| 4982/5407 [02:04<00:13, 32.44it/s]\u001b[A\n",
            " 92%|█████████▏| 4986/5407 [02:04<00:12, 32.99it/s]\u001b[A\n",
            " 92%|█████████▏| 4990/5407 [02:05<00:14, 29.49it/s]\u001b[A\n",
            " 92%|█████████▏| 4994/5407 [02:05<00:13, 30.39it/s]\u001b[A\n",
            " 92%|█████████▏| 4998/5407 [02:05<00:14, 28.20it/s]\u001b[A\n",
            " 93%|█████████▎| 5002/5407 [02:05<00:13, 29.20it/s]\u001b[A\n",
            " 93%|█████████▎| 5007/5407 [02:05<00:12, 32.62it/s]\u001b[A\n",
            " 93%|█████████▎| 5012/5407 [02:05<00:11, 33.12it/s]\u001b[A\n",
            " 93%|█████████▎| 5016/5407 [02:05<00:13, 29.52it/s]\u001b[A\n",
            " 93%|█████████▎| 5020/5407 [02:06<00:12, 30.00it/s]\u001b[A\n",
            " 93%|█████████▎| 5024/5407 [02:06<00:11, 32.34it/s]\u001b[A\n",
            " 93%|█████████▎| 5028/5407 [02:06<00:12, 30.59it/s]\u001b[A\n",
            " 93%|█████████▎| 5032/5407 [02:06<00:11, 31.38it/s]\u001b[A\n",
            " 93%|█████████▎| 5036/5407 [02:06<00:11, 33.47it/s]\u001b[A\n",
            " 93%|█████████▎| 5041/5407 [02:06<00:10, 35.85it/s]\u001b[A\n",
            " 93%|█████████▎| 5045/5407 [02:06<00:10, 34.84it/s]\u001b[A\n",
            " 93%|█████████▎| 5049/5407 [02:06<00:10, 35.36it/s]\u001b[A\n",
            " 93%|█████████▎| 5053/5407 [02:07<00:10, 33.28it/s]\u001b[A\n",
            " 94%|█████████▎| 5057/5407 [02:07<00:10, 34.59it/s]\u001b[A\n",
            " 94%|█████████▎| 5061/5407 [02:07<00:11, 29.66it/s]\u001b[A\n",
            " 94%|█████████▎| 5065/5407 [02:07<00:12, 28.36it/s]\u001b[A\n",
            " 94%|█████████▎| 5069/5407 [02:07<00:11, 29.68it/s]\u001b[A\n",
            " 94%|█████████▍| 5074/5407 [02:07<00:10, 32.77it/s]\u001b[A\n",
            " 94%|█████████▍| 5079/5407 [02:07<00:09, 36.06it/s]\u001b[A\n",
            " 94%|█████████▍| 5085/5407 [02:07<00:07, 40.27it/s]\u001b[A\n",
            " 94%|█████████▍| 5092/5407 [02:08<00:07, 44.54it/s]\u001b[A\n",
            " 94%|█████████▍| 5099/5407 [02:08<00:06, 49.06it/s]\u001b[A\n",
            " 94%|█████████▍| 5106/5407 [02:08<00:05, 52.10it/s]\u001b[A\n",
            " 95%|█████████▍| 5112/5407 [02:08<00:06, 47.03it/s]\u001b[A\n",
            " 95%|█████████▍| 5118/5407 [02:08<00:06, 42.60it/s]\u001b[A\n",
            " 95%|█████████▍| 5124/5407 [02:08<00:06, 46.13it/s]\u001b[A\n",
            " 95%|█████████▍| 5130/5407 [02:08<00:05, 48.30it/s]\u001b[A\n",
            " 95%|█████████▍| 5136/5407 [02:08<00:05, 51.28it/s]\u001b[A\n",
            " 95%|█████████▌| 5143/5407 [02:09<00:04, 54.83it/s]\u001b[A\n",
            " 95%|█████████▌| 5149/5407 [02:09<00:05, 50.21it/s]\u001b[A\n",
            " 95%|█████████▌| 5155/5407 [02:09<00:05, 47.99it/s]\u001b[A\n",
            " 95%|█████████▌| 5160/5407 [02:09<00:05, 46.52it/s]\u001b[A\n",
            " 96%|█████████▌| 5166/5407 [02:09<00:05, 48.17it/s]\u001b[A\n",
            " 96%|█████████▌| 5172/5407 [02:09<00:04, 49.56it/s]\u001b[A\n",
            " 96%|█████████▌| 5178/5407 [02:09<00:04, 47.36it/s]\u001b[A\n",
            " 96%|█████████▌| 5183/5407 [02:09<00:04, 45.52it/s]\u001b[A\n",
            " 96%|█████████▌| 5188/5407 [02:10<00:05, 39.38it/s]\u001b[A\n",
            " 96%|█████████▌| 5193/5407 [02:10<00:05, 40.76it/s]\u001b[A\n",
            " 96%|█████████▌| 5198/5407 [02:10<00:05, 38.98it/s]\u001b[A\n",
            " 96%|█████████▌| 5204/5407 [02:10<00:05, 40.28it/s]\u001b[A\n",
            " 96%|█████████▋| 5209/5407 [02:10<00:05, 38.28it/s]\u001b[A\n",
            " 96%|█████████▋| 5215/5407 [02:10<00:04, 41.40it/s]\u001b[A\n",
            " 97%|█████████▋| 5220/5407 [02:10<00:04, 41.48it/s]\u001b[A\n",
            " 97%|█████████▋| 5225/5407 [02:11<00:04, 39.99it/s]\u001b[A\n",
            " 97%|█████████▋| 5230/5407 [02:11<00:05, 31.31it/s]\u001b[A\n",
            " 97%|█████████▋| 5234/5407 [02:11<00:05, 29.34it/s]\u001b[A\n",
            " 97%|█████████▋| 5238/5407 [02:11<00:06, 25.19it/s]\u001b[A\n",
            " 97%|█████████▋| 5243/5407 [02:11<00:05, 29.03it/s]\u001b[A\n",
            " 97%|█████████▋| 5248/5407 [02:11<00:05, 31.53it/s]\u001b[A\n",
            " 97%|█████████▋| 5253/5407 [02:11<00:04, 34.76it/s]\u001b[A\n",
            " 97%|█████████▋| 5257/5407 [02:12<00:04, 32.13it/s]\u001b[A\n",
            " 97%|█████████▋| 5261/5407 [02:12<00:05, 26.73it/s]\u001b[A\n",
            " 97%|█████████▋| 5265/5407 [02:12<00:05, 23.69it/s]\u001b[A\n",
            " 97%|█████████▋| 5268/5407 [02:12<00:05, 24.28it/s]\u001b[A\n",
            " 97%|█████████▋| 5271/5407 [02:12<00:05, 25.21it/s]\u001b[A\n",
            " 98%|█████████▊| 5275/5407 [02:12<00:04, 27.65it/s]\u001b[A\n",
            " 98%|█████████▊| 5279/5407 [02:12<00:04, 30.04it/s]\u001b[A\n",
            " 98%|█████████▊| 5284/5407 [02:13<00:03, 33.02it/s]\u001b[A\n",
            " 98%|█████████▊| 5288/5407 [02:13<00:03, 30.25it/s]\u001b[A\n",
            " 98%|█████████▊| 5292/5407 [02:13<00:03, 30.50it/s]\u001b[A\n",
            " 98%|█████████▊| 5296/5407 [02:13<00:03, 28.76it/s]\u001b[A\n",
            " 98%|█████████▊| 5300/5407 [02:13<00:03, 31.01it/s]\u001b[A\n",
            " 98%|█████████▊| 5304/5407 [02:13<00:03, 32.44it/s]\u001b[A\n",
            " 98%|█████████▊| 5308/5407 [02:13<00:03, 30.94it/s]\u001b[A\n",
            " 98%|█████████▊| 5313/5407 [02:14<00:02, 34.54it/s]\u001b[A\n",
            " 98%|█████████▊| 5317/5407 [02:14<00:02, 34.26it/s]\u001b[A\n",
            " 98%|█████████▊| 5322/5407 [02:14<00:02, 36.69it/s]\u001b[A\n",
            " 99%|█████████▊| 5326/5407 [02:14<00:02, 36.23it/s]\u001b[A\n",
            " 99%|█████████▊| 5330/5407 [02:14<00:02, 33.10it/s]\u001b[A\n",
            " 99%|█████████▊| 5335/5407 [02:14<00:02, 35.79it/s]\u001b[A\n",
            " 99%|█████████▊| 5339/5407 [02:14<00:01, 34.25it/s]\u001b[A\n",
            " 99%|█████████▉| 5343/5407 [02:14<00:01, 34.61it/s]\u001b[A\n",
            " 99%|█████████▉| 5347/5407 [02:14<00:01, 34.43it/s]\u001b[A\n",
            " 99%|█████████▉| 5351/5407 [02:15<00:01, 33.70it/s]\u001b[A\n",
            " 99%|█████████▉| 5356/5407 [02:15<00:01, 36.17it/s]\u001b[A\n",
            " 99%|█████████▉| 5361/5407 [02:15<00:01, 38.51it/s]\u001b[A\n",
            " 99%|█████████▉| 5365/5407 [02:15<00:01, 37.52it/s]\u001b[A\n",
            " 99%|█████████▉| 5369/5407 [02:15<00:01, 37.44it/s]\u001b[A\n",
            " 99%|█████████▉| 5374/5407 [02:15<00:00, 39.25it/s]\u001b[A\n",
            " 99%|█████████▉| 5379/5407 [02:15<00:00, 40.40it/s]\u001b[A\n",
            "100%|█████████▉| 5384/5407 [02:15<00:00, 36.33it/s]\u001b[A\n",
            "100%|█████████▉| 5388/5407 [02:16<00:00, 37.26it/s]\u001b[A\n",
            "100%|█████████▉| 5393/5407 [02:16<00:00, 39.47it/s]\u001b[A\n",
            "100%|█████████▉| 5399/5407 [02:16<00:00, 42.96it/s]\u001b[A\n",
            "100%|██████████| 5407/5407 [02:16<00:00, 39.64it/s]\n"
          ],
          "name": "stderr"
        }
      ]
    },
    {
      "cell_type": "code",
      "metadata": {
        "id": "Uc9gV3cMEtjr",
        "colab_type": "code",
        "outputId": "2c6b21b6-3029-465d-b3f0-0d1b8a3c407d",
        "colab": {
          "base_uri": "https://localhost:8080/",
          "height": 374
        }
      },
      "source": [
        "train, test  = sf.random_split(0.8)\n",
        "cls1 = tc.random_forest_classifier.create(train,features=['vector'], target=\"sentiment\", max_iterations=100)"
      ],
      "execution_count": 0,
      "outputs": [
        {
          "output_type": "stream",
          "text": [
            "PROGRESS: Creating a validation set from 5 percent of training data. This may take a while.\n",
            "          You can set ``validation_set=None`` to disable validation tracking.\n",
            "\n"
          ],
          "name": "stdout"
        },
        {
          "output_type": "display_data",
          "data": {
            "text/html": [
              "<pre>Random forest classifier:</pre>"
            ],
            "text/plain": [
              "Random forest classifier:"
            ]
          },
          "metadata": {
            "tags": []
          }
        },
        {
          "output_type": "display_data",
          "data": {
            "text/html": [
              "<pre>--------------------------------------------------------</pre>"
            ],
            "text/plain": [
              "--------------------------------------------------------"
            ]
          },
          "metadata": {
            "tags": []
          }
        },
        {
          "output_type": "display_data",
          "data": {
            "text/html": [
              "<pre>Number of examples          : 4105</pre>"
            ],
            "text/plain": [
              "Number of examples          : 4105"
            ]
          },
          "metadata": {
            "tags": []
          }
        },
        {
          "output_type": "display_data",
          "data": {
            "text/html": [
              "<pre>Number of classes           : 2</pre>"
            ],
            "text/plain": [
              "Number of classes           : 2"
            ]
          },
          "metadata": {
            "tags": []
          }
        },
        {
          "output_type": "display_data",
          "data": {
            "text/html": [
              "<pre>Number of feature columns   : 1</pre>"
            ],
            "text/plain": [
              "Number of feature columns   : 1"
            ]
          },
          "metadata": {
            "tags": []
          }
        },
        {
          "output_type": "display_data",
          "data": {
            "text/html": [
              "<pre>Number of unpacked features : 300</pre>"
            ],
            "text/plain": [
              "Number of unpacked features : 300"
            ]
          },
          "metadata": {
            "tags": []
          }
        },
        {
          "output_type": "display_data",
          "data": {
            "text/html": [
              "<pre>+-----------+--------------+-------------------+---------------------+-------------------+---------------------+</pre>"
            ],
            "text/plain": [
              "+-----------+--------------+-------------------+---------------------+-------------------+---------------------+"
            ]
          },
          "metadata": {
            "tags": []
          }
        },
        {
          "output_type": "display_data",
          "data": {
            "text/html": [
              "<pre>| Iteration | Elapsed Time | Training Accuracy | Validation Accuracy | Training Log Loss | Validation Log Loss |</pre>"
            ],
            "text/plain": [
              "| Iteration | Elapsed Time | Training Accuracy | Validation Accuracy | Training Log Loss | Validation Log Loss |"
            ]
          },
          "metadata": {
            "tags": []
          }
        },
        {
          "output_type": "display_data",
          "data": {
            "text/html": [
              "<pre>+-----------+--------------+-------------------+---------------------+-------------------+---------------------+</pre>"
            ],
            "text/plain": [
              "+-----------+--------------+-------------------+---------------------+-------------------+---------------------+"
            ]
          },
          "metadata": {
            "tags": []
          }
        },
        {
          "output_type": "display_data",
          "data": {
            "text/html": [
              "<pre>| 1         | 0.102086     | 0.969793          | 0.940092            | 0.190450          | 0.234855            |</pre>"
            ],
            "text/plain": [
              "| 1         | 0.102086     | 0.969793          | 0.940092            | 0.190450          | 0.234855            |"
            ]
          },
          "metadata": {
            "tags": []
          }
        },
        {
          "output_type": "display_data",
          "data": {
            "text/html": [
              "<pre>| 2         | 0.194867     | 0.970767          | 0.940092            | 0.183164          | 0.225499            |</pre>"
            ],
            "text/plain": [
              "| 2         | 0.194867     | 0.970767          | 0.940092            | 0.183164          | 0.225499            |"
            ]
          },
          "metadata": {
            "tags": []
          }
        },
        {
          "output_type": "display_data",
          "data": {
            "text/html": [
              "<pre>| 3         | 0.287774     | 0.980755          | 0.953917            | 0.179645          | 0.225836            |</pre>"
            ],
            "text/plain": [
              "| 3         | 0.287774     | 0.980755          | 0.953917            | 0.179645          | 0.225836            |"
            ]
          },
          "metadata": {
            "tags": []
          }
        },
        {
          "output_type": "display_data",
          "data": {
            "text/html": [
              "<pre>| 4         | 0.384264     | 0.978076          | 0.944700            | 0.180382          | 0.228930            |</pre>"
            ],
            "text/plain": [
              "| 4         | 0.384264     | 0.978076          | 0.944700            | 0.180382          | 0.228930            |"
            ]
          },
          "metadata": {
            "tags": []
          }
        },
        {
          "output_type": "display_data",
          "data": {
            "text/html": [
              "<pre>| 5         | 0.480916     | 0.981242          | 0.949309            | 0.180282          | 0.228087            |</pre>"
            ],
            "text/plain": [
              "| 5         | 0.480916     | 0.981242          | 0.949309            | 0.180282          | 0.228087            |"
            ]
          },
          "metadata": {
            "tags": []
          }
        },
        {
          "output_type": "display_data",
          "data": {
            "text/html": [
              "<pre>| 10        | 0.957188     | 0.982460          | 0.949309            | 0.177929          | 0.222528            |</pre>"
            ],
            "text/plain": [
              "| 10        | 0.957188     | 0.982460          | 0.949309            | 0.177929          | 0.222528            |"
            ]
          },
          "metadata": {
            "tags": []
          }
        },
        {
          "output_type": "display_data",
          "data": {
            "text/html": [
              "<pre>| 50        | 4.600140     | 0.983678          | 0.953917            | 0.177062          | 0.224570            |</pre>"
            ],
            "text/plain": [
              "| 50        | 4.600140     | 0.983678          | 0.953917            | 0.177062          | 0.224570            |"
            ]
          },
          "metadata": {
            "tags": []
          }
        },
        {
          "output_type": "display_data",
          "data": {
            "text/html": [
              "<pre>| 100       | 9.155758     | 0.983435          | 0.953917            | 0.176556          | 0.225889            |</pre>"
            ],
            "text/plain": [
              "| 100       | 9.155758     | 0.983435          | 0.953917            | 0.176556          | 0.225889            |"
            ]
          },
          "metadata": {
            "tags": []
          }
        },
        {
          "output_type": "display_data",
          "data": {
            "text/html": [
              "<pre>+-----------+--------------+-------------------+---------------------+-------------------+---------------------+</pre>"
            ],
            "text/plain": [
              "+-----------+--------------+-------------------+---------------------+-------------------+---------------------+"
            ]
          },
          "metadata": {
            "tags": []
          }
        }
      ]
    },
    {
      "cell_type": "code",
      "metadata": {
        "id": "N-amwHWPFQPi",
        "colab_type": "code",
        "outputId": "e61ef042-f7df-4b56-ef91-c7197e2bdaaf",
        "colab": {
          "base_uri": "https://localhost:8080/",
          "height": 765
        }
      },
      "source": [
        "ev1 = cls1.evaluate(test)\n",
        "print(ev1)"
      ],
      "execution_count": 0,
      "outputs": [
        {
          "output_type": "stream",
          "text": [
            "{'accuracy': 0.9511520737327189, 'auc': 0.9647246804326453, 'confusion_matrix': Columns:\n",
            "\ttarget_label\tstr\n",
            "\tpredicted_label\tstr\n",
            "\tcount\tint\n",
            "\n",
            "Rows: 4\n",
            "\n",
            "Data:\n",
            "+--------------+-----------------+-------+\n",
            "| target_label | predicted_label | count |\n",
            "+--------------+-----------------+-------+\n",
            "|   Positive   |     Negative    |   13  |\n",
            "|   Positive   |     Positive    |  959  |\n",
            "|   Negative   |     Negative    |   73  |\n",
            "|   Negative   |     Positive    |   40  |\n",
            "+--------------+-----------------+-------+\n",
            "[4 rows x 3 columns]\n",
            ", 'f1_score': 0.9731100963977677, 'log_loss': 0.22367863289176693, 'precision': 0.95995995995996, 'recall': 0.9866255144032922, 'roc_curve': Columns:\n",
            "\tthreshold\tfloat\n",
            "\tfpr\tfloat\n",
            "\ttpr\tfloat\n",
            "\tp\tint\n",
            "\tn\tint\n",
            "\n",
            "Rows: 100001\n",
            "\n",
            "Data:\n",
            "+-----------+-----+-----+-----+-----+\n",
            "| threshold | fpr | tpr |  p  |  n  |\n",
            "+-----------+-----+-----+-----+-----+\n",
            "|    0.0    | 1.0 | 1.0 | 972 | 113 |\n",
            "|   1e-05   | 1.0 | 1.0 | 972 | 113 |\n",
            "|   2e-05   | 1.0 | 1.0 | 972 | 113 |\n",
            "|   3e-05   | 1.0 | 1.0 | 972 | 113 |\n",
            "|   4e-05   | 1.0 | 1.0 | 972 | 113 |\n",
            "|   5e-05   | 1.0 | 1.0 | 972 | 113 |\n",
            "|   6e-05   | 1.0 | 1.0 | 972 | 113 |\n",
            "|   7e-05   | 1.0 | 1.0 | 972 | 113 |\n",
            "|   8e-05   | 1.0 | 1.0 | 972 | 113 |\n",
            "|   9e-05   | 1.0 | 1.0 | 972 | 113 |\n",
            "+-----------+-----+-----+-----+-----+\n",
            "[100001 rows x 5 columns]\n",
            "Note: Only the head of the SFrame is printed.\n",
            "You can use print_rows(num_rows=m, num_columns=n) to print more rows and columns.}\n"
          ],
          "name": "stdout"
        }
      ]
    },
    {
      "cell_type": "code",
      "metadata": {
        "id": "3YbVSu1PFUC6",
        "colab_type": "code",
        "colab": {}
      },
      "source": [
        "# we will improve by adding n-grams features\n",
        "sf['1grams'] = tc.text_analytics.count_ngrams(sf['reviews.text'], n=1, method='word')\n",
        "sf['2grams'] = tc.text_analytics.count_ngrams(sf['reviews.text'], n=2, method='word')\n",
        "sf['3grams'] = tc.text_analytics.count_ngrams(sf['reviews.text'], n=3, method='word')\n",
        "train, test  = sf.random_split(0.8)"
      ],
      "execution_count": 0,
      "outputs": []
    },
    {
      "cell_type": "code",
      "metadata": {
        "id": "8loffHajFcan",
        "colab_type": "code",
        "outputId": "9b011130-eef8-44c8-86ed-63434e7a96c3",
        "colab": {
          "base_uri": "https://localhost:8080/",
          "height": 408
        }
      },
      "source": [
        "cls2 = tc.random_forest_classifier.create(train,features=['1grams', '2grams','vector'], target=\"sentiment\", max_iterations=100)"
      ],
      "execution_count": 0,
      "outputs": [
        {
          "output_type": "stream",
          "text": [
            "PROGRESS: Creating a validation set from 5 percent of training data. This may take a while.\n",
            "          You can set ``validation_set=None`` to disable validation tracking.\n",
            "\n"
          ],
          "name": "stdout"
        },
        {
          "output_type": "display_data",
          "data": {
            "text/html": [
              "<pre>Random forest classifier:</pre>"
            ],
            "text/plain": [
              "Random forest classifier:"
            ]
          },
          "metadata": {
            "tags": []
          }
        },
        {
          "output_type": "display_data",
          "data": {
            "text/html": [
              "<pre>--------------------------------------------------------</pre>"
            ],
            "text/plain": [
              "--------------------------------------------------------"
            ]
          },
          "metadata": {
            "tags": []
          }
        },
        {
          "output_type": "display_data",
          "data": {
            "text/html": [
              "<pre>Number of examples          : 4116</pre>"
            ],
            "text/plain": [
              "Number of examples          : 4116"
            ]
          },
          "metadata": {
            "tags": []
          }
        },
        {
          "output_type": "display_data",
          "data": {
            "text/html": [
              "<pre>Number of classes           : 2</pre>"
            ],
            "text/plain": [
              "Number of classes           : 2"
            ]
          },
          "metadata": {
            "tags": []
          }
        },
        {
          "output_type": "display_data",
          "data": {
            "text/html": [
              "<pre>Number of feature columns   : 3</pre>"
            ],
            "text/plain": [
              "Number of feature columns   : 3"
            ]
          },
          "metadata": {
            "tags": []
          }
        },
        {
          "output_type": "display_data",
          "data": {
            "text/html": [
              "<pre>Number of unpacked features : 140716</pre>"
            ],
            "text/plain": [
              "Number of unpacked features : 140716"
            ]
          },
          "metadata": {
            "tags": []
          }
        },
        {
          "output_type": "display_data",
          "data": {
            "text/html": [
              "<pre>+-----------+--------------+-------------------+---------------------+-------------------+---------------------+</pre>"
            ],
            "text/plain": [
              "+-----------+--------------+-------------------+---------------------+-------------------+---------------------+"
            ]
          },
          "metadata": {
            "tags": []
          }
        },
        {
          "output_type": "display_data",
          "data": {
            "text/html": [
              "<pre>| Iteration | Elapsed Time | Training Accuracy | Validation Accuracy | Training Log Loss | Validation Log Loss |</pre>"
            ],
            "text/plain": [
              "| Iteration | Elapsed Time | Training Accuracy | Validation Accuracy | Training Log Loss | Validation Log Loss |"
            ]
          },
          "metadata": {
            "tags": []
          }
        },
        {
          "output_type": "display_data",
          "data": {
            "text/html": [
              "<pre>+-----------+--------------+-------------------+---------------------+-------------------+---------------------+</pre>"
            ],
            "text/plain": [
              "+-----------+--------------+-------------------+---------------------+-------------------+---------------------+"
            ]
          },
          "metadata": {
            "tags": []
          }
        },
        {
          "output_type": "display_data",
          "data": {
            "text/html": [
              "<pre>| 1         | 0.227535     | 0.969145          | 0.940092            | 0.195572          | 0.236648            |</pre>"
            ],
            "text/plain": [
              "| 1         | 0.227535     | 0.969145          | 0.940092            | 0.195572          | 0.236648            |"
            ]
          },
          "metadata": {
            "tags": []
          }
        },
        {
          "output_type": "display_data",
          "data": {
            "text/html": [
              "<pre>| 2         | 0.459017     | 0.970603          | 0.944700            | 0.183200          | 0.231527            |</pre>"
            ],
            "text/plain": [
              "| 2         | 0.459017     | 0.970603          | 0.944700            | 0.183200          | 0.231527            |"
            ]
          },
          "metadata": {
            "tags": []
          }
        },
        {
          "output_type": "display_data",
          "data": {
            "text/html": [
              "<pre>| 3         | 0.688792     | 0.977162          | 0.935484            | 0.182518          | 0.237445            |</pre>"
            ],
            "text/plain": [
              "| 3         | 0.688792     | 0.977162          | 0.935484            | 0.182518          | 0.237445            |"
            ]
          },
          "metadata": {
            "tags": []
          }
        },
        {
          "output_type": "display_data",
          "data": {
            "text/html": [
              "<pre>| 4         | 0.919010     | 0.977648          | 0.944700            | 0.180793          | 0.233277            |</pre>"
            ],
            "text/plain": [
              "| 4         | 0.919010     | 0.977648          | 0.944700            | 0.180793          | 0.233277            |"
            ]
          },
          "metadata": {
            "tags": []
          }
        },
        {
          "output_type": "display_data",
          "data": {
            "text/html": [
              "<pre>| 5         | 1.141055     | 0.980321          | 0.949309            | 0.180377          | 0.227930            |</pre>"
            ],
            "text/plain": [
              "| 5         | 1.141055     | 0.980321          | 0.949309            | 0.180377          | 0.227930            |"
            ]
          },
          "metadata": {
            "tags": []
          }
        },
        {
          "output_type": "display_data",
          "data": {
            "text/html": [
              "<pre>| 10        | 2.236310     | 0.978620          | 0.949309            | 0.180372          | 0.224049            |</pre>"
            ],
            "text/plain": [
              "| 10        | 2.236310     | 0.978620          | 0.949309            | 0.180372          | 0.224049            |"
            ]
          },
          "metadata": {
            "tags": []
          }
        },
        {
          "output_type": "display_data",
          "data": {
            "text/html": [
              "<pre>| 25        | 5.402526     | 0.978620          | 0.949309            | 0.180482          | 0.224306            |</pre>"
            ],
            "text/plain": [
              "| 25        | 5.402526     | 0.978620          | 0.949309            | 0.180482          | 0.224306            |"
            ]
          },
          "metadata": {
            "tags": []
          }
        },
        {
          "output_type": "display_data",
          "data": {
            "text/html": [
              "<pre>| 50        | 10.791805    | 0.978620          | 0.949309            | 0.179045          | 0.221852            |</pre>"
            ],
            "text/plain": [
              "| 50        | 10.791805    | 0.978620          | 0.949309            | 0.179045          | 0.221852            |"
            ]
          },
          "metadata": {
            "tags": []
          }
        },
        {
          "output_type": "display_data",
          "data": {
            "text/html": [
              "<pre>| 75        | 16.271539    | 0.979835          | 0.949309            | 0.179304          | 0.221512            |</pre>"
            ],
            "text/plain": [
              "| 75        | 16.271539    | 0.979835          | 0.949309            | 0.179304          | 0.221512            |"
            ]
          },
          "metadata": {
            "tags": []
          }
        },
        {
          "output_type": "display_data",
          "data": {
            "text/html": [
              "<pre>| 100       | 21.759154    | 0.980321          | 0.940092            | 0.178995          | 0.222079            |</pre>"
            ],
            "text/plain": [
              "| 100       | 21.759154    | 0.980321          | 0.940092            | 0.178995          | 0.222079            |"
            ]
          },
          "metadata": {
            "tags": []
          }
        },
        {
          "output_type": "display_data",
          "data": {
            "text/html": [
              "<pre>+-----------+--------------+-------------------+---------------------+-------------------+---------------------+</pre>"
            ],
            "text/plain": [
              "+-----------+--------------+-------------------+---------------------+-------------------+---------------------+"
            ]
          },
          "metadata": {
            "tags": []
          }
        }
      ]
    },
    {
      "cell_type": "code",
      "metadata": {
        "id": "3qZhtzP4GNMl",
        "colab_type": "code",
        "outputId": "68851988-c471-4a09-e8f0-9bc95ddf5ba3",
        "colab": {
          "base_uri": "https://localhost:8080/",
          "height": 765
        }
      },
      "source": [
        "ev2 = cls2.evaluate(test)\n",
        "print(ev2)"
      ],
      "execution_count": 0,
      "outputs": [
        {
          "output_type": "stream",
          "text": [
            "{'accuracy': 0.9534450651769087, 'auc': 0.9799054867848782, 'confusion_matrix': Columns:\n",
            "\ttarget_label\tstr\n",
            "\tpredicted_label\tstr\n",
            "\tcount\tint\n",
            "\n",
            "Rows: 4\n",
            "\n",
            "Data:\n",
            "+--------------+-----------------+-------+\n",
            "| target_label | predicted_label | count |\n",
            "+--------------+-----------------+-------+\n",
            "|   Positive   |     Negative    |   12  |\n",
            "|   Negative   |     Negative    |   60  |\n",
            "|   Negative   |     Positive    |   38  |\n",
            "|   Positive   |     Positive    |  964  |\n",
            "+--------------+-----------------+-------+\n",
            "[4 rows x 3 columns]\n",
            ", 'f1_score': 0.974721941354904, 'log_loss': 0.21262376497638358, 'precision': 0.9620758483033932, 'recall': 0.9877049180327869, 'roc_curve': Columns:\n",
            "\tthreshold\tfloat\n",
            "\tfpr\tfloat\n",
            "\ttpr\tfloat\n",
            "\tp\tint\n",
            "\tn\tint\n",
            "\n",
            "Rows: 100001\n",
            "\n",
            "Data:\n",
            "+-----------+-----+-----+-----+----+\n",
            "| threshold | fpr | tpr |  p  | n  |\n",
            "+-----------+-----+-----+-----+----+\n",
            "|    0.0    | 1.0 | 1.0 | 976 | 98 |\n",
            "|   1e-05   | 1.0 | 1.0 | 976 | 98 |\n",
            "|   2e-05   | 1.0 | 1.0 | 976 | 98 |\n",
            "|   3e-05   | 1.0 | 1.0 | 976 | 98 |\n",
            "|   4e-05   | 1.0 | 1.0 | 976 | 98 |\n",
            "|   5e-05   | 1.0 | 1.0 | 976 | 98 |\n",
            "|   6e-05   | 1.0 | 1.0 | 976 | 98 |\n",
            "|   7e-05   | 1.0 | 1.0 | 976 | 98 |\n",
            "|   8e-05   | 1.0 | 1.0 | 976 | 98 |\n",
            "|   9e-05   | 1.0 | 1.0 | 976 | 98 |\n",
            "+-----------+-----+-----+-----+----+\n",
            "[100001 rows x 5 columns]\n",
            "Note: Only the head of the SFrame is printed.\n",
            "You can use print_rows(num_rows=m, num_columns=n) to print more rows and columns.}\n"
          ],
          "name": "stdout"
        }
      ]
    },
    {
      "cell_type": "code",
      "metadata": {
        "id": "BnO0HuksIqFT",
        "colab_type": "code",
        "outputId": "d80cf136-67b8-456f-ed60-a24d59714651",
        "colab": {
          "base_uri": "https://localhost:8080/",
          "height": 299
        }
      },
      "source": [
        "import matplotlib.pyplot as plt\n",
        "%matplotlib inline\n",
        "\n",
        "# we will compare the two classifiers by their roc curve.\n",
        "# as we already saw from the eval report, the classifer *without* affin yielded \n",
        "# better score.\n",
        "plt.style.use('ggplot')\n",
        "plt.plot(ev1['roc_curve']['fpr'],\n",
        "         ev1['roc_curve']['tpr'],\n",
        "         color ='cornflowerblue',\n",
        "         label='Only embedding (area = %0.2f)' %ev1['auc'], linewidth=3)\n",
        "plt.plot(ev2['roc_curve']['fpr'],\n",
        "         ev2['roc_curve']['tpr'],\n",
        "         color='green',\n",
        "         label='Embedding + n-grams (area = %0.2f)' %ev2['auc'],linewidth=3)\n",
        "plt.xlim([0.0, 1.0])\n",
        "plt.ylim([0.0, 1.05])\n",
        "plt.xlabel('False Positive Rate')\n",
        "plt.ylabel('True Positive Rate')\n",
        "plt.legend()\n",
        "plt.title('ROC curve')\n",
        "plt.show()"
      ],
      "execution_count": 0,
      "outputs": [
        {
          "output_type": "display_data",
          "data": {
            "image/png": "[encoded data removed]",
            "text/plain": [
              "<Figure size 432x288 with 1 Axes>"
            ]
          },
          "metadata": {
            "tags": []
          }
        }
      ]
    }
  ]
}