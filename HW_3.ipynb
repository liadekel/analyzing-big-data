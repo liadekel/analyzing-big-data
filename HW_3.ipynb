{
  "nbformat": 4,
  "nbformat_minor": 0,
  "metadata": {
    "kernelspec": {
      "display_name": "Python 3",
      "language": "python",
      "name": "python3"
    },
    "language_info": {
      "codemirror_mode": {
        "name": "ipython",
        "version": 3
      },
      "file_extension": ".py",
      "mimetype": "text/x-python",
      "name": "python",
      "nbconvert_exporter": "python",
      "pygments_lexer": "ipython3",
      "version": "3.6.7"
    },
    "colab": {
      "name": "HW 3.ipynb",
      "provenance": [],
      "include_colab_link": true
    }
  },
  "cells": [
    {
      "cell_type": "markdown",
      "metadata": {
        "id": "view-in-github",
        "colab_type": "text"
      },
      "source": [
        "<a href=\"https://colab.research.google.com/github/liadekel/analyzing-big-data/blob/master/HW_3.ipynb\" target=\"_parent\"><img src=\"https://colab.research.google.com/assets/colab-badge.svg\" alt=\"Open In Colab\"/></a>"
      ]
    },
    {
      "cell_type": "markdown",
      "metadata": {
        "id": "yEpzoJKH0P2W",
        "colab_type": "text"
      },
      "source": [
        "# Homework Assignment 3"
      ]
    },
    {
      "cell_type": "markdown",
      "metadata": {
        "id": "oH_ZGm7d0P2Z",
        "colab_type": "text"
      },
      "source": [
        "Using the [Seattle Library Collection Inventory Dataset](https://www.kaggle.com/city-of-seattle/seattle-library-collection-inventory#library-collection-inventory.csv) and TuriCreate please, answer the following questions:"
      ]
    },
    {
      "cell_type": "code",
      "metadata": {
        "id": "Ifo6NSmVfn-1",
        "colab_type": "code",
        "colab": {
          "base_uri": "https://localhost:8080/",
          "height": 238
        },
        "outputId": "26d5731f-a182-409b-86e9-c02ea9dbe968"
      },
      "source": [
        "!mkdir /root/.kaggle/\n",
        "!mkdir ./datasets\n",
        "import json\n",
        "import os\n",
        "\n",
        "# Installing the Kaggle package\n",
        "!pip install kaggle \n",
        "\n",
        "#Important Note: complete this with your own key - after running this for the first time remmember to **remove** your API_KEY\n",
        "api_token = {\"username\":\"liaddekel\",\"key\":\"f108a5e28c6e44704d469f7ae7614d16\"}\n",
        "\n",
        "\n",
        "# creating kaggle.json file with the personal API-Key details \n",
        "# You can also put this file on your Google Drive\n",
        "with open('/root/.kaggle/kaggle.json', 'w') as file:\n",
        "  json.dump(api_token, file)"
      ],
      "execution_count": 8,
      "outputs": [
        {
          "output_type": "stream",
          "text": [
            "mkdir: cannot create directory ‘/root/.kaggle/’: File exists\n",
            "mkdir: cannot create directory ‘./datasets’: File exists\n",
            "Requirement already satisfied: kaggle in /usr/local/lib/python3.6/dist-packages (1.5.6)\n",
            "Requirement already satisfied: certifi in /usr/local/lib/python3.6/dist-packages (from kaggle) (2019.11.28)\n",
            "Requirement already satisfied: python-slugify in /usr/local/lib/python3.6/dist-packages (from kaggle) (4.0.0)\n",
            "Requirement already satisfied: six>=1.10 in /usr/local/lib/python3.6/dist-packages (from kaggle) (1.12.0)\n",
            "Requirement already satisfied: urllib3<1.25,>=1.21.1 in /usr/local/lib/python3.6/dist-packages (from kaggle) (1.24.3)\n",
            "Requirement already satisfied: tqdm in /usr/local/lib/python3.6/dist-packages (from kaggle) (4.38.0)\n",
            "Requirement already satisfied: requests in /usr/local/lib/python3.6/dist-packages (from kaggle) (2.21.0)\n",
            "Requirement already satisfied: python-dateutil in /usr/local/lib/python3.6/dist-packages (from kaggle) (2.8.1)\n",
            "Requirement already satisfied: text-unidecode>=1.3 in /usr/local/lib/python3.6/dist-packages (from python-slugify->kaggle) (1.3)\n",
            "Requirement already satisfied: chardet<3.1.0,>=3.0.2 in /usr/local/lib/python3.6/dist-packages (from requests->kaggle) (3.0.4)\n",
            "Requirement already satisfied: idna<2.9,>=2.5 in /usr/local/lib/python3.6/dist-packages (from requests->kaggle) (2.8)\n"
          ],
          "name": "stdout"
        }
      ]
    },
    {
      "cell_type": "code",
      "metadata": {
        "id": "dYa380Vzfo1f",
        "colab_type": "code",
        "colab": {
          "base_uri": "https://localhost:8080/",
          "height": 819
        },
        "outputId": "313fa3ec-5e00-4a28-afc8-5ae9b450ee3b"
      },
      "source": [
        "!pip install turicreate"
      ],
      "execution_count": 9,
      "outputs": [
        {
          "output_type": "stream",
          "text": [
            "Requirement already satisfied: turicreate in /usr/local/lib/python3.6/dist-packages (6.1)\n",
            "Requirement already satisfied: coremltools==3.3 in /usr/local/lib/python3.6/dist-packages (from turicreate) (3.3)\n",
            "Requirement already satisfied: decorator>=4.0.9 in /usr/local/lib/python3.6/dist-packages (from turicreate) (4.4.2)\n",
            "Requirement already satisfied: resampy==0.2.1 in /usr/local/lib/python3.6/dist-packages (from turicreate) (0.2.1)\n",
            "Requirement already satisfied: pandas>=0.23.2 in /usr/local/lib/python3.6/dist-packages (from turicreate) (1.0.3)\n",
            "Requirement already satisfied: requests>=2.9.1 in /usr/local/lib/python3.6/dist-packages (from turicreate) (2.21.0)\n",
            "Requirement already satisfied: scipy>=1.1.0 in /usr/local/lib/python3.6/dist-packages (from turicreate) (1.4.1)\n",
            "Requirement already satisfied: six>=1.10.0 in /usr/local/lib/python3.6/dist-packages (from turicreate) (1.12.0)\n",
            "Requirement already satisfied: tensorflow>=2.0.0 in /usr/local/lib/python3.6/dist-packages (from turicreate) (2.2.0rc2)\n",
            "Requirement already satisfied: numpy in /usr/local/lib/python3.6/dist-packages (from turicreate) (1.18.2)\n",
            "Requirement already satisfied: prettytable==0.7.2 in /usr/local/lib/python3.6/dist-packages (from turicreate) (0.7.2)\n",
            "Requirement already satisfied: pillow>=5.2.0 in /usr/local/lib/python3.6/dist-packages (from turicreate) (7.0.0)\n",
            "Requirement already satisfied: protobuf>=3.1.0 in /usr/local/lib/python3.6/dist-packages (from coremltools==3.3->turicreate) (3.10.0)\n",
            "Requirement already satisfied: numba>=0.32 in /usr/local/lib/python3.6/dist-packages (from resampy==0.2.1->turicreate) (0.47.0)\n",
            "Requirement already satisfied: python-dateutil>=2.6.1 in /usr/local/lib/python3.6/dist-packages (from pandas>=0.23.2->turicreate) (2.8.1)\n",
            "Requirement already satisfied: pytz>=2017.2 in /usr/local/lib/python3.6/dist-packages (from pandas>=0.23.2->turicreate) (2018.9)\n",
            "Requirement already satisfied: urllib3<1.25,>=1.21.1 in /usr/local/lib/python3.6/dist-packages (from requests>=2.9.1->turicreate) (1.24.3)\n",
            "Requirement already satisfied: chardet<3.1.0,>=3.0.2 in /usr/local/lib/python3.6/dist-packages (from requests>=2.9.1->turicreate) (3.0.4)\n",
            "Requirement already satisfied: idna<2.9,>=2.5 in /usr/local/lib/python3.6/dist-packages (from requests>=2.9.1->turicreate) (2.8)\n",
            "Requirement already satisfied: certifi>=2017.4.17 in /usr/local/lib/python3.6/dist-packages (from requests>=2.9.1->turicreate) (2019.11.28)\n",
            "Requirement already satisfied: wrapt>=1.11.1 in /usr/local/lib/python3.6/dist-packages (from tensorflow>=2.0.0->turicreate) (1.12.1)\n",
            "Requirement already satisfied: opt-einsum>=2.3.2 in /usr/local/lib/python3.6/dist-packages (from tensorflow>=2.0.0->turicreate) (3.2.0)\n",
            "Requirement already satisfied: tensorflow-estimator<2.3.0,>=2.2.0rc0 in /usr/local/lib/python3.6/dist-packages (from tensorflow>=2.0.0->turicreate) (2.2.0rc0)\n",
            "Requirement already satisfied: google-pasta>=0.1.8 in /usr/local/lib/python3.6/dist-packages (from tensorflow>=2.0.0->turicreate) (0.2.0)\n",
            "Requirement already satisfied: gast==0.3.3 in /usr/local/lib/python3.6/dist-packages (from tensorflow>=2.0.0->turicreate) (0.3.3)\n",
            "Requirement already satisfied: termcolor>=1.1.0 in /usr/local/lib/python3.6/dist-packages (from tensorflow>=2.0.0->turicreate) (1.1.0)\n",
            "Requirement already satisfied: grpcio>=1.8.6 in /usr/local/lib/python3.6/dist-packages (from tensorflow>=2.0.0->turicreate) (1.27.2)\n",
            "Requirement already satisfied: wheel>=0.26; python_version >= \"3\" in /usr/local/lib/python3.6/dist-packages (from tensorflow>=2.0.0->turicreate) (0.34.2)\n",
            "Requirement already satisfied: absl-py>=0.7.0 in /usr/local/lib/python3.6/dist-packages (from tensorflow>=2.0.0->turicreate) (0.9.0)\n",
            "Requirement already satisfied: h5py<2.11.0,>=2.10.0 in /usr/local/lib/python3.6/dist-packages (from tensorflow>=2.0.0->turicreate) (2.10.0)\n",
            "Requirement already satisfied: keras-preprocessing>=1.1.0 in /usr/local/lib/python3.6/dist-packages (from tensorflow>=2.0.0->turicreate) (1.1.0)\n",
            "Requirement already satisfied: tensorboard<2.3.0,>=2.2.0 in /usr/local/lib/python3.6/dist-packages (from tensorflow>=2.0.0->turicreate) (2.2.0)\n",
            "Requirement already satisfied: astunparse==1.6.3 in /usr/local/lib/python3.6/dist-packages (from tensorflow>=2.0.0->turicreate) (1.6.3)\n",
            "Requirement already satisfied: setuptools in /usr/local/lib/python3.6/dist-packages (from protobuf>=3.1.0->coremltools==3.3->turicreate) (46.0.0)\n",
            "Requirement already satisfied: llvmlite>=0.31.0dev0 in /usr/local/lib/python3.6/dist-packages (from numba>=0.32->resampy==0.2.1->turicreate) (0.31.0)\n",
            "Requirement already satisfied: tensorboard-plugin-wit>=1.6.0 in /usr/local/lib/python3.6/dist-packages (from tensorboard<2.3.0,>=2.2.0->tensorflow>=2.0.0->turicreate) (1.6.0.post2)\n",
            "Requirement already satisfied: google-auth-oauthlib<0.5,>=0.4.1 in /usr/local/lib/python3.6/dist-packages (from tensorboard<2.3.0,>=2.2.0->tensorflow>=2.0.0->turicreate) (0.4.1)\n",
            "Requirement already satisfied: google-auth<2,>=1.6.3 in /usr/local/lib/python3.6/dist-packages (from tensorboard<2.3.0,>=2.2.0->tensorflow>=2.0.0->turicreate) (1.7.2)\n",
            "Requirement already satisfied: werkzeug>=0.11.15 in /usr/local/lib/python3.6/dist-packages (from tensorboard<2.3.0,>=2.2.0->tensorflow>=2.0.0->turicreate) (1.0.1)\n",
            "Requirement already satisfied: markdown>=2.6.8 in /usr/local/lib/python3.6/dist-packages (from tensorboard<2.3.0,>=2.2.0->tensorflow>=2.0.0->turicreate) (3.2.1)\n",
            "Requirement already satisfied: requests-oauthlib>=0.7.0 in /usr/local/lib/python3.6/dist-packages (from google-auth-oauthlib<0.5,>=0.4.1->tensorboard<2.3.0,>=2.2.0->tensorflow>=2.0.0->turicreate) (1.3.0)\n",
            "Requirement already satisfied: cachetools<3.2,>=2.0.0 in /usr/local/lib/python3.6/dist-packages (from google-auth<2,>=1.6.3->tensorboard<2.3.0,>=2.2.0->tensorflow>=2.0.0->turicreate) (3.1.1)\n",
            "Requirement already satisfied: rsa<4.1,>=3.1.4 in /usr/local/lib/python3.6/dist-packages (from google-auth<2,>=1.6.3->tensorboard<2.3.0,>=2.2.0->tensorflow>=2.0.0->turicreate) (4.0)\n",
            "Requirement already satisfied: pyasn1-modules>=0.2.1 in /usr/local/lib/python3.6/dist-packages (from google-auth<2,>=1.6.3->tensorboard<2.3.0,>=2.2.0->tensorflow>=2.0.0->turicreate) (0.2.8)\n",
            "Requirement already satisfied: oauthlib>=3.0.0 in /usr/local/lib/python3.6/dist-packages (from requests-oauthlib>=0.7.0->google-auth-oauthlib<0.5,>=0.4.1->tensorboard<2.3.0,>=2.2.0->tensorflow>=2.0.0->turicreate) (3.1.0)\n",
            "Requirement already satisfied: pyasn1>=0.1.3 in /usr/local/lib/python3.6/dist-packages (from rsa<4.1,>=3.1.4->google-auth<2,>=1.6.3->tensorboard<2.3.0,>=2.2.0->tensorflow>=2.0.0->turicreate) (0.4.8)\n"
          ],
          "name": "stdout"
        }
      ]
    },
    {
      "cell_type": "code",
      "metadata": {
        "id": "ajfEzIHqfrWv",
        "colab_type": "code",
        "colab": {
          "base_uri": "https://localhost:8080/",
          "height": 119
        },
        "outputId": "45142733-4a89-4015-e9fc-ce77315bbab3"
      },
      "source": [
        "\n",
        "# Creating a dataset directory\n",
        "\n",
        "!mkdir ./datasets\n",
        "!mkdir ./datasets/library-collection\n",
        "\n",
        "# download the dataset from Kaggle and unzip it\n",
        "!kaggle datasets download city-of-seattle/seattle-library-collection-inventory  -f library-collection-inventory.csv -p ./datasets/library-collection/\n",
        "!unzip ./datasets/library-collection/*.zip  -d ./datasets/library-collection\n",
        "!ls ./datasets/library-collection\n",
        "# ! grep -rnsi \"mystery fiction\" \"./datasets/library-collection/library-collection-inventory.csv\""
      ],
      "execution_count": 1,
      "outputs": [
        {
          "output_type": "stream",
          "text": [
            "mkdir: cannot create directory ‘./datasets’: File exists\n",
            "mkdir: cannot create directory ‘./datasets/library-collection’: File exists\n",
            "library-collection-inventory.csv.zip: Skipping, found more recently modified local copy (use --force to force download)\n",
            "Archive:  ./datasets/library-collection/library-collection-inventory.csv.zip\n",
            "replace ./datasets/library-collection/library-collection-inventory.csv? [y]es, [n]o, [A]ll, [N]one, [r]ename: n\n",
            "library-collection-inventory.csv  library-collection-inventory.csv.zip\n"
          ],
          "name": "stdout"
        }
      ]
    },
    {
      "cell_type": "markdown",
      "metadata": {
        "id": "LG0KyuFD0P2b",
        "colab_type": "text"
      },
      "source": [
        "**Question 1:** Write a function that returns the most popular book in each subject. Use it to find the most popular book in\n",
        "    the _Mystery Fiction_ subject (15pt)"
      ]
    },
    {
      "cell_type": "code",
      "metadata": {
        "id": "g5UHPmLIlVyX",
        "colab_type": "code",
        "colab": {
          "base_uri": "https://localhost:8080/",
          "height": 1000
        },
        "outputId": "a0de5ca6-af73-4a55-e58d-56ca899f411f"
      },
      "source": [
        "import turicreate as tc\n",
        "import turicreate.aggregate as agg\n",
        "%matplotlib inline\n",
        "\n",
        "CSV_PATH = \"./datasets/library-collection/library-collection-inventory.csv\"\n",
        "\n",
        "sf = tc.SFrame.read_csv(CSV_PATH)"
      ],
      "execution_count": 2,
      "outputs": [
        {
          "output_type": "display_data",
          "data": {
            "text/html": [
              "<pre>Successfully parsed 10 tokens: \n",
              "\t0: 735439\n",
              "\t1: [\"Genealog ... t.\",,1947]\n",
              "\t2: \n",
              "\t3: Enloes family\n",
              "\t4: arbk\n",
              "\t5: caref\n",
              "\t6: \n",
              "\t7: cen\n",
              "\t8: 2017-09-01 ... :00:00.000\n",
              "\t9: 1</pre>"
            ],
            "text/plain": [
              "Successfully parsed 10 tokens: \n",
              "\t0: 735439\n",
              "\t1: [\"Genealog ... t.\",,1947]\n",
              "\t2: \n",
              "\t3: Enloes family\n",
              "\t4: arbk\n",
              "\t5: caref\n",
              "\t6: \n",
              "\t7: cen\n",
              "\t8: 2017-09-01 ... :00:00.000\n",
              "\t9: 1"
            ]
          },
          "metadata": {
            "tags": []
          }
        },
        {
          "output_type": "display_data",
          "data": {
            "text/html": [
              "<pre>1 lines failed to parse correctly</pre>"
            ],
            "text/plain": [
              "1 lines failed to parse correctly"
            ]
          },
          "metadata": {
            "tags": []
          }
        },
        {
          "output_type": "display_data",
          "data": {
            "text/html": [
              "<pre>Finished parsing file /content/datasets/library-collection/library-collection-inventory.csv</pre>"
            ],
            "text/plain": [
              "Finished parsing file /content/datasets/library-collection/library-collection-inventory.csv"
            ]
          },
          "metadata": {
            "tags": []
          }
        },
        {
          "output_type": "display_data",
          "data": {
            "text/html": [
              "<pre>Parsing completed. Parsed 100 lines in 2.02886 secs.</pre>"
            ],
            "text/plain": [
              "Parsing completed. Parsed 100 lines in 2.02886 secs."
            ]
          },
          "metadata": {
            "tags": []
          }
        },
        {
          "output_type": "stream",
          "text": [
            "------------------------------------------------------\n",
            "Inferred types from first 100 line(s) of file as \n",
            "column_type_hints=[int,str,str,str,str,str,str,str,str,str,str,str,int]\n",
            "If parsing fails due to incorrect types, you can correct\n",
            "the inferred type list above and pass it to read_csv in\n",
            "the column_type_hints argument\n",
            "------------------------------------------------------\n"
          ],
          "name": "stdout"
        },
        {
          "output_type": "display_data",
          "data": {
            "text/html": [
              "<pre>Successfully parsed 10 tokens: \n",
              "\t0: 735439\n",
              "\t1: [Genealogy ... t.\",,1947]\n",
              "\t2: \n",
              "\t3: Enloes family\n",
              "\t4: arbk\n",
              "\t5: caref\n",
              "\t6: \n",
              "\t7: cen\n",
              "\t8: 2017-09-01 ... :00:00.000\n",
              "\t9: 1</pre>"
            ],
            "text/plain": [
              "Successfully parsed 10 tokens: \n",
              "\t0: 735439\n",
              "\t1: [Genealogy ... t.\",,1947]\n",
              "\t2: \n",
              "\t3: Enloes family\n",
              "\t4: arbk\n",
              "\t5: caref\n",
              "\t6: \n",
              "\t7: cen\n",
              "\t8: 2017-09-01 ... :00:00.000\n",
              "\t9: 1"
            ]
          },
          "metadata": {
            "tags": []
          }
        },
        {
          "output_type": "display_data",
          "data": {
            "text/html": [
              "<pre>Read 158429 lines. Lines per second: 55058</pre>"
            ],
            "text/plain": [
              "Read 158429 lines. Lines per second: 55058"
            ]
          },
          "metadata": {
            "tags": []
          }
        },
        {
          "output_type": "display_data",
          "data": {
            "text/html": [
              "<pre>Read 633885 lines. Lines per second: 75640.1</pre>"
            ],
            "text/plain": [
              "Read 633885 lines. Lines per second: 75640.1"
            ]
          },
          "metadata": {
            "tags": []
          }
        },
        {
          "output_type": "display_data",
          "data": {
            "text/html": [
              "<pre>Successfully parsed 9 tokens: \n",
              "\t0: 362786\n",
              "\t1: [Records., ... l Society]\n",
              "\t2: Registers  ... astchester\n",
              "\t3: arbk\n",
              "\t4: caref\n",
              "\t5: \n",
              "\t6: cen\n",
              "\t7: 2017-09-01 ... :00:00.000\n",
              "\t8: 1</pre>"
            ],
            "text/plain": [
              "Successfully parsed 9 tokens: \n",
              "\t0: 362786\n",
              "\t1: [Records., ... l Society]\n",
              "\t2: Registers  ... astchester\n",
              "\t3: arbk\n",
              "\t4: caref\n",
              "\t5: \n",
              "\t6: cen\n",
              "\t7: 2017-09-01 ... :00:00.000\n",
              "\t8: 1"
            ]
          },
          "metadata": {
            "tags": []
          }
        },
        {
          "output_type": "display_data",
          "data": {
            "text/html": [
              "<pre>Successfully parsed 10 tokens: \n",
              "\t0: 28078\n",
              "\t1: [Papers.,\" ... 9)\",,1969]\n",
              "\t2: \n",
              "\t3: Genealogy Congresses\n",
              "\t4: arbk\n",
              "\t5: caref\n",
              "\t6: \n",
              "\t7: cen\n",
              "\t8: 2017-09-01 ... :00:00.000\n",
              "\t9: 6</pre>"
            ],
            "text/plain": [
              "Successfully parsed 10 tokens: \n",
              "\t0: 28078\n",
              "\t1: [Papers.,\" ... 9)\",,1969]\n",
              "\t2: \n",
              "\t3: Genealogy Congresses\n",
              "\t4: arbk\n",
              "\t5: caref\n",
              "\t6: \n",
              "\t7: cen\n",
              "\t8: 2017-09-01 ... :00:00.000\n",
              "\t9: 6"
            ]
          },
          "metadata": {
            "tags": []
          }
        },
        {
          "output_type": "display_data",
          "data": {
            "text/html": [
              "<pre>Read 1108904 lines. Lines per second: 79555.5</pre>"
            ],
            "text/plain": [
              "Read 1108904 lines. Lines per second: 79555.5"
            ]
          },
          "metadata": {
            "tags": []
          }
        },
        {
          "output_type": "display_data",
          "data": {
            "text/html": [
              "<pre>Successfully parsed 9 tokens: \n",
              "\t0: 362786\n",
              "\t1: [Records., ... l Society]\n",
              "\t2: Registers  ... astchester\n",
              "\t3: arbk\n",
              "\t4: caref\n",
              "\t5: \n",
              "\t6: cen\n",
              "\t7: 2017-10-01 ... :00:00.000\n",
              "\t8: 1</pre>"
            ],
            "text/plain": [
              "Successfully parsed 9 tokens: \n",
              "\t0: 362786\n",
              "\t1: [Records., ... l Society]\n",
              "\t2: Registers  ... astchester\n",
              "\t3: arbk\n",
              "\t4: caref\n",
              "\t5: \n",
              "\t6: cen\n",
              "\t7: 2017-10-01 ... :00:00.000\n",
              "\t8: 1"
            ]
          },
          "metadata": {
            "tags": []
          }
        },
        {
          "output_type": "display_data",
          "data": {
            "text/html": [
              "<pre>Read 1583786 lines. Lines per second: 80906.6</pre>"
            ],
            "text/plain": [
              "Read 1583786 lines. Lines per second: 80906.6"
            ]
          },
          "metadata": {
            "tags": []
          }
        },
        {
          "output_type": "display_data",
          "data": {
            "text/html": [
              "<pre>Read 2058239 lines. Lines per second: 81236.5</pre>"
            ],
            "text/plain": [
              "Read 2058239 lines. Lines per second: 81236.5"
            ]
          },
          "metadata": {
            "tags": []
          }
        },
        {
          "output_type": "display_data",
          "data": {
            "text/html": [
              "<pre>Successfully parsed 10 tokens: \n",
              "\t0: 735439\n",
              "\t1: [Genealogy ... t.\",,1947]\n",
              "\t2: \n",
              "\t3: Enloes family\n",
              "\t4: arbk\n",
              "\t5: caref\n",
              "\t6: \n",
              "\t7: cen\n",
              "\t8: 2017-10-01 ... :00:00.000\n",
              "\t9: 1</pre>"
            ],
            "text/plain": [
              "Successfully parsed 10 tokens: \n",
              "\t0: 735439\n",
              "\t1: [Genealogy ... t.\",,1947]\n",
              "\t2: \n",
              "\t3: Enloes family\n",
              "\t4: arbk\n",
              "\t5: caref\n",
              "\t6: \n",
              "\t7: cen\n",
              "\t8: 2017-10-01 ... :00:00.000\n",
              "\t9: 1"
            ]
          },
          "metadata": {
            "tags": []
          }
        },
        {
          "output_type": "display_data",
          "data": {
            "text/html": [
              "<pre>Successfully parsed 10 tokens: \n",
              "\t0: 28078\n",
              "\t1: [Papers.,\" ... 9)\",,1969]\n",
              "\t2: \n",
              "\t3: Genealogy Congresses\n",
              "\t4: arbk\n",
              "\t5: caref\n",
              "\t6: \n",
              "\t7: cen\n",
              "\t8: 2017-10-01 ... :00:00.000\n",
              "\t9: 6</pre>"
            ],
            "text/plain": [
              "Successfully parsed 10 tokens: \n",
              "\t0: 28078\n",
              "\t1: [Papers.,\" ... 9)\",,1969]\n",
              "\t2: \n",
              "\t3: Genealogy Congresses\n",
              "\t4: arbk\n",
              "\t5: caref\n",
              "\t6: \n",
              "\t7: cen\n",
              "\t8: 2017-10-01 ... :00:00.000\n",
              "\t9: 6"
            ]
          },
          "metadata": {
            "tags": []
          }
        },
        {
          "output_type": "display_data",
          "data": {
            "text/html": [
              "<pre>Successfully parsed 10 tokens: \n",
              "\t0: 735439\n",
              "\t1: [Genealogy ... t.\",,1947]\n",
              "\t2: \n",
              "\t3: Enloes family\n",
              "\t4: arbk\n",
              "\t5: caref\n",
              "\t6: \n",
              "\t7: cen\n",
              "\t8: 2017-11-01 ... :00:00.000\n",
              "\t9: 1</pre>"
            ],
            "text/plain": [
              "Successfully parsed 10 tokens: \n",
              "\t0: 735439\n",
              "\t1: [Genealogy ... t.\",,1947]\n",
              "\t2: \n",
              "\t3: Enloes family\n",
              "\t4: arbk\n",
              "\t5: caref\n",
              "\t6: \n",
              "\t7: cen\n",
              "\t8: 2017-11-01 ... :00:00.000\n",
              "\t9: 1"
            ]
          },
          "metadata": {
            "tags": []
          }
        },
        {
          "output_type": "display_data",
          "data": {
            "text/html": [
              "<pre>Read 2691263 lines. Lines per second: 88170.2</pre>"
            ],
            "text/plain": [
              "Read 2691263 lines. Lines per second: 88170.2"
            ]
          },
          "metadata": {
            "tags": []
          }
        },
        {
          "output_type": "display_data",
          "data": {
            "text/html": [
              "<pre>Successfully parsed 10 tokens: \n",
              "\t0: 28078\n",
              "\t1: [Papers.,\" ... 9)\",,1969]\n",
              "\t2: \n",
              "\t3: Genealogy Congresses\n",
              "\t4: arbk\n",
              "\t5: caref\n",
              "\t6: \n",
              "\t7: cen\n",
              "\t8: 2017-11-01 ... :00:00.000\n",
              "\t9: 6</pre>"
            ],
            "text/plain": [
              "Successfully parsed 10 tokens: \n",
              "\t0: 28078\n",
              "\t1: [Papers.,\" ... 9)\",,1969]\n",
              "\t2: \n",
              "\t3: Genealogy Congresses\n",
              "\t4: arbk\n",
              "\t5: caref\n",
              "\t6: \n",
              "\t7: cen\n",
              "\t8: 2017-11-01 ... :00:00.000\n",
              "\t9: 6"
            ]
          },
          "metadata": {
            "tags": []
          }
        },
        {
          "output_type": "display_data",
          "data": {
            "text/html": [
              "<pre>Read 3323492 lines. Lines per second: 92743.7</pre>"
            ],
            "text/plain": [
              "Read 3323492 lines. Lines per second: 92743.7"
            ]
          },
          "metadata": {
            "tags": []
          }
        },
        {
          "output_type": "display_data",
          "data": {
            "text/html": [
              "<pre>Successfully parsed 9 tokens: \n",
              "\t0: 362786\n",
              "\t1: [Records., ... l Society]\n",
              "\t2: Registers  ... astchester\n",
              "\t3: arbk\n",
              "\t4: caref\n",
              "\t5: \n",
              "\t6: cen\n",
              "\t7: 2017-11-01 ... :00:00.000\n",
              "\t8: 1</pre>"
            ],
            "text/plain": [
              "Successfully parsed 9 tokens: \n",
              "\t0: 362786\n",
              "\t1: [Records., ... l Society]\n",
              "\t2: Registers  ... astchester\n",
              "\t3: arbk\n",
              "\t4: caref\n",
              "\t5: \n",
              "\t6: cen\n",
              "\t7: 2017-11-01 ... :00:00.000\n",
              "\t8: 1"
            ]
          },
          "metadata": {
            "tags": []
          }
        },
        {
          "output_type": "display_data",
          "data": {
            "text/html": [
              "<pre>Read 3797364 lines. Lines per second: 91183.2</pre>"
            ],
            "text/plain": [
              "Read 3797364 lines. Lines per second: 91183.2"
            ]
          },
          "metadata": {
            "tags": []
          }
        },
        {
          "output_type": "display_data",
          "data": {
            "text/html": [
              "<pre>Read 4276116 lines. Lines per second: 89965.5</pre>"
            ],
            "text/plain": [
              "Read 4276116 lines. Lines per second: 89965.5"
            ]
          },
          "metadata": {
            "tags": []
          }
        },
        {
          "output_type": "display_data",
          "data": {
            "text/html": [
              "<pre>Read 4760162 lines. Lines per second: 89084.6</pre>"
            ],
            "text/plain": [
              "Read 4760162 lines. Lines per second: 89084.6"
            ]
          },
          "metadata": {
            "tags": []
          }
        },
        {
          "output_type": "display_data",
          "data": {
            "text/html": [
              "<pre>Read 5244354 lines. Lines per second: 88342.9</pre>"
            ],
            "text/plain": [
              "Read 5244354 lines. Lines per second: 88342.9"
            ]
          },
          "metadata": {
            "tags": []
          }
        },
        {
          "output_type": "display_data",
          "data": {
            "text/html": [
              "<pre>Read 5727642 lines. Lines per second: 87692.6</pre>"
            ],
            "text/plain": [
              "Read 5727642 lines. Lines per second: 87692.6"
            ]
          },
          "metadata": {
            "tags": []
          }
        },
        {
          "output_type": "display_data",
          "data": {
            "text/html": [
              "<pre>Read 6210933 lines. Lines per second: 87084</pre>"
            ],
            "text/plain": [
              "Read 6210933 lines. Lines per second: 87084"
            ]
          },
          "metadata": {
            "tags": []
          }
        },
        {
          "output_type": "display_data",
          "data": {
            "text/html": [
              "<pre>Read 6694080 lines. Lines per second: 86203.9</pre>"
            ],
            "text/plain": [
              "Read 6694080 lines. Lines per second: 86203.9"
            ]
          },
          "metadata": {
            "tags": []
          }
        },
        {
          "output_type": "display_data",
          "data": {
            "text/html": [
              "<pre>Read 7176009 lines. Lines per second: 85782.9</pre>"
            ],
            "text/plain": [
              "Read 7176009 lines. Lines per second: 85782.9"
            ]
          },
          "metadata": {
            "tags": []
          }
        },
        {
          "output_type": "display_data",
          "data": {
            "text/html": [
              "<pre>Read 7658012 lines. Lines per second: 85400.1</pre>"
            ],
            "text/plain": [
              "Read 7658012 lines. Lines per second: 85400.1"
            ]
          },
          "metadata": {
            "tags": []
          }
        },
        {
          "output_type": "display_data",
          "data": {
            "text/html": [
              "<pre>Read 8140271 lines. Lines per second: 85042.2</pre>"
            ],
            "text/plain": [
              "Read 8140271 lines. Lines per second: 85042.2"
            ]
          },
          "metadata": {
            "tags": []
          }
        },
        {
          "output_type": "display_data",
          "data": {
            "text/html": [
              "<pre>Read 8621649 lines. Lines per second: 84664.2</pre>"
            ],
            "text/plain": [
              "Read 8621649 lines. Lines per second: 84664.2"
            ]
          },
          "metadata": {
            "tags": []
          }
        },
        {
          "output_type": "display_data",
          "data": {
            "text/html": [
              "<pre>Read 9102786 lines. Lines per second: 84372.6</pre>"
            ],
            "text/plain": [
              "Read 9102786 lines. Lines per second: 84372.6"
            ]
          },
          "metadata": {
            "tags": []
          }
        },
        {
          "output_type": "display_data",
          "data": {
            "text/html": [
              "<pre>Read 9584241 lines. Lines per second: 84114.5</pre>"
            ],
            "text/plain": [
              "Read 9584241 lines. Lines per second: 84114.5"
            ]
          },
          "metadata": {
            "tags": []
          }
        },
        {
          "output_type": "display_data",
          "data": {
            "text/html": [
              "<pre>Read 10064697 lines. Lines per second: 83853.8</pre>"
            ],
            "text/plain": [
              "Read 10064697 lines. Lines per second: 83853.8"
            ]
          },
          "metadata": {
            "tags": []
          }
        },
        {
          "output_type": "display_data",
          "data": {
            "text/html": [
              "<pre>Read 10545914 lines. Lines per second: 83603</pre>"
            ],
            "text/plain": [
              "Read 10545914 lines. Lines per second: 83603"
            ]
          },
          "metadata": {
            "tags": []
          }
        },
        {
          "output_type": "display_data",
          "data": {
            "text/html": [
              "<pre>Read 11026493 lines. Lines per second: 83349</pre>"
            ],
            "text/plain": [
              "Read 11026493 lines. Lines per second: 83349"
            ]
          },
          "metadata": {
            "tags": []
          }
        },
        {
          "output_type": "display_data",
          "data": {
            "text/html": [
              "<pre>Read 11506803 lines. Lines per second: 83111.8</pre>"
            ],
            "text/plain": [
              "Read 11506803 lines. Lines per second: 83111.8"
            ]
          },
          "metadata": {
            "tags": []
          }
        },
        {
          "output_type": "display_data",
          "data": {
            "text/html": [
              "<pre>Read 11986830 lines. Lines per second: 82902.5</pre>"
            ],
            "text/plain": [
              "Read 11986830 lines. Lines per second: 82902.5"
            ]
          },
          "metadata": {
            "tags": []
          }
        },
        {
          "output_type": "display_data",
          "data": {
            "text/html": [
              "<pre>Read 12466427 lines. Lines per second: 82710.7</pre>"
            ],
            "text/plain": [
              "Read 12466427 lines. Lines per second: 82710.7"
            ]
          },
          "metadata": {
            "tags": []
          }
        },
        {
          "output_type": "display_data",
          "data": {
            "text/html": [
              "<pre>Read 12946072 lines. Lines per second: 82512.3</pre>"
            ],
            "text/plain": [
              "Read 12946072 lines. Lines per second: 82512.3"
            ]
          },
          "metadata": {
            "tags": []
          }
        },
        {
          "output_type": "display_data",
          "data": {
            "text/html": [
              "<pre>Read 13265692 lines. Lines per second: 81922.4</pre>"
            ],
            "text/plain": [
              "Read 13265692 lines. Lines per second: 81922.4"
            ]
          },
          "metadata": {
            "tags": []
          }
        },
        {
          "output_type": "display_data",
          "data": {
            "text/html": [
              "<pre>Read 13744955 lines. Lines per second: 81766.1</pre>"
            ],
            "text/plain": [
              "Read 13744955 lines. Lines per second: 81766.1"
            ]
          },
          "metadata": {
            "tags": []
          }
        },
        {
          "output_type": "display_data",
          "data": {
            "text/html": [
              "<pre>Read 14223868 lines. Lines per second: 81608.5</pre>"
            ],
            "text/plain": [
              "Read 14223868 lines. Lines per second: 81608.5"
            ]
          },
          "metadata": {
            "tags": []
          }
        },
        {
          "output_type": "display_data",
          "data": {
            "text/html": [
              "<pre>Read 14703184 lines. Lines per second: 81467.3</pre>"
            ],
            "text/plain": [
              "Read 14703184 lines. Lines per second: 81467.3"
            ]
          },
          "metadata": {
            "tags": []
          }
        },
        {
          "output_type": "display_data",
          "data": {
            "text/html": [
              "<pre>Read 15181421 lines. Lines per second: 81339.1</pre>"
            ],
            "text/plain": [
              "Read 15181421 lines. Lines per second: 81339.1"
            ]
          },
          "metadata": {
            "tags": []
          }
        },
        {
          "output_type": "display_data",
          "data": {
            "text/html": [
              "<pre>Read 15659858 lines. Lines per second: 81212.2</pre>"
            ],
            "text/plain": [
              "Read 15659858 lines. Lines per second: 81212.2"
            ]
          },
          "metadata": {
            "tags": []
          }
        },
        {
          "output_type": "display_data",
          "data": {
            "text/html": [
              "<pre>Read 16138116 lines. Lines per second: 81089.3</pre>"
            ],
            "text/plain": [
              "Read 16138116 lines. Lines per second: 81089.3"
            ]
          },
          "metadata": {
            "tags": []
          }
        },
        {
          "output_type": "display_data",
          "data": {
            "text/html": [
              "<pre>Successfully parsed 3 tokens: \n",
              "\t0: 2711172\n",
              "\t1: Through no ... Peg Meier.\n",
              "\t2: \"Irvine, Coco, 1</pre>"
            ],
            "text/plain": [
              "Successfully parsed 3 tokens: \n",
              "\t0: 2711172\n",
              "\t1: Through no ... Peg Meier.\n",
              "\t2: \"Irvine, Coco, 1"
            ]
          },
          "metadata": {
            "tags": []
          }
        },
        {
          "output_type": "display_data",
          "data": {
            "text/html": [
              "<pre>10 lines failed to parse correctly</pre>"
            ],
            "text/plain": [
              "10 lines failed to parse correctly"
            ]
          },
          "metadata": {
            "tags": []
          }
        },
        {
          "output_type": "display_data",
          "data": {
            "text/html": [
              "<pre>Finished parsing file /content/datasets/library-collection/library-collection-inventory.csv</pre>"
            ],
            "text/plain": [
              "Finished parsing file /content/datasets/library-collection/library-collection-inventory.csv"
            ]
          },
          "metadata": {
            "tags": []
          }
        },
        {
          "output_type": "display_data",
          "data": {
            "text/html": [
              "<pre>Parsing completed. Parsed 16431088 lines in 201.176 secs.</pre>"
            ],
            "text/plain": [
              "Parsing completed. Parsed 16431088 lines in 201.176 secs."
            ]
          },
          "metadata": {
            "tags": []
          }
        }
      ]
    },
    {
      "cell_type": "code",
      "metadata": {
        "id": "Ub2x4KPX0P2d",
        "colab_type": "code",
        "colab": {
          "base_uri": "https://localhost:8080/",
          "height": 34
        },
        "outputId": "c177113b-b7a3-4b70-a80b-97422e25dd48"
      },
      "source": [
        "def find_popular_with_subject(subject):\n",
        "    # reduce information\n",
        "    sf_reduced = sf[[\"Title\", \"Subjects\"]]\n",
        "    # get all books with given subject in subjects list\n",
        "    sf_reduced = sf_reduced[sf_reduced[\"Subjects\"].apply(\n",
        "                            lambda x: subject in x.lower())]\n",
        "    g = sf_reduced.groupby('Title', {'Count': agg.COUNT()})\n",
        "    g = g.sort(\"Count\", ascending=False)\n",
        "    return g[0]\n",
        "\n",
        "\n",
        "find_popular_with_subject(\"mystery fiction\")"
      ],
      "execution_count": 3,
      "outputs": [
        {
          "output_type": "execute_result",
          "data": {
            "text/plain": [
              "{'Count': 703, 'Title': 'The late show / Michael Connelly.'}"
            ]
          },
          "metadata": {
            "tags": []
          },
          "execution_count": 3
        }
      ]
    },
    {
      "cell_type": "markdown",
      "metadata": {
        "id": "31NZ1B3S0P2i",
        "colab_type": "text"
      },
      "source": [
        "**Question 2**: Find the top-10 fiction subjects (5pt), and use Seaborn to visualize the number of items over time for each subject (15pt)\n",
        "    "
      ]
    },
    {
      "cell_type": "code",
      "metadata": {
        "id": "keOHakis0P2j",
        "colab_type": "code",
        "colab": {}
      },
      "source": [
        ""
      ],
      "execution_count": 0,
      "outputs": []
    },
    {
      "cell_type": "markdown",
      "metadata": {
        "id": "WlbdMR3m0P2n",
        "colab_type": "text"
      },
      "source": [
        "**Question 3:** Write a function that gets as input a subject name. The function returns the top-20 most _popular_ author for the input subject (15pt).\n",
        "\n"
      ]
    },
    {
      "cell_type": "code",
      "metadata": {
        "id": "WXaxnXmr0P2o",
        "colab_type": "code",
        "colab": {}
      },
      "source": [
        ""
      ],
      "execution_count": 0,
      "outputs": []
    },
    {
      "cell_type": "markdown",
      "metadata": {
        "id": "w5glNK9H0P2r",
        "colab_type": "text"
      },
      "source": [
        "Using the [The Blog Authorship Corpus](http://u.cs.biu.ac.il/~koppel/BlogCorpus.htm) and TuriCreate, please answer the following questions:"
      ]
    },
    {
      "cell_type": "markdown",
      "metadata": {
        "id": "DrxFfd-i0P2s",
        "colab_type": "text"
      },
      "source": [
        "**Question 4:** Calculate the average and median age of bloggers in each topic by gender(5pt). \n",
        "Calculate the average and median age of bloggers according to their sign (5pt). \n",
        "Visualize the age distributions  of bloggers according to their  topic and gender using Seaborn and PlotlyExpress(15pt)"
      ]
    },
    {
      "cell_type": "code",
      "metadata": {
        "id": "0J2gbaCw0P2t",
        "colab_type": "code",
        "colab": {}
      },
      "source": [
        ""
      ],
      "execution_count": 0,
      "outputs": []
    },
    {
      "cell_type": "markdown",
      "metadata": {
        "id": "HoIuWd1A0P2x",
        "colab_type": "text"
      },
      "source": [
        "**Question 5:** Using the  [SJR Journal Ranking of 2018](https://www.scimagojr.com/journalrank.php) dataset and Seaborn, visualize\n",
        "    the H-index distributions according to the SJR Best Quartile (15pt). Using a grid, visualize the _Cites / Doc. (2years)_ histograms values of each publisher (15pt).\n",
        "    \n"
      ]
    },
    {
      "cell_type": "code",
      "metadata": {
        "id": "HNtgDQZE0P2y",
        "colab_type": "code",
        "colab": {}
      },
      "source": [
        ""
      ],
      "execution_count": 0,
      "outputs": []
    }
  ]
}