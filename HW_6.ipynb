{
  "nbformat": 4,
  "nbformat_minor": 0,
  "metadata": {
    "kernelspec": {
      "display_name": "Python 3",
      "language": "python",
      "name": "python3"
    },
    "language_info": {
      "codemirror_mode": {
        "name": "ipython",
        "version": 3
      },
      "file_extension": ".py",
      "mimetype": "text/x-python",
      "name": "python",
      "nbconvert_exporter": "python",
      "pygments_lexer": "ipython3",
      "version": "3.6.7"
    },
    "colab": {
      "name": "HW-6.ipynb",
      "provenance": [],
      "include_colab_link": true
    }
  },
  "cells": [
    {
      "cell_type": "markdown",
      "metadata": {
        "id": "view-in-github",
        "colab_type": "text"
      },
      "source": [
        "<a href=\"https://colab.research.google.com/github/liadekel/analyzing-big-data/blob/master/HW_6.ipynb\" target=\"_parent\"><img src=\"https://colab.research.google.com/assets/colab-badge.svg\" alt=\"Open In Colab\"/></a>"
      ]
    },
    {
      "cell_type": "markdown",
      "metadata": {
        "id": "ATxpf1JpbCyE",
        "colab_type": "text"
      },
      "source": [
        "# Homework Assignment  6"
      ]
    },
    {
      "cell_type": "code",
      "metadata": {
        "id": "9iDpJcJeSLqp",
        "colab_type": "code",
        "outputId": "afae1752-b3ce-4747-d751-61e609353cec",
        "colab": {
          "base_uri": "https://localhost:8080/",
          "height": 1000
        }
      },
      "source": [
        "!pip install turicreate\n",
        "!pip install kaggle \n",
        "!pip install gensim\n",
        "!pip install pyLDAvis\n",
        "!pip install spaCy\n",
        "!pip install afinn"
      ],
      "execution_count": 1,
      "outputs": [
        {
          "output_type": "stream",
          "text": [
            "Collecting turicreate\n",
            "\u001b[?25l  Downloading https://files.pythonhosted.org/packages/ee/3c/11f0818f117bc80bab78b5b04d492316f949d005bb1c6b3e05f31182b20e/turicreate-6.2.2-cp36-cp36m-manylinux1_x86_64.whl (91.8MB)\n",
            "\u001b[K     |████████████████████████████████| 91.8MB 61kB/s \n",
            "\u001b[?25hRequirement already satisfied: six>=1.10.0 in /usr/local/lib/python3.6/dist-packages (from turicreate) (1.12.0)\n",
            "Collecting resampy==0.2.1\n",
            "\u001b[?25l  Downloading https://files.pythonhosted.org/packages/14/b6/66a06d85474190b50aee1a6c09cdc95bb405ac47338b27e9b21409da1760/resampy-0.2.1.tar.gz (322kB)\n",
            "\u001b[K     |████████████████████████████████| 327kB 52.2MB/s \n",
            "\u001b[?25hCollecting coremltools==3.3\n",
            "\u001b[?25l  Downloading https://files.pythonhosted.org/packages/77/19/611916d1ef326d38857d93af5ba184f6ad7491642e0fa4f9082e7d82f034/coremltools-3.3-cp36-none-manylinux1_x86_64.whl (3.4MB)\n",
            "\u001b[K     |████████████████████████████████| 3.4MB 42.9MB/s \n",
            "\u001b[?25hRequirement already satisfied: decorator>=4.0.9 in /usr/local/lib/python3.6/dist-packages (from turicreate) (4.4.2)\n",
            "Requirement already satisfied: prettytable==0.7.2 in /usr/local/lib/python3.6/dist-packages (from turicreate) (0.7.2)\n",
            "Collecting tensorflow<=2.0.1,>=2.0.0\n",
            "\u001b[?25l  Downloading https://files.pythonhosted.org/packages/43/16/b07e3f7a4a024b47918f7018967eb984b0c542458a6141d8c48515aa81d4/tensorflow-2.0.1-cp36-cp36m-manylinux2010_x86_64.whl (86.3MB)\n",
            "\u001b[K     |████████████████████████████████| 86.3MB 46kB/s \n",
            "\u001b[?25hRequirement already satisfied: numpy in /usr/local/lib/python3.6/dist-packages (from turicreate) (1.18.4)\n",
            "Requirement already satisfied: pillow>=5.2.0 in /usr/local/lib/python3.6/dist-packages (from turicreate) (7.0.0)\n",
            "Requirement already satisfied: pandas>=0.23.2 in /usr/local/lib/python3.6/dist-packages (from turicreate) (1.0.3)\n",
            "Requirement already satisfied: requests>=2.9.1 in /usr/local/lib/python3.6/dist-packages (from turicreate) (2.23.0)\n",
            "Requirement already satisfied: scipy>=1.1.0 in /usr/local/lib/python3.6/dist-packages (from turicreate) (1.4.1)\n",
            "Requirement already satisfied: numba>=0.32 in /usr/local/lib/python3.6/dist-packages (from resampy==0.2.1->turicreate) (0.48.0)\n",
            "Requirement already satisfied: protobuf>=3.1.0 in /usr/local/lib/python3.6/dist-packages (from coremltools==3.3->turicreate) (3.10.0)\n",
            "Requirement already satisfied: google-pasta>=0.1.6 in /usr/local/lib/python3.6/dist-packages (from tensorflow<=2.0.1,>=2.0.0->turicreate) (0.2.0)\n",
            "Requirement already satisfied: astor>=0.6.0 in /usr/local/lib/python3.6/dist-packages (from tensorflow<=2.0.1,>=2.0.0->turicreate) (0.8.1)\n",
            "Requirement already satisfied: grpcio>=1.8.6 in /usr/local/lib/python3.6/dist-packages (from tensorflow<=2.0.1,>=2.0.0->turicreate) (1.28.1)\n",
            "Collecting tensorboard<2.1.0,>=2.0.0\n",
            "\u001b[?25l  Downloading https://files.pythonhosted.org/packages/76/54/99b9d5d52d5cb732f099baaaf7740403e83fe6b0cedde940fabd2b13d75a/tensorboard-2.0.2-py3-none-any.whl (3.8MB)\n",
            "\u001b[K     |████████████████████████████████| 3.8MB 33.0MB/s \n",
            "\u001b[?25hCollecting gast==0.2.2\n",
            "  Downloading https://files.pythonhosted.org/packages/4e/35/11749bf99b2d4e3cceb4d55ca22590b0d7c2c62b9de38ac4a4a7f4687421/gast-0.2.2.tar.gz\n",
            "Requirement already satisfied: termcolor>=1.1.0 in /usr/local/lib/python3.6/dist-packages (from tensorflow<=2.0.1,>=2.0.0->turicreate) (1.1.0)\n",
            "Requirement already satisfied: wheel>=0.26; python_version >= \"3\" in /usr/local/lib/python3.6/dist-packages (from tensorflow<=2.0.1,>=2.0.0->turicreate) (0.34.2)\n",
            "Requirement already satisfied: keras-applications>=1.0.8 in /usr/local/lib/python3.6/dist-packages (from tensorflow<=2.0.1,>=2.0.0->turicreate) (1.0.8)\n",
            "Requirement already satisfied: keras-preprocessing>=1.0.5 in /usr/local/lib/python3.6/dist-packages (from tensorflow<=2.0.1,>=2.0.0->turicreate) (1.1.0)\n",
            "Collecting tensorflow-estimator<2.1.0,>=2.0.0\n",
            "\u001b[?25l  Downloading https://files.pythonhosted.org/packages/fc/08/8b927337b7019c374719145d1dceba21a8bb909b93b1ad6f8fb7d22c1ca1/tensorflow_estimator-2.0.1-py2.py3-none-any.whl (449kB)\n",
            "\u001b[K     |████████████████████████████████| 450kB 51.3MB/s \n",
            "\u001b[?25hRequirement already satisfied: absl-py>=0.7.0 in /usr/local/lib/python3.6/dist-packages (from tensorflow<=2.0.1,>=2.0.0->turicreate) (0.9.0)\n",
            "Requirement already satisfied: opt-einsum>=2.3.2 in /usr/local/lib/python3.6/dist-packages (from tensorflow<=2.0.1,>=2.0.0->turicreate) (3.2.1)\n",
            "Requirement already satisfied: wrapt>=1.11.1 in /usr/local/lib/python3.6/dist-packages (from tensorflow<=2.0.1,>=2.0.0->turicreate) (1.12.1)\n",
            "Requirement already satisfied: python-dateutil>=2.6.1 in /usr/local/lib/python3.6/dist-packages (from pandas>=0.23.2->turicreate) (2.8.1)\n",
            "Requirement already satisfied: pytz>=2017.2 in /usr/local/lib/python3.6/dist-packages (from pandas>=0.23.2->turicreate) (2018.9)\n",
            "Requirement already satisfied: certifi>=2017.4.17 in /usr/local/lib/python3.6/dist-packages (from requests>=2.9.1->turicreate) (2020.4.5.1)\n",
            "Requirement already satisfied: idna<3,>=2.5 in /usr/local/lib/python3.6/dist-packages (from requests>=2.9.1->turicreate) (2.9)\n",
            "Requirement already satisfied: urllib3!=1.25.0,!=1.25.1,<1.26,>=1.21.1 in /usr/local/lib/python3.6/dist-packages (from requests>=2.9.1->turicreate) (1.24.3)\n",
            "Requirement already satisfied: chardet<4,>=3.0.2 in /usr/local/lib/python3.6/dist-packages (from requests>=2.9.1->turicreate) (3.0.4)\n",
            "Requirement already satisfied: llvmlite<0.32.0,>=0.31.0dev0 in /usr/local/lib/python3.6/dist-packages (from numba>=0.32->resampy==0.2.1->turicreate) (0.31.0)\n",
            "Requirement already satisfied: setuptools in /usr/local/lib/python3.6/dist-packages (from numba>=0.32->resampy==0.2.1->turicreate) (46.1.3)\n",
            "Requirement already satisfied: google-auth-oauthlib<0.5,>=0.4.1 in /usr/local/lib/python3.6/dist-packages (from tensorboard<2.1.0,>=2.0.0->tensorflow<=2.0.1,>=2.0.0->turicreate) (0.4.1)\n",
            "Requirement already satisfied: google-auth<2,>=1.6.3 in /usr/local/lib/python3.6/dist-packages (from tensorboard<2.1.0,>=2.0.0->tensorflow<=2.0.1,>=2.0.0->turicreate) (1.7.2)\n",
            "Requirement already satisfied: werkzeug>=0.11.15 in /usr/local/lib/python3.6/dist-packages (from tensorboard<2.1.0,>=2.0.0->tensorflow<=2.0.1,>=2.0.0->turicreate) (1.0.1)\n",
            "Requirement already satisfied: markdown>=2.6.8 in /usr/local/lib/python3.6/dist-packages (from tensorboard<2.1.0,>=2.0.0->tensorflow<=2.0.1,>=2.0.0->turicreate) (3.2.1)\n",
            "Requirement already satisfied: h5py in /usr/local/lib/python3.6/dist-packages (from keras-applications>=1.0.8->tensorflow<=2.0.1,>=2.0.0->turicreate) (2.10.0)\n",
            "Requirement already satisfied: requests-oauthlib>=0.7.0 in /usr/local/lib/python3.6/dist-packages (from google-auth-oauthlib<0.5,>=0.4.1->tensorboard<2.1.0,>=2.0.0->tensorflow<=2.0.1,>=2.0.0->turicreate) (1.3.0)\n",
            "Requirement already satisfied: cachetools<3.2,>=2.0.0 in /usr/local/lib/python3.6/dist-packages (from google-auth<2,>=1.6.3->tensorboard<2.1.0,>=2.0.0->tensorflow<=2.0.1,>=2.0.0->turicreate) (3.1.1)\n",
            "Requirement already satisfied: pyasn1-modules>=0.2.1 in /usr/local/lib/python3.6/dist-packages (from google-auth<2,>=1.6.3->tensorboard<2.1.0,>=2.0.0->tensorflow<=2.0.1,>=2.0.0->turicreate) (0.2.8)\n",
            "Requirement already satisfied: rsa<4.1,>=3.1.4 in /usr/local/lib/python3.6/dist-packages (from google-auth<2,>=1.6.3->tensorboard<2.1.0,>=2.0.0->tensorflow<=2.0.1,>=2.0.0->turicreate) (4.0)\n",
            "Requirement already satisfied: oauthlib>=3.0.0 in /usr/local/lib/python3.6/dist-packages (from requests-oauthlib>=0.7.0->google-auth-oauthlib<0.5,>=0.4.1->tensorboard<2.1.0,>=2.0.0->tensorflow<=2.0.1,>=2.0.0->turicreate) (3.1.0)\n",
            "Requirement already satisfied: pyasn1<0.5.0,>=0.4.6 in /usr/local/lib/python3.6/dist-packages (from pyasn1-modules>=0.2.1->google-auth<2,>=1.6.3->tensorboard<2.1.0,>=2.0.0->tensorflow<=2.0.1,>=2.0.0->turicreate) (0.4.8)\n",
            "Building wheels for collected packages: resampy, gast\n",
            "  Building wheel for resampy (setup.py) ... \u001b[?25l\u001b[?25hdone\n",
            "  Created wheel for resampy: filename=resampy-0.2.1-cp36-none-any.whl size=320850 sha256=c2fbfdc6dc3ff9bb5a8b38c3ea2bb293fb8ede9596f35db96145801273cf54cd\n",
            "  Stored in directory: /root/.cache/pip/wheels/ff/4f/ed/2e6c676c23efe5394bb40ade50662e90eb46e29b48324c5f9b\n",
            "  Building wheel for gast (setup.py) ... \u001b[?25l\u001b[?25hdone\n",
            "  Created wheel for gast: filename=gast-0.2.2-cp36-none-any.whl size=7540 sha256=b3ca1c59b36aefee1ea184cf733de7b60fd4d02b99d410816a703c8a45fc8755\n",
            "  Stored in directory: /root/.cache/pip/wheels/5c/2e/7e/a1d4d4fcebe6c381f378ce7743a3ced3699feb89bcfbdadadd\n",
            "Successfully built resampy gast\n",
            "\u001b[31mERROR: tensorflow-probability 0.10.0rc0 has requirement gast>=0.3.2, but you'll have gast 0.2.2 which is incompatible.\u001b[0m\n",
            "Installing collected packages: resampy, coremltools, tensorboard, gast, tensorflow-estimator, tensorflow, turicreate\n",
            "  Found existing installation: resampy 0.2.2\n",
            "    Uninstalling resampy-0.2.2:\n",
            "      Successfully uninstalled resampy-0.2.2\n",
            "  Found existing installation: tensorboard 2.2.1\n",
            "    Uninstalling tensorboard-2.2.1:\n",
            "      Successfully uninstalled tensorboard-2.2.1\n",
            "  Found existing installation: gast 0.3.3\n",
            "    Uninstalling gast-0.3.3:\n",
            "      Successfully uninstalled gast-0.3.3\n",
            "  Found existing installation: tensorflow-estimator 2.2.0\n",
            "    Uninstalling tensorflow-estimator-2.2.0:\n",
            "      Successfully uninstalled tensorflow-estimator-2.2.0\n",
            "  Found existing installation: tensorflow 2.2.0\n",
            "    Uninstalling tensorflow-2.2.0:\n",
            "      Successfully uninstalled tensorflow-2.2.0\n",
            "Successfully installed coremltools-3.3 gast-0.2.2 resampy-0.2.1 tensorboard-2.0.2 tensorflow-2.0.1 tensorflow-estimator-2.0.1 turicreate-6.2.2\n",
            "Requirement already satisfied: kaggle in /usr/local/lib/python3.6/dist-packages (1.5.6)\n",
            "Requirement already satisfied: six>=1.10 in /usr/local/lib/python3.6/dist-packages (from kaggle) (1.12.0)\n",
            "Requirement already satisfied: python-dateutil in /usr/local/lib/python3.6/dist-packages (from kaggle) (2.8.1)\n",
            "Requirement already satisfied: python-slugify in /usr/local/lib/python3.6/dist-packages (from kaggle) (4.0.0)\n",
            "Requirement already satisfied: tqdm in /usr/local/lib/python3.6/dist-packages (from kaggle) (4.41.1)\n",
            "Requirement already satisfied: certifi in /usr/local/lib/python3.6/dist-packages (from kaggle) (2020.4.5.1)\n",
            "Requirement already satisfied: urllib3<1.25,>=1.21.1 in /usr/local/lib/python3.6/dist-packages (from kaggle) (1.24.3)\n",
            "Requirement already satisfied: requests in /usr/local/lib/python3.6/dist-packages (from kaggle) (2.23.0)\n",
            "Requirement already satisfied: text-unidecode>=1.3 in /usr/local/lib/python3.6/dist-packages (from python-slugify->kaggle) (1.3)\n",
            "Requirement already satisfied: idna<3,>=2.5 in /usr/local/lib/python3.6/dist-packages (from requests->kaggle) (2.9)\n",
            "Requirement already satisfied: chardet<4,>=3.0.2 in /usr/local/lib/python3.6/dist-packages (from requests->kaggle) (3.0.4)\n",
            "Requirement already satisfied: gensim in /usr/local/lib/python3.6/dist-packages (3.6.0)\n",
            "Requirement already satisfied: smart-open>=1.2.1 in /usr/local/lib/python3.6/dist-packages (from gensim) (2.0.0)\n",
            "Requirement already satisfied: six>=1.5.0 in /usr/local/lib/python3.6/dist-packages (from gensim) (1.12.0)\n",
            "Requirement already satisfied: numpy>=1.11.3 in /usr/local/lib/python3.6/dist-packages (from gensim) (1.18.4)\n",
            "Requirement already satisfied: scipy>=0.18.1 in /usr/local/lib/python3.6/dist-packages (from gensim) (1.4.1)\n",
            "Requirement already satisfied: requests in /usr/local/lib/python3.6/dist-packages (from smart-open>=1.2.1->gensim) (2.23.0)\n",
            "Requirement already satisfied: boto in /usr/local/lib/python3.6/dist-packages (from smart-open>=1.2.1->gensim) (2.49.0)\n",
            "Requirement already satisfied: boto3 in /usr/local/lib/python3.6/dist-packages (from smart-open>=1.2.1->gensim) (1.13.4)\n",
            "Requirement already satisfied: chardet<4,>=3.0.2 in /usr/local/lib/python3.6/dist-packages (from requests->smart-open>=1.2.1->gensim) (3.0.4)\n",
            "Requirement already satisfied: idna<3,>=2.5 in /usr/local/lib/python3.6/dist-packages (from requests->smart-open>=1.2.1->gensim) (2.9)\n",
            "Requirement already satisfied: certifi>=2017.4.17 in /usr/local/lib/python3.6/dist-packages (from requests->smart-open>=1.2.1->gensim) (2020.4.5.1)\n",
            "Requirement already satisfied: urllib3!=1.25.0,!=1.25.1,<1.26,>=1.21.1 in /usr/local/lib/python3.6/dist-packages (from requests->smart-open>=1.2.1->gensim) (1.24.3)\n",
            "Requirement already satisfied: botocore<1.17.0,>=1.16.4 in /usr/local/lib/python3.6/dist-packages (from boto3->smart-open>=1.2.1->gensim) (1.16.4)\n",
            "Requirement already satisfied: jmespath<1.0.0,>=0.7.1 in /usr/local/lib/python3.6/dist-packages (from boto3->smart-open>=1.2.1->gensim) (0.9.5)\n",
            "Requirement already satisfied: s3transfer<0.4.0,>=0.3.0 in /usr/local/lib/python3.6/dist-packages (from boto3->smart-open>=1.2.1->gensim) (0.3.3)\n",
            "Requirement already satisfied: python-dateutil<3.0.0,>=2.1 in /usr/local/lib/python3.6/dist-packages (from botocore<1.17.0,>=1.16.4->boto3->smart-open>=1.2.1->gensim) (2.8.1)\n",
            "Requirement already satisfied: docutils<0.16,>=0.10 in /usr/local/lib/python3.6/dist-packages (from botocore<1.17.0,>=1.16.4->boto3->smart-open>=1.2.1->gensim) (0.15.2)\n",
            "Collecting pyLDAvis\n",
            "\u001b[?25l  Downloading https://files.pythonhosted.org/packages/a5/3a/af82e070a8a96e13217c8f362f9a73e82d61ac8fff3a2561946a97f96266/pyLDAvis-2.1.2.tar.gz (1.6MB)\n",
            "\u001b[K     |████████████████████████████████| 1.6MB 2.7MB/s \n",
            "\u001b[?25hRequirement already satisfied: wheel>=0.23.0 in /usr/local/lib/python3.6/dist-packages (from pyLDAvis) (0.34.2)\n",
            "Requirement already satisfied: numpy>=1.9.2 in /usr/local/lib/python3.6/dist-packages (from pyLDAvis) (1.18.4)\n",
            "Requirement already satisfied: scipy>=0.18.0 in /usr/local/lib/python3.6/dist-packages (from pyLDAvis) (1.4.1)\n",
            "Requirement already satisfied: pandas>=0.17.0 in /usr/local/lib/python3.6/dist-packages (from pyLDAvis) (1.0.3)\n",
            "Requirement already satisfied: joblib>=0.8.4 in /usr/local/lib/python3.6/dist-packages (from pyLDAvis) (0.14.1)\n",
            "Requirement already satisfied: jinja2>=2.7.2 in /usr/local/lib/python3.6/dist-packages (from pyLDAvis) (2.11.2)\n",
            "Requirement already satisfied: numexpr in /usr/local/lib/python3.6/dist-packages (from pyLDAvis) (2.7.1)\n",
            "Requirement already satisfied: pytest in /usr/local/lib/python3.6/dist-packages (from pyLDAvis) (3.6.4)\n",
            "Requirement already satisfied: future in /usr/local/lib/python3.6/dist-packages (from pyLDAvis) (0.16.0)\n",
            "Collecting funcy\n",
            "\u001b[?25l  Downloading https://files.pythonhosted.org/packages/ce/4b/6ffa76544e46614123de31574ad95758c421aae391a1764921b8a81e1eae/funcy-1.14.tar.gz (548kB)\n",
            "\u001b[K     |████████████████████████████████| 552kB 43.6MB/s \n",
            "\u001b[?25hRequirement already satisfied: python-dateutil>=2.6.1 in /usr/local/lib/python3.6/dist-packages (from pandas>=0.17.0->pyLDAvis) (2.8.1)\n",
            "Requirement already satisfied: pytz>=2017.2 in /usr/local/lib/python3.6/dist-packages (from pandas>=0.17.0->pyLDAvis) (2018.9)\n",
            "Requirement already satisfied: MarkupSafe>=0.23 in /usr/local/lib/python3.6/dist-packages (from jinja2>=2.7.2->pyLDAvis) (1.1.1)\n",
            "Requirement already satisfied: setuptools in /usr/local/lib/python3.6/dist-packages (from pytest->pyLDAvis) (46.1.3)\n",
            "Requirement already satisfied: six>=1.10.0 in /usr/local/lib/python3.6/dist-packages (from pytest->pyLDAvis) (1.12.0)\n",
            "Requirement already satisfied: atomicwrites>=1.0 in /usr/local/lib/python3.6/dist-packages (from pytest->pyLDAvis) (1.4.0)\n",
            "Requirement already satisfied: more-itertools>=4.0.0 in /usr/local/lib/python3.6/dist-packages (from pytest->pyLDAvis) (8.2.0)\n",
            "Requirement already satisfied: pluggy<0.8,>=0.5 in /usr/local/lib/python3.6/dist-packages (from pytest->pyLDAvis) (0.7.1)\n",
            "Requirement already satisfied: py>=1.5.0 in /usr/local/lib/python3.6/dist-packages (from pytest->pyLDAvis) (1.8.1)\n",
            "Requirement already satisfied: attrs>=17.4.0 in /usr/local/lib/python3.6/dist-packages (from pytest->pyLDAvis) (19.3.0)\n",
            "Building wheels for collected packages: pyLDAvis, funcy\n",
            "  Building wheel for pyLDAvis (setup.py) ... \u001b[?25l\u001b[?25hdone\n",
            "  Created wheel for pyLDAvis: filename=pyLDAvis-2.1.2-py2.py3-none-any.whl size=97711 sha256=3795b682bf6bf428c7930af7068c8cad4c0d2e2c4246b9d586353f536542cc29\n",
            "  Stored in directory: /root/.cache/pip/wheels/98/71/24/513a99e58bb6b8465bae4d2d5e9dba8f0bef8179e3051ac414\n",
            "  Building wheel for funcy (setup.py) ... \u001b[?25l\u001b[?25hdone\n",
            "  Created wheel for funcy: filename=funcy-1.14-py2.py3-none-any.whl size=32042 sha256=ab501726675a903ef2c41fdd989fb9273a3342db707a889d827f3bd7d3f8cc84\n",
            "  Stored in directory: /root/.cache/pip/wheels/20/5a/d8/1d875df03deae6f178dfdf70238cca33f948ef8a6f5209f2eb\n",
            "Successfully built pyLDAvis funcy\n",
            "Installing collected packages: funcy, pyLDAvis\n",
            "Successfully installed funcy-1.14 pyLDAvis-2.1.2\n",
            "Requirement already satisfied: spaCy in /usr/local/lib/python3.6/dist-packages (2.2.4)\n",
            "Requirement already satisfied: cymem<2.1.0,>=2.0.2 in /usr/local/lib/python3.6/dist-packages (from spaCy) (2.0.3)\n",
            "Requirement already satisfied: thinc==7.4.0 in /usr/local/lib/python3.6/dist-packages (from spaCy) (7.4.0)\n",
            "Requirement already satisfied: numpy>=1.15.0 in /usr/local/lib/python3.6/dist-packages (from spaCy) (1.18.4)\n",
            "Requirement already satisfied: plac<1.2.0,>=0.9.6 in /usr/local/lib/python3.6/dist-packages (from spaCy) (1.1.3)\n",
            "Requirement already satisfied: blis<0.5.0,>=0.4.0 in /usr/local/lib/python3.6/dist-packages (from spaCy) (0.4.1)\n",
            "Requirement already satisfied: preshed<3.1.0,>=3.0.2 in /usr/local/lib/python3.6/dist-packages (from spaCy) (3.0.2)\n",
            "Requirement already satisfied: setuptools in /usr/local/lib/python3.6/dist-packages (from spaCy) (46.1.3)\n",
            "Requirement already satisfied: srsly<1.1.0,>=1.0.2 in /usr/local/lib/python3.6/dist-packages (from spaCy) (1.0.2)\n",
            "Requirement already satisfied: tqdm<5.0.0,>=4.38.0 in /usr/local/lib/python3.6/dist-packages (from spaCy) (4.41.1)\n",
            "Requirement already satisfied: catalogue<1.1.0,>=0.0.7 in /usr/local/lib/python3.6/dist-packages (from spaCy) (1.0.0)\n",
            "Requirement already satisfied: murmurhash<1.1.0,>=0.28.0 in /usr/local/lib/python3.6/dist-packages (from spaCy) (1.0.2)\n",
            "Requirement already satisfied: requests<3.0.0,>=2.13.0 in /usr/local/lib/python3.6/dist-packages (from spaCy) (2.23.0)\n",
            "Requirement already satisfied: wasabi<1.1.0,>=0.4.0 in /usr/local/lib/python3.6/dist-packages (from spaCy) (0.6.0)\n",
            "Requirement already satisfied: importlib-metadata>=0.20; python_version < \"3.8\" in /usr/local/lib/python3.6/dist-packages (from catalogue<1.1.0,>=0.0.7->spaCy) (1.6.0)\n",
            "Requirement already satisfied: idna<3,>=2.5 in /usr/local/lib/python3.6/dist-packages (from requests<3.0.0,>=2.13.0->spaCy) (2.9)\n",
            "Requirement already satisfied: urllib3!=1.25.0,!=1.25.1,<1.26,>=1.21.1 in /usr/local/lib/python3.6/dist-packages (from requests<3.0.0,>=2.13.0->spaCy) (1.24.3)\n",
            "Requirement already satisfied: chardet<4,>=3.0.2 in /usr/local/lib/python3.6/dist-packages (from requests<3.0.0,>=2.13.0->spaCy) (3.0.4)\n",
            "Requirement already satisfied: certifi>=2017.4.17 in /usr/local/lib/python3.6/dist-packages (from requests<3.0.0,>=2.13.0->spaCy) (2020.4.5.1)\n",
            "Requirement already satisfied: zipp>=0.5 in /usr/local/lib/python3.6/dist-packages (from importlib-metadata>=0.20; python_version < \"3.8\"->catalogue<1.1.0,>=0.0.7->spaCy) (3.1.0)\n",
            "Collecting afinn\n",
            "\u001b[?25l  Downloading https://files.pythonhosted.org/packages/86/e5/ffbb7ee3cca21ac6d310ac01944fb163c20030b45bda25421d725d8a859a/afinn-0.1.tar.gz (52kB)\n",
            "\u001b[K     |████████████████████████████████| 61kB 1.9MB/s \n",
            "\u001b[?25hBuilding wheels for collected packages: afinn\n",
            "  Building wheel for afinn (setup.py) ... \u001b[?25l\u001b[?25hdone\n",
            "  Created wheel for afinn: filename=afinn-0.1-cp36-none-any.whl size=53452 sha256=4f4e6d183c0f0e8597bf4b8f97b18b664c37393b58de002d56503defe08ced52\n",
            "  Stored in directory: /root/.cache/pip/wheels/b5/1c/de/428301f3333ca509dcf20ff358690eb23a1388fbcbbde008b2\n",
            "Successfully built afinn\n",
            "Installing collected packages: afinn\n",
            "Successfully installed afinn-0.1\n"
          ],
          "name": "stdout"
        }
      ]
    },
    {
      "cell_type": "code",
      "metadata": {
        "id": "oJc9rKcHz7rR",
        "colab_type": "code",
        "colab": {}
      },
      "source": [
        "#setting up Kaggle & TuriCreate package s\n",
        "import json\n",
        "import os\n",
        "\n",
        "!mkdir /root/.kaggle/\n",
        "# Installing the Kaggle package\n",
        "\n",
        "#Important Note: complete this with your own key - after running this for the first time remmember to **remove** your API_KEY\n",
        "api_token = {\"username\":\"liaddekel\",\"key\":\"bf0297555b2915c6c31a8f6579de9483\"}\n",
        "\n",
        "# creating kaggle.json file with the personal API-Key details \n",
        "# You can also put this file on your Google Drive\n",
        "\n",
        "with open('/root/.kaggle/kaggle.json', 'w') as file:\n",
        "  json.dump(api_token, file)\n",
        "!chmod 600 /root/.kaggle/kaggle.json"
      ],
      "execution_count": 0,
      "outputs": []
    },
    {
      "cell_type": "markdown",
      "metadata": {
        "id": "T6nDeYS6bCyF",
        "colab_type": "text"
      },
      "source": [
        "**Question 1:** Construct a sentiment classifier using 80% of the reviews in the [Amazon Fine Food Reviews dataset](https://www.kaggle.com/snap/amazon-fine-food-reviews).\n",
        "The classifier needs to predict if a product got a one-star or a five-star review. \n",
        "Evaluate the classifier using the rest of the data (30pt). \n"
      ]
    },
    {
      "cell_type": "code",
      "metadata": {
        "id": "cIoqk24KbCyG",
        "colab_type": "code",
        "colab": {
          "base_uri": "https://localhost:8080/",
          "height": 255
        },
        "outputId": "908017d5-12ac-4011-a500-807e54c4f5c1"
      },
      "source": [
        "!mkdir ./datasets\n",
        "!mkdir ./datasets/amazon\n",
        "\n",
        "# download the dataset from Kaggle and unzip it\n",
        "!kaggle datasets download snap/amazon-fine-food-reviews -p ./datasets/amazon\n",
        "!unzip ./datasets/amazon/*.zip  -d ./datasets/amazon/\n",
        "! ls -l ./datasets/amazon/"
      ],
      "execution_count": 4,
      "outputs": [
        {
          "output_type": "stream",
          "text": [
            "mkdir: cannot create directory ‘./datasets’: File exists\n",
            "mkdir: cannot create directory ‘./datasets/amazon’: File exists\n",
            "amazon-fine-food-reviews.zip: Skipping, found more recently modified local copy (use --force to force download)\n",
            "Archive:  ./datasets/amazon/amazon-fine-food-reviews.zip\n",
            "replace ./datasets/amazon/Reviews.csv? [y]es, [n]o, [A]ll, [N]one, [r]ename: y\n",
            "  inflating: ./datasets/amazon/Reviews.csv  \n",
            "replace ./datasets/amazon/database.sqlite? [y]es, [n]o, [A]ll, [N]one, [r]ename: y\n",
            "  inflating: ./datasets/amazon/database.sqlite  \n",
            "  inflating: ./datasets/amazon/hashes.txt  \n",
            "total 905848\n",
            "-rw-r--r-- 1 root root 253873708 May 11 20:54 amazon-fine-food-reviews.zip\n",
            "-rw-r--r-- 1 root root 372798464 Sep 19  2019 database.sqlite\n",
            "-rw-r--r-- 1 root root       277 Sep 19  2019 hashes.txt\n",
            "-rw-r--r-- 1 root root 300904694 Sep 19  2019 Reviews.csv\n"
          ],
          "name": "stdout"
        }
      ]
    },
    {
      "cell_type": "code",
      "metadata": {
        "id": "GOIsfv5Th7Du",
        "colab_type": "code",
        "colab": {
          "base_uri": "https://localhost:8080/",
          "height": 1000
        },
        "outputId": "d7d73b48-c0fb-4149-c583-c63a8c0aea24"
      },
      "source": [
        "import turicreate as tc\n",
        "\n",
        "sf = tc.SFrame.read_csv(\"./datasets/amazon/Reviews.csv\")"
      ],
      "execution_count": 8,
      "outputs": [
        {
          "output_type": "display_data",
          "data": {
            "text/html": [
              "<pre>Unexpected characters after last column. \"B000GW46D4\"\n",
              "Parse failed at token ending at: \n",
              "\tmyself that tastes much better than this.\"\n",
              "35360,B000GW46D4,\u001b[1;31m^\u001b[0mA1DPWQR4WSPXTM,Japri,0,0,2,1331424000,Very unsat\n",
              "Successfully parsed 10 tokens: \n",
              "\t0: 35359\n",
              "\t1: B000GW46D4\n",
              "\t2: A2Y4S4CNGKF21S\n",
              "\t3: H. Swanson\n",
              "\t4: 0\n",
              "\t5: 0\n",
              "\t6: 2\n",
              "\t7: 1332374400\n",
              "\t8: Very dry,  ... rumbly :\",\n",
              "\t9: to the poi ... is.\"\n",
              "35360</pre>"
            ],
            "text/plain": [
              "Unexpected characters after last column. \"B000GW46D4\"\n",
              "Parse failed at token ending at: \n",
              "\tmyself that tastes much better than this.\"\n",
              "35360,B000GW46D4,\u001b[1;31m^\u001b[0mA1DPWQR4WSPXTM,Japri,0,0,2,1331424000,Very unsat\n",
              "Successfully parsed 10 tokens: \n",
              "\t0: 35359\n",
              "\t1: B000GW46D4\n",
              "\t2: A2Y4S4CNGKF21S\n",
              "\t3: H. Swanson\n",
              "\t4: 0\n",
              "\t5: 0\n",
              "\t6: 2\n",
              "\t7: 1332374400\n",
              "\t8: Very dry,  ... rumbly :\",\n",
              "\t9: to the poi ... is.\"\n",
              "35360"
            ]
          },
          "metadata": {
            "tags": []
          }
        },
        {
          "output_type": "display_data",
          "data": {
            "text/html": [
              "<pre>Unexpected characters after last column. \"one of only a very few\"\n",
              "Parse failed at token ending at: \n",
              "\thile. This is a very rare hot sauce, one of only a very few,\u001b[1;31m^\u001b[0m where the actual chile is the major ingredient.\n",
              "Successfully parsed 10 tokens: \n",
              "\t0: 74275\n",
              "\t1: B005B3HKPO\n",
              "\t2: A3OC6M21K4UAQ\n",
              "\t3: tw\n",
              "\t4: 2\n",
              "\t5: 5\n",
              "\t6: 2\n",
              "\t7: 1328486400\n",
              "\t8: whats with ... is smell??\n",
              "\t9: ummm can s ... mmended!.,</pre>"
            ],
            "text/plain": [
              "Unexpected characters after last column. \"one of only a very few\"\n",
              "Parse failed at token ending at: \n",
              "\thile. This is a very rare hot sauce, one of only a very few,\u001b[1;31m^\u001b[0m where the actual chile is the major ingredient.\n",
              "Successfully parsed 10 tokens: \n",
              "\t0: 74275\n",
              "\t1: B005B3HKPO\n",
              "\t2: A3OC6M21K4UAQ\n",
              "\t3: tw\n",
              "\t4: 2\n",
              "\t5: 5\n",
              "\t6: 2\n",
              "\t7: 1328486400\n",
              "\t8: whats with ... is smell??\n",
              "\t9: ummm can s ... mmended!.,"
            ]
          },
          "metadata": {
            "tags": []
          }
        },
        {
          "output_type": "display_data",
          "data": {
            "text/html": [
              "<pre>Unexpected characters after last column. \"B000PMJLJO\"\n",
              "Parse failed at token ending at: \n",
              "\tmyself that tastes much better than this.\"\n",
              "88623,B000PMJLJO,\u001b[1;31m^\u001b[0mA1DPWQR4WSPXTM,Japri,0,0,2,1331424000,Very unsat\n",
              "Successfully parsed 10 tokens: \n",
              "\t0: 88622\n",
              "\t1: B000PMJLJO\n",
              "\t2: A2Y4S4CNGKF21S\n",
              "\t3: H. Swanson\n",
              "\t4: 0\n",
              "\t5: 0\n",
              "\t6: 2\n",
              "\t7: 1332374400\n",
              "\t8: Very dry,  ... rumbly :\",\n",
              "\t9: to the poi ... is.\"\n",
              "88623</pre>"
            ],
            "text/plain": [
              "Unexpected characters after last column. \"B000PMJLJO\"\n",
              "Parse failed at token ending at: \n",
              "\tmyself that tastes much better than this.\"\n",
              "88623,B000PMJLJO,\u001b[1;31m^\u001b[0mA1DPWQR4WSPXTM,Japri,0,0,2,1331424000,Very unsat\n",
              "Successfully parsed 10 tokens: \n",
              "\t0: 88622\n",
              "\t1: B000PMJLJO\n",
              "\t2: A2Y4S4CNGKF21S\n",
              "\t3: H. Swanson\n",
              "\t4: 0\n",
              "\t5: 0\n",
              "\t6: 2\n",
              "\t7: 1332374400\n",
              "\t8: Very dry,  ... rumbly :\",\n",
              "\t9: to the poi ... is.\"\n",
              "88623"
            ]
          },
          "metadata": {
            "tags": []
          }
        },
        {
          "output_type": "display_data",
          "data": {
            "text/html": [
              "<pre>3 lines failed to parse correctly</pre>"
            ],
            "text/plain": [
              "3 lines failed to parse correctly"
            ]
          },
          "metadata": {
            "tags": []
          }
        },
        {
          "output_type": "display_data",
          "data": {
            "text/html": [
              "<pre>Finished parsing file /content/datasets/amazon/Reviews.csv</pre>"
            ],
            "text/plain": [
              "Finished parsing file /content/datasets/amazon/Reviews.csv"
            ]
          },
          "metadata": {
            "tags": []
          }
        },
        {
          "output_type": "display_data",
          "data": {
            "text/html": [
              "<pre>Parsing completed. Parsed 100 lines in 1.08873 secs.</pre>"
            ],
            "text/plain": [
              "Parsing completed. Parsed 100 lines in 1.08873 secs."
            ]
          },
          "metadata": {
            "tags": []
          }
        },
        {
          "output_type": "stream",
          "text": [
            "------------------------------------------------------\n",
            "Inferred types from first 100 line(s) of file as \n",
            "column_type_hints=[int,str,str,str,int,int,int,int,str,str]\n",
            "If parsing fails due to incorrect types, you can correct\n",
            "the inferred type list above and pass it to read_csv in\n",
            "the column_type_hints argument\n",
            "------------------------------------------------------\n"
          ],
          "name": "stdout"
        },
        {
          "output_type": "display_data",
          "data": {
            "text/html": [
              "<pre>Unexpected characters after last column. \"B000GW46D4\"\n",
              "Parse failed at token ending at: \n",
              "\tmyself that tastes much better than this.\"\n",
              "35360,B000GW46D4,\u001b[1;31m^\u001b[0mA1DPWQR4WSPXTM,Japri,0,0,2,1331424000,Very unsat\n",
              "Successfully parsed 10 tokens: \n",
              "\t0: 35359\n",
              "\t1: B000GW46D4\n",
              "\t2: A2Y4S4CNGKF21S\n",
              "\t3: H. Swanson\n",
              "\t4: 0\n",
              "\t5: 0\n",
              "\t6: 2\n",
              "\t7: 1332374400\n",
              "\t8: \"Very dry, ... edibly dry\n",
              "\t9: to the poi ... is.\"\n",
              "35360</pre>"
            ],
            "text/plain": [
              "Unexpected characters after last column. \"B000GW46D4\"\n",
              "Parse failed at token ending at: \n",
              "\tmyself that tastes much better than this.\"\n",
              "35360,B000GW46D4,\u001b[1;31m^\u001b[0mA1DPWQR4WSPXTM,Japri,0,0,2,1331424000,Very unsat\n",
              "Successfully parsed 10 tokens: \n",
              "\t0: 35359\n",
              "\t1: B000GW46D4\n",
              "\t2: A2Y4S4CNGKF21S\n",
              "\t3: H. Swanson\n",
              "\t4: 0\n",
              "\t5: 0\n",
              "\t6: 2\n",
              "\t7: 1332374400\n",
              "\t8: \"Very dry, ... edibly dry\n",
              "\t9: to the poi ... is.\"\n",
              "35360"
            ]
          },
          "metadata": {
            "tags": []
          }
        },
        {
          "output_type": "display_data",
          "data": {
            "text/html": [
              "<pre>Unexpected characters after last column. \"one of only a very few\"\n",
              "Parse failed at token ending at: \n",
              "\thile. This is a very rare hot sauce, one of only a very few,\u001b[1;31m^\u001b[0m where the actual chile is the major ingredient.\n",
              "Successfully parsed 10 tokens: \n",
              "\t0: 74275\n",
              "\t1: B005B3HKPO\n",
              "\t2: A3OC6M21K4UAQ\n",
              "\t3: tw\n",
              "\t4: 2\n",
              "\t5: 5\n",
              "\t6: 2\n",
              "\t7: 1328486400\n",
              "\t8: whats with ... is smell??\n",
              "\t9: \"ummm can  ...  hot sauce</pre>"
            ],
            "text/plain": [
              "Unexpected characters after last column. \"one of only a very few\"\n",
              "Parse failed at token ending at: \n",
              "\thile. This is a very rare hot sauce, one of only a very few,\u001b[1;31m^\u001b[0m where the actual chile is the major ingredient.\n",
              "Successfully parsed 10 tokens: \n",
              "\t0: 74275\n",
              "\t1: B005B3HKPO\n",
              "\t2: A3OC6M21K4UAQ\n",
              "\t3: tw\n",
              "\t4: 2\n",
              "\t5: 5\n",
              "\t6: 2\n",
              "\t7: 1328486400\n",
              "\t8: whats with ... is smell??\n",
              "\t9: \"ummm can  ...  hot sauce"
            ]
          },
          "metadata": {
            "tags": []
          }
        },
        {
          "output_type": "display_data",
          "data": {
            "text/html": [
              "<pre>Unexpected characters after last column. \"B000PMJLJO\"\n",
              "Parse failed at token ending at: \n",
              "\tmyself that tastes much better than this.\"\n",
              "88623,B000PMJLJO,\u001b[1;31m^\u001b[0mA1DPWQR4WSPXTM,Japri,0,0,2,1331424000,Very unsat\n",
              "Successfully parsed 10 tokens: \n",
              "\t0: 88622\n",
              "\t1: B000PMJLJO\n",
              "\t2: A2Y4S4CNGKF21S\n",
              "\t3: H. Swanson\n",
              "\t4: 0\n",
              "\t5: 0\n",
              "\t6: 2\n",
              "\t7: 1332374400\n",
              "\t8: \"Very dry, ... edibly dry\n",
              "\t9: to the poi ... is.\"\n",
              "88623</pre>"
            ],
            "text/plain": [
              "Unexpected characters after last column. \"B000PMJLJO\"\n",
              "Parse failed at token ending at: \n",
              "\tmyself that tastes much better than this.\"\n",
              "88623,B000PMJLJO,\u001b[1;31m^\u001b[0mA1DPWQR4WSPXTM,Japri,0,0,2,1331424000,Very unsat\n",
              "Successfully parsed 10 tokens: \n",
              "\t0: 88622\n",
              "\t1: B000PMJLJO\n",
              "\t2: A2Y4S4CNGKF21S\n",
              "\t3: H. Swanson\n",
              "\t4: 0\n",
              "\t5: 0\n",
              "\t6: 2\n",
              "\t7: 1332374400\n",
              "\t8: \"Very dry, ... edibly dry\n",
              "\t9: to the poi ... is.\"\n",
              "88623"
            ]
          },
          "metadata": {
            "tags": []
          }
        },
        {
          "output_type": "display_data",
          "data": {
            "text/html": [
              "<pre>Unexpected characters after last column. \"but that awful after taste has no place in my afternoons.  Fog Chaser is flavorful but smooth. If you have had difficulty finding a good coffee for the new machines\"\n",
              "Parse failed at token ending at: \n",
              "\te had difficulty finding a good coffee for the new machines,\u001b[1;31m^\u001b[0m do give this one a try.\"\n",
              "181216,B007Y59HVM,#oc-\n",
              "Successfully parsed 10 tokens: \n",
              "\t0: 181213\n",
              "\t1: B007Y59HVM\n",
              "\t2: #oc-R3W5DW4JKJT228\n",
              "\t3: Mamaw\n",
              "\t4: 0\n",
              "\t5: 2\n",
              "\t6: 1\n",
              "\t7: 1346112000\n",
              "\t8: Disappointed\n",
              "\t9: \"I regret  ... he morning</pre>"
            ],
            "text/plain": [
              "Unexpected characters after last column. \"but that awful after taste has no place in my afternoons.  Fog Chaser is flavorful but smooth. If you have had difficulty finding a good coffee for the new machines\"\n",
              "Parse failed at token ending at: \n",
              "\te had difficulty finding a good coffee for the new machines,\u001b[1;31m^\u001b[0m do give this one a try.\"\n",
              "181216,B007Y59HVM,#oc-\n",
              "Successfully parsed 10 tokens: \n",
              "\t0: 181213\n",
              "\t1: B007Y59HVM\n",
              "\t2: #oc-R3W5DW4JKJT228\n",
              "\t3: Mamaw\n",
              "\t4: 0\n",
              "\t5: 2\n",
              "\t6: 1\n",
              "\t7: 1346112000\n",
              "\t8: Disappointed\n",
              "\t9: \"I regret  ... he morning"
            ]
          },
          "metadata": {
            "tags": []
          }
        },
        {
          "output_type": "display_data",
          "data": {
            "text/html": [
              "<pre>Read 71440 lines. Lines per second: 52041.1</pre>"
            ],
            "text/plain": [
              "Read 71440 lines. Lines per second: 52041.1"
            ]
          },
          "metadata": {
            "tags": []
          }
        },
        {
          "output_type": "display_data",
          "data": {
            "text/html": [
              "<pre>Unexpected characters after last column. \"0\"\n",
              "Parse failed at token ending at: \n",
              "\t />\\\"\n",
              "190510,B0012UEHFQ,A2788LGTSGCFA6,\"Mom of 3 \"\"sue\"\"\",0,\u001b[1;31m^\u001b[0m0,5,1329436800,She Loves Them!,I have a crazy do\n",
              "Successfully parsed 10 tokens: \n",
              "\t0: 190509\n",
              "\t1: B0012UEHFQ\n",
              "\t2: A3CR0UBHFX0NE7\n",
              "\t3: Sharee Lee Peterson\n",
              "\t4: 0\n",
              "\t5: 0\n",
              "\t6: 1\n",
              "\t7: 1330300800\n",
              "\t8: Poor Substitute\n",
              "\t9: I had prev ... of 3 \"sue\"</pre>"
            ],
            "text/plain": [
              "Unexpected characters after last column. \"0\"\n",
              "Parse failed at token ending at: \n",
              "\t />\\\"\n",
              "190510,B0012UEHFQ,A2788LGTSGCFA6,\"Mom of 3 \"\"sue\"\"\",0,\u001b[1;31m^\u001b[0m0,5,1329436800,She Loves Them!,I have a crazy do\n",
              "Successfully parsed 10 tokens: \n",
              "\t0: 190509\n",
              "\t1: B0012UEHFQ\n",
              "\t2: A3CR0UBHFX0NE7\n",
              "\t3: Sharee Lee Peterson\n",
              "\t4: 0\n",
              "\t5: 0\n",
              "\t6: 1\n",
              "\t7: 1330300800\n",
              "\t8: Poor Substitute\n",
              "\t9: I had prev ... of 3 \"sue\""
            ]
          },
          "metadata": {
            "tags": []
          }
        },
        {
          "output_type": "display_data",
          "data": {
            "text/html": [
              "<pre>Unexpected characters after last column. \"B000GW46DE\"\n",
              "Parse failed at token ending at: \n",
              "\tyself that tastes much better than this.\"\n",
              "201283,B000GW46DE,\u001b[1;31m^\u001b[0mA1DPWQR4WSPXTM,Japri,0,0,2,1331424000,Very unsat\n",
              "Successfully parsed 10 tokens: \n",
              "\t0: 201282\n",
              "\t1: B000GW46DE\n",
              "\t2: A2Y4S4CNGKF21S\n",
              "\t3: H. Swanson\n",
              "\t4: 0\n",
              "\t5: 0\n",
              "\t6: 2\n",
              "\t7: 1332374400\n",
              "\t8: \"Very dry, ... edibly dry\n",
              "\t9: to the poi ... s.\"\n",
              "201283</pre>"
            ],
            "text/plain": [
              "Unexpected characters after last column. \"B000GW46DE\"\n",
              "Parse failed at token ending at: \n",
              "\tyself that tastes much better than this.\"\n",
              "201283,B000GW46DE,\u001b[1;31m^\u001b[0mA1DPWQR4WSPXTM,Japri,0,0,2,1331424000,Very unsat\n",
              "Successfully parsed 10 tokens: \n",
              "\t0: 201282\n",
              "\t1: B000GW46DE\n",
              "\t2: A2Y4S4CNGKF21S\n",
              "\t3: H. Swanson\n",
              "\t4: 0\n",
              "\t5: 0\n",
              "\t6: 2\n",
              "\t7: 1332374400\n",
              "\t8: \"Very dry, ... edibly dry\n",
              "\t9: to the poi ... s.\"\n",
              "201283"
            ]
          },
          "metadata": {
            "tags": []
          }
        },
        {
          "output_type": "display_data",
          "data": {
            "text/html": [
              "<pre>Unexpected characters after last column. \"B000PMC7GI\"\n",
              "Parse failed at token ending at: \n",
              "\tyself that tastes much better than this.\"\n",
              "353089,B000PMC7GI,\u001b[1;31m^\u001b[0mA1DPWQR4WSPXTM,Japri,0,0,2,1331424000,Very unsat\n",
              "Successfully parsed 10 tokens: \n",
              "\t0: 353088\n",
              "\t1: B000PMC7GI\n",
              "\t2: A2Y4S4CNGKF21S\n",
              "\t3: H. Swanson\n",
              "\t4: 0\n",
              "\t5: 0\n",
              "\t6: 2\n",
              "\t7: 1332374400\n",
              "\t8: \"Very dry, ... edibly dry\n",
              "\t9: to the poi ... s.\"\n",
              "353089</pre>"
            ],
            "text/plain": [
              "Unexpected characters after last column. \"B000PMC7GI\"\n",
              "Parse failed at token ending at: \n",
              "\tyself that tastes much better than this.\"\n",
              "353089,B000PMC7GI,\u001b[1;31m^\u001b[0mA1DPWQR4WSPXTM,Japri,0,0,2,1331424000,Very unsat\n",
              "Successfully parsed 10 tokens: \n",
              "\t0: 353088\n",
              "\t1: B000PMC7GI\n",
              "\t2: A2Y4S4CNGKF21S\n",
              "\t3: H. Swanson\n",
              "\t4: 0\n",
              "\t5: 0\n",
              "\t6: 2\n",
              "\t7: 1332374400\n",
              "\t8: \"Very dry, ... edibly dry\n",
              "\t9: to the poi ... s.\"\n",
              "353089"
            ]
          },
          "metadata": {
            "tags": []
          }
        },
        {
          "output_type": "display_data",
          "data": {
            "text/html": [
              "<pre>Unexpected characters after last column. \"give it a try.  After drinking half of a bottle\"\n",
              "Parse failed at token ending at: \n",
              "\tou haven't, give it a try.  After drinking half of a bottle,\u001b[1;31m^\u001b[0m you will know it's good stuff.\"\n",
              "434576,B001SB1B\n",
              "Successfully parsed 10 tokens: \n",
              "\t0: 434574\n",
              "\t1: B002DHMX3A\n",
              "\t2: A2XNJJ9TF70P4J\n",
              "\t3: Angie\n",
              "\t4: 1\n",
              "\t5: 1\n",
              "\t6: 1\n",
              "\t7: 1307232000\n",
              "\t8: How did th ... s this up?\n",
              "\t9: \"The cerea ... ou haven't</pre>"
            ],
            "text/plain": [
              "Unexpected characters after last column. \"give it a try.  After drinking half of a bottle\"\n",
              "Parse failed at token ending at: \n",
              "\tou haven't, give it a try.  After drinking half of a bottle,\u001b[1;31m^\u001b[0m you will know it's good stuff.\"\n",
              "434576,B001SB1B\n",
              "Successfully parsed 10 tokens: \n",
              "\t0: 434574\n",
              "\t1: B002DHMX3A\n",
              "\t2: A2XNJJ9TF70P4J\n",
              "\t3: Angie\n",
              "\t4: 1\n",
              "\t5: 1\n",
              "\t6: 1\n",
              "\t7: 1307232000\n",
              "\t8: How did th ... s this up?\n",
              "\t9: \"The cerea ... ou haven't"
            ]
          },
          "metadata": {
            "tags": []
          }
        },
        {
          "output_type": "display_data",
          "data": {
            "text/html": [
              "<pre>8 lines failed to parse correctly</pre>"
            ],
            "text/plain": [
              "8 lines failed to parse correctly"
            ]
          },
          "metadata": {
            "tags": []
          }
        },
        {
          "output_type": "display_data",
          "data": {
            "text/html": [
              "<pre>Finished parsing file /content/datasets/amazon/Reviews.csv</pre>"
            ],
            "text/plain": [
              "Finished parsing file /content/datasets/amazon/Reviews.csv"
            ]
          },
          "metadata": {
            "tags": []
          }
        },
        {
          "output_type": "display_data",
          "data": {
            "text/html": [
              "<pre>Parsing completed. Parsed 260995 lines in 3.59232 secs.</pre>"
            ],
            "text/plain": [
              "Parsing completed. Parsed 260995 lines in 3.59232 secs."
            ]
          },
          "metadata": {
            "tags": []
          }
        }
      ]
    },
    {
      "cell_type": "code",
      "metadata": {
        "id": "rR1ola1zjl4h",
        "colab_type": "code",
        "colab": {}
      },
      "source": [
        ""
      ],
      "execution_count": 0,
      "outputs": []
    },
    {
      "cell_type": "code",
      "metadata": {
        "id": "zHDvFaalPbqi",
        "colab_type": "code",
        "outputId": "bdf4c681-2d90-41c6-998a-f6c2612d53b5",
        "colab": {
          "base_uri": "https://localhost:8080/",
          "height": 677
        }
      },
      "source": [
        "sf = sf[(sf['Score'] == 5) | (sf['Score'] == 1)]\n",
        "def label2sentiment(label):\n",
        "    if label == 5:\n",
        "        return \"Positive\"\n",
        "    else:\n",
        "        return \"Negative\"\n",
        "\n",
        "sf['sentiment'] = sf['Score'].apply(lambda label: label2sentiment(label))\n",
        "sf"
      ],
      "execution_count": 12,
      "outputs": [
        {
          "output_type": "execute_result",
          "data": {
            "text/html": [
              "<div style=\"max-height:1000px;max-width:1500px;overflow:auto;\"><table frame=\"box\" rules=\"cols\">\n",
              "    <tr>\n",
              "        <th style=\"padding-left: 1em; padding-right: 1em; text-align: center\">Id</th>\n",
              "        <th style=\"padding-left: 1em; padding-right: 1em; text-align: center\">ProductId</th>\n",
              "        <th style=\"padding-left: 1em; padding-right: 1em; text-align: center\">UserId</th>\n",
              "        <th style=\"padding-left: 1em; padding-right: 1em; text-align: center\">ProfileName</th>\n",
              "        <th style=\"padding-left: 1em; padding-right: 1em; text-align: center\">HelpfulnessNumerator</th>\n",
              "        <th style=\"padding-left: 1em; padding-right: 1em; text-align: center\">HelpfulnessDenominator</th>\n",
              "        <th style=\"padding-left: 1em; padding-right: 1em; text-align: center\">Score</th>\n",
              "    </tr>\n",
              "    <tr>\n",
              "        <td style=\"padding-left: 1em; padding-right: 1em; text-align: center; vertical-align: top\">1</td>\n",
              "        <td style=\"padding-left: 1em; padding-right: 1em; text-align: center; vertical-align: top\">B001E4KFG0</td>\n",
              "        <td style=\"padding-left: 1em; padding-right: 1em; text-align: center; vertical-align: top\">A3SGXH7AUHU8GW</td>\n",
              "        <td style=\"padding-left: 1em; padding-right: 1em; text-align: center; vertical-align: top\">delmartian</td>\n",
              "        <td style=\"padding-left: 1em; padding-right: 1em; text-align: center; vertical-align: top\">1</td>\n",
              "        <td style=\"padding-left: 1em; padding-right: 1em; text-align: center; vertical-align: top\">1</td>\n",
              "        <td style=\"padding-left: 1em; padding-right: 1em; text-align: center; vertical-align: top\">5</td>\n",
              "    </tr>\n",
              "    <tr>\n",
              "        <td style=\"padding-left: 1em; padding-right: 1em; text-align: center; vertical-align: top\">2</td>\n",
              "        <td style=\"padding-left: 1em; padding-right: 1em; text-align: center; vertical-align: top\">B00813GRG4</td>\n",
              "        <td style=\"padding-left: 1em; padding-right: 1em; text-align: center; vertical-align: top\">A1D87F6ZCVE5NK</td>\n",
              "        <td style=\"padding-left: 1em; padding-right: 1em; text-align: center; vertical-align: top\">dll pa</td>\n",
              "        <td style=\"padding-left: 1em; padding-right: 1em; text-align: center; vertical-align: top\">0</td>\n",
              "        <td style=\"padding-left: 1em; padding-right: 1em; text-align: center; vertical-align: top\">0</td>\n",
              "        <td style=\"padding-left: 1em; padding-right: 1em; text-align: center; vertical-align: top\">1</td>\n",
              "    </tr>\n",
              "    <tr>\n",
              "        <td style=\"padding-left: 1em; padding-right: 1em; text-align: center; vertical-align: top\">5</td>\n",
              "        <td style=\"padding-left: 1em; padding-right: 1em; text-align: center; vertical-align: top\">B006K2ZZ7K</td>\n",
              "        <td style=\"padding-left: 1em; padding-right: 1em; text-align: center; vertical-align: top\">A1UQRSCLF8GW1T</td>\n",
              "        <td style=\"padding-left: 1em; padding-right: 1em; text-align: center; vertical-align: top\">Michael D. Bigham &quot;M.<br>Wassir&quot; ...</td>\n",
              "        <td style=\"padding-left: 1em; padding-right: 1em; text-align: center; vertical-align: top\">0</td>\n",
              "        <td style=\"padding-left: 1em; padding-right: 1em; text-align: center; vertical-align: top\">0</td>\n",
              "        <td style=\"padding-left: 1em; padding-right: 1em; text-align: center; vertical-align: top\">5</td>\n",
              "    </tr>\n",
              "    <tr>\n",
              "        <td style=\"padding-left: 1em; padding-right: 1em; text-align: center; vertical-align: top\">7</td>\n",
              "        <td style=\"padding-left: 1em; padding-right: 1em; text-align: center; vertical-align: top\">B006K2ZZ7K</td>\n",
              "        <td style=\"padding-left: 1em; padding-right: 1em; text-align: center; vertical-align: top\">A1SP2KVKFXXRU1</td>\n",
              "        <td style=\"padding-left: 1em; padding-right: 1em; text-align: center; vertical-align: top\">David C. Sullivan</td>\n",
              "        <td style=\"padding-left: 1em; padding-right: 1em; text-align: center; vertical-align: top\">0</td>\n",
              "        <td style=\"padding-left: 1em; padding-right: 1em; text-align: center; vertical-align: top\">0</td>\n",
              "        <td style=\"padding-left: 1em; padding-right: 1em; text-align: center; vertical-align: top\">5</td>\n",
              "    </tr>\n",
              "    <tr>\n",
              "        <td style=\"padding-left: 1em; padding-right: 1em; text-align: center; vertical-align: top\">8</td>\n",
              "        <td style=\"padding-left: 1em; padding-right: 1em; text-align: center; vertical-align: top\">B006K2ZZ7K</td>\n",
              "        <td style=\"padding-left: 1em; padding-right: 1em; text-align: center; vertical-align: top\">A3JRGQVEQN31IQ</td>\n",
              "        <td style=\"padding-left: 1em; padding-right: 1em; text-align: center; vertical-align: top\">Pamela G. Williams</td>\n",
              "        <td style=\"padding-left: 1em; padding-right: 1em; text-align: center; vertical-align: top\">0</td>\n",
              "        <td style=\"padding-left: 1em; padding-right: 1em; text-align: center; vertical-align: top\">0</td>\n",
              "        <td style=\"padding-left: 1em; padding-right: 1em; text-align: center; vertical-align: top\">5</td>\n",
              "    </tr>\n",
              "    <tr>\n",
              "        <td style=\"padding-left: 1em; padding-right: 1em; text-align: center; vertical-align: top\">9</td>\n",
              "        <td style=\"padding-left: 1em; padding-right: 1em; text-align: center; vertical-align: top\">B000E7L2R4</td>\n",
              "        <td style=\"padding-left: 1em; padding-right: 1em; text-align: center; vertical-align: top\">A1MZYO9TZK0BBI</td>\n",
              "        <td style=\"padding-left: 1em; padding-right: 1em; text-align: center; vertical-align: top\">R. James</td>\n",
              "        <td style=\"padding-left: 1em; padding-right: 1em; text-align: center; vertical-align: top\">1</td>\n",
              "        <td style=\"padding-left: 1em; padding-right: 1em; text-align: center; vertical-align: top\">1</td>\n",
              "        <td style=\"padding-left: 1em; padding-right: 1em; text-align: center; vertical-align: top\">5</td>\n",
              "    </tr>\n",
              "    <tr>\n",
              "        <td style=\"padding-left: 1em; padding-right: 1em; text-align: center; vertical-align: top\">10</td>\n",
              "        <td style=\"padding-left: 1em; padding-right: 1em; text-align: center; vertical-align: top\">B00171APVA</td>\n",
              "        <td style=\"padding-left: 1em; padding-right: 1em; text-align: center; vertical-align: top\">A21BT40VZCCYT4</td>\n",
              "        <td style=\"padding-left: 1em; padding-right: 1em; text-align: center; vertical-align: top\">Carol A. Reed</td>\n",
              "        <td style=\"padding-left: 1em; padding-right: 1em; text-align: center; vertical-align: top\">0</td>\n",
              "        <td style=\"padding-left: 1em; padding-right: 1em; text-align: center; vertical-align: top\">0</td>\n",
              "        <td style=\"padding-left: 1em; padding-right: 1em; text-align: center; vertical-align: top\">5</td>\n",
              "    </tr>\n",
              "    <tr>\n",
              "        <td style=\"padding-left: 1em; padding-right: 1em; text-align: center; vertical-align: top\">11</td>\n",
              "        <td style=\"padding-left: 1em; padding-right: 1em; text-align: center; vertical-align: top\">B0001PB9FE</td>\n",
              "        <td style=\"padding-left: 1em; padding-right: 1em; text-align: center; vertical-align: top\">A3HDKO7OW0QNK4</td>\n",
              "        <td style=\"padding-left: 1em; padding-right: 1em; text-align: center; vertical-align: top\">Canadian Fan</td>\n",
              "        <td style=\"padding-left: 1em; padding-right: 1em; text-align: center; vertical-align: top\">1</td>\n",
              "        <td style=\"padding-left: 1em; padding-right: 1em; text-align: center; vertical-align: top\">1</td>\n",
              "        <td style=\"padding-left: 1em; padding-right: 1em; text-align: center; vertical-align: top\">5</td>\n",
              "    </tr>\n",
              "    <tr>\n",
              "        <td style=\"padding-left: 1em; padding-right: 1em; text-align: center; vertical-align: top\">12</td>\n",
              "        <td style=\"padding-left: 1em; padding-right: 1em; text-align: center; vertical-align: top\">B0009XLVG0</td>\n",
              "        <td style=\"padding-left: 1em; padding-right: 1em; text-align: center; vertical-align: top\">A2725IB4YY9JEB</td>\n",
              "        <td style=\"padding-left: 1em; padding-right: 1em; text-align: center; vertical-align: top\">A Poeng &quot;SparkyGoHome&quot;</td>\n",
              "        <td style=\"padding-left: 1em; padding-right: 1em; text-align: center; vertical-align: top\">4</td>\n",
              "        <td style=\"padding-left: 1em; padding-right: 1em; text-align: center; vertical-align: top\">4</td>\n",
              "        <td style=\"padding-left: 1em; padding-right: 1em; text-align: center; vertical-align: top\">5</td>\n",
              "    </tr>\n",
              "    <tr>\n",
              "        <td style=\"padding-left: 1em; padding-right: 1em; text-align: center; vertical-align: top\">13</td>\n",
              "        <td style=\"padding-left: 1em; padding-right: 1em; text-align: center; vertical-align: top\">B0009XLVG0</td>\n",
              "        <td style=\"padding-left: 1em; padding-right: 1em; text-align: center; vertical-align: top\">A327PCT23YH90</td>\n",
              "        <td style=\"padding-left: 1em; padding-right: 1em; text-align: center; vertical-align: top\">LT</td>\n",
              "        <td style=\"padding-left: 1em; padding-right: 1em; text-align: center; vertical-align: top\">1</td>\n",
              "        <td style=\"padding-left: 1em; padding-right: 1em; text-align: center; vertical-align: top\">1</td>\n",
              "        <td style=\"padding-left: 1em; padding-right: 1em; text-align: center; vertical-align: top\">1</td>\n",
              "    </tr>\n",
              "</table>\n",
              "<table frame=\"box\" rules=\"cols\">\n",
              "    <tr>\n",
              "        <th style=\"padding-left: 1em; padding-right: 1em; text-align: center\">Time</th>\n",
              "        <th style=\"padding-left: 1em; padding-right: 1em; text-align: center\">Summary</th>\n",
              "        <th style=\"padding-left: 1em; padding-right: 1em; text-align: center\">Text</th>\n",
              "        <th style=\"padding-left: 1em; padding-right: 1em; text-align: center\">sentiment</th>\n",
              "    </tr>\n",
              "    <tr>\n",
              "        <td style=\"padding-left: 1em; padding-right: 1em; text-align: center; vertical-align: top\">1303862400</td>\n",
              "        <td style=\"padding-left: 1em; padding-right: 1em; text-align: center; vertical-align: top\">Good Quality Dog Food</td>\n",
              "        <td style=\"padding-left: 1em; padding-right: 1em; text-align: center; vertical-align: top\">I have bought several of<br>the Vitality canned dog ...</td>\n",
              "        <td style=\"padding-left: 1em; padding-right: 1em; text-align: center; vertical-align: top\">Positive</td>\n",
              "    </tr>\n",
              "    <tr>\n",
              "        <td style=\"padding-left: 1em; padding-right: 1em; text-align: center; vertical-align: top\">1346976000</td>\n",
              "        <td style=\"padding-left: 1em; padding-right: 1em; text-align: center; vertical-align: top\">Not as Advertised</td>\n",
              "        <td style=\"padding-left: 1em; padding-right: 1em; text-align: center; vertical-align: top\">Product arrived labeled<br>as Jumbo Salted ...</td>\n",
              "        <td style=\"padding-left: 1em; padding-right: 1em; text-align: center; vertical-align: top\">Negative</td>\n",
              "    </tr>\n",
              "    <tr>\n",
              "        <td style=\"padding-left: 1em; padding-right: 1em; text-align: center; vertical-align: top\">1350777600</td>\n",
              "        <td style=\"padding-left: 1em; padding-right: 1em; text-align: center; vertical-align: top\">Great taffy</td>\n",
              "        <td style=\"padding-left: 1em; padding-right: 1em; text-align: center; vertical-align: top\">Great taffy at a great<br>price.  There was a wide ...</td>\n",
              "        <td style=\"padding-left: 1em; padding-right: 1em; text-align: center; vertical-align: top\">Positive</td>\n",
              "    </tr>\n",
              "    <tr>\n",
              "        <td style=\"padding-left: 1em; padding-right: 1em; text-align: center; vertical-align: top\">1340150400</td>\n",
              "        <td style=\"padding-left: 1em; padding-right: 1em; text-align: center; vertical-align: top\">Great!  Just as good as<br>the expensive brands! ...</td>\n",
              "        <td style=\"padding-left: 1em; padding-right: 1em; text-align: center; vertical-align: top\">This saltwater taffy had<br>great flavors and was ...</td>\n",
              "        <td style=\"padding-left: 1em; padding-right: 1em; text-align: center; vertical-align: top\">Positive</td>\n",
              "    </tr>\n",
              "    <tr>\n",
              "        <td style=\"padding-left: 1em; padding-right: 1em; text-align: center; vertical-align: top\">1336003200</td>\n",
              "        <td style=\"padding-left: 1em; padding-right: 1em; text-align: center; vertical-align: top\">Wonderful, tasty taffy</td>\n",
              "        <td style=\"padding-left: 1em; padding-right: 1em; text-align: center; vertical-align: top\">This taffy is so good.<br>It is very soft and ...</td>\n",
              "        <td style=\"padding-left: 1em; padding-right: 1em; text-align: center; vertical-align: top\">Positive</td>\n",
              "    </tr>\n",
              "    <tr>\n",
              "        <td style=\"padding-left: 1em; padding-right: 1em; text-align: center; vertical-align: top\">1322006400</td>\n",
              "        <td style=\"padding-left: 1em; padding-right: 1em; text-align: center; vertical-align: top\">Yay Barley</td>\n",
              "        <td style=\"padding-left: 1em; padding-right: 1em; text-align: center; vertical-align: top\">Right now I&#x27;m mostly just<br>sprouting this so my  ...</td>\n",
              "        <td style=\"padding-left: 1em; padding-right: 1em; text-align: center; vertical-align: top\">Positive</td>\n",
              "    </tr>\n",
              "    <tr>\n",
              "        <td style=\"padding-left: 1em; padding-right: 1em; text-align: center; vertical-align: top\">1351209600</td>\n",
              "        <td style=\"padding-left: 1em; padding-right: 1em; text-align: center; vertical-align: top\">Healthy Dog Food</td>\n",
              "        <td style=\"padding-left: 1em; padding-right: 1em; text-align: center; vertical-align: top\">This is a very healthy<br>dog food. Good for their ...</td>\n",
              "        <td style=\"padding-left: 1em; padding-right: 1em; text-align: center; vertical-align: top\">Positive</td>\n",
              "    </tr>\n",
              "    <tr>\n",
              "        <td style=\"padding-left: 1em; padding-right: 1em; text-align: center; vertical-align: top\">1107820800</td>\n",
              "        <td style=\"padding-left: 1em; padding-right: 1em; text-align: center; vertical-align: top\">The Best Hot Sauce in the<br>World ...</td>\n",
              "        <td style=\"padding-left: 1em; padding-right: 1em; text-align: center; vertical-align: top\">I don&#x27;t know if it&#x27;s the<br>cactus or the tequila or ...</td>\n",
              "        <td style=\"padding-left: 1em; padding-right: 1em; text-align: center; vertical-align: top\">Positive</td>\n",
              "    </tr>\n",
              "    <tr>\n",
              "        <td style=\"padding-left: 1em; padding-right: 1em; text-align: center; vertical-align: top\">1282867200</td>\n",
              "        <td style=\"padding-left: 1em; padding-right: 1em; text-align: center; vertical-align: top\">My cats LOVE this &quot;diet&quot;<br>food better than their ...</td>\n",
              "        <td style=\"padding-left: 1em; padding-right: 1em; text-align: center; vertical-align: top\">One of my boys needed to<br>lose some weight and the ...</td>\n",
              "        <td style=\"padding-left: 1em; padding-right: 1em; text-align: center; vertical-align: top\">Positive</td>\n",
              "    </tr>\n",
              "    <tr>\n",
              "        <td style=\"padding-left: 1em; padding-right: 1em; text-align: center; vertical-align: top\">1339545600</td>\n",
              "        <td style=\"padding-left: 1em; padding-right: 1em; text-align: center; vertical-align: top\">My Cats Are Not Fans of<br>the New Food ...</td>\n",
              "        <td style=\"padding-left: 1em; padding-right: 1em; text-align: center; vertical-align: top\">My cats have been happily<br>eating Felidae Platinum ...</td>\n",
              "        <td style=\"padding-left: 1em; padding-right: 1em; text-align: center; vertical-align: top\">Negative</td>\n",
              "    </tr>\n",
              "</table>\n",
              "[190882 rows x 11 columns]<br/>Note: Only the head of the SFrame is printed.<br/>You can use print_rows(num_rows=m, num_columns=n) to print more rows and columns.\n",
              "</div>"
            ],
            "text/plain": [
              "Columns:\n",
              "\tId\tint\n",
              "\tProductId\tstr\n",
              "\tUserId\tstr\n",
              "\tProfileName\tstr\n",
              "\tHelpfulnessNumerator\tint\n",
              "\tHelpfulnessDenominator\tint\n",
              "\tScore\tint\n",
              "\tTime\tint\n",
              "\tSummary\tstr\n",
              "\tText\tstr\n",
              "\tsentiment\tstr\n",
              "\n",
              "Rows: 190882\n",
              "\n",
              "Data:\n",
              "+----+------------+----------------+-------------------------------+----------------------+\n",
              "| Id | ProductId  |     UserId     |          ProfileName          | HelpfulnessNumerator |\n",
              "+----+------------+----------------+-------------------------------+----------------------+\n",
              "| 1  | B001E4KFG0 | A3SGXH7AUHU8GW |           delmartian          |          1           |\n",
              "| 2  | B00813GRG4 | A1D87F6ZCVE5NK |             dll pa            |          0           |\n",
              "| 5  | B006K2ZZ7K | A1UQRSCLF8GW1T | Michael D. Bigham \"M. Wassir\" |          0           |\n",
              "| 7  | B006K2ZZ7K | A1SP2KVKFXXRU1 |       David C. Sullivan       |          0           |\n",
              "| 8  | B006K2ZZ7K | A3JRGQVEQN31IQ |       Pamela G. Williams      |          0           |\n",
              "| 9  | B000E7L2R4 | A1MZYO9TZK0BBI |            R. James           |          1           |\n",
              "| 10 | B00171APVA | A21BT40VZCCYT4 |         Carol A. Reed         |          0           |\n",
              "| 11 | B0001PB9FE | A3HDKO7OW0QNK4 |          Canadian Fan         |          1           |\n",
              "| 12 | B0009XLVG0 | A2725IB4YY9JEB |     A Poeng \"SparkyGoHome\"    |          4           |\n",
              "| 13 | B0009XLVG0 | A327PCT23YH90  |               LT              |          1           |\n",
              "+----+------------+----------------+-------------------------------+----------------------+\n",
              "+------------------------+-------+------------+-------------------------------+\n",
              "| HelpfulnessDenominator | Score |    Time    |            Summary            |\n",
              "+------------------------+-------+------------+-------------------------------+\n",
              "|           1            |   5   | 1303862400 |     Good Quality Dog Food     |\n",
              "|           0            |   1   | 1346976000 |       Not as Advertised       |\n",
              "|           0            |   5   | 1350777600 |          Great taffy          |\n",
              "|           0            |   5   | 1340150400 | Great!  Just as good as th... |\n",
              "|           0            |   5   | 1336003200 |     Wonderful, tasty taffy    |\n",
              "|           1            |   5   | 1322006400 |           Yay Barley          |\n",
              "|           0            |   5   | 1351209600 |        Healthy Dog Food       |\n",
              "|           1            |   5   | 1107820800 | The Best Hot Sauce in the ... |\n",
              "|           4            |   5   | 1282867200 | My cats LOVE this \"diet\" f... |\n",
              "|           1            |   1   | 1339545600 | My Cats Are Not Fans of th... |\n",
              "+------------------------+-------+------------+-------------------------------+\n",
              "+-------------------------------+-----------+\n",
              "|              Text             | sentiment |\n",
              "+-------------------------------+-----------+\n",
              "| I have bought several of t... |  Positive |\n",
              "| Product arrived labeled as... |  Negative |\n",
              "| Great taffy at a great pri... |  Positive |\n",
              "| This saltwater taffy had g... |  Positive |\n",
              "| This taffy is so good.  It... |  Positive |\n",
              "| Right now I'm mostly just ... |  Positive |\n",
              "| This is a very healthy dog... |  Positive |\n",
              "| I don't know if it's the c... |  Positive |\n",
              "| One of my boys needed to l... |  Positive |\n",
              "| My cats have been happily ... |  Negative |\n",
              "+-------------------------------+-----------+\n",
              "[190882 rows x 11 columns]\n",
              "Note: Only the head of the SFrame is printed.\n",
              "You can use print_rows(num_rows=m, num_columns=n) to print more rows and columns."
            ]
          },
          "metadata": {
            "tags": []
          },
          "execution_count": 12
        }
      ]
    },
    {
      "cell_type": "code",
      "metadata": {
        "id": "zBxjK12jkrC_",
        "colab_type": "code",
        "colab": {}
      },
      "source": [
        "sf['words_1grams'] = tc.text_analytics.count_ngrams(sf['Summary'], n=1, method='word')\n",
        "sf['words_2grams'] = tc.text_analytics.count_ngrams(sf['Summary'], n=2, method='word')"
      ],
      "execution_count": 0,
      "outputs": []
    },
    {
      "cell_type": "code",
      "metadata": {
        "id": "n47nVvI3k2ee",
        "colab_type": "code",
        "colab": {
          "base_uri": "https://localhost:8080/",
          "height": 867
        },
        "outputId": "a7ef331d-0988-4c61-e1e0-322903591901"
      },
      "source": [
        "train, test = sf.random_split(0.8)\n",
        "cls = tc.classifier.create(train,features=['words_1grams', 'words_2grams'], target=\"sentiment\")"
      ],
      "execution_count": 14,
      "outputs": [
        {
          "output_type": "stream",
          "text": [
            "PROGRESS: Creating a validation set from 5 percent of training data. This may take a while.\n",
            "          You can set ``validation_set=None`` to disable validation tracking.\n",
            "\n",
            "PROGRESS: The following methods are available for this type of problem.\n",
            "PROGRESS: LogisticClassifier, SVMClassifier\n",
            "PROGRESS: The returned model will be chosen according to validation accuracy.\n"
          ],
          "name": "stdout"
        },
        {
          "output_type": "display_data",
          "data": {
            "text/html": [
              "<pre>Logistic regression:</pre>"
            ],
            "text/plain": [
              "Logistic regression:"
            ]
          },
          "metadata": {
            "tags": []
          }
        },
        {
          "output_type": "display_data",
          "data": {
            "text/html": [
              "<pre>--------------------------------------------------------</pre>"
            ],
            "text/plain": [
              "--------------------------------------------------------"
            ]
          },
          "metadata": {
            "tags": []
          }
        },
        {
          "output_type": "display_data",
          "data": {
            "text/html": [
              "<pre>Number of examples          : 145222</pre>"
            ],
            "text/plain": [
              "Number of examples          : 145222"
            ]
          },
          "metadata": {
            "tags": []
          }
        },
        {
          "output_type": "display_data",
          "data": {
            "text/html": [
              "<pre>Number of classes           : 2</pre>"
            ],
            "text/plain": [
              "Number of classes           : 2"
            ]
          },
          "metadata": {
            "tags": []
          }
        },
        {
          "output_type": "display_data",
          "data": {
            "text/html": [
              "<pre>Number of feature columns   : 2</pre>"
            ],
            "text/plain": [
              "Number of feature columns   : 2"
            ]
          },
          "metadata": {
            "tags": []
          }
        },
        {
          "output_type": "display_data",
          "data": {
            "text/html": [
              "<pre>Number of unpacked features : 133940</pre>"
            ],
            "text/plain": [
              "Number of unpacked features : 133940"
            ]
          },
          "metadata": {
            "tags": []
          }
        },
        {
          "output_type": "display_data",
          "data": {
            "text/html": [
              "<pre>Number of coefficients      : 133941</pre>"
            ],
            "text/plain": [
              "Number of coefficients      : 133941"
            ]
          },
          "metadata": {
            "tags": []
          }
        },
        {
          "output_type": "display_data",
          "data": {
            "text/html": [
              "<pre>Starting L-BFGS</pre>"
            ],
            "text/plain": [
              "Starting L-BFGS"
            ]
          },
          "metadata": {
            "tags": []
          }
        },
        {
          "output_type": "display_data",
          "data": {
            "text/html": [
              "<pre>--------------------------------------------------------</pre>"
            ],
            "text/plain": [
              "--------------------------------------------------------"
            ]
          },
          "metadata": {
            "tags": []
          }
        },
        {
          "output_type": "display_data",
          "data": {
            "text/html": [
              "<pre>+-----------+----------+-----------+--------------+-------------------+---------------------+</pre>"
            ],
            "text/plain": [
              "+-----------+----------+-----------+--------------+-------------------+---------------------+"
            ]
          },
          "metadata": {
            "tags": []
          }
        },
        {
          "output_type": "display_data",
          "data": {
            "text/html": [
              "<pre>| Iteration | Passes   | Step size | Elapsed Time | Training Accuracy | Validation Accuracy |</pre>"
            ],
            "text/plain": [
              "| Iteration | Passes   | Step size | Elapsed Time | Training Accuracy | Validation Accuracy |"
            ]
          },
          "metadata": {
            "tags": []
          }
        },
        {
          "output_type": "display_data",
          "data": {
            "text/html": [
              "<pre>+-----------+----------+-----------+--------------+-------------------+---------------------+</pre>"
            ],
            "text/plain": [
              "+-----------+----------+-----------+--------------+-------------------+---------------------+"
            ]
          },
          "metadata": {
            "tags": []
          }
        },
        {
          "output_type": "display_data",
          "data": {
            "text/html": [
              "<pre>| 0         | 2        | 1.000000  | 1.231544     | 0.932049          | 0.916667            |</pre>"
            ],
            "text/plain": [
              "| 0         | 2        | 1.000000  | 1.231544     | 0.932049          | 0.916667            |"
            ]
          },
          "metadata": {
            "tags": []
          }
        },
        {
          "output_type": "display_data",
          "data": {
            "text/html": [
              "<pre>| 1         | 4        | 1.000000  | 1.526858     | 0.981601          | 0.950549            |</pre>"
            ],
            "text/plain": [
              "| 1         | 4        | 1.000000  | 1.526858     | 0.981601          | 0.950549            |"
            ]
          },
          "metadata": {
            "tags": []
          }
        },
        {
          "output_type": "display_data",
          "data": {
            "text/html": [
              "<pre>| 2         | 5        | 1.000000  | 1.731609     | 0.990862          | 0.958006            |</pre>"
            ],
            "text/plain": [
              "| 2         | 5        | 1.000000  | 1.731609     | 0.990862          | 0.958006            |"
            ]
          },
          "metadata": {
            "tags": []
          }
        },
        {
          "output_type": "display_data",
          "data": {
            "text/html": [
              "<pre>| 3         | 6        | 1.000000  | 1.929612     | 0.993727          | 0.962847            |</pre>"
            ],
            "text/plain": [
              "| 3         | 6        | 1.000000  | 1.929612     | 0.993727          | 0.962847            |"
            ]
          },
          "metadata": {
            "tags": []
          }
        },
        {
          "output_type": "display_data",
          "data": {
            "text/html": [
              "<pre>| 4         | 7        | 1.000000  | 2.138104     | 0.994594          | 0.963239            |</pre>"
            ],
            "text/plain": [
              "| 4         | 7        | 1.000000  | 2.138104     | 0.994594          | 0.963239            |"
            ]
          },
          "metadata": {
            "tags": []
          }
        },
        {
          "output_type": "display_data",
          "data": {
            "text/html": [
              "<pre>| 9         | 12       | 1.000000  | 3.113380     | 0.996185          | 0.961277            |</pre>"
            ],
            "text/plain": [
              "| 9         | 12       | 1.000000  | 3.113380     | 0.996185          | 0.961277            |"
            ]
          },
          "metadata": {
            "tags": []
          }
        },
        {
          "output_type": "display_data",
          "data": {
            "text/html": [
              "<pre>+-----------+----------+-----------+--------------+-------------------+---------------------+</pre>"
            ],
            "text/plain": [
              "+-----------+----------+-----------+--------------+-------------------+---------------------+"
            ]
          },
          "metadata": {
            "tags": []
          }
        },
        {
          "output_type": "display_data",
          "data": {
            "text/html": [
              "<pre>SVM:</pre>"
            ],
            "text/plain": [
              "SVM:"
            ]
          },
          "metadata": {
            "tags": []
          }
        },
        {
          "output_type": "display_data",
          "data": {
            "text/html": [
              "<pre>--------------------------------------------------------</pre>"
            ],
            "text/plain": [
              "--------------------------------------------------------"
            ]
          },
          "metadata": {
            "tags": []
          }
        },
        {
          "output_type": "display_data",
          "data": {
            "text/html": [
              "<pre>Number of examples          : 145222</pre>"
            ],
            "text/plain": [
              "Number of examples          : 145222"
            ]
          },
          "metadata": {
            "tags": []
          }
        },
        {
          "output_type": "display_data",
          "data": {
            "text/html": [
              "<pre>Number of classes           : 2</pre>"
            ],
            "text/plain": [
              "Number of classes           : 2"
            ]
          },
          "metadata": {
            "tags": []
          }
        },
        {
          "output_type": "display_data",
          "data": {
            "text/html": [
              "<pre>Number of feature columns   : 2</pre>"
            ],
            "text/plain": [
              "Number of feature columns   : 2"
            ]
          },
          "metadata": {
            "tags": []
          }
        },
        {
          "output_type": "display_data",
          "data": {
            "text/html": [
              "<pre>Number of unpacked features : 133940</pre>"
            ],
            "text/plain": [
              "Number of unpacked features : 133940"
            ]
          },
          "metadata": {
            "tags": []
          }
        },
        {
          "output_type": "display_data",
          "data": {
            "text/html": [
              "<pre>Number of coefficients    : 133941</pre>"
            ],
            "text/plain": [
              "Number of coefficients    : 133941"
            ]
          },
          "metadata": {
            "tags": []
          }
        },
        {
          "output_type": "display_data",
          "data": {
            "text/html": [
              "<pre>Starting L-BFGS</pre>"
            ],
            "text/plain": [
              "Starting L-BFGS"
            ]
          },
          "metadata": {
            "tags": []
          }
        },
        {
          "output_type": "display_data",
          "data": {
            "text/html": [
              "<pre>--------------------------------------------------------</pre>"
            ],
            "text/plain": [
              "--------------------------------------------------------"
            ]
          },
          "metadata": {
            "tags": []
          }
        },
        {
          "output_type": "display_data",
          "data": {
            "text/html": [
              "<pre>+-----------+----------+-----------+--------------+-------------------+---------------------+</pre>"
            ],
            "text/plain": [
              "+-----------+----------+-----------+--------------+-------------------+---------------------+"
            ]
          },
          "metadata": {
            "tags": []
          }
        },
        {
          "output_type": "display_data",
          "data": {
            "text/html": [
              "<pre>| Iteration | Passes   | Step size | Elapsed Time | Training Accuracy | Validation Accuracy |</pre>"
            ],
            "text/plain": [
              "| Iteration | Passes   | Step size | Elapsed Time | Training Accuracy | Validation Accuracy |"
            ]
          },
          "metadata": {
            "tags": []
          }
        },
        {
          "output_type": "display_data",
          "data": {
            "text/html": [
              "<pre>+-----------+----------+-----------+--------------+-------------------+---------------------+</pre>"
            ],
            "text/plain": [
              "+-----------+----------+-----------+--------------+-------------------+---------------------+"
            ]
          },
          "metadata": {
            "tags": []
          }
        },
        {
          "output_type": "display_data",
          "data": {
            "text/html": [
              "<pre>| 0         | 2        | 1.000000  | 0.227944     | 0.932049          | 0.916667            |</pre>"
            ],
            "text/plain": [
              "| 0         | 2        | 1.000000  | 0.227944     | 0.932049          | 0.916667            |"
            ]
          },
          "metadata": {
            "tags": []
          }
        },
        {
          "output_type": "display_data",
          "data": {
            "text/html": [
              "<pre>| 1         | 4        | 1.000000  | 0.510030     | 0.973916          | 0.946232            |</pre>"
            ],
            "text/plain": [
              "| 1         | 4        | 1.000000  | 0.510030     | 0.973916          | 0.946232            |"
            ]
          },
          "metadata": {
            "tags": []
          }
        },
        {
          "output_type": "display_data",
          "data": {
            "text/html": [
              "<pre>| 2         | 5        | 1.000000  | 0.682057     | 0.989616          | 0.958660            |</pre>"
            ],
            "text/plain": [
              "| 2         | 5        | 1.000000  | 0.682057     | 0.989616          | 0.958660            |"
            ]
          },
          "metadata": {
            "tags": []
          }
        },
        {
          "output_type": "display_data",
          "data": {
            "text/html": [
              "<pre>| 3         | 6        | 1.000000  | 0.856272     | 0.992508          | 0.960884            |</pre>"
            ],
            "text/plain": [
              "| 3         | 6        | 1.000000  | 0.856272     | 0.992508          | 0.960884            |"
            ]
          },
          "metadata": {
            "tags": []
          }
        },
        {
          "output_type": "display_data",
          "data": {
            "text/html": [
              "<pre>| 4         | 7        | 1.000000  | 1.048182     | 0.993961          | 0.961800            |</pre>"
            ],
            "text/plain": [
              "| 4         | 7        | 1.000000  | 1.048182     | 0.993961          | 0.961800            |"
            ]
          },
          "metadata": {
            "tags": []
          }
        },
        {
          "output_type": "display_data",
          "data": {
            "text/html": [
              "<pre>| 9         | 12       | 1.000000  | 1.937697     | 0.995600          | 0.960754            |</pre>"
            ],
            "text/plain": [
              "| 9         | 12       | 1.000000  | 1.937697     | 0.995600          | 0.960754            |"
            ]
          },
          "metadata": {
            "tags": []
          }
        },
        {
          "output_type": "display_data",
          "data": {
            "text/html": [
              "<pre>+-----------+----------+-----------+--------------+-------------------+---------------------+</pre>"
            ],
            "text/plain": [
              "+-----------+----------+-----------+--------------+-------------------+---------------------+"
            ]
          },
          "metadata": {
            "tags": []
          }
        },
        {
          "output_type": "stream",
          "text": [
            "PROGRESS: Model selection based on validation accuracy:\n",
            "PROGRESS: ---------------------------------------------\n",
            "PROGRESS: LogisticClassifier              : 0.9612768184196756\n",
            "PROGRESS: SVMClassifier                   : 0.9607535321821036\n",
            "PROGRESS: ---------------------------------------------\n",
            "PROGRESS: Selecting LogisticClassifier based on validation set performance.\n"
          ],
          "name": "stdout"
        }
      ]
    },
    {
      "cell_type": "code",
      "metadata": {
        "id": "DnQ_b73Bk6dV",
        "colab_type": "code",
        "colab": {
          "base_uri": "https://localhost:8080/",
          "height": 867
        },
        "outputId": "944e1159-98ee-41cd-c00b-72989cb05f53"
      },
      "source": [
        "cls.evaluate(test)"
      ],
      "execution_count": 15,
      "outputs": [
        {
          "output_type": "execute_result",
          "data": {
            "text/plain": [
              "{'accuracy': 0.9599905303030303,\n",
              " 'auc': 0.966903038548646,\n",
              " 'confusion_matrix': Columns:\n",
              " \ttarget_label\tstr\n",
              " \tpredicted_label\tstr\n",
              " \tcount\tint\n",
              " \n",
              " Rows: 4\n",
              " \n",
              " Data:\n",
              " +--------------+-----------------+-------+\n",
              " | target_label | predicted_label | count |\n",
              " +--------------+-----------------+-------+\n",
              " |   Negative   |     Positive    |  892  |\n",
              " |   Positive   |     Negative    |  629  |\n",
              " |   Negative   |     Negative    |  3856 |\n",
              " |   Positive   |     Positive    | 32639 |\n",
              " +--------------+-----------------+-------+\n",
              " [4 rows x 3 columns],\n",
              " 'f1_score': 0.9772301980568572,\n",
              " 'log_loss': 0.16398909013511007,\n",
              " 'precision': 0.973397751334586,\n",
              " 'recall': 0.9810929421666467,\n",
              " 'roc_curve': Columns:\n",
              " \tthreshold\tfloat\n",
              " \tfpr\tfloat\n",
              " \ttpr\tfloat\n",
              " \tp\tint\n",
              " \tn\tint\n",
              " \n",
              " Rows: 100001\n",
              " \n",
              " Data:\n",
              " +-----------+--------------------+--------------------+-------+------+\n",
              " | threshold |        fpr         |        tpr         |   p   |  n   |\n",
              " +-----------+--------------------+--------------------+-------+------+\n",
              " |    0.0    |        1.0         |        1.0         | 33268 | 4748 |\n",
              " |   1e-05   | 0.8614153327716934 | 0.9990080557893471 | 33268 | 4748 |\n",
              " |   2e-05   | 0.8409856781802865 | 0.9988878201274498 | 33268 | 4748 |\n",
              " |   3e-05   | 0.8249789385004213 | 0.9987976433810268 | 33268 | 4748 |\n",
              " |   4e-05   |  0.81318449873631  | 0.9987675844655525 | 33268 | 4748 |\n",
              " |   5e-05   | 0.8051811288963774 | 0.9987375255500781 | 33268 | 4748 |\n",
              " |   6e-05   | 0.7969671440606572 | 0.9986172898881809 | 33268 | 4748 |\n",
              " |   7e-05   | 0.7868576242628476 | 0.9985872309727065 | 33268 | 4748 |\n",
              " |   8e-05   | 0.7803285593934288 | 0.9985271131417578 | 33268 | 4748 |\n",
              " |   9e-05   | 0.7725358045492839 | 0.9984669953108092 | 33268 | 4748 |\n",
              " +-----------+--------------------+--------------------+-------+------+\n",
              " [100001 rows x 5 columns]\n",
              " Note: Only the head of the SFrame is printed.\n",
              " You can use print_rows(num_rows=m, num_columns=n) to print more rows and columns.}"
            ]
          },
          "metadata": {
            "tags": []
          },
          "execution_count": 15
        }
      ]
    },
    {
      "cell_type": "markdown",
      "metadata": {
        "id": "chKUklQQbCyL",
        "colab_type": "text"
      },
      "source": [
        "**Question 2:** Construct a sentiment classifier using features from the [TextBlob package](https://textblob.readthedocs.io/en/dev/index.html),\n",
        "    and from the [affin package](https://pypi.org/project/afinn/). Compare the two classifiers results and visualize it (however you want) (20pt)"
      ]
    },
    {
      "cell_type": "code",
      "metadata": {
        "id": "nfxAhdI7bCyM",
        "colab_type": "code",
        "colab": {}
      },
      "source": [
        ""
      ],
      "execution_count": 0,
      "outputs": []
    },
    {
      "cell_type": "markdown",
      "metadata": {
        "id": "GklKQldybCyP",
        "colab_type": "text"
      },
      "source": [
        "**Question 3:**  Select a different reviews dataset and create a sentiment classifier which utilizes word embeddings (25pt).\n",
        "Evaluate this classifier (5pt). Try to improve your classifier by adding additional features (20pt)"
      ]
    },
    {
      "cell_type": "code",
      "metadata": {
        "id": "MgS9j6eRbCyQ",
        "colab_type": "code",
        "colab": {}
      },
      "source": [
        ""
      ],
      "execution_count": 0,
      "outputs": []
    }
  ]
}