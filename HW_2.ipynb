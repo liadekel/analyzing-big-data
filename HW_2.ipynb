{
  "nbformat": 4,
  "nbformat_minor": 0,
  "metadata": {
    "kernelspec": {
      "display_name": "Python 3",
      "language": "python",
      "name": "python3"
    },
    "language_info": {
      "codemirror_mode": {
        "name": "ipython",
        "version": 3
      },
      "file_extension": ".py",
      "mimetype": "text/x-python",
      "name": "python",
      "nbconvert_exporter": "python",
      "pygments_lexer": "ipython3",
      "version": "3.6.7"
    },
    "colab": {
      "name": "HW 2.ipynb",
      "provenance": [],
      "include_colab_link": true
    }
  },
  "cells": [
    {
      "cell_type": "markdown",
      "metadata": {
        "id": "view-in-github",
        "colab_type": "text"
      },
      "source": [
        "<a href=\"https://colab.research.google.com/github/liadekel/analyzing-big-data/blob/master/HW_2.ipynb\" target=\"_parent\"><img src=\"https://colab.research.google.com/assets/colab-badge.svg\" alt=\"Open In Colab\"/></a>"
      ]
    },
    {
      "cell_type": "markdown",
      "metadata": {
        "id": "DfUHKA19ifXX",
        "colab_type": "text"
      },
      "source": [
        "# Homework Assignment 2\n",
        "### [The Art of Analyzing Big Data - The Data Scientist’s Toolbox](https://www.ise.bgu.ac.il/labs/fire/lectures.html)\n",
        "#### By Dr. Michael Fire "
      ]
    },
    {
      "cell_type": "markdown",
      "metadata": {
        "id": "D9hGo7nXifXa",
        "colab_type": "text"
      },
      "source": [
        "## Dataset Collecting"
      ]
    },
    {
      "cell_type": "markdown",
      "metadata": {
        "id": "D15-Sk2lifXc",
        "colab_type": "text"
      },
      "source": [
        "**Question 1**: Write a function that collects all titles and number of votes for each title of a given [hacker news page](http://news.ycombinator.com) (15pt)\n"
      ]
    },
    {
      "cell_type": "code",
      "metadata": {
        "id": "dR0z-yztifXe",
        "colab_type": "code",
        "outputId": "b3b0f325-9bca-4a7d-b676-db6f481dbf83",
        "colab": {
          "base_uri": "https://localhost:8080/",
          "height": 561
        }
      },
      "source": [
        "import requests\n",
        "from bs4 import BeautifulSoup\n",
        "\n",
        "\n",
        "def collect_title_votes(link):\n",
        "    data = []\n",
        "    raw_html = requests.get(link).content.decode('utf-8')\n",
        "    html_parser = BeautifulSoup(raw_html, 'html.parser')\n",
        "    title_results = html_parser.findAll('tr', attrs={'class': 'athing'})\n",
        "    voting_results = html_parser.findAll('span', attrs={'id': 'score'})\n",
        "\n",
        "    for r in title_results:\n",
        "        title_id = r.attrs[\"id\"]\n",
        "        title_str = r.find('a', attrs={\"class\":\"storylink\"}).contents[0]\n",
        "        # get score corresponding to title id\n",
        "        title_score = html_parser.find('span', attrs={\"id\":f\"score_{title_id}\"}).contents[0]\n",
        "        title_score = int(title_score.split(\" \")[0])\n",
        "        data.append((title_str, title_score))\n",
        "    return data\n",
        "\n",
        "collect_title_votes(\"https://news.ycombinator.com/\")"
      ],
      "execution_count": 0,
      "outputs": [
        {
          "output_type": "execute_result",
          "data": {
            "text/plain": [
              "[('Linux 5.6', 104),\n",
              " ('Lead-Free Solder Is Better for You', 215),\n",
              " ('The origin story of the N95 mask', 137),\n",
              " ('Server-Side Only React with Next', 33),\n",
              " ('Show HN: RapidFuzz – A fast string matching library for Python', 58),\n",
              " (\"French companies benefiting from state aid can't buy back shares\", 144),\n",
              " ('Grab your crayons, it’s coloring time', 242),\n",
              " ('Austria to Make Basic Face Masks Compulsory in Supermarkets', 5),\n",
              " ('A Definitive Guide to Enabling Italics in Vim and Tmux', 49),\n",
              " ('Covid-19 Sanity – Covid-19 papers from bioRxiv/medRxiv searchable and sortable',\n",
              "  73),\n",
              " ('Neanderthals Feasted on Seafood, Seabirds, Perhaps Even Dolphins', 31),\n",
              " ('Coding Stories: Coding on the C64 (2015)', 30),\n",
              " ('Microsoft: Cloud services demand up, prioritization rules in place', 423),\n",
              " ('Vuiet, the long road to building my own music player in Lisp', 15),\n",
              " ('NASA picks SpaceX to deliver cargo to the Lunar Gateway', 11),\n",
              " ('Determining an Election in K', 56),\n",
              " ('Cellular Automata: Rule 30 fed as input to Conway’s Game of Life (2019) [video]',\n",
              "  95),\n",
              " ('Margin calls on mortgage lenders at unprecedented levels', 43),\n",
              " ('An Ancient Ballcourt in Oaxaca Expands a Sport’s Footprint', 39),\n",
              " ('Chromatron Wi-Fi Pixel Controller', 63),\n",
              " ('ZipGrow: Vertical farming/urban agriculture system', 120),\n",
              " ('AWS Ground Station', 328),\n",
              " ('Twitter removes two Bolsonaro tweets questioning virus quarantine', 44),\n",
              " ('How to burn the most money with a single click in Azure', 632),\n",
              " (\"Visual CSS Editor – Grab'n Go\", 96),\n",
              " ('The Acrobatic Immigrant Who Invented Pilates in a Prisoner of War Camp', 4),\n",
              " ('Heineken WOBO: A Beer Bottle That Doubles as a Brick', 134),\n",
              " ('Return to Nib’s Knoll (2014)', 20),\n",
              " ('Three-Domain System', 57),\n",
              " ('Show HN: Magicdocs – Turn Documents into Websites', 4)]"
            ]
          },
          "metadata": {
            "tags": []
          },
          "execution_count": 15
        }
      ]
    },
    {
      "cell_type": "markdown",
      "metadata": {
        "id": "fpKRAkjtifXk",
        "colab_type": "text"
      },
      "source": [
        "**Question 2**:  Write a function that collects data on four Harry Potter movies from [The Movie Database](https://www.themoviedb.org). You can use [tmdbv3api](https://pypi.org/project/tmdbv3api/) (15pt)"
      ]
    },
    {
      "cell_type": "code",
      "metadata": {
        "id": "32w2fs6JifXl",
        "colab_type": "code",
        "outputId": "5ab42a1b-d430-4293-9aee-70b66b7dd1d2",
        "colab": {
          "base_uri": "https://localhost:8080/",
          "height": 170
        }
      },
      "source": [
        "!pip install tmdbv3api"
      ],
      "execution_count": 0,
      "outputs": [
        {
          "output_type": "stream",
          "text": [
            "Collecting tmdbv3api\n",
            "  Downloading https://files.pythonhosted.org/packages/4d/81/e2c88a1f8badcea1316a19be70b39f82eb845fa350cb2ea435c79c09435c/tmdbv3api-1.5.1-py2.py3-none-any.whl\n",
            "Requirement already satisfied: requests in /usr/local/lib/python3.6/dist-packages (from tmdbv3api) (2.21.0)\n",
            "Requirement already satisfied: certifi>=2017.4.17 in /usr/local/lib/python3.6/dist-packages (from requests->tmdbv3api) (2019.11.28)\n",
            "Requirement already satisfied: urllib3<1.25,>=1.21.1 in /usr/local/lib/python3.6/dist-packages (from requests->tmdbv3api) (1.24.3)\n",
            "Requirement already satisfied: idna<2.9,>=2.5 in /usr/local/lib/python3.6/dist-packages (from requests->tmdbv3api) (2.8)\n",
            "Requirement already satisfied: chardet<3.1.0,>=3.0.2 in /usr/local/lib/python3.6/dist-packages (from requests->tmdbv3api) (3.0.4)\n",
            "Installing collected packages: tmdbv3api\n",
            "Successfully installed tmdbv3api-1.5.1\n"
          ],
          "name": "stdout"
        }
      ]
    },
    {
      "cell_type": "code",
      "metadata": {
        "id": "j_WFqSRRLyky",
        "colab_type": "code",
        "outputId": "a7c16fb8-80d2-4754-f70f-43b2b3e8cd41",
        "colab": {
          "base_uri": "https://localhost:8080/",
          "height": 377
        }
      },
      "source": [
        "from tmdbv3api import TMDb\n",
        "\n",
        "tmdb = TMDb()\n",
        "tmdb.api_key = '1aea115674a8c85f53c5233025f88721'\n",
        "tmdb.language = 'en'\n",
        "\n",
        "def collect_potter_movies(num):\n",
        "    from tmdbv3api import Movie\n",
        "    movie = Movie()\n",
        "    for potter_movie in movie.search('Harry Potter')[:num]:\n",
        "        print(\"*\"*20)\n",
        "        print(\"Movie Title: {}\".format(potter_movie.title))\n",
        "        print(\"Movie Overview: {}\".format(potter_movie.overview))\n",
        "        print(\"Movie Vote Average: {}\".format(potter_movie.vote_average))\n",
        "        print(\"Movie Poster Path: {}\".format(potter_movie.poster_path))\n",
        "\n",
        "collect_potter_movies(4)"
      ],
      "execution_count": 0,
      "outputs": [
        {
          "output_type": "stream",
          "text": [
            "********************\n",
            "Movie Title: Harry Potter and the Philosopher's Stone\n",
            "Movie Overview: Harry Potter has lived under the stairs at his aunt and uncle's house his whole life. But on his 11th birthday, he learns he's a powerful wizard -- with a place waiting for him at the Hogwarts School of Witchcraft and Wizardry. As he learns to harness his newfound powers with the help of the school's kindly headmaster, Harry uncovers the truth about his parents' deaths -- and about the villain who's to blame.\n",
            "Movie Vote Average: 7.8\n",
            "Movie Poster Path: /gHPtCmMeDqjaGqnMrWGDmD3nKd2.jpg\n",
            "********************\n",
            "Movie Title: Harry Potter and the Chamber of Secrets\n",
            "Movie Overview: Cars fly, trees fight back, and a mysterious house-elf comes to warn Harry Potter at the start of his second year at Hogwarts. Adventure and danger await when bloody writing on a wall announces: The Chamber Of Secrets Has Been Opened. To save Hogwarts will require all of Harry, Ron and Hermione’s magical abilities and courage.\n",
            "Movie Vote Average: 7.7\n",
            "Movie Poster Path: /sdEOH0992YZ0QSxgXNIGLq1ToUi.jpg\n",
            "********************\n",
            "Movie Title: Harry Potter and the Prisoner of Azkaban\n",
            "Movie Overview: Harry, Ron and Hermione return to Hogwarts for another magic-filled year. Harry comes face to face with danger yet again, this time in the form of escaped convict, Sirius Black—and turns to sympathetic Professor Lupin for help.\n",
            "Movie Vote Average: 8\n",
            "Movie Poster Path: /jUFjMoLh8T2CWzHUSjKCojI5SHu.jpg\n",
            "********************\n",
            "Movie Title: Harry Potter and the Goblet of Fire\n",
            "Movie Overview: Harry starts his fourth year at Hogwarts, competes in the treacherous Triwizard Tournament and faces the evil Lord Voldemort. Ron and Hermione help Harry manage the pressure – but Voldemort lurks, awaiting his chance to destroy Harry and all that he stands for.\n",
            "Movie Vote Average: 7.8\n",
            "Movie Poster Path: /fECBtHlr0RB3foNHDiCBXeg9Bv9.jpg\n"
          ],
          "name": "stdout"
        }
      ]
    },
    {
      "cell_type": "markdown",
      "metadata": {
        "id": "AUdAUefVifXo",
        "colab_type": "text"
      },
      "source": [
        "## Kickstarter Projects Dataset"
      ]
    },
    {
      "cell_type": "markdown",
      "metadata": {
        "id": "zx58iFpDifXo",
        "colab_type": "text"
      },
      "source": [
        "Using the [Kickstarter Projects Dataset](https://www.kaggle.com/kemical/kickstarter-projects#ks-projects-201801.csv) and Pandas, please answer one of following questions:"
      ]
    },
    {
      "cell_type": "markdown",
      "metadata": {
        "id": "9C5Pn9SkifXp",
        "colab_type": "text"
      },
      "source": [
        "### <span style=\"color:red\"> Please answer only **one** of the following questions according to your (ID number + 1) (use the formula **<YOUR_ID> mod 3 +1**) </span>"
      ]
    },
    {
      "cell_type": "code",
      "metadata": {
        "id": "Nttgf82QifXq",
        "colab_type": "code",
        "outputId": "6e403c89-8b8d-4ded-bea0-d5ae84f6c5bc",
        "colab": {
          "base_uri": "https://localhost:8080/",
          "height": 34
        }
      },
      "source": [
        "# which question to answer - put your ID number and run the code \n",
        "your_id  = \"316460443\"\n",
        "q = (int(your_id) + 1) % 3 + 1\n",
        "print(\"You need to answer questions %s and 4\" % q)"
      ],
      "execution_count": 0,
      "outputs": [
        {
          "output_type": "stream",
          "text": [
            "You need to answer questions 3 and 4\n"
          ],
          "name": "stdout"
        }
      ]
    },
    {
      "cell_type": "code",
      "metadata": {
        "id": "on33oetsP19I",
        "colab_type": "code",
        "outputId": "43d64b95-d2f7-4b99-adb3-76dbcf74dde2",
        "colab": {
          "base_uri": "https://localhost:8080/",
          "height": 204
        }
      },
      "source": [
        "!mkdir /root/.kaggle/\n",
        "!mkdir ./datasets\n",
        "import json\n",
        "import os\n",
        "\n",
        "# Installing the Kaggle package\n",
        "!pip install kaggle \n",
        "\n",
        "#Important Note: complete this with your own key - after running this for the first time remmember to **remove** your API_KEY\n",
        "api_token = {\"username\":\"liaddekel\",\"key\":\"f108a5e28c6e44704d469f7ae7614d16\"}\n",
        "\n",
        "\n",
        "# creating kaggle.json file with the personal API-Key details \n",
        "# You can also put this file on your Google Drive\n",
        "with open('/root/.kaggle/kaggle.json', 'w') as file:\n",
        "  json.dump(api_token, file)\n",
        "!chmod 600 /root/.kaggle/kaggle.json"
      ],
      "execution_count": 2,
      "outputs": [
        {
          "output_type": "stream",
          "text": [
            "Requirement already satisfied: kaggle in /usr/local/lib/python3.6/dist-packages (1.5.6)\n",
            "Requirement already satisfied: certifi in /usr/local/lib/python3.6/dist-packages (from kaggle) (2019.11.28)\n",
            "Requirement already satisfied: urllib3<1.25,>=1.21.1 in /usr/local/lib/python3.6/dist-packages (from kaggle) (1.24.3)\n",
            "Requirement already satisfied: six>=1.10 in /usr/local/lib/python3.6/dist-packages (from kaggle) (1.12.0)\n",
            "Requirement already satisfied: python-slugify in /usr/local/lib/python3.6/dist-packages (from kaggle) (4.0.0)\n",
            "Requirement already satisfied: python-dateutil in /usr/local/lib/python3.6/dist-packages (from kaggle) (2.8.1)\n",
            "Requirement already satisfied: requests in /usr/local/lib/python3.6/dist-packages (from kaggle) (2.21.0)\n",
            "Requirement already satisfied: tqdm in /usr/local/lib/python3.6/dist-packages (from kaggle) (4.38.0)\n",
            "Requirement already satisfied: text-unidecode>=1.3 in /usr/local/lib/python3.6/dist-packages (from python-slugify->kaggle) (1.3)\n",
            "Requirement already satisfied: chardet<3.1.0,>=3.0.2 in /usr/local/lib/python3.6/dist-packages (from requests->kaggle) (3.0.4)\n",
            "Requirement already satisfied: idna<2.9,>=2.5 in /usr/local/lib/python3.6/dist-packages (from requests->kaggle) (2.8)\n"
          ],
          "name": "stdout"
        }
      ]
    },
    {
      "cell_type": "code",
      "metadata": {
        "id": "7tWX81YeifXv",
        "colab_type": "code",
        "outputId": "69a1a3fb-1bbb-4d18-a093-678e89c4f1f2",
        "colab": {
          "base_uri": "https://localhost:8080/",
          "height": 425
        }
      },
      "source": [
        "# download and unzip dataset\n",
        "!kaggle datasets list -s kickstarter-projects\n",
        "!kaggle datasets download kemical/kickstarter-projects -p ./datasets/kickstarter-projects/\n",
        "!unzip ./datasets/kickstarter-projects/*.zip  -d ./datasets/kickstarter-projects/"
      ],
      "execution_count": 3,
      "outputs": [
        {
          "output_type": "stream",
          "text": [
            "Warning: Looks like you're using an outdated API Version, please consider updating (server 1.5.6 / client 1.5.4)\n",
            "ref                                              title                                        size  lastUpdated          downloadCount  \n",
            "-----------------------------------------------  ------------------------------------------  -----  -------------------  -------------  \n",
            "kemical/kickstarter-projects                     Kickstarter Projects                         37MB  2018-02-08 09:02:30          35509  \n",
            "codename007/funding-successful-projects          Funding Successful Projects on Kickstarter   20MB  2017-06-20 17:37:38           2420  \n",
            "socathie/kickstarter-project-statistics          Kickstarter Project Statistics                1MB  2019-11-14 06:38:31           5358  \n",
            "toshimelonhead/400000-kickstarter-projects       400,000 Kickstarter Projects                   0B  2019-07-23 01:23:31            147  \n",
            "uysalah/archived-kickstarter-projects            Archived Kickstarter Projects                 1MB  2019-05-10 04:33:22            125  \n",
            "yashkantharia/kickstarter-campaigns              Kickstarter Campaigns                        12MB  2019-03-03 13:46:08            450  \n",
            "oscarvilla/kickstarter-nlp                       kickstarter NLP                              11MB  2018-08-09 01:38:57            208  \n",
            "tonyplaysguitar/steam-spy-data-from-api-request  Kickstarter videogames released on Steam      1MB  2018-01-21 23:54:08            232  \n",
            "officerbribe/yks-six-pack                        YKS Six Pack                                147KB  2020-03-05 17:49:58             56  \n",
            "wood2174/mapkickstarter                          Kickstarter                                  18MB  2018-03-07 00:01:12            214  \n",
            "antonionoca/kickstarter2018nlp                   kickstarter-2018-nlp                         35MB  2019-04-23 22:02:34             68  \n",
            "alonsopuente/kickstarter-projects-images         Kickstarter_projects_images                   2GB  2019-11-02 04:14:00             67  \n",
            "alonsopuente/kickstarter-projects-descriptions   kickstarter_projects_descriptions            35MB  2019-11-15 06:37:59             23  \n",
            "alonsopuente/kickstarter-projects-metadata       kickstarter_projects_metadata                 5MB  2019-11-15 06:27:11             32  \n",
            "skhadirahmed/redditdataset                       reddit-dataset                              616MB  2019-03-01 08:09:26             22  \n",
            "Downloading kickstarter-projects.zip to ./datasets/kickstarter-projects\n",
            " 90% 33.0M/36.8M [00:00<00:00, 24.2MB/s]\n",
            "100% 36.8M/36.8M [00:00<00:00, 39.9MB/s]\n",
            "Archive:  ./datasets/kickstarter-projects/kickstarter-projects.zip\n",
            "  inflating: ./datasets/kickstarter-projects/ks-projects-201612.csv  \n",
            "  inflating: ./datasets/kickstarter-projects/ks-projects-201801.csv  \n"
          ],
          "name": "stdout"
        }
      ]
    },
    {
      "cell_type": "markdown",
      "metadata": {
        "id": "po4uxd2tifXu",
        "colab_type": "text"
      },
      "source": [
        "**Question 1:** On average which project category received the highest number of backers? (15 pt) "
      ]
    },
    {
      "cell_type": "markdown",
      "metadata": {
        "id": "-5TYWzlxifXx",
        "colab_type": "text"
      },
      "source": [
        "**Question 2:** On average which project category received the highest pledged USD? (15 pt)"
      ]
    },
    {
      "cell_type": "code",
      "metadata": {
        "id": "PMYZplK9ifXy",
        "colab_type": "code",
        "colab": {}
      },
      "source": [
        ""
      ],
      "execution_count": 0,
      "outputs": []
    },
    {
      "cell_type": "markdown",
      "metadata": {
        "id": "O0sULSUlifX0",
        "colab_type": "text"
      },
      "source": [
        "**Question 3:** In which month is there the highest number of projects? (15 pt)"
      ]
    },
    {
      "cell_type": "code",
      "metadata": {
        "id": "IVhAjprjbGIt",
        "colab_type": "code",
        "outputId": "cbc3f09f-4c0a-4d7e-f58c-6a48df82d10d",
        "colab": {
          "base_uri": "https://localhost:8080/",
          "height": 932
        }
      },
      "source": [
        "import pandas as pd\n",
        "\n",
        "CSV_PATH = \"./datasets/kickstarter-projects/ks-projects-201801.csv\"\n",
        "\n",
        "pd.read_csv(CSV_PATH)"
      ],
      "execution_count": 4,
      "outputs": [
        {
          "output_type": "execute_result",
          "data": {
            "text/html": [
              "<div>\n",
              "<style scoped>\n",
              "    .dataframe tbody tr th:only-of-type {\n",
              "        vertical-align: middle;\n",
              "    }\n",
              "\n",
              "    .dataframe tbody tr th {\n",
              "        vertical-align: top;\n",
              "    }\n",
              "\n",
              "    .dataframe thead th {\n",
              "        text-align: right;\n",
              "    }\n",
              "</style>\n",
              "<table border=\"1\" class=\"dataframe\">\n",
              "  <thead>\n",
              "    <tr style=\"text-align: right;\">\n",
              "      <th></th>\n",
              "      <th>ID</th>\n",
              "      <th>name</th>\n",
              "      <th>category</th>\n",
              "      <th>main_category</th>\n",
              "      <th>currency</th>\n",
              "      <th>deadline</th>\n",
              "      <th>goal</th>\n",
              "      <th>launched</th>\n",
              "      <th>pledged</th>\n",
              "      <th>state</th>\n",
              "      <th>backers</th>\n",
              "      <th>country</th>\n",
              "      <th>usd pledged</th>\n",
              "      <th>usd_pledged_real</th>\n",
              "      <th>usd_goal_real</th>\n",
              "    </tr>\n",
              "  </thead>\n",
              "  <tbody>\n",
              "    <tr>\n",
              "      <th>0</th>\n",
              "      <td>1000002330</td>\n",
              "      <td>The Songs of Adelaide &amp; Abullah</td>\n",
              "      <td>Poetry</td>\n",
              "      <td>Publishing</td>\n",
              "      <td>GBP</td>\n",
              "      <td>2015-10-09</td>\n",
              "      <td>1000.0</td>\n",
              "      <td>2015-08-11 12:12:28</td>\n",
              "      <td>0.0</td>\n",
              "      <td>failed</td>\n",
              "      <td>0</td>\n",
              "      <td>GB</td>\n",
              "      <td>0.0</td>\n",
              "      <td>0.0</td>\n",
              "      <td>1533.95</td>\n",
              "    </tr>\n",
              "    <tr>\n",
              "      <th>1</th>\n",
              "      <td>1000003930</td>\n",
              "      <td>Greeting From Earth: ZGAC Arts Capsule For ET</td>\n",
              "      <td>Narrative Film</td>\n",
              "      <td>Film &amp; Video</td>\n",
              "      <td>USD</td>\n",
              "      <td>2017-11-01</td>\n",
              "      <td>30000.0</td>\n",
              "      <td>2017-09-02 04:43:57</td>\n",
              "      <td>2421.0</td>\n",
              "      <td>failed</td>\n",
              "      <td>15</td>\n",
              "      <td>US</td>\n",
              "      <td>100.0</td>\n",
              "      <td>2421.0</td>\n",
              "      <td>30000.00</td>\n",
              "    </tr>\n",
              "    <tr>\n",
              "      <th>2</th>\n",
              "      <td>1000004038</td>\n",
              "      <td>Where is Hank?</td>\n",
              "      <td>Narrative Film</td>\n",
              "      <td>Film &amp; Video</td>\n",
              "      <td>USD</td>\n",
              "      <td>2013-02-26</td>\n",
              "      <td>45000.0</td>\n",
              "      <td>2013-01-12 00:20:50</td>\n",
              "      <td>220.0</td>\n",
              "      <td>failed</td>\n",
              "      <td>3</td>\n",
              "      <td>US</td>\n",
              "      <td>220.0</td>\n",
              "      <td>220.0</td>\n",
              "      <td>45000.00</td>\n",
              "    </tr>\n",
              "    <tr>\n",
              "      <th>3</th>\n",
              "      <td>1000007540</td>\n",
              "      <td>ToshiCapital Rekordz Needs Help to Complete Album</td>\n",
              "      <td>Music</td>\n",
              "      <td>Music</td>\n",
              "      <td>USD</td>\n",
              "      <td>2012-04-16</td>\n",
              "      <td>5000.0</td>\n",
              "      <td>2012-03-17 03:24:11</td>\n",
              "      <td>1.0</td>\n",
              "      <td>failed</td>\n",
              "      <td>1</td>\n",
              "      <td>US</td>\n",
              "      <td>1.0</td>\n",
              "      <td>1.0</td>\n",
              "      <td>5000.00</td>\n",
              "    </tr>\n",
              "    <tr>\n",
              "      <th>4</th>\n",
              "      <td>1000011046</td>\n",
              "      <td>Community Film Project: The Art of Neighborhoo...</td>\n",
              "      <td>Film &amp; Video</td>\n",
              "      <td>Film &amp; Video</td>\n",
              "      <td>USD</td>\n",
              "      <td>2015-08-29</td>\n",
              "      <td>19500.0</td>\n",
              "      <td>2015-07-04 08:35:03</td>\n",
              "      <td>1283.0</td>\n",
              "      <td>canceled</td>\n",
              "      <td>14</td>\n",
              "      <td>US</td>\n",
              "      <td>1283.0</td>\n",
              "      <td>1283.0</td>\n",
              "      <td>19500.00</td>\n",
              "    </tr>\n",
              "    <tr>\n",
              "      <th>...</th>\n",
              "      <td>...</td>\n",
              "      <td>...</td>\n",
              "      <td>...</td>\n",
              "      <td>...</td>\n",
              "      <td>...</td>\n",
              "      <td>...</td>\n",
              "      <td>...</td>\n",
              "      <td>...</td>\n",
              "      <td>...</td>\n",
              "      <td>...</td>\n",
              "      <td>...</td>\n",
              "      <td>...</td>\n",
              "      <td>...</td>\n",
              "      <td>...</td>\n",
              "      <td>...</td>\n",
              "    </tr>\n",
              "    <tr>\n",
              "      <th>378656</th>\n",
              "      <td>999976400</td>\n",
              "      <td>ChknTruk Nationwide Charity Drive 2014 (Canceled)</td>\n",
              "      <td>Documentary</td>\n",
              "      <td>Film &amp; Video</td>\n",
              "      <td>USD</td>\n",
              "      <td>2014-10-17</td>\n",
              "      <td>50000.0</td>\n",
              "      <td>2014-09-17 02:35:30</td>\n",
              "      <td>25.0</td>\n",
              "      <td>canceled</td>\n",
              "      <td>1</td>\n",
              "      <td>US</td>\n",
              "      <td>25.0</td>\n",
              "      <td>25.0</td>\n",
              "      <td>50000.00</td>\n",
              "    </tr>\n",
              "    <tr>\n",
              "      <th>378657</th>\n",
              "      <td>999977640</td>\n",
              "      <td>The Tribe</td>\n",
              "      <td>Narrative Film</td>\n",
              "      <td>Film &amp; Video</td>\n",
              "      <td>USD</td>\n",
              "      <td>2011-07-19</td>\n",
              "      <td>1500.0</td>\n",
              "      <td>2011-06-22 03:35:14</td>\n",
              "      <td>155.0</td>\n",
              "      <td>failed</td>\n",
              "      <td>5</td>\n",
              "      <td>US</td>\n",
              "      <td>155.0</td>\n",
              "      <td>155.0</td>\n",
              "      <td>1500.00</td>\n",
              "    </tr>\n",
              "    <tr>\n",
              "      <th>378658</th>\n",
              "      <td>999986353</td>\n",
              "      <td>Walls of Remedy- New lesbian Romantic Comedy f...</td>\n",
              "      <td>Narrative Film</td>\n",
              "      <td>Film &amp; Video</td>\n",
              "      <td>USD</td>\n",
              "      <td>2010-08-16</td>\n",
              "      <td>15000.0</td>\n",
              "      <td>2010-07-01 19:40:30</td>\n",
              "      <td>20.0</td>\n",
              "      <td>failed</td>\n",
              "      <td>1</td>\n",
              "      <td>US</td>\n",
              "      <td>20.0</td>\n",
              "      <td>20.0</td>\n",
              "      <td>15000.00</td>\n",
              "    </tr>\n",
              "    <tr>\n",
              "      <th>378659</th>\n",
              "      <td>999987933</td>\n",
              "      <td>BioDefense Education Kit</td>\n",
              "      <td>Technology</td>\n",
              "      <td>Technology</td>\n",
              "      <td>USD</td>\n",
              "      <td>2016-02-13</td>\n",
              "      <td>15000.0</td>\n",
              "      <td>2016-01-13 18:13:53</td>\n",
              "      <td>200.0</td>\n",
              "      <td>failed</td>\n",
              "      <td>6</td>\n",
              "      <td>US</td>\n",
              "      <td>200.0</td>\n",
              "      <td>200.0</td>\n",
              "      <td>15000.00</td>\n",
              "    </tr>\n",
              "    <tr>\n",
              "      <th>378660</th>\n",
              "      <td>999988282</td>\n",
              "      <td>Nou Renmen Ayiti!  We Love Haiti!</td>\n",
              "      <td>Performance Art</td>\n",
              "      <td>Art</td>\n",
              "      <td>USD</td>\n",
              "      <td>2011-08-16</td>\n",
              "      <td>2000.0</td>\n",
              "      <td>2011-07-19 09:07:47</td>\n",
              "      <td>524.0</td>\n",
              "      <td>failed</td>\n",
              "      <td>17</td>\n",
              "      <td>US</td>\n",
              "      <td>524.0</td>\n",
              "      <td>524.0</td>\n",
              "      <td>2000.00</td>\n",
              "    </tr>\n",
              "  </tbody>\n",
              "</table>\n",
              "<p>378661 rows × 15 columns</p>\n",
              "</div>"
            ],
            "text/plain": [
              "                ID  ... usd_goal_real\n",
              "0       1000002330  ...       1533.95\n",
              "1       1000003930  ...      30000.00\n",
              "2       1000004038  ...      45000.00\n",
              "3       1000007540  ...       5000.00\n",
              "4       1000011046  ...      19500.00\n",
              "...            ...  ...           ...\n",
              "378656   999976400  ...      50000.00\n",
              "378657   999977640  ...       1500.00\n",
              "378658   999986353  ...      15000.00\n",
              "378659   999987933  ...      15000.00\n",
              "378660   999988282  ...       2000.00\n",
              "\n",
              "[378661 rows x 15 columns]"
            ]
          },
          "metadata": {
            "tags": []
          },
          "execution_count": 4
        }
      ]
    },
    {
      "cell_type": "code",
      "metadata": {
        "id": "EflUthvqifX1",
        "colab_type": "code",
        "outputId": "2d4ed3d9-6004-471c-f134-0a933d4de76a",
        "colab": {
          "base_uri": "https://localhost:8080/",
          "height": 34
        }
      },
      "source": [
        "import pandas as pd\n",
        "\n",
        "CSV_PATH = \"./datasets/kickstarter-projects/ks-projects-201801.csv\"\n",
        "\n",
        "df = pd.read_csv(CSV_PATH)\n",
        "\n",
        "# adding launching_month column by slicing launching-date column\n",
        "df['launching_month'] = df['launched'].str[5:7]\n",
        "# use group by to get groups of month\n",
        "groups = df.groupby('launching_month')\n",
        "\n",
        "# take the month with the biggest group\n",
        "# after using count() all columns have the count value, so we sort by 'name'\n",
        "desc_count_groups = groups.count().sort_values(\"name\", ascending=0)\n",
        "print(f\"The month with the highest number of project is {desc_count_groups.index[0]}\")"
      ],
      "execution_count": 5,
      "outputs": [
        {
          "output_type": "stream",
          "text": [
            "The month with the highest number of project is 07\n"
          ],
          "name": "stdout"
        }
      ]
    },
    {
      "cell_type": "markdown",
      "metadata": {
        "id": "jKZ19m4bifX3",
        "colab_type": "text"
      },
      "source": [
        "**Question 4 (for all):** Visualize your answer using matplotlib or seaborn (15pt)"
      ]
    },
    {
      "cell_type": "code",
      "metadata": {
        "id": "01gCsLrqifX3",
        "colab_type": "code",
        "outputId": "7020012b-741a-41ac-f897-2fee99276e2a",
        "colab": {
          "base_uri": "https://localhost:8080/",
          "height": 312
        }
      },
      "source": [
        "import matplotlib.pyplot as plt\n",
        "%matplotlib inline \n",
        "\n",
        "plt.style.use(['seaborn-dark'])\n",
        "groups.count().plot(y=\"name\", grid=True, \n",
        "                    title=\"Num of launched projects in month\", fontsize=15)"
      ],
      "execution_count": 6,
      "outputs": [
        {
          "output_type": "execute_result",
          "data": {
            "text/plain": [
              "<matplotlib.axes._subplots.AxesSubplot at 0x7f21db822978>"
            ]
          },
          "metadata": {
            "tags": []
          },
          "execution_count": 6
        },
        {
          "output_type": "display_data",
          "data": {
            "image/png": "[encoded data removed]",
            "text/plain": [
              "<Figure size 432x288 with 1 Axes>"
            ]
          },
          "metadata": {
            "tags": []
          }
        }
      ]
    },
    {
      "cell_type": "markdown",
      "metadata": {
        "id": "PpjMJgB1ifX6",
        "colab_type": "text"
      },
      "source": [
        "## The Marvel Universe Social Network"
      ]
    },
    {
      "cell_type": "markdown",
      "metadata": {
        "id": "oVRgZuN5ifX6",
        "colab_type": "text"
      },
      "source": [
        "Using the [The Marvel Universe Social Network](https://www.kaggle.com/csanhueza/the-marvel-universe-social-network) and  Pandas, please answer one of following questions:"
      ]
    },
    {
      "cell_type": "markdown",
      "metadata": {
        "id": "E91-E4ufifX7",
        "colab_type": "text"
      },
      "source": [
        "**Question 1:** Write code which calculate the top-10 most friendly characters, i.e., characters with the \n",
        "    highest number of friends. Please use _hero_network.csv_ file (15pt). \n",
        "    \n",
        "**Note:** Not all the links in this dataset are symmetric."
      ]
    },
    {
      "cell_type": "code",
      "metadata": {
        "id": "gYIoTJNIifX8",
        "colab_type": "code",
        "outputId": "675b0610-6e6a-4f43-8c05-5cfd455ffff1",
        "colab": {
          "base_uri": "https://localhost:8080/",
          "height": 442
        }
      },
      "source": [
        "# download and unzip dataset\n",
        "!kaggle datasets list -s kickstarter-projects\n",
        "!kaggle datasets download csanhueza/the-marvel-universe-social-network -p ./datasets/marvel/\n",
        "!unzip ./datasets/marvel/*.zip  -d ./datasets/marvel/"
      ],
      "execution_count": 0,
      "outputs": [
        {
          "output_type": "stream",
          "text": [
            "Warning: Looks like you're using an outdated API Version, please consider updating (server 1.5.6 / client 1.5.4)\n",
            "ref                                              title                                        size  lastUpdated          downloadCount  \n",
            "-----------------------------------------------  ------------------------------------------  -----  -------------------  -------------  \n",
            "kemical/kickstarter-projects                     Kickstarter Projects                         37MB  2018-02-08 09:02:30          35447  \n",
            "codename007/funding-successful-projects          Funding Successful Projects on Kickstarter   20MB  2017-06-20 17:37:38           2420  \n",
            "socathie/kickstarter-project-statistics          Kickstarter Project Statistics                1MB  2019-11-14 06:38:31           5356  \n",
            "toshimelonhead/400000-kickstarter-projects       400,000 Kickstarter Projects                   0B  2019-07-23 01:23:31            147  \n",
            "uysalah/archived-kickstarter-projects            Archived Kickstarter Projects                 1MB  2019-05-10 04:33:22            125  \n",
            "yashkantharia/kickstarter-campaigns              Kickstarter Campaigns                        12MB  2019-03-03 13:46:08            449  \n",
            "oscarvilla/kickstarter-nlp                       kickstarter NLP                              11MB  2018-08-09 01:38:57            208  \n",
            "tonyplaysguitar/steam-spy-data-from-api-request  Kickstarter videogames released on Steam      1MB  2018-01-21 23:54:08            232  \n",
            "officerbribe/yks-six-pack                        YKS Six Pack                                147KB  2020-03-05 17:49:58             56  \n",
            "wood2174/mapkickstarter                          Kickstarter                                  18MB  2018-03-07 00:01:12            214  \n",
            "antonionoca/kickstarter2018nlp                   kickstarter-2018-nlp                         35MB  2019-04-23 22:02:34             68  \n",
            "alonsopuente/kickstarter-projects-images         Kickstarter_projects_images                   2GB  2019-11-02 04:14:00             67  \n",
            "alonsopuente/kickstarter-projects-descriptions   kickstarter_projects_descriptions            35MB  2019-11-15 06:37:59             23  \n",
            "alonsopuente/kickstarter-projects-metadata       kickstarter_projects_metadata                 5MB  2019-11-15 06:27:11             32  \n",
            "skhadirahmed/redditdataset                       reddit-dataset                              616MB  2019-03-01 08:09:26             22  \n",
            "Downloading the-marvel-universe-social-network.zip to ./datasets/marvel\n",
            "  0% 0.00/2.72M [00:00<?, ?B/s]\n",
            "100% 2.72M/2.72M [00:00<00:00, 90.1MB/s]\n",
            "Archive:  ./datasets/marvel/the-marvel-universe-social-network.zip\n",
            "  inflating: ./datasets/marvel/edges.csv  \n",
            "  inflating: ./datasets/marvel/hero-network.csv  \n",
            "  inflating: ./datasets/marvel/nodes.csv  \n"
          ],
          "name": "stdout"
        }
      ]
    },
    {
      "cell_type": "code",
      "metadata": {
        "id": "tUaUZ-MKjm9s",
        "colab_type": "code",
        "outputId": "061d935b-4c3a-48b7-b9a7-47a492047224",
        "colab": {
          "base_uri": "https://localhost:8080/",
          "height": 419
        }
      },
      "source": [
        "import pandas as pd\n",
        "\n",
        "CSV_PATH_MARVEL = \"./datasets/marvel/hero-network.csv\"\n",
        "pd.read_csv(CSV_PATH_MARVEL)"
      ],
      "execution_count": 0,
      "outputs": [
        {
          "output_type": "execute_result",
          "data": {
            "text/html": [
              "<div>\n",
              "<style scoped>\n",
              "    .dataframe tbody tr th:only-of-type {\n",
              "        vertical-align: middle;\n",
              "    }\n",
              "\n",
              "    .dataframe tbody tr th {\n",
              "        vertical-align: top;\n",
              "    }\n",
              "\n",
              "    .dataframe thead th {\n",
              "        text-align: right;\n",
              "    }\n",
              "</style>\n",
              "<table border=\"1\" class=\"dataframe\">\n",
              "  <thead>\n",
              "    <tr style=\"text-align: right;\">\n",
              "      <th></th>\n",
              "      <th>hero1</th>\n",
              "      <th>hero2</th>\n",
              "    </tr>\n",
              "  </thead>\n",
              "  <tbody>\n",
              "    <tr>\n",
              "      <th>0</th>\n",
              "      <td>LITTLE, ABNER</td>\n",
              "      <td>PRINCESS ZANDA</td>\n",
              "    </tr>\n",
              "    <tr>\n",
              "      <th>1</th>\n",
              "      <td>LITTLE, ABNER</td>\n",
              "      <td>BLACK PANTHER/T'CHAL</td>\n",
              "    </tr>\n",
              "    <tr>\n",
              "      <th>2</th>\n",
              "      <td>BLACK PANTHER/T'CHAL</td>\n",
              "      <td>PRINCESS ZANDA</td>\n",
              "    </tr>\n",
              "    <tr>\n",
              "      <th>3</th>\n",
              "      <td>LITTLE, ABNER</td>\n",
              "      <td>PRINCESS ZANDA</td>\n",
              "    </tr>\n",
              "    <tr>\n",
              "      <th>4</th>\n",
              "      <td>LITTLE, ABNER</td>\n",
              "      <td>BLACK PANTHER/T'CHAL</td>\n",
              "    </tr>\n",
              "    <tr>\n",
              "      <th>...</th>\n",
              "      <td>...</td>\n",
              "      <td>...</td>\n",
              "    </tr>\n",
              "    <tr>\n",
              "      <th>574462</th>\n",
              "      <td>COLOSSUS II/PETER RA</td>\n",
              "      <td>CALLISTO</td>\n",
              "    </tr>\n",
              "    <tr>\n",
              "      <th>574463</th>\n",
              "      <td>CALLISTO</td>\n",
              "      <td>ROGUE /</td>\n",
              "    </tr>\n",
              "    <tr>\n",
              "      <th>574464</th>\n",
              "      <td>CALLISTO</td>\n",
              "      <td>CALIBAN/</td>\n",
              "    </tr>\n",
              "    <tr>\n",
              "      <th>574465</th>\n",
              "      <td>CALIBAN/</td>\n",
              "      <td>ROGUE /</td>\n",
              "    </tr>\n",
              "    <tr>\n",
              "      <th>574466</th>\n",
              "      <td>HULK/DR. ROBERT BRUC</td>\n",
              "      <td>MARKS, DR. SHIELA</td>\n",
              "    </tr>\n",
              "  </tbody>\n",
              "</table>\n",
              "<p>574467 rows × 2 columns</p>\n",
              "</div>"
            ],
            "text/plain": [
              "                       hero1                 hero2\n",
              "0              LITTLE, ABNER        PRINCESS ZANDA\n",
              "1              LITTLE, ABNER  BLACK PANTHER/T'CHAL\n",
              "2       BLACK PANTHER/T'CHAL        PRINCESS ZANDA\n",
              "3              LITTLE, ABNER        PRINCESS ZANDA\n",
              "4              LITTLE, ABNER  BLACK PANTHER/T'CHAL\n",
              "...                      ...                   ...\n",
              "574462  COLOSSUS II/PETER RA              CALLISTO\n",
              "574463              CALLISTO               ROGUE /\n",
              "574464              CALLISTO              CALIBAN/\n",
              "574465              CALIBAN/               ROGUE /\n",
              "574466  HULK/DR. ROBERT BRUC     MARKS, DR. SHIELA\n",
              "\n",
              "[574467 rows x 2 columns]"
            ]
          },
          "metadata": {
            "tags": []
          },
          "execution_count": 73
        }
      ]
    },
    {
      "cell_type": "code",
      "metadata": {
        "id": "g6Ed2POAm9Fe",
        "colab_type": "code",
        "outputId": "6d42b006-b3be-4796-f408-8026adbfbf41",
        "colab": {
          "base_uri": "https://localhost:8080/",
          "height": 390
        }
      },
      "source": [
        "import pandas as pd\n",
        "\n",
        "CSV_PATH_MARVEL = \"./datasets/marvel/hero-network.csv\"\n",
        "CSV_PATH_NODES = \"./datasets/marvel/nodes.csv\"\n",
        "\n",
        "marvel_df = pd.read_csv(CSV_PATH_MARVEL)\n",
        "marvel_df_copy = marvel_df.copy()\n",
        "\n",
        "# replace contents of 'hero1' and 'hero2' in marvel_df_copy\n",
        "marvel_df_copy['temp'] = marvel_df_copy['hero1']\n",
        "marvel_df_copy['hero1'] = marvel_df_copy['hero2']\n",
        "marvel_df_copy['hero2'] = marvel_df_copy['temp']\n",
        "marvel_df_copy.drop(columns=['temp'], inplace=True)\n",
        "\n",
        "# now by concatenating both we have all relations in one direction (hero1->hero2)\n",
        "# and now all we need to do is groupby('hero1')\n",
        "merged_marvel_df = pd.concat([marvel_df, marvel_df_copy])\n",
        "# remove duplicated relations in case there are\n",
        "merged_marvel_df.drop_duplicates(inplace=True)\n",
        "\n",
        "hero1_groups = merged_marvel_df.groupby(\"hero1\")\n",
        "hero1_groups_descending = hero1_groups.count().sort_values(\"hero2\", ascending=0)\n",
        "# take top 10\n",
        "hero1_groups_descending[:10]"
      ],
      "execution_count": 0,
      "outputs": [
        {
          "output_type": "execute_result",
          "data": {
            "text/html": [
              "<div>\n",
              "<style scoped>\n",
              "    .dataframe tbody tr th:only-of-type {\n",
              "        vertical-align: middle;\n",
              "    }\n",
              "\n",
              "    .dataframe tbody tr th {\n",
              "        vertical-align: top;\n",
              "    }\n",
              "\n",
              "    .dataframe thead th {\n",
              "        text-align: right;\n",
              "    }\n",
              "</style>\n",
              "<table border=\"1\" class=\"dataframe\">\n",
              "  <thead>\n",
              "    <tr style=\"text-align: right;\">\n",
              "      <th></th>\n",
              "      <th>hero2</th>\n",
              "    </tr>\n",
              "    <tr>\n",
              "      <th>hero1</th>\n",
              "      <th></th>\n",
              "    </tr>\n",
              "  </thead>\n",
              "  <tbody>\n",
              "    <tr>\n",
              "      <th>CAPTAIN AMERICA</th>\n",
              "      <td>1907</td>\n",
              "    </tr>\n",
              "    <tr>\n",
              "      <th>SPIDER-MAN/PETER PAR</th>\n",
              "      <td>1737</td>\n",
              "    </tr>\n",
              "    <tr>\n",
              "      <th>IRON MAN/TONY STARK</th>\n",
              "      <td>1522</td>\n",
              "    </tr>\n",
              "    <tr>\n",
              "      <th>THING/BENJAMIN J. GR</th>\n",
              "      <td>1416</td>\n",
              "    </tr>\n",
              "    <tr>\n",
              "      <th>MR. FANTASTIC/REED R</th>\n",
              "      <td>1379</td>\n",
              "    </tr>\n",
              "    <tr>\n",
              "      <th>WOLVERINE/LOGAN</th>\n",
              "      <td>1371</td>\n",
              "    </tr>\n",
              "    <tr>\n",
              "      <th>HUMAN TORCH/JOHNNY S</th>\n",
              "      <td>1361</td>\n",
              "    </tr>\n",
              "    <tr>\n",
              "      <th>SCARLET WITCH/WANDA</th>\n",
              "      <td>1325</td>\n",
              "    </tr>\n",
              "    <tr>\n",
              "      <th>THOR/DR. DONALD BLAK</th>\n",
              "      <td>1289</td>\n",
              "    </tr>\n",
              "    <tr>\n",
              "      <th>BEAST/HENRY &amp;HANK&amp; P</th>\n",
              "      <td>1267</td>\n",
              "    </tr>\n",
              "  </tbody>\n",
              "</table>\n",
              "</div>"
            ],
            "text/plain": [
              "                      hero2\n",
              "hero1                      \n",
              "CAPTAIN AMERICA        1907\n",
              "SPIDER-MAN/PETER PAR   1737\n",
              "IRON MAN/TONY STARK    1522\n",
              "THING/BENJAMIN J. GR   1416\n",
              "MR. FANTASTIC/REED R   1379\n",
              "WOLVERINE/LOGAN        1371\n",
              "HUMAN TORCH/JOHNNY S   1361\n",
              "SCARLET WITCH/WANDA    1325\n",
              "THOR/DR. DONALD BLAK   1289\n",
              "BEAST/HENRY &HANK& P   1267"
            ]
          },
          "metadata": {
            "tags": []
          },
          "execution_count": 93
        }
      ]
    },
    {
      "cell_type": "markdown",
      "metadata": {
        "id": "EqcKzoUsifX-",
        "colab_type": "text"
      },
      "source": [
        "**Question 2:** Using Pandas and Networkx create a graph object of The Marvel Universe Social Network with the 150 most \"friendly\" characters (10pt).\n",
        "    The vertices in that graph need to be relative to the size of each character's number of links (also referred to as the vertex degree) (10pt).\n",
        "Please color each node in the graph according to character type according to data in the *nodes.csv* file (5pt)"
      ]
    },
    {
      "cell_type": "markdown",
      "metadata": {
        "id": "ELLg4egiifYA",
        "colab_type": "text"
      },
      "source": [
        "**Bonus:** Visualize the above network using [Cytoscape](https://cytoscape.org) or [Gephi](https://gephi.org) (10pt)"
      ]
    }
  ]
}