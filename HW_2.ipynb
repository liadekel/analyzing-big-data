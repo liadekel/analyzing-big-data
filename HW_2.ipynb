{
  "nbformat": 4,
  "nbformat_minor": 0,
  "metadata": {
    "kernelspec": {
      "display_name": "Python 3",
      "language": "python",
      "name": "python3"
    },
    "language_info": {
      "codemirror_mode": {
        "name": "ipython",
        "version": 3
      },
      "file_extension": ".py",
      "mimetype": "text/x-python",
      "name": "python",
      "nbconvert_exporter": "python",
      "pygments_lexer": "ipython3",
      "version": "3.6.7"
    },
    "colab": {
      "name": "HW 2.ipynb",
      "provenance": [],
      "include_colab_link": true
    }
  },
  "cells": [
    {
      "cell_type": "markdown",
      "metadata": {
        "id": "view-in-github",
        "colab_type": "text"
      },
      "source": [
        "<a href=\"https://colab.research.google.com/github/liadekel/analyzing-big-data/blob/master/HW_2.ipynb\" target=\"_parent\"><img src=\"https://colab.research.google.com/assets/colab-badge.svg\" alt=\"Open In Colab\"/></a>"
      ]
    },
    {
      "cell_type": "markdown",
      "metadata": {
        "id": "DfUHKA19ifXX",
        "colab_type": "text"
      },
      "source": [
        "# Homework Assignment 2\n",
        "### [The Art of Analyzing Big Data - The Data Scientist’s Toolbox](https://www.ise.bgu.ac.il/labs/fire/lectures.html)\n",
        "#### By Dr. Michael Fire "
      ]
    },
    {
      "cell_type": "markdown",
      "metadata": {
        "id": "D9hGo7nXifXa",
        "colab_type": "text"
      },
      "source": [
        "## Dataset Collecting"
      ]
    },
    {
      "cell_type": "markdown",
      "metadata": {
        "id": "D15-Sk2lifXc",
        "colab_type": "text"
      },
      "source": [
        "**Question 1**: Write a function that collects all titles and number of votes for each title of a given [hacker news page](http://news.ycombinator.com) (15pt)\n"
      ]
    },
    {
      "cell_type": "code",
      "metadata": {
        "id": "dR0z-yztifXe",
        "colab_type": "code",
        "colab": {
          "base_uri": "https://localhost:8080/",
          "height": 561
        },
        "outputId": "b3b0f325-9bca-4a7d-b676-db6f481dbf83"
      },
      "source": [
        "import requests\n",
        "from bs4 import BeautifulSoup\n",
        "\n",
        "\n",
        "def collect_title_votes(link):\n",
        "    data = []\n",
        "    raw_html = requests.get(link).content.decode('utf-8')\n",
        "    html_parser = BeautifulSoup(raw_html, 'html.parser')\n",
        "    title_results = html_parser.findAll('tr', attrs={'class': 'athing'})\n",
        "    voting_results = html_parser.findAll('span', attrs={'id': 'score'})\n",
        "\n",
        "    for r in title_results:\n",
        "        title_id = r.attrs[\"id\"]\n",
        "        title_str = r.find('a', attrs={\"class\":\"storylink\"}).contents[0]\n",
        "        # get score corresponding to title id\n",
        "        title_score = html_parser.find('span', attrs={\"id\":f\"score_{title_id}\"}).contents[0]\n",
        "        title_score = int(title_score.split(\" \")[0])\n",
        "        data.append((title_str, title_score))\n",
        "    return data\n",
        "\n",
        "collect_title_votes(\"https://news.ycombinator.com/\")"
      ],
      "execution_count": 15,
      "outputs": [
        {
          "output_type": "execute_result",
          "data": {
            "text/plain": [
              "[('Linux 5.6', 104),\n",
              " ('Lead-Free Solder Is Better for You', 215),\n",
              " ('The origin story of the N95 mask', 137),\n",
              " ('Server-Side Only React with Next', 33),\n",
              " ('Show HN: RapidFuzz – A fast string matching library for Python', 58),\n",
              " (\"French companies benefiting from state aid can't buy back shares\", 144),\n",
              " ('Grab your crayons, it’s coloring time', 242),\n",
              " ('Austria to Make Basic Face Masks Compulsory in Supermarkets', 5),\n",
              " ('A Definitive Guide to Enabling Italics in Vim and Tmux', 49),\n",
              " ('Covid-19 Sanity – Covid-19 papers from bioRxiv/medRxiv searchable and sortable',\n",
              "  73),\n",
              " ('Neanderthals Feasted on Seafood, Seabirds, Perhaps Even Dolphins', 31),\n",
              " ('Coding Stories: Coding on the C64 (2015)', 30),\n",
              " ('Microsoft: Cloud services demand up, prioritization rules in place', 423),\n",
              " ('Vuiet, the long road to building my own music player in Lisp', 15),\n",
              " ('NASA picks SpaceX to deliver cargo to the Lunar Gateway', 11),\n",
              " ('Determining an Election in K', 56),\n",
              " ('Cellular Automata: Rule 30 fed as input to Conway’s Game of Life (2019) [video]',\n",
              "  95),\n",
              " ('Margin calls on mortgage lenders at unprecedented levels', 43),\n",
              " ('An Ancient Ballcourt in Oaxaca Expands a Sport’s Footprint', 39),\n",
              " ('Chromatron Wi-Fi Pixel Controller', 63),\n",
              " ('ZipGrow: Vertical farming/urban agriculture system', 120),\n",
              " ('AWS Ground Station', 328),\n",
              " ('Twitter removes two Bolsonaro tweets questioning virus quarantine', 44),\n",
              " ('How to burn the most money with a single click in Azure', 632),\n",
              " (\"Visual CSS Editor – Grab'n Go\", 96),\n",
              " ('The Acrobatic Immigrant Who Invented Pilates in a Prisoner of War Camp', 4),\n",
              " ('Heineken WOBO: A Beer Bottle That Doubles as a Brick', 134),\n",
              " ('Return to Nib’s Knoll (2014)', 20),\n",
              " ('Three-Domain System', 57),\n",
              " ('Show HN: Magicdocs – Turn Documents into Websites', 4)]"
            ]
          },
          "metadata": {
            "tags": []
          },
          "execution_count": 15
        }
      ]
    },
    {
      "cell_type": "markdown",
      "metadata": {
        "id": "fpKRAkjtifXk",
        "colab_type": "text"
      },
      "source": [
        "**Question 2**:  Write a function that collects data on four Harry Potter movies from [The Movie Database](https://www.themoviedb.org). You can use [tmdbv3api](https://pypi.org/project/tmdbv3api/) (15pt)"
      ]
    },
    {
      "cell_type": "code",
      "metadata": {
        "id": "32w2fs6JifXl",
        "colab_type": "code",
        "colab": {
          "base_uri": "https://localhost:8080/",
          "height": 170
        },
        "outputId": "5ab42a1b-d430-4293-9aee-70b66b7dd1d2"
      },
      "source": [
        "!pip install tmdbv3api"
      ],
      "execution_count": 17,
      "outputs": [
        {
          "output_type": "stream",
          "text": [
            "Collecting tmdbv3api\n",
            "  Downloading https://files.pythonhosted.org/packages/4d/81/e2c88a1f8badcea1316a19be70b39f82eb845fa350cb2ea435c79c09435c/tmdbv3api-1.5.1-py2.py3-none-any.whl\n",
            "Requirement already satisfied: requests in /usr/local/lib/python3.6/dist-packages (from tmdbv3api) (2.21.0)\n",
            "Requirement already satisfied: certifi>=2017.4.17 in /usr/local/lib/python3.6/dist-packages (from requests->tmdbv3api) (2019.11.28)\n",
            "Requirement already satisfied: urllib3<1.25,>=1.21.1 in /usr/local/lib/python3.6/dist-packages (from requests->tmdbv3api) (1.24.3)\n",
            "Requirement already satisfied: idna<2.9,>=2.5 in /usr/local/lib/python3.6/dist-packages (from requests->tmdbv3api) (2.8)\n",
            "Requirement already satisfied: chardet<3.1.0,>=3.0.2 in /usr/local/lib/python3.6/dist-packages (from requests->tmdbv3api) (3.0.4)\n",
            "Installing collected packages: tmdbv3api\n",
            "Successfully installed tmdbv3api-1.5.1\n"
          ],
          "name": "stdout"
        }
      ]
    },
    {
      "cell_type": "code",
      "metadata": {
        "id": "j_WFqSRRLyky",
        "colab_type": "code",
        "colab": {
          "base_uri": "https://localhost:8080/",
          "height": 377
        },
        "outputId": "a7c16fb8-80d2-4754-f70f-43b2b3e8cd41"
      },
      "source": [
        "from tmdbv3api import TMDb\n",
        "tmdb = TMDb()\n",
        "tmdb.api_key = '1aea115674a8c85f53c5233025f88721'\n",
        "tmdb.language = 'en'\n",
        "\n",
        "\n",
        "\n",
        "def collect_potter_movies(num):\n",
        "    from tmdbv3api import Movie\n",
        "    movie = Movie()\n",
        "    for potter_movie in movie.search('Harry Potter')[:num]:\n",
        "        print(\"*\"*20)\n",
        "        print(\"Movie Title: {}\".format(potter_movie.title))\n",
        "        print(\"Movie Overview: {}\".format(potter_movie.overview))\n",
        "        print(\"Movie Vote Average: {}\".format(potter_movie.vote_average))\n",
        "        print(\"Movie Poster Path: {}\".format(potter_movie.poster_path))\n",
        "\n",
        "collect_potter_movies(4)"
      ],
      "execution_count": 22,
      "outputs": [
        {
          "output_type": "stream",
          "text": [
            "********************\n",
            "Movie Title: Harry Potter and the Philosopher's Stone\n",
            "Movie Overview: Harry Potter has lived under the stairs at his aunt and uncle's house his whole life. But on his 11th birthday, he learns he's a powerful wizard -- with a place waiting for him at the Hogwarts School of Witchcraft and Wizardry. As he learns to harness his newfound powers with the help of the school's kindly headmaster, Harry uncovers the truth about his parents' deaths -- and about the villain who's to blame.\n",
            "Movie Vote Average: 7.8\n",
            "Movie Poster Path: /gHPtCmMeDqjaGqnMrWGDmD3nKd2.jpg\n",
            "********************\n",
            "Movie Title: Harry Potter and the Chamber of Secrets\n",
            "Movie Overview: Cars fly, trees fight back, and a mysterious house-elf comes to warn Harry Potter at the start of his second year at Hogwarts. Adventure and danger await when bloody writing on a wall announces: The Chamber Of Secrets Has Been Opened. To save Hogwarts will require all of Harry, Ron and Hermione’s magical abilities and courage.\n",
            "Movie Vote Average: 7.7\n",
            "Movie Poster Path: /sdEOH0992YZ0QSxgXNIGLq1ToUi.jpg\n",
            "********************\n",
            "Movie Title: Harry Potter and the Prisoner of Azkaban\n",
            "Movie Overview: Harry, Ron and Hermione return to Hogwarts for another magic-filled year. Harry comes face to face with danger yet again, this time in the form of escaped convict, Sirius Black—and turns to sympathetic Professor Lupin for help.\n",
            "Movie Vote Average: 8\n",
            "Movie Poster Path: /jUFjMoLh8T2CWzHUSjKCojI5SHu.jpg\n",
            "********************\n",
            "Movie Title: Harry Potter and the Goblet of Fire\n",
            "Movie Overview: Harry starts his fourth year at Hogwarts, competes in the treacherous Triwizard Tournament and faces the evil Lord Voldemort. Ron and Hermione help Harry manage the pressure – but Voldemort lurks, awaiting his chance to destroy Harry and all that he stands for.\n",
            "Movie Vote Average: 7.8\n",
            "Movie Poster Path: /fECBtHlr0RB3foNHDiCBXeg9Bv9.jpg\n"
          ],
          "name": "stdout"
        }
      ]
    },
    {
      "cell_type": "markdown",
      "metadata": {
        "id": "AUdAUefVifXo",
        "colab_type": "text"
      },
      "source": [
        "## Kickstarter Projects Dataset"
      ]
    },
    {
      "cell_type": "markdown",
      "metadata": {
        "id": "zx58iFpDifXo",
        "colab_type": "text"
      },
      "source": [
        "Using the [Kickstarter Projects Dataset](https://www.kaggle.com/kemical/kickstarter-projects#ks-projects-201801.csv) and Pandas, please answer one of following questions:"
      ]
    },
    {
      "cell_type": "markdown",
      "metadata": {
        "id": "9C5Pn9SkifXp",
        "colab_type": "text"
      },
      "source": [
        "### <span style=\"color:red\"> Please answer only **one** of the following questions according to your (ID number + 1) (use the formula **<YOUR_ID> mod 3 +1**) </span>"
      ]
    },
    {
      "cell_type": "code",
      "metadata": {
        "id": "Nttgf82QifXq",
        "colab_type": "code",
        "colab": {}
      },
      "source": [
        "# which question to answer - put your ID number and run the code \n",
        "your_id  = \"<fill_your_id>\"\n",
        "q = (int(your_id) + 1) % 3 + 1\n",
        "print(\"You need to answer questions %s and 4\" % q)"
      ],
      "execution_count": 0,
      "outputs": []
    },
    {
      "cell_type": "markdown",
      "metadata": {
        "id": "po4uxd2tifXu",
        "colab_type": "text"
      },
      "source": [
        "**Question 1:** On average which project category received the highest number of backers? (15 pt) "
      ]
    },
    {
      "cell_type": "code",
      "metadata": {
        "id": "7tWX81YeifXv",
        "colab_type": "code",
        "colab": {}
      },
      "source": [
        ""
      ],
      "execution_count": 0,
      "outputs": []
    },
    {
      "cell_type": "markdown",
      "metadata": {
        "id": "-5TYWzlxifXx",
        "colab_type": "text"
      },
      "source": [
        "**Question 2:** On average which project category received the highest pledged USD? (15 pt)"
      ]
    },
    {
      "cell_type": "code",
      "metadata": {
        "id": "PMYZplK9ifXy",
        "colab_type": "code",
        "colab": {}
      },
      "source": [
        ""
      ],
      "execution_count": 0,
      "outputs": []
    },
    {
      "cell_type": "markdown",
      "metadata": {
        "id": "O0sULSUlifX0",
        "colab_type": "text"
      },
      "source": [
        "**Question 3:** In which month is there the highest number of projects? (15 pt)"
      ]
    },
    {
      "cell_type": "code",
      "metadata": {
        "id": "EflUthvqifX1",
        "colab_type": "code",
        "colab": {}
      },
      "source": [
        ""
      ],
      "execution_count": 0,
      "outputs": []
    },
    {
      "cell_type": "markdown",
      "metadata": {
        "id": "jKZ19m4bifX3",
        "colab_type": "text"
      },
      "source": [
        "**Question 4 (for all):** Visualize your answer using matplotlib or seaborn (15pt)"
      ]
    },
    {
      "cell_type": "code",
      "metadata": {
        "id": "01gCsLrqifX3",
        "colab_type": "code",
        "colab": {}
      },
      "source": [
        ""
      ],
      "execution_count": 0,
      "outputs": []
    },
    {
      "cell_type": "markdown",
      "metadata": {
        "id": "PpjMJgB1ifX6",
        "colab_type": "text"
      },
      "source": [
        "## The Marvel Universe Social Network"
      ]
    },
    {
      "cell_type": "markdown",
      "metadata": {
        "id": "oVRgZuN5ifX6",
        "colab_type": "text"
      },
      "source": [
        "Using the [The Marvel Universe Social Network](https://www.kaggle.com/csanhueza/the-marvel-universe-social-network) and  Pandas, please answer one of following questions:"
      ]
    },
    {
      "cell_type": "markdown",
      "metadata": {
        "id": "E91-E4ufifX7",
        "colab_type": "text"
      },
      "source": [
        "**Question 1:** Write code which calculate the top-10 most friendly characters, i.e., characters with the \n",
        "    highest number of friends. Please use _hero_network.csv_ file (15pt). \n",
        "    \n",
        "**Note:** Not all the links in this dataset are symmetric."
      ]
    },
    {
      "cell_type": "code",
      "metadata": {
        "id": "gYIoTJNIifX8",
        "colab_type": "code",
        "colab": {}
      },
      "source": [
        ""
      ],
      "execution_count": 0,
      "outputs": []
    },
    {
      "cell_type": "markdown",
      "metadata": {
        "id": "EqcKzoUsifX-",
        "colab_type": "text"
      },
      "source": [
        "**Question 2:** Using Pandas and Networkx create a graph object of The Marvel Universe Social Network with the 150 most \"friendly\" characters (10pt).\n",
        "    The vertices in that graph need to be relative to the size of each character's number of links (also referred to as the vertex degree) (10pt).\n",
        "Please color each node in the graph according to character type according to data in the *nodes.csv* file (5pt)"
      ]
    },
    {
      "cell_type": "code",
      "metadata": {
        "id": "_4650rgeifX_",
        "colab_type": "code",
        "colab": {}
      },
      "source": [
        ""
      ],
      "execution_count": 0,
      "outputs": []
    },
    {
      "cell_type": "markdown",
      "metadata": {
        "id": "ELLg4egiifYA",
        "colab_type": "text"
      },
      "source": [
        "**Bonus:** Visualize the above network using [Cytoscape](https://cytoscape.org) or [Gephi](https://gephi.org) (10pt)"
      ]
    },
    {
      "cell_type": "code",
      "metadata": {
        "id": "TQvUWrqWifYB",
        "colab_type": "code",
        "colab": {}
      },
      "source": [
        ""
      ],
      "execution_count": 0,
      "outputs": []
    }
  ]
}