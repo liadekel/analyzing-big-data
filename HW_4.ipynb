{
  "nbformat": 4,
  "nbformat_minor": 0,
  "metadata": {
    "kernelspec": {
      "display_name": "Python 3",
      "language": "python",
      "name": "python3"
    },
    "language_info": {
      "codemirror_mode": {
        "name": "ipython",
        "version": 3
      },
      "file_extension": ".py",
      "mimetype": "text/x-python",
      "name": "python",
      "nbconvert_exporter": "python",
      "pygments_lexer": "ipython3",
      "version": "3.6.7"
    },
    "colab": {
      "name": "HW-4.ipynb",
      "provenance": [],
      "include_colab_link": true
    }
  },
  "cells": [
    {
      "cell_type": "markdown",
      "metadata": {
        "id": "view-in-github",
        "colab_type": "text"
      },
      "source": [
        "<a href=\"https://colab.research.google.com/github/liadekel/analyzing-big-data/blob/master/HW_4.ipynb\" target=\"_parent\"><img src=\"https://colab.research.google.com/assets/colab-badge.svg\" alt=\"Open In Colab\"/></a>"
      ]
    },
    {
      "cell_type": "markdown",
      "metadata": {
        "id": "yCmgortah1Iz",
        "colab_type": "text"
      },
      "source": [
        "# Homework Assignment 4\n",
        "### The Art of Analyzing Big Data - The Data Scientist’s Toolbox "
      ]
    },
    {
      "cell_type": "markdown",
      "metadata": {
        "id": "7A2wSKHih1I3",
        "colab_type": "text"
      },
      "source": [
        "## Reddit Networks\n",
        "Using the [Reddit networks dataset](http://dynamics.cs.washington.edu/nobackup/reddit/) select the subreddit of your favorite  TV show. Using the data of the selected subreddit, \n",
        "answer the following questions:"
      ]
    },
    {
      "cell_type": "markdown",
      "metadata": {
        "id": "1yz7w-sXh1I5",
        "colab_type": "text"
      },
      "source": [
        "**Task 1:** Calculate and visualize the degree distribution  of the vertices  in the network (15pt)"
      ]
    },
    {
      "cell_type": "code",
      "metadata": {
        "id": "PJe9yE6xh1I7",
        "colab_type": "code",
        "colab": {}
      },
      "source": [
        ""
      ],
      "execution_count": 0,
      "outputs": []
    },
    {
      "cell_type": "markdown",
      "metadata": {
        "id": "dL0vRMqQh1I-",
        "colab_type": "text"
      },
      "source": [
        "**Task 2:** Create a subgraph of the top-40 users according to a selected centrality algorithm. Draw the subgraph using circlular layout (15pt)"
      ]
    },
    {
      "cell_type": "code",
      "metadata": {
        "id": "cNRkbMHQh1I_",
        "colab_type": "code",
        "colab": {}
      },
      "source": [
        ""
      ],
      "execution_count": 0,
      "outputs": []
    },
    {
      "cell_type": "markdown",
      "metadata": {
        "id": "QFNABWiwh1JC",
        "colab_type": "text"
      },
      "source": [
        "**Task 3:** Calculate the degree, triangles, and average shortest path of each vertex in the graph (15pt)"
      ]
    },
    {
      "cell_type": "code",
      "metadata": {
        "id": "xrFVZbxlh1JD",
        "colab_type": "code",
        "colab": {}
      },
      "source": [
        ""
      ],
      "execution_count": 0,
      "outputs": []
    },
    {
      "cell_type": "markdown",
      "metadata": {
        "id": "U6_x3mtlh1JG",
        "colab_type": "text"
      },
      "source": [
        "**Task 4:** Use Cytoscape and Gephi to visualize the network, where each vertex size is correlates to its degree (15pt)"
      ]
    },
    {
      "cell_type": "code",
      "metadata": {
        "id": "0QgVAODRh1JH",
        "colab_type": "code",
        "colab": {}
      },
      "source": [
        ""
      ],
      "execution_count": 0,
      "outputs": []
    },
    {
      "cell_type": "markdown",
      "metadata": {
        "id": "_xLZjqPDh1JL",
        "colab_type": "text"
      },
      "source": [
        "**Task 5:** Write a function that for a given vertex creates a subgraph of the selected vertex and all the vertex's in/out friends (10pt).\n",
        "Draw the subgraph (5pt). Calculate the number of edges in the subgraph (5pt)"
      ]
    },
    {
      "cell_type": "code",
      "metadata": {
        "id": "KvocVBDeh1JM",
        "colab_type": "code",
        "colab": {}
      },
      "source": [
        ""
      ],
      "execution_count": 0,
      "outputs": []
    },
    {
      "cell_type": "markdown",
      "metadata": {
        "id": "Al5dMlGJh1JP",
        "colab_type": "text"
      },
      "source": [
        "**Task 6:** Find the top-10 most centeral players at [The Free Internet Chess Sever](http://dynamics.cs.washington.edu/nobackup/chess/fcis.tar.gz) (15 pt). Visualize part of the network (5pt).\n",
        "    \n",
        "**Note:** The network has 429,747,476 edges"
      ]
    },
    {
      "cell_type": "code",
      "metadata": {
        "id": "FIzUbrRch1JQ",
        "colab_type": "code",
        "colab": {}
      },
      "source": [
        ""
      ],
      "execution_count": 0,
      "outputs": []
    },
    {
      "cell_type": "markdown",
      "metadata": {
        "id": "bbFabMLTh1JS",
        "colab_type": "text"
      },
      "source": [
        "**Task 7:** Use Cytoscape to draw the Lord of the Rings Couples network (see Lecture 2).\n",
        "Fill the network's vertices in a different color according to the gender.\n",
        "Select each vertex shape to be according to the vertex race. (7pt)"
      ]
    },
    {
      "cell_type": "code",
      "metadata": {
        "id": "SJjpZznsh1JT",
        "colab_type": "code",
        "colab": {}
      },
      "source": [
        ""
      ],
      "execution_count": 0,
      "outputs": []
    },
    {
      "cell_type": "markdown",
      "metadata": {
        "id": "yZkceWDCh1JV",
        "colab_type": "text"
      },
      "source": [
        "### Additional Questions for Practice"
      ]
    },
    {
      "cell_type": "markdown",
      "metadata": {
        "id": "iDH4cYwFh1JW",
        "colab_type": "text"
      },
      "source": [
        "**Task 1:** Visualize the distribution of the network's strongly and weakly connected components."
      ]
    },
    {
      "cell_type": "code",
      "metadata": {
        "id": "3y8_gXHhh1JW",
        "colab_type": "code",
        "colab": {}
      },
      "source": [
        ""
      ],
      "execution_count": 0,
      "outputs": []
    },
    {
      "cell_type": "markdown",
      "metadata": {
        "id": "H4ndNxk9h1JZ",
        "colab_type": "text"
      },
      "source": [
        "**Task 2:** Using Cytoscape, visualize the network's maximal strongly connected component (or part of it)"
      ]
    },
    {
      "cell_type": "code",
      "metadata": {
        "id": "SsMG9zLDh1Ja",
        "colab_type": "code",
        "colab": {}
      },
      "source": [
        ""
      ],
      "execution_count": 0,
      "outputs": []
    },
    {
      "cell_type": "markdown",
      "metadata": {
        "id": "fxQMNlC8h1Jc",
        "colab_type": "text"
      },
      "source": [
        "**Task 3:** Draw a subgraph of all the vertices that have at least one reciprocal link, i.e., all the vertices where there is at least one vertex _u_ so that both links (u,v) and (v,u) exists"
      ]
    },
    {
      "cell_type": "code",
      "metadata": {
        "id": "olXHKSyTh1Jc",
        "colab_type": "code",
        "colab": {}
      },
      "source": [
        ""
      ],
      "execution_count": 0,
      "outputs": []
    },
    {
      "cell_type": "markdown",
      "metadata": {
        "id": "RTdqzReMh1Je",
        "colab_type": "text"
      },
      "source": [
        "**Task 4:** Split the network into communities, and find the second most central vertex in each community\n",
        "    "
      ]
    },
    {
      "cell_type": "code",
      "metadata": {
        "id": "fQMV_Adfh1Je",
        "colab_type": "code",
        "colab": {}
      },
      "source": [
        ""
      ],
      "execution_count": 0,
      "outputs": []
    },
    {
      "cell_type": "markdown",
      "metadata": {
        "id": "6BYt52YRh1Jg",
        "colab_type": "text"
      },
      "source": [
        "**Task 5:** Find the top-10 most central players at [The Free Internet Chess Server](http://dynamics.cs.washington.edu/nobackup/chess/fcis.tar.gz).\n",
        "    Visualize part of the network.\n",
        "    \n",
        "**Note:** The network has 429,747,476 edges"
      ]
    },
    {
      "cell_type": "code",
      "metadata": {
        "id": "Hx1az7w0h1Jg",
        "colab_type": "code",
        "colab": {}
      },
      "source": [
        ""
      ],
      "execution_count": 0,
      "outputs": []
    }
  ]
}