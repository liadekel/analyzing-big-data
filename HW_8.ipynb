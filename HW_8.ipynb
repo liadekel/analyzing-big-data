{
  "nbformat": 4,
  "nbformat_minor": 0,
  "metadata": {
    "kernelspec": {
      "display_name": "Python 3",
      "language": "python",
      "name": "python3"
    },
    "language_info": {
      "codemirror_mode": {
        "name": "ipython",
        "version": 3
      },
      "file_extension": ".py",
      "mimetype": "text/x-python",
      "name": "python",
      "nbconvert_exporter": "python",
      "pygments_lexer": "ipython3",
      "version": "3.6.7"
    },
    "colab": {
      "name": "HW - 8.ipynb",
      "provenance": [],
      "include_colab_link": true
    }
  },
  "cells": [
    {
      "cell_type": "markdown",
      "metadata": {
        "id": "view-in-github",
        "colab_type": "text"
      },
      "source": [
        "<a href=\"https://colab.research.google.com/github/liadekel/analyzing-big-data/blob/master/HW_8.ipynb\" target=\"_parent\"><img src=\"https://colab.research.google.com/assets/colab-badge.svg\" alt=\"Open In Colab\"/></a>"
      ]
    },
    {
      "cell_type": "markdown",
      "metadata": {
        "id": "bBKjZ_nGga-j",
        "colab_type": "text"
      },
      "source": [
        "# Homework Assignment 8"
      ]
    },
    {
      "cell_type": "markdown",
      "metadata": {
        "id": "tUZhxDFega-l",
        "colab_type": "text"
      },
      "source": [
        "**Question 1:** Select a book or a movie's subtitle, and find the locations that appear in the book/movie. Then, draw these locations on a map (at least 10 locations) (30pt). Connect the discovered locations with lines according to their order of appearance\n",
        "in the book. For example, if location B appeared immediately after location A, then draw a line connecting locations A and B (20pt)."
      ]
    },
    {
      "cell_type": "code",
      "metadata": {
        "id": "qO-j_y6Jga-n",
        "colab_type": "code",
        "colab": {}
      },
      "source": [
        ""
      ],
      "execution_count": 0,
      "outputs": []
    },
    {
      "cell_type": "markdown",
      "metadata": {
        "id": "QsS4Yn5Vga-r",
        "colab_type": "text"
      },
      "source": [
        "**Question 2:** Select a country's' statistic from the [World Development Indicators dataset](https://www.kaggle.com/worldbank/world-development-indicators) (Please notice there are several files in the dataset, such as _Indicators.csv_).\n",
        "Then, create a choropleth map displaying how the selected statistics changed over time (15pt) \n",
        "    \n",
        "**Bonus:** Create a short animation that displays how the chosen statistics changed over time (15pt)"
      ]
    },
    {
      "cell_type": "code",
      "metadata": {
        "id": "8_JobcSKga-s",
        "colab_type": "code",
        "colab": {}
      },
      "source": [
        ""
      ],
      "execution_count": 0,
      "outputs": []
    },
    {
      "cell_type": "markdown",
      "metadata": {
        "id": "FvB7EWgQga-w",
        "colab_type": "text"
      },
      "source": [
        "**Question 3:** Select a request type from [San Francisco 311 dataset](https://www.kaggle.com/datasf/case-data-from-san-francisco-311).\n",
        "Create an interactive map that somehow presents in which areas this request occurs the most (35pt)."
      ]
    },
    {
      "cell_type": "code",
      "metadata": {
        "id": "z-0cjw0Uga-w",
        "colab_type": "code",
        "colab": {}
      },
      "source": [
        ""
      ],
      "execution_count": 0,
      "outputs": []
    }
  ]
}