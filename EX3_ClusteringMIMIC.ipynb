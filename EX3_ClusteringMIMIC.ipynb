{
  "nbformat": 4,
  "nbformat_minor": 0,
  "metadata": {
    "colab": {
      "name": "EX3_ClusteringMIMIC.ipynb",
      "provenance": [],
      "collapsed_sections": [],
      "include_colab_link": true
    },
    "kernelspec": {
      "name": "python3",
      "display_name": "Python 3"
    }
  },
  "cells": [
    {
      "cell_type": "markdown",
      "metadata": {
        "id": "view-in-github",
        "colab_type": "text"
      },
      "source": [
        "<a href=\"https://colab.research.google.com/github/liadekel/analyzing-big-data/blob/master/EX3_ClusteringMIMIC.ipynb\" target=\"_parent\"><img src=\"https://colab.research.google.com/assets/colab-badge.svg\" alt=\"Open In Colab\"/></a>"
      ]
    },
    {
      "cell_type": "code",
      "metadata": {
        "id": "hMrNH6M7OcdZ",
        "colab_type": "code",
        "colab": {
          "base_uri": "https://localhost:8080/",
          "height": 71
        },
        "outputId": "cdb417c9-325e-40b1-d03c-e55e1545a936"
      },
      "source": [
        "from __future__ import print_function\n",
        "from google.colab import auth\n",
        "from google.cloud import bigquery\n",
        "import numpy as np\n",
        "import pandas as pd\n",
        "import seaborn as sns\n",
        "import matplotlib.pyplot as plt"
      ],
      "execution_count": 1,
      "outputs": [
        {
          "output_type": "stream",
          "text": [
            "/usr/local/lib/python3.6/dist-packages/statsmodels/tools/_testing.py:19: FutureWarning: pandas.util.testing is deprecated. Use the functions in the public API at pandas.testing instead.\n",
            "  import pandas.util.testing as tm\n"
          ],
          "name": "stderr"
        }
      ]
    },
    {
      "cell_type": "code",
      "metadata": {
        "id": "BtS5g56FhRTP",
        "colab_type": "code",
        "colab": {}
      },
      "source": [
        "auth.authenticate_user()"
      ],
      "execution_count": 10,
      "outputs": []
    },
    {
      "cell_type": "code",
      "metadata": {
        "id": "idfMs5v3hYqw",
        "colab_type": "code",
        "colab": {}
      },
      "source": [
        "import subprocess\n",
        "import re\n",
        "\n",
        "analysis_project = 'mimic-iii-71670'  #@param {type:\"string\"}\n",
        "\n",
        "admissions_table = 'physionet-data.mimiciii_clinical.admissions'  # @param {type: \"string\"}\n",
        "patients_table = 'physionet-data.mimiciii_clinical.patients'  # @param {type: \"string\"}\n",
        "labs_table = 'physionet-data.mimiciii_clinical.labevents'  # @param {type: \"string\"}\n",
        "d_labs_table = 'physionet-data.mimiciii_clinical.d_labitems'  # @param {type: \"string\"}\n",
        "d_icd_diagnoses_table = 'physionet-data.mimiciii_clinical.d_icd_diagnoses'  # @param {type: \"string\"}\n",
        "diagnoses_icd_table = 'physionet-data.mimiciii_clinical.diagnoses_icd'  # @param {type: \"string\"}\n",
        "\n",
        "# Preprocess queries made with the %%bigquery magic\n",
        "# by substituting these values\n",
        "sub_dict = {\n",
        "    'analysis_project': analysis_project,\n",
        "    'admissions_table': admissions_table,\n",
        "    'patients_table': patients_table,\n",
        "    'labs_table': labs_table,\n",
        "    'd_labs_table': d_labs_table,\n",
        "    'd_icd_diagnoses_table': d_icd_diagnoses_table,\n",
        "    'diagnoses_icd_table': diagnoses_icd_table,\n",
        "    'ml_table_prefix': analysis_project + '.MIMIC.models_'\n",
        "}\n",
        "\n",
        "# Set the default project for running queries\n",
        "bigquery.magics.context.project = analysis_project"
      ],
      "execution_count": 3,
      "outputs": []
    },
    {
      "cell_type": "code",
      "metadata": {
        "id": "shITgzlohcNA",
        "colab_type": "code",
        "colab": {
          "base_uri": "https://localhost:8080/",
          "height": 204
        },
        "outputId": "b342e0c6-6a42-498a-ed5d-ee3a15eceb74"
      },
      "source": [
        "# Set up the substitution preprocessing injection\n",
        "# if bigquery.magics._run_query.func_name != 'format_and_run_query':\n",
        "#   original_run_query = bigquery.magics._run_query\n",
        "original_run_query = bigquery.magics._run_query\n",
        "def format_and_run_query(client, query, job_config=None):\n",
        "  query = query.format(**sub_dict)\n",
        "  return original_run_query(client, query, job_config)\n",
        "\n",
        "bigquery.magics._run_query = format_and_run_query\n",
        "\n",
        "print('analysis_project:', analysis_project)\n",
        "print()\n",
        "print('custom %%bigquery magic substitutions:')\n",
        "for k, v in sub_dict.items():\n",
        "  print(' ', '{%s}' % k, '→', v)"
      ],
      "execution_count": 4,
      "outputs": [
        {
          "output_type": "stream",
          "text": [
            "analysis_project: mimic-iii-71670\n",
            "\n",
            "custom %%bigquery magic substitutions:\n",
            "  {analysis_project} → mimic-iii-71670\n",
            "  {admissions_table} → physionet-data.mimiciii_clinical.admissions\n",
            "  {patients_table} → physionet-data.mimiciii_clinical.patients\n",
            "  {labs_table} → physionet-data.mimiciii_clinical.labevents\n",
            "  {d_labs_table} → physionet-data.mimiciii_clinical.d_labitems\n",
            "  {d_icd_diagnoses_table} → physionet-data.mimiciii_clinical.d_icd_diagnoses\n",
            "  {diagnoses_icd_table} → physionet-data.mimiciii_clinical.diagnoses_icd\n",
            "  {ml_table_prefix} → mimic-iii-71670.MIMIC.models_\n"
          ],
          "name": "stdout"
        }
      ]
    },
    {
      "cell_type": "code",
      "metadata": {
        "id": "Vql8Pivfhf4s",
        "colab_type": "code",
        "colab": {}
      },
      "source": [
        "%config InlineBackend.figure_format = 'svg'"
      ],
      "execution_count": 5,
      "outputs": []
    },
    {
      "cell_type": "code",
      "metadata": {
        "id": "vA-iI11mhhdU",
        "colab_type": "code",
        "colab": {}
      },
      "source": [
        "bq = bigquery.Client(project=analysis_project)"
      ],
      "execution_count": 6,
      "outputs": []
    },
    {
      "cell_type": "code",
      "metadata": {
        "id": "tbYzn6lChi9i",
        "colab_type": "code",
        "colab": {
          "base_uri": "https://localhost:8080/",
          "height": 35
        },
        "outputId": "a7460f2e-f4dd-4bc8-9263-9cf0dfea1789"
      },
      "source": [
        "bq.project"
      ],
      "execution_count": 7,
      "outputs": [
        {
          "output_type": "execute_result",
          "data": {
            "application/vnd.google.colaboratory.intrinsic": {
              "type": "string"
            },
            "text/plain": [
              "'mimic-iii-71670'"
            ]
          },
          "metadata": {
            "tags": []
          },
          "execution_count": 7
        }
      ]
    },
    {
      "cell_type": "code",
      "metadata": {
        "id": "yV5AsG-ThlyU",
        "colab_type": "code",
        "colab": {}
      },
      "source": [
        "if 'MIMIC' not in [d.dataset_id for d in list(bq.list_datasets())]:\n",
        "  dataset_id = \"{}.MIMIC\".format(bq.project)\n",
        "  # Construct a full Dataset object to send to the API.\n",
        "  # Send the dataset to the API for creation.\n",
        "  # Raises google.api_core.exceptions.Conflict if the Dataset already\n",
        "  # exists within the project.\n",
        "\n",
        "  dataset = bigquery.Dataset(dataset_id)\n",
        "  dataset = bq.create_dataset(dataset)  # Make an API request."
      ],
      "execution_count": null,
      "outputs": []
    },
    {
      "cell_type": "markdown",
      "metadata": {
        "id": "AyRAo2Crm5jn",
        "colab_type": "text"
      },
      "source": [
        "Create `KMEANS` model:"
      ]
    },
    {
      "cell_type": "code",
      "metadata": {
        "id": "sHrNrC7aw9jD",
        "colab_type": "code",
        "colab": {
          "base_uri": "https://localhost:8080/",
          "height": 51
        },
        "outputId": "8dc8793a-57d3-481c-8d4b-766d5d0b3b4c"
      },
      "source": [
        "%%bigquery df \n",
        "CREATE OR REPLACE MODEL `{ml_table_prefix}las_kmeans_clustering`\n",
        "OPTIONS(\n",
        "model_type='kmeans', kmeans_init_method='KMEANS++',\n",
        "num_clusters=4, standardize_features=true\n",
        ")\n",
        "AS\n",
        "SELECT\n",
        "  HADM_ID,\n",
        "  ADMITTIME,\n",
        "  CHARTTIME,\n",
        "  ETHNICITY,\n",
        "  ITEMID,\n",
        "  GENDER,\n",
        "  INSURANCE,\n",
        "  ADMISSION_LOCATION,\n",
        "  ADMISSION_TYPE,\n",
        "  MARITAL_STATUS,\n",
        "  # MIMIC3 sets all ages over 89 to 300 to avoid the possibility of\n",
        "  # identification.\n",
        "  IF(DATETIME_DIFF(ADMITTIME, DOB, DAY)/365.25 < 200,\n",
        "  DATETIME_DIFF(ADMITTIME, DOB, DAY)/365.25, 95) AS AGE,\n",
        "FROM\n",
        "    (`{admissions_table}` AS adm\n",
        "    INNER JOIN `{labs_table}` AS diag\n",
        "    USING (HADM_ID, SUBJECT_ID))\n",
        "    INNER JOIN `{patients_table}` AS patients\n",
        "    USING (SUBJECT_ID)\n",
        "WHERE DATETIME_DIFF(CHARTTIME, ADMITTIME,  MINUTE) >= 0 AND\n",
        "      DATETIME_DIFF(CHARTTIME, ADMITTIME, MINUTE) <= 60 "
      ],
      "execution_count": null,
      "outputs": [
        {
          "output_type": "stream",
          "text": [
            "Executing query with job ID: 428db36c-7711-42a0-97bc-5e6e62fb8939\n",
            "Query executing: 94.83s"
          ],
          "name": "stdout"
        }
      ]
    },
    {
      "cell_type": "code",
      "metadata": {
        "id": "9K0iBqHH1WiT",
        "colab_type": "code",
        "colab": {
          "base_uri": "https://localhost:8080/",
          "height": 419
        },
        "outputId": "c459b8d8-7a3f-417c-c955-368f322d2ea3"
      },
      "source": [
        ""
      ],
      "execution_count": 75,
      "outputs": [
        {
          "output_type": "execute_result",
          "data": {
            "text/html": [
              "<div>\n",
              "<style scoped>\n",
              "    .dataframe tbody tr th:only-of-type {\n",
              "        vertical-align: middle;\n",
              "    }\n",
              "\n",
              "    .dataframe tbody tr th {\n",
              "        vertical-align: top;\n",
              "    }\n",
              "\n",
              "    .dataframe thead th {\n",
              "        text-align: right;\n",
              "    }\n",
              "</style>\n",
              "<table border=\"1\" class=\"dataframe\">\n",
              "  <thead>\n",
              "    <tr style=\"text-align: right;\">\n",
              "      <th></th>\n",
              "      <th>HADM_ID</th>\n",
              "      <th>ADMITTIME</th>\n",
              "      <th>CHARTTIME</th>\n",
              "      <th>ETHNICITY</th>\n",
              "      <th>ITEMID</th>\n",
              "      <th>GENDER</th>\n",
              "      <th>INSURANCE</th>\n",
              "      <th>ADMISSION_LOCATION</th>\n",
              "      <th>ADMISSION_TYPE</th>\n",
              "      <th>MARITAL_STATUS</th>\n",
              "      <th>age</th>\n",
              "    </tr>\n",
              "  </thead>\n",
              "  <tbody>\n",
              "    <tr>\n",
              "      <th>0</th>\n",
              "      <td>107312</td>\n",
              "      <td>2125-10-23 16:31:00</td>\n",
              "      <td>2125-10-23 17:17:00</td>\n",
              "      <td>BLACK/AFRICAN AMERICAN</td>\n",
              "      <td>51491</td>\n",
              "      <td>F</td>\n",
              "      <td>Medicare</td>\n",
              "      <td>TRANSFER FROM OTHER HEALT</td>\n",
              "      <td>EMERGENCY</td>\n",
              "      <td>MARRIED</td>\n",
              "      <td>65.232033</td>\n",
              "    </tr>\n",
              "    <tr>\n",
              "      <th>7</th>\n",
              "      <td>107312</td>\n",
              "      <td>2125-10-23 16:31:00</td>\n",
              "      <td>2125-10-23 17:17:00</td>\n",
              "      <td>BLACK/AFRICAN AMERICAN</td>\n",
              "      <td>51097</td>\n",
              "      <td>F</td>\n",
              "      <td>Medicare</td>\n",
              "      <td>TRANSFER FROM OTHER HEALT</td>\n",
              "      <td>EMERGENCY</td>\n",
              "      <td>MARRIED</td>\n",
              "      <td>65.232033</td>\n",
              "    </tr>\n",
              "    <tr>\n",
              "      <th>29</th>\n",
              "      <td>107312</td>\n",
              "      <td>2125-10-23 16:31:00</td>\n",
              "      <td>2125-10-23 17:17:00</td>\n",
              "      <td>BLACK/AFRICAN AMERICAN</td>\n",
              "      <td>51221</td>\n",
              "      <td>F</td>\n",
              "      <td>Medicare</td>\n",
              "      <td>TRANSFER FROM OTHER HEALT</td>\n",
              "      <td>EMERGENCY</td>\n",
              "      <td>MARRIED</td>\n",
              "      <td>65.232033</td>\n",
              "    </tr>\n",
              "    <tr>\n",
              "      <th>55</th>\n",
              "      <td>107312</td>\n",
              "      <td>2125-10-23 16:31:00</td>\n",
              "      <td>2125-10-23 17:17:00</td>\n",
              "      <td>BLACK/AFRICAN AMERICAN</td>\n",
              "      <td>51248</td>\n",
              "      <td>F</td>\n",
              "      <td>Medicare</td>\n",
              "      <td>TRANSFER FROM OTHER HEALT</td>\n",
              "      <td>EMERGENCY</td>\n",
              "      <td>MARRIED</td>\n",
              "      <td>65.232033</td>\n",
              "    </tr>\n",
              "    <tr>\n",
              "      <th>106</th>\n",
              "      <td>107312</td>\n",
              "      <td>2125-10-23 16:31:00</td>\n",
              "      <td>2125-10-23 17:17:00</td>\n",
              "      <td>BLACK/AFRICAN AMERICAN</td>\n",
              "      <td>51279</td>\n",
              "      <td>F</td>\n",
              "      <td>Medicare</td>\n",
              "      <td>TRANSFER FROM OTHER HEALT</td>\n",
              "      <td>EMERGENCY</td>\n",
              "      <td>MARRIED</td>\n",
              "      <td>65.232033</td>\n",
              "    </tr>\n",
              "    <tr>\n",
              "      <th>...</th>\n",
              "      <td>...</td>\n",
              "      <td>...</td>\n",
              "      <td>...</td>\n",
              "      <td>...</td>\n",
              "      <td>...</td>\n",
              "      <td>...</td>\n",
              "      <td>...</td>\n",
              "      <td>...</td>\n",
              "      <td>...</td>\n",
              "      <td>...</td>\n",
              "      <td>...</td>\n",
              "    </tr>\n",
              "    <tr>\n",
              "      <th>2231</th>\n",
              "      <td>107312</td>\n",
              "      <td>2125-10-23 16:31:00</td>\n",
              "      <td>2125-10-23 17:17:00</td>\n",
              "      <td>BLACK/AFRICAN AMERICAN</td>\n",
              "      <td>50960</td>\n",
              "      <td>F</td>\n",
              "      <td>Medicare</td>\n",
              "      <td>TRANSFER FROM OTHER HEALT</td>\n",
              "      <td>EMERGENCY</td>\n",
              "      <td>MARRIED</td>\n",
              "      <td>65.232033</td>\n",
              "    </tr>\n",
              "    <tr>\n",
              "      <th>2371</th>\n",
              "      <td>107312</td>\n",
              "      <td>2125-10-23 16:31:00</td>\n",
              "      <td>2125-10-23 17:17:00</td>\n",
              "      <td>BLACK/AFRICAN AMERICAN</td>\n",
              "      <td>51493</td>\n",
              "      <td>F</td>\n",
              "      <td>Medicare</td>\n",
              "      <td>TRANSFER FROM OTHER HEALT</td>\n",
              "      <td>EMERGENCY</td>\n",
              "      <td>MARRIED</td>\n",
              "      <td>65.232033</td>\n",
              "    </tr>\n",
              "    <tr>\n",
              "      <th>2405</th>\n",
              "      <td>107312</td>\n",
              "      <td>2125-10-23 16:31:00</td>\n",
              "      <td>2125-10-23 17:17:00</td>\n",
              "      <td>BLACK/AFRICAN AMERICAN</td>\n",
              "      <td>51200</td>\n",
              "      <td>F</td>\n",
              "      <td>Medicare</td>\n",
              "      <td>TRANSFER FROM OTHER HEALT</td>\n",
              "      <td>EMERGENCY</td>\n",
              "      <td>MARRIED</td>\n",
              "      <td>65.232033</td>\n",
              "    </tr>\n",
              "    <tr>\n",
              "      <th>2601</th>\n",
              "      <td>107312</td>\n",
              "      <td>2125-10-23 16:31:00</td>\n",
              "      <td>2125-10-23 17:17:00</td>\n",
              "      <td>BLACK/AFRICAN AMERICAN</td>\n",
              "      <td>51476</td>\n",
              "      <td>F</td>\n",
              "      <td>Medicare</td>\n",
              "      <td>TRANSFER FROM OTHER HEALT</td>\n",
              "      <td>EMERGENCY</td>\n",
              "      <td>MARRIED</td>\n",
              "      <td>65.232033</td>\n",
              "    </tr>\n",
              "    <tr>\n",
              "      <th>2656</th>\n",
              "      <td>107312</td>\n",
              "      <td>2125-10-23 16:31:00</td>\n",
              "      <td>2125-10-23 17:17:00</td>\n",
              "      <td>BLACK/AFRICAN AMERICAN</td>\n",
              "      <td>50970</td>\n",
              "      <td>F</td>\n",
              "      <td>Medicare</td>\n",
              "      <td>TRANSFER FROM OTHER HEALT</td>\n",
              "      <td>EMERGENCY</td>\n",
              "      <td>MARRIED</td>\n",
              "      <td>65.232033</td>\n",
              "    </tr>\n",
              "  </tbody>\n",
              "</table>\n",
              "<p>64 rows × 11 columns</p>\n",
              "</div>"
            ],
            "text/plain": [
              "      HADM_ID           ADMITTIME  ... MARITAL_STATUS        age\n",
              "0      107312 2125-10-23 16:31:00  ...        MARRIED  65.232033\n",
              "7      107312 2125-10-23 16:31:00  ...        MARRIED  65.232033\n",
              "29     107312 2125-10-23 16:31:00  ...        MARRIED  65.232033\n",
              "55     107312 2125-10-23 16:31:00  ...        MARRIED  65.232033\n",
              "106    107312 2125-10-23 16:31:00  ...        MARRIED  65.232033\n",
              "...       ...                 ...  ...            ...        ...\n",
              "2231   107312 2125-10-23 16:31:00  ...        MARRIED  65.232033\n",
              "2371   107312 2125-10-23 16:31:00  ...        MARRIED  65.232033\n",
              "2405   107312 2125-10-23 16:31:00  ...        MARRIED  65.232033\n",
              "2601   107312 2125-10-23 16:31:00  ...        MARRIED  65.232033\n",
              "2656   107312 2125-10-23 16:31:00  ...        MARRIED  65.232033\n",
              "\n",
              "[64 rows x 11 columns]"
            ]
          },
          "metadata": {
            "tags": []
          },
          "execution_count": 75
        }
      ]
    },
    {
      "cell_type": "code",
      "metadata": {
        "id": "Z8Mk1LUCitQO",
        "colab_type": "code",
        "colab": {}
      },
      "source": [
        "%%bigquery comp_roc\n",
        "SELECT * FROM ML.ROC_CURVE(MODEL `{ml_table_prefix}lab_adm_mortality_models`)"
      ],
      "execution_count": null,
      "outputs": []
    },
    {
      "cell_type": "code",
      "metadata": {
        "id": "H69b5ytMQ1N9",
        "colab_type": "code",
        "colab": {}
      },
      "source": [
        "def set_precision(df):\n",
        "  df['precision'] = df.true_positives / (df.true_positives + df.false_positives)\n",
        "\n",
        "\n",
        "def plot_precision_recall(df, label=None):\n",
        "  # manually add the threshold = -∞ point\n",
        "  df = df[df.true_positives != 0]\n",
        "  recall = [0] + list(df.recall)\n",
        "  precision = [1] + list(df.precision)\n",
        "  # x=recall, y=precision line chart\n",
        "  plt.plot(recall, precision, label=label)"
      ],
      "execution_count": null,
      "outputs": []
    },
    {
      "cell_type": "code",
      "metadata": {
        "id": "V1mik_2pivQO",
        "colab_type": "code",
        "colab": {
          "base_uri": "https://localhost:8080/",
          "height": 403
        },
        "outputId": "781d8012-6b05-4c3c-db28-d630941ef9ee"
      },
      "source": [
        "set_precision(comp_roc)\n",
        "plot_precision_recall(comp_roc, label='univariate model')\n",
        "plt.plot(\n",
        "    np.linspace(0, 1, 2), [comp_roc.precision.min()] * 2,\n",
        "    label='null model',\n",
        "    linestyle='--')\n",
        "plt.legend()\n",
        "plt.xlim([0, 1])\n",
        "plt.ylim([0, 1])\n",
        "plt.xlabel(r'Recall $\\left(\\frac{T_p}{T_p + F_n} \\right)$')\n",
        "plt.ylabel(r'Precision $\\left(\\frac{T_p}{T_p + F_p} \\right)$')"
      ],
      "execution_count": null,
      "outputs": [
        {
          "output_type": "execute_result",
          "data": {
            "text/plain": [
              "Text(0, 0.5, 'Precision $\\\\left(\\\\frac{T_p}{T_p + F_p} \\\\right)$')"
            ]
          },
          "metadata": {
            "tags": []
          },
          "execution_count": 12
        },
        {
          "output_type": "display_data",
          "data": {
            "text/plain": [
              "<Figure size 432x288 with 1 Axes>"
            ],
            "image/svg+xml": "<?xml version=\"1.0\" encoding=\"utf-8\" standalone=\"no\"?>\n<!DOCTYPE svg PUBLIC \"-//W3C//DTD SVG 1.1//EN\"\n  \"http://www.w3.org/Graphics/SVG/1.1/DTD/svg11.dtd\">\n<!-- Created with matplotlib (https://matplotlib.org/) -->\n<svg height=\"274.117344pt\" version=\"1.1\" viewBox=\"0 0 401.854687 274.117344\" width=\"401.854687pt\" xmlns=\"http://www.w3.org/2000/svg\" xmlns:xlink=\"http://www.w3.org/1999/xlink\">\n <defs>\n  <style type=\"text/css\">\n*{stroke-linecap:butt;stroke-linejoin:round;}\n  </style>\n </defs>\n <g id=\"figure_1\">\n  <g id=\"patch_1\">\n   <path d=\"M 0 274.117344 \nL 401.854687 274.117344 \nL 401.854687 0 \nL 0 0 \nz\n\" style=\"fill:none;\"/>\n  </g>\n  <g id=\"axes_1\">\n   <g id=\"patch_2\">\n    <path d=\"M 51.903125 228.439219 \nL 386.703125 228.439219 \nL 386.703125 10.999219 \nL 51.903125 10.999219 \nz\n\" style=\"fill:#ffffff;\"/>\n   </g>\n   <g id=\"matplotlib.axis_1\">\n    <g id=\"xtick_1\">\n     <g id=\"line2d_1\">\n      <defs>\n       <path d=\"M 0 0 \nL 0 3.5 \n\" id=\"md2ad2fd407\" style=\"stroke:#000000;stroke-width:0.8;\"/>\n      </defs>\n      <g>\n       <use style=\"stroke:#000000;stroke-width:0.8;\" x=\"51.903125\" xlink:href=\"#md2ad2fd407\" y=\"228.439219\"/>\n      </g>\n     </g>\n     <g id=\"text_1\">\n      <!-- 0.0 -->\n      <defs>\n       <path d=\"M 31.78125 66.40625 \nQ 24.171875 66.40625 20.328125 58.90625 \nQ 16.5 51.421875 16.5 36.375 \nQ 16.5 21.390625 20.328125 13.890625 \nQ 24.171875 6.390625 31.78125 6.390625 \nQ 39.453125 6.390625 43.28125 13.890625 \nQ 47.125 21.390625 47.125 36.375 \nQ 47.125 51.421875 43.28125 58.90625 \nQ 39.453125 66.40625 31.78125 66.40625 \nz\nM 31.78125 74.21875 \nQ 44.046875 74.21875 50.515625 64.515625 \nQ 56.984375 54.828125 56.984375 36.375 \nQ 56.984375 17.96875 50.515625 8.265625 \nQ 44.046875 -1.421875 31.78125 -1.421875 \nQ 19.53125 -1.421875 13.0625 8.265625 \nQ 6.59375 17.96875 6.59375 36.375 \nQ 6.59375 54.828125 13.0625 64.515625 \nQ 19.53125 74.21875 31.78125 74.21875 \nz\n\" id=\"DejaVuSans-48\"/>\n       <path d=\"M 10.6875 12.40625 \nL 21 12.40625 \nL 21 0 \nL 10.6875 0 \nz\n\" id=\"DejaVuSans-46\"/>\n      </defs>\n      <g transform=\"translate(43.951563 243.037656)scale(0.1 -0.1)\">\n       <use xlink:href=\"#DejaVuSans-48\"/>\n       <use x=\"63.623047\" xlink:href=\"#DejaVuSans-46\"/>\n       <use x=\"95.410156\" xlink:href=\"#DejaVuSans-48\"/>\n      </g>\n     </g>\n    </g>\n    <g id=\"xtick_2\">\n     <g id=\"line2d_2\">\n      <g>\n       <use style=\"stroke:#000000;stroke-width:0.8;\" x=\"118.863125\" xlink:href=\"#md2ad2fd407\" y=\"228.439219\"/>\n      </g>\n     </g>\n     <g id=\"text_2\">\n      <!-- 0.2 -->\n      <defs>\n       <path d=\"M 19.1875 8.296875 \nL 53.609375 8.296875 \nL 53.609375 0 \nL 7.328125 0 \nL 7.328125 8.296875 \nQ 12.9375 14.109375 22.625 23.890625 \nQ 32.328125 33.6875 34.8125 36.53125 \nQ 39.546875 41.84375 41.421875 45.53125 \nQ 43.3125 49.21875 43.3125 52.78125 \nQ 43.3125 58.59375 39.234375 62.25 \nQ 35.15625 65.921875 28.609375 65.921875 \nQ 23.96875 65.921875 18.8125 64.3125 \nQ 13.671875 62.703125 7.8125 59.421875 \nL 7.8125 69.390625 \nQ 13.765625 71.78125 18.9375 73 \nQ 24.125 74.21875 28.421875 74.21875 \nQ 39.75 74.21875 46.484375 68.546875 \nQ 53.21875 62.890625 53.21875 53.421875 \nQ 53.21875 48.921875 51.53125 44.890625 \nQ 49.859375 40.875 45.40625 35.40625 \nQ 44.1875 33.984375 37.640625 27.21875 \nQ 31.109375 20.453125 19.1875 8.296875 \nz\n\" id=\"DejaVuSans-50\"/>\n      </defs>\n      <g transform=\"translate(110.911563 243.037656)scale(0.1 -0.1)\">\n       <use xlink:href=\"#DejaVuSans-48\"/>\n       <use x=\"63.623047\" xlink:href=\"#DejaVuSans-46\"/>\n       <use x=\"95.410156\" xlink:href=\"#DejaVuSans-50\"/>\n      </g>\n     </g>\n    </g>\n    <g id=\"xtick_3\">\n     <g id=\"line2d_3\">\n      <g>\n       <use style=\"stroke:#000000;stroke-width:0.8;\" x=\"185.823125\" xlink:href=\"#md2ad2fd407\" y=\"228.439219\"/>\n      </g>\n     </g>\n     <g id=\"text_3\">\n      <!-- 0.4 -->\n      <defs>\n       <path d=\"M 37.796875 64.3125 \nL 12.890625 25.390625 \nL 37.796875 25.390625 \nz\nM 35.203125 72.90625 \nL 47.609375 72.90625 \nL 47.609375 25.390625 \nL 58.015625 25.390625 \nL 58.015625 17.1875 \nL 47.609375 17.1875 \nL 47.609375 0 \nL 37.796875 0 \nL 37.796875 17.1875 \nL 4.890625 17.1875 \nL 4.890625 26.703125 \nz\n\" id=\"DejaVuSans-52\"/>\n      </defs>\n      <g transform=\"translate(177.871563 243.037656)scale(0.1 -0.1)\">\n       <use xlink:href=\"#DejaVuSans-48\"/>\n       <use x=\"63.623047\" xlink:href=\"#DejaVuSans-46\"/>\n       <use x=\"95.410156\" xlink:href=\"#DejaVuSans-52\"/>\n      </g>\n     </g>\n    </g>\n    <g id=\"xtick_4\">\n     <g id=\"line2d_4\">\n      <g>\n       <use style=\"stroke:#000000;stroke-width:0.8;\" x=\"252.783125\" xlink:href=\"#md2ad2fd407\" y=\"228.439219\"/>\n      </g>\n     </g>\n     <g id=\"text_4\">\n      <!-- 0.6 -->\n      <defs>\n       <path d=\"M 33.015625 40.375 \nQ 26.375 40.375 22.484375 35.828125 \nQ 18.609375 31.296875 18.609375 23.390625 \nQ 18.609375 15.53125 22.484375 10.953125 \nQ 26.375 6.390625 33.015625 6.390625 \nQ 39.65625 6.390625 43.53125 10.953125 \nQ 47.40625 15.53125 47.40625 23.390625 \nQ 47.40625 31.296875 43.53125 35.828125 \nQ 39.65625 40.375 33.015625 40.375 \nz\nM 52.59375 71.296875 \nL 52.59375 62.3125 \nQ 48.875 64.0625 45.09375 64.984375 \nQ 41.3125 65.921875 37.59375 65.921875 \nQ 27.828125 65.921875 22.671875 59.328125 \nQ 17.53125 52.734375 16.796875 39.40625 \nQ 19.671875 43.65625 24.015625 45.921875 \nQ 28.375 48.1875 33.59375 48.1875 \nQ 44.578125 48.1875 50.953125 41.515625 \nQ 57.328125 34.859375 57.328125 23.390625 \nQ 57.328125 12.15625 50.6875 5.359375 \nQ 44.046875 -1.421875 33.015625 -1.421875 \nQ 20.359375 -1.421875 13.671875 8.265625 \nQ 6.984375 17.96875 6.984375 36.375 \nQ 6.984375 53.65625 15.1875 63.9375 \nQ 23.390625 74.21875 37.203125 74.21875 \nQ 40.921875 74.21875 44.703125 73.484375 \nQ 48.484375 72.75 52.59375 71.296875 \nz\n\" id=\"DejaVuSans-54\"/>\n      </defs>\n      <g transform=\"translate(244.831563 243.037656)scale(0.1 -0.1)\">\n       <use xlink:href=\"#DejaVuSans-48\"/>\n       <use x=\"63.623047\" xlink:href=\"#DejaVuSans-46\"/>\n       <use x=\"95.410156\" xlink:href=\"#DejaVuSans-54\"/>\n      </g>\n     </g>\n    </g>\n    <g id=\"xtick_5\">\n     <g id=\"line2d_5\">\n      <g>\n       <use style=\"stroke:#000000;stroke-width:0.8;\" x=\"319.743125\" xlink:href=\"#md2ad2fd407\" y=\"228.439219\"/>\n      </g>\n     </g>\n     <g id=\"text_5\">\n      <!-- 0.8 -->\n      <defs>\n       <path d=\"M 31.78125 34.625 \nQ 24.75 34.625 20.71875 30.859375 \nQ 16.703125 27.09375 16.703125 20.515625 \nQ 16.703125 13.921875 20.71875 10.15625 \nQ 24.75 6.390625 31.78125 6.390625 \nQ 38.8125 6.390625 42.859375 10.171875 \nQ 46.921875 13.96875 46.921875 20.515625 \nQ 46.921875 27.09375 42.890625 30.859375 \nQ 38.875 34.625 31.78125 34.625 \nz\nM 21.921875 38.8125 \nQ 15.578125 40.375 12.03125 44.71875 \nQ 8.5 49.078125 8.5 55.328125 \nQ 8.5 64.0625 14.71875 69.140625 \nQ 20.953125 74.21875 31.78125 74.21875 \nQ 42.671875 74.21875 48.875 69.140625 \nQ 55.078125 64.0625 55.078125 55.328125 \nQ 55.078125 49.078125 51.53125 44.71875 \nQ 48 40.375 41.703125 38.8125 \nQ 48.828125 37.15625 52.796875 32.3125 \nQ 56.78125 27.484375 56.78125 20.515625 \nQ 56.78125 9.90625 50.3125 4.234375 \nQ 43.84375 -1.421875 31.78125 -1.421875 \nQ 19.734375 -1.421875 13.25 4.234375 \nQ 6.78125 9.90625 6.78125 20.515625 \nQ 6.78125 27.484375 10.78125 32.3125 \nQ 14.796875 37.15625 21.921875 38.8125 \nz\nM 18.3125 54.390625 \nQ 18.3125 48.734375 21.84375 45.5625 \nQ 25.390625 42.390625 31.78125 42.390625 \nQ 38.140625 42.390625 41.71875 45.5625 \nQ 45.3125 48.734375 45.3125 54.390625 \nQ 45.3125 60.0625 41.71875 63.234375 \nQ 38.140625 66.40625 31.78125 66.40625 \nQ 25.390625 66.40625 21.84375 63.234375 \nQ 18.3125 60.0625 18.3125 54.390625 \nz\n\" id=\"DejaVuSans-56\"/>\n      </defs>\n      <g transform=\"translate(311.791562 243.037656)scale(0.1 -0.1)\">\n       <use xlink:href=\"#DejaVuSans-48\"/>\n       <use x=\"63.623047\" xlink:href=\"#DejaVuSans-46\"/>\n       <use x=\"95.410156\" xlink:href=\"#DejaVuSans-56\"/>\n      </g>\n     </g>\n    </g>\n    <g id=\"xtick_6\">\n     <g id=\"line2d_6\">\n      <g>\n       <use style=\"stroke:#000000;stroke-width:0.8;\" x=\"386.703125\" xlink:href=\"#md2ad2fd407\" y=\"228.439219\"/>\n      </g>\n     </g>\n     <g id=\"text_6\">\n      <!-- 1.0 -->\n      <defs>\n       <path d=\"M 12.40625 8.296875 \nL 28.515625 8.296875 \nL 28.515625 63.921875 \nL 10.984375 60.40625 \nL 10.984375 69.390625 \nL 28.421875 72.90625 \nL 38.28125 72.90625 \nL 38.28125 8.296875 \nL 54.390625 8.296875 \nL 54.390625 0 \nL 12.40625 0 \nz\n\" id=\"DejaVuSans-49\"/>\n      </defs>\n      <g transform=\"translate(378.751562 243.037656)scale(0.1 -0.1)\">\n       <use xlink:href=\"#DejaVuSans-49\"/>\n       <use x=\"63.623047\" xlink:href=\"#DejaVuSans-46\"/>\n       <use x=\"95.410156\" xlink:href=\"#DejaVuSans-48\"/>\n      </g>\n     </g>\n    </g>\n    <g id=\"text_7\">\n     <!-- Recall $\\left(\\frac{T_p}{T_p + F_n} \\right)$ -->\n     <defs>\n      <path d=\"M 44.390625 34.1875 \nQ 47.5625 33.109375 50.5625 29.59375 \nQ 53.5625 26.078125 56.59375 19.921875 \nL 66.609375 0 \nL 56 0 \nL 46.6875 18.703125 \nQ 43.0625 26.03125 39.671875 28.421875 \nQ 36.28125 30.8125 30.421875 30.8125 \nL 19.671875 30.8125 \nL 19.671875 0 \nL 9.8125 0 \nL 9.8125 72.90625 \nL 32.078125 72.90625 \nQ 44.578125 72.90625 50.734375 67.671875 \nQ 56.890625 62.453125 56.890625 51.90625 \nQ 56.890625 45.015625 53.6875 40.46875 \nQ 50.484375 35.9375 44.390625 34.1875 \nz\nM 19.671875 64.796875 \nL 19.671875 38.921875 \nL 32.078125 38.921875 \nQ 39.203125 38.921875 42.84375 42.21875 \nQ 46.484375 45.515625 46.484375 51.90625 \nQ 46.484375 58.296875 42.84375 61.546875 \nQ 39.203125 64.796875 32.078125 64.796875 \nz\n\" id=\"DejaVuSans-82\"/>\n      <path d=\"M 56.203125 29.59375 \nL 56.203125 25.203125 \nL 14.890625 25.203125 \nQ 15.484375 15.921875 20.484375 11.0625 \nQ 25.484375 6.203125 34.421875 6.203125 \nQ 39.59375 6.203125 44.453125 7.46875 \nQ 49.3125 8.734375 54.109375 11.28125 \nL 54.109375 2.78125 \nQ 49.265625 0.734375 44.1875 -0.34375 \nQ 39.109375 -1.421875 33.890625 -1.421875 \nQ 20.796875 -1.421875 13.15625 6.1875 \nQ 5.515625 13.8125 5.515625 26.8125 \nQ 5.515625 40.234375 12.765625 48.109375 \nQ 20.015625 56 32.328125 56 \nQ 43.359375 56 49.78125 48.890625 \nQ 56.203125 41.796875 56.203125 29.59375 \nz\nM 47.21875 32.234375 \nQ 47.125 39.59375 43.09375 43.984375 \nQ 39.0625 48.390625 32.421875 48.390625 \nQ 24.90625 48.390625 20.390625 44.140625 \nQ 15.875 39.890625 15.1875 32.171875 \nz\n\" id=\"DejaVuSans-101\"/>\n      <path d=\"M 48.78125 52.59375 \nL 48.78125 44.1875 \nQ 44.96875 46.296875 41.140625 47.34375 \nQ 37.3125 48.390625 33.40625 48.390625 \nQ 24.65625 48.390625 19.8125 42.84375 \nQ 14.984375 37.3125 14.984375 27.296875 \nQ 14.984375 17.28125 19.8125 11.734375 \nQ 24.65625 6.203125 33.40625 6.203125 \nQ 37.3125 6.203125 41.140625 7.25 \nQ 44.96875 8.296875 48.78125 10.40625 \nL 48.78125 2.09375 \nQ 45.015625 0.34375 40.984375 -0.53125 \nQ 36.96875 -1.421875 32.421875 -1.421875 \nQ 20.0625 -1.421875 12.78125 6.34375 \nQ 5.515625 14.109375 5.515625 27.296875 \nQ 5.515625 40.671875 12.859375 48.328125 \nQ 20.21875 56 33.015625 56 \nQ 37.15625 56 41.109375 55.140625 \nQ 45.0625 54.296875 48.78125 52.59375 \nz\n\" id=\"DejaVuSans-99\"/>\n      <path d=\"M 34.28125 27.484375 \nQ 23.390625 27.484375 19.1875 25 \nQ 14.984375 22.515625 14.984375 16.5 \nQ 14.984375 11.71875 18.140625 8.90625 \nQ 21.296875 6.109375 26.703125 6.109375 \nQ 34.1875 6.109375 38.703125 11.40625 \nQ 43.21875 16.703125 43.21875 25.484375 \nL 43.21875 27.484375 \nz\nM 52.203125 31.203125 \nL 52.203125 0 \nL 43.21875 0 \nL 43.21875 8.296875 \nQ 40.140625 3.328125 35.546875 0.953125 \nQ 30.953125 -1.421875 24.3125 -1.421875 \nQ 15.921875 -1.421875 10.953125 3.296875 \nQ 6 8.015625 6 15.921875 \nQ 6 25.140625 12.171875 29.828125 \nQ 18.359375 34.515625 30.609375 34.515625 \nL 43.21875 34.515625 \nL 43.21875 35.40625 \nQ 43.21875 41.609375 39.140625 45 \nQ 35.0625 48.390625 27.6875 48.390625 \nQ 23 48.390625 18.546875 47.265625 \nQ 14.109375 46.140625 10.015625 43.890625 \nL 10.015625 52.203125 \nQ 14.9375 54.109375 19.578125 55.046875 \nQ 24.21875 56 28.609375 56 \nQ 40.484375 56 46.34375 49.84375 \nQ 52.203125 43.703125 52.203125 31.203125 \nz\n\" id=\"DejaVuSans-97\"/>\n      <path d=\"M 9.421875 75.984375 \nL 18.40625 75.984375 \nL 18.40625 0 \nL 9.421875 0 \nz\n\" id=\"DejaVuSans-108\"/>\n      <path id=\"DejaVuSans-32\"/>\n      <path d=\"M 50.296875 -24.296875 \nL 50.296875 -27.90625 \nQ 33.5 -12.09375 23.703125 11.40625 \nQ 13.90625 34.90625 13.90625 64.296875 \nQ 13.90625 93.796875 23.953125 118.640625 \nQ 34 143.5 50.296875 156.59375 \nL 50.296875 153.296875 \nQ 38.90625 141.59375 31.15625 118.84375 \nQ 23.40625 96.09375 23.40625 64.296875 \nQ 23.40625 8.796875 50.296875 -24.296875 \nz\n\" id=\"STIXSizeTwoSym-Regular-40\"/>\n      <path d=\"M 5.90625 72.90625 \nL 67.578125 72.90625 \nL 66.015625 64.59375 \nL 39.984375 64.59375 \nL 27.484375 0 \nL 17.578125 0 \nL 30.078125 64.59375 \nL 4.296875 64.59375 \nz\n\" id=\"DejaVuSans-Oblique-84\"/>\n      <path d=\"M 49.609375 33.6875 \nQ 49.609375 40.875 46.484375 44.671875 \nQ 43.359375 48.484375 37.5 48.484375 \nQ 33.5 48.484375 29.859375 46.4375 \nQ 26.21875 44.390625 23.390625 40.484375 \nQ 20.609375 36.625 18.9375 31.15625 \nQ 17.28125 25.6875 17.28125 20.3125 \nQ 17.28125 13.484375 20.40625 9.796875 \nQ 23.53125 6.109375 29.296875 6.109375 \nQ 33.546875 6.109375 37.1875 8.109375 \nQ 40.828125 10.109375 43.40625 13.921875 \nQ 46.1875 17.921875 47.890625 23.34375 \nQ 49.609375 28.765625 49.609375 33.6875 \nz\nM 21.78125 46.390625 \nQ 25.390625 51.125 30.296875 53.5625 \nQ 35.203125 56 41.21875 56 \nQ 49.609375 56 54.25 50.5 \nQ 58.890625 45.015625 58.890625 35.109375 \nQ 58.890625 27 56 19.65625 \nQ 53.125 12.3125 47.703125 6.5 \nQ 44.09375 2.640625 39.546875 0.609375 \nQ 35.015625 -1.421875 29.984375 -1.421875 \nQ 24.171875 -1.421875 20.21875 1 \nQ 16.265625 3.421875 14.3125 8.203125 \nL 8.6875 -20.796875 \nL -0.296875 -20.796875 \nL 14.40625 54.6875 \nL 23.390625 54.6875 \nz\n\" id=\"DejaVuSans-Oblique-112\"/>\n      <path d=\"M 46 62.703125 \nL 46 35.5 \nL 73.1875 35.5 \nL 73.1875 27.203125 \nL 46 27.203125 \nL 46 0 \nL 37.796875 0 \nL 37.796875 27.203125 \nL 10.59375 27.203125 \nL 10.59375 35.5 \nL 37.796875 35.5 \nL 37.796875 62.703125 \nz\n\" id=\"DejaVuSans-43\"/>\n      <path d=\"M 16.890625 72.90625 \nL 58.6875 72.90625 \nL 57.078125 64.59375 \nL 25.09375 64.59375 \nL 20.90625 43.109375 \nL 49.8125 43.109375 \nL 48.1875 34.8125 \nL 19.28125 34.8125 \nL 12.5 0 \nL 2.6875 0 \nz\n\" id=\"DejaVuSans-Oblique-70\"/>\n      <path d=\"M 55.71875 33.015625 \nL 49.3125 0 \nL 40.28125 0 \nL 46.6875 32.671875 \nQ 47.125 34.96875 47.359375 36.71875 \nQ 47.609375 38.484375 47.609375 39.5 \nQ 47.609375 43.609375 45.015625 45.890625 \nQ 42.4375 48.1875 37.796875 48.1875 \nQ 30.5625 48.1875 25.34375 43.375 \nQ 20.125 38.578125 18.5 30.328125 \nL 12.5 0 \nL 3.515625 0 \nL 14.109375 54.6875 \nL 23.09375 54.6875 \nL 21.296875 46.09375 \nQ 25.046875 50.828125 30.3125 53.40625 \nQ 35.59375 56 41.40625 56 \nQ 48.640625 56 52.609375 52.09375 \nQ 56.59375 48.1875 56.59375 41.109375 \nQ 56.59375 39.359375 56.375 37.359375 \nQ 56.15625 35.359375 55.71875 33.015625 \nz\n\" id=\"DejaVuSans-Oblique-110\"/>\n      <path d=\"M 11.40625 153 \nL 11.40625 156.59375 \nQ 28.203125 140.796875 38 117.296875 \nQ 47.796875 93.796875 47.796875 64.296875 \nQ 47.796875 34.90625 37.75 10.046875 \nQ 27.703125 -14.796875 11.40625 -27.90625 \nL 11.40625 -24.59375 \nQ 22.796875 -12.90625 30.546875 9.890625 \nQ 38.296875 32.703125 38.296875 64.296875 \nQ 38.296875 119.90625 11.40625 153 \nz\n\" id=\"STIXSizeTwoSym-Regular-41\"/>\n     </defs>\n     <g transform=\"translate(184.453125 260.817344)scale(0.1 -0.1)\">\n      <use transform=\"translate(0 0.052969)\" xlink:href=\"#DejaVuSans-82\"/>\n      <use transform=\"translate(69.482422 0.052969)\" xlink:href=\"#DejaVuSans-101\"/>\n      <use transform=\"translate(131.005859 0.052969)\" xlink:href=\"#DejaVuSans-99\"/>\n      <use transform=\"translate(185.986328 0.052969)\" xlink:href=\"#DejaVuSans-97\"/>\n      <use transform=\"translate(247.265625 0.052969)\" xlink:href=\"#DejaVuSans-108\"/>\n      <use transform=\"translate(275.048828 0.052969)\" xlink:href=\"#DejaVuSans-108\"/>\n      <use transform=\"translate(302.832031 0.052969)\" xlink:href=\"#DejaVuSans-32\"/>\n      <use transform=\"translate(334.619141 -33.328125)scale(0.957553)\" xlink:href=\"#STIXSizeTwoSym-Regular-40\"/>\n      <use transform=\"translate(471.015884 65.524687)scale(0.7)\" xlink:href=\"#DejaVuSans-Oblique-84\"/>\n      <use transform=\"translate(513.774673 54.040312)scale(0.49)\" xlink:href=\"#DejaVuSans-Oblique-112\"/>\n      <use transform=\"translate(391.015884 -38.434531)scale(0.7)\" xlink:href=\"#DejaVuSans-Oblique-84\"/>\n      <use transform=\"translate(433.774673 -49.918906)scale(0.49)\" xlink:href=\"#DejaVuSans-Oblique-112\"/>\n      <use transform=\"translate(480.429947 -38.434531)scale(0.7)\" xlink:href=\"#DejaVuSans-43\"/>\n      <use transform=\"translate(552.719986 -38.434531)scale(0.7)\" xlink:href=\"#DejaVuSans-Oblique-70\"/>\n      <use transform=\"translate(592.983658 -49.918906)scale(0.49)\" xlink:href=\"#DejaVuSans-Oblique-110\"/>\n      <use transform=\"translate(638.453384 -33.328125)scale(0.957553)\" xlink:href=\"#STIXSizeTwoSym-Regular-41\"/>\n      <path d=\"M 391.015884 18.849844 \nL 391.015884 25.099844 \nL 625.953384 25.099844 \nL 625.953384 18.849844 \nL 391.015884 18.849844 \nz\n\"/>\n     </g>\n    </g>\n   </g>\n   <g id=\"matplotlib.axis_2\">\n    <g id=\"ytick_1\">\n     <g id=\"line2d_7\">\n      <defs>\n       <path d=\"M 0 0 \nL -3.5 0 \n\" id=\"mde32d41ea4\" style=\"stroke:#000000;stroke-width:0.8;\"/>\n      </defs>\n      <g>\n       <use style=\"stroke:#000000;stroke-width:0.8;\" x=\"51.903125\" xlink:href=\"#mde32d41ea4\" y=\"228.439219\"/>\n      </g>\n     </g>\n     <g id=\"text_8\">\n      <!-- 0.0 -->\n      <g transform=\"translate(29 232.238438)scale(0.1 -0.1)\">\n       <use xlink:href=\"#DejaVuSans-48\"/>\n       <use x=\"63.623047\" xlink:href=\"#DejaVuSans-46\"/>\n       <use x=\"95.410156\" xlink:href=\"#DejaVuSans-48\"/>\n      </g>\n     </g>\n    </g>\n    <g id=\"ytick_2\">\n     <g id=\"line2d_8\">\n      <g>\n       <use style=\"stroke:#000000;stroke-width:0.8;\" x=\"51.903125\" xlink:href=\"#mde32d41ea4\" y=\"184.951219\"/>\n      </g>\n     </g>\n     <g id=\"text_9\">\n      <!-- 0.2 -->\n      <g transform=\"translate(29 188.750438)scale(0.1 -0.1)\">\n       <use xlink:href=\"#DejaVuSans-48\"/>\n       <use x=\"63.623047\" xlink:href=\"#DejaVuSans-46\"/>\n       <use x=\"95.410156\" xlink:href=\"#DejaVuSans-50\"/>\n      </g>\n     </g>\n    </g>\n    <g id=\"ytick_3\">\n     <g id=\"line2d_9\">\n      <g>\n       <use style=\"stroke:#000000;stroke-width:0.8;\" x=\"51.903125\" xlink:href=\"#mde32d41ea4\" y=\"141.463219\"/>\n      </g>\n     </g>\n     <g id=\"text_10\">\n      <!-- 0.4 -->\n      <g transform=\"translate(29 145.262438)scale(0.1 -0.1)\">\n       <use xlink:href=\"#DejaVuSans-48\"/>\n       <use x=\"63.623047\" xlink:href=\"#DejaVuSans-46\"/>\n       <use x=\"95.410156\" xlink:href=\"#DejaVuSans-52\"/>\n      </g>\n     </g>\n    </g>\n    <g id=\"ytick_4\">\n     <g id=\"line2d_10\">\n      <g>\n       <use style=\"stroke:#000000;stroke-width:0.8;\" x=\"51.903125\" xlink:href=\"#mde32d41ea4\" y=\"97.975219\"/>\n      </g>\n     </g>\n     <g id=\"text_11\">\n      <!-- 0.6 -->\n      <g transform=\"translate(29 101.774438)scale(0.1 -0.1)\">\n       <use xlink:href=\"#DejaVuSans-48\"/>\n       <use x=\"63.623047\" xlink:href=\"#DejaVuSans-46\"/>\n       <use x=\"95.410156\" xlink:href=\"#DejaVuSans-54\"/>\n      </g>\n     </g>\n    </g>\n    <g id=\"ytick_5\">\n     <g id=\"line2d_11\">\n      <g>\n       <use style=\"stroke:#000000;stroke-width:0.8;\" x=\"51.903125\" xlink:href=\"#mde32d41ea4\" y=\"54.487219\"/>\n      </g>\n     </g>\n     <g id=\"text_12\">\n      <!-- 0.8 -->\n      <g transform=\"translate(29 58.286438)scale(0.1 -0.1)\">\n       <use xlink:href=\"#DejaVuSans-48\"/>\n       <use x=\"63.623047\" xlink:href=\"#DejaVuSans-46\"/>\n       <use x=\"95.410156\" xlink:href=\"#DejaVuSans-56\"/>\n      </g>\n     </g>\n    </g>\n    <g id=\"ytick_6\">\n     <g id=\"line2d_12\">\n      <g>\n       <use style=\"stroke:#000000;stroke-width:0.8;\" x=\"51.903125\" xlink:href=\"#mde32d41ea4\" y=\"10.999219\"/>\n      </g>\n     </g>\n     <g id=\"text_13\">\n      <!-- 1.0 -->\n      <g transform=\"translate(29 14.798438)scale(0.1 -0.1)\">\n       <use xlink:href=\"#DejaVuSans-49\"/>\n       <use x=\"63.623047\" xlink:href=\"#DejaVuSans-46\"/>\n       <use x=\"95.410156\" xlink:href=\"#DejaVuSans-48\"/>\n      </g>\n     </g>\n    </g>\n    <g id=\"text_14\">\n     <!-- Precision $\\left(\\frac{T_p}{T_p + F_p} \\right)$ -->\n     <defs>\n      <path d=\"M 19.671875 64.796875 \nL 19.671875 37.40625 \nL 32.078125 37.40625 \nQ 38.96875 37.40625 42.71875 40.96875 \nQ 46.484375 44.53125 46.484375 51.125 \nQ 46.484375 57.671875 42.71875 61.234375 \nQ 38.96875 64.796875 32.078125 64.796875 \nz\nM 9.8125 72.90625 \nL 32.078125 72.90625 \nQ 44.34375 72.90625 50.609375 67.359375 \nQ 56.890625 61.8125 56.890625 51.125 \nQ 56.890625 40.328125 50.609375 34.8125 \nQ 44.34375 29.296875 32.078125 29.296875 \nL 19.671875 29.296875 \nL 19.671875 0 \nL 9.8125 0 \nz\n\" id=\"DejaVuSans-80\"/>\n      <path d=\"M 41.109375 46.296875 \nQ 39.59375 47.171875 37.8125 47.578125 \nQ 36.03125 48 33.890625 48 \nQ 26.265625 48 22.1875 43.046875 \nQ 18.109375 38.09375 18.109375 28.8125 \nL 18.109375 0 \nL 9.078125 0 \nL 9.078125 54.6875 \nL 18.109375 54.6875 \nL 18.109375 46.1875 \nQ 20.953125 51.171875 25.484375 53.578125 \nQ 30.03125 56 36.53125 56 \nQ 37.453125 56 38.578125 55.875 \nQ 39.703125 55.765625 41.0625 55.515625 \nz\n\" id=\"DejaVuSans-114\"/>\n      <path d=\"M 9.421875 54.6875 \nL 18.40625 54.6875 \nL 18.40625 0 \nL 9.421875 0 \nz\nM 9.421875 75.984375 \nL 18.40625 75.984375 \nL 18.40625 64.59375 \nL 9.421875 64.59375 \nz\n\" id=\"DejaVuSans-105\"/>\n      <path d=\"M 44.28125 53.078125 \nL 44.28125 44.578125 \nQ 40.484375 46.53125 36.375 47.5 \nQ 32.28125 48.484375 27.875 48.484375 \nQ 21.1875 48.484375 17.84375 46.4375 \nQ 14.5 44.390625 14.5 40.28125 \nQ 14.5 37.15625 16.890625 35.375 \nQ 19.28125 33.59375 26.515625 31.984375 \nL 29.59375 31.296875 \nQ 39.15625 29.25 43.1875 25.515625 \nQ 47.21875 21.78125 47.21875 15.09375 \nQ 47.21875 7.46875 41.1875 3.015625 \nQ 35.15625 -1.421875 24.609375 -1.421875 \nQ 20.21875 -1.421875 15.453125 -0.5625 \nQ 10.6875 0.296875 5.421875 2 \nL 5.421875 11.28125 \nQ 10.40625 8.6875 15.234375 7.390625 \nQ 20.0625 6.109375 24.8125 6.109375 \nQ 31.15625 6.109375 34.5625 8.28125 \nQ 37.984375 10.453125 37.984375 14.40625 \nQ 37.984375 18.0625 35.515625 20.015625 \nQ 33.0625 21.96875 24.703125 23.78125 \nL 21.578125 24.515625 \nQ 13.234375 26.265625 9.515625 29.90625 \nQ 5.8125 33.546875 5.8125 39.890625 \nQ 5.8125 47.609375 11.28125 51.796875 \nQ 16.75 56 26.8125 56 \nQ 31.78125 56 36.171875 55.265625 \nQ 40.578125 54.546875 44.28125 53.078125 \nz\n\" id=\"DejaVuSans-115\"/>\n      <path d=\"M 30.609375 48.390625 \nQ 23.390625 48.390625 19.1875 42.75 \nQ 14.984375 37.109375 14.984375 27.296875 \nQ 14.984375 17.484375 19.15625 11.84375 \nQ 23.34375 6.203125 30.609375 6.203125 \nQ 37.796875 6.203125 41.984375 11.859375 \nQ 46.1875 17.53125 46.1875 27.296875 \nQ 46.1875 37.015625 41.984375 42.703125 \nQ 37.796875 48.390625 30.609375 48.390625 \nz\nM 30.609375 56 \nQ 42.328125 56 49.015625 48.375 \nQ 55.71875 40.765625 55.71875 27.296875 \nQ 55.71875 13.875 49.015625 6.21875 \nQ 42.328125 -1.421875 30.609375 -1.421875 \nQ 18.84375 -1.421875 12.171875 6.21875 \nQ 5.515625 13.875 5.515625 27.296875 \nQ 5.515625 40.765625 12.171875 48.375 \nQ 18.84375 56 30.609375 56 \nz\n\" id=\"DejaVuSans-111\"/>\n      <path d=\"M 54.890625 33.015625 \nL 54.890625 0 \nL 45.90625 0 \nL 45.90625 32.71875 \nQ 45.90625 40.484375 42.875 44.328125 \nQ 39.84375 48.1875 33.796875 48.1875 \nQ 26.515625 48.1875 22.3125 43.546875 \nQ 18.109375 38.921875 18.109375 30.90625 \nL 18.109375 0 \nL 9.078125 0 \nL 9.078125 54.6875 \nL 18.109375 54.6875 \nL 18.109375 46.1875 \nQ 21.34375 51.125 25.703125 53.5625 \nQ 30.078125 56 35.796875 56 \nQ 45.21875 56 50.046875 50.171875 \nQ 54.890625 44.34375 54.890625 33.015625 \nz\n\" id=\"DejaVuSans-110\"/>\n     </defs>\n     <g transform=\"translate(18.9 161.969219)rotate(-90)scale(0.1 -0.1)\">\n      <use transform=\"translate(0 0.052969)\" xlink:href=\"#DejaVuSans-80\"/>\n      <use transform=\"translate(60.302734 0.052969)\" xlink:href=\"#DejaVuSans-114\"/>\n      <use transform=\"translate(101.416016 0.052969)\" xlink:href=\"#DejaVuSans-101\"/>\n      <use transform=\"translate(162.939453 0.052969)\" xlink:href=\"#DejaVuSans-99\"/>\n      <use transform=\"translate(217.919922 0.052969)\" xlink:href=\"#DejaVuSans-105\"/>\n      <use transform=\"translate(245.703125 0.052969)\" xlink:href=\"#DejaVuSans-115\"/>\n      <use transform=\"translate(297.802734 0.052969)\" xlink:href=\"#DejaVuSans-105\"/>\n      <use transform=\"translate(325.585938 0.052969)\" xlink:href=\"#DejaVuSans-111\"/>\n      <use transform=\"translate(386.767578 0.052969)\" xlink:href=\"#DejaVuSans-110\"/>\n      <use transform=\"translate(450.146484 0.052969)\" xlink:href=\"#DejaVuSans-32\"/>\n      <use transform=\"translate(481.933594 -33.328125)scale(0.957553)\" xlink:href=\"#STIXSizeTwoSym-Regular-40\"/>\n      <use transform=\"translate(618.330338 65.524687)scale(0.7)\" xlink:href=\"#DejaVuSans-Oblique-84\"/>\n      <use transform=\"translate(661.089127 54.040312)scale(0.49)\" xlink:href=\"#DejaVuSans-Oblique-112\"/>\n      <use transform=\"translate(538.330338 -38.434531)scale(0.7)\" xlink:href=\"#DejaVuSans-Oblique-84\"/>\n      <use transform=\"translate(581.089127 -49.918906)scale(0.49)\" xlink:href=\"#DejaVuSans-Oblique-112\"/>\n      <use transform=\"translate(627.7444 -38.434531)scale(0.7)\" xlink:href=\"#DejaVuSans-43\"/>\n      <use transform=\"translate(700.034439 -38.434531)scale(0.7)\" xlink:href=\"#DejaVuSans-Oblique-70\"/>\n      <use transform=\"translate(740.298111 -49.918906)scale(0.49)\" xlink:href=\"#DejaVuSans-Oblique-112\"/>\n      <use transform=\"translate(785.815689 -33.328125)scale(0.957553)\" xlink:href=\"#STIXSizeTwoSym-Regular-41\"/>\n      <path d=\"M 538.330338 18.849844 \nL 538.330338 25.099844 \nL 773.315689 25.099844 \nL 773.315689 18.849844 \nL 538.330338 18.849844 \nz\n\"/>\n     </g>\n    </g>\n   </g>\n   <g id=\"line2d_13\">\n    <path clip-path=\"url(#p1d4aea5bbe)\" d=\"M 51.903125 10.999219 \nL 62.914019 160.222748 \nL 73.580823 159.945619 \nL 81.838993 165.381619 \nL 90.097164 168.099619 \nL 99.387606 168.184761 \nL 106.613505 170.528063 \nL 113.839405 172.123823 \nL 118.656671 175.51154 \nL 124.506208 177.176828 \nL 130.699836 178.294445 \nL 135.173012 180.163549 \nL 141.022549 181.35146 \nL 145.839816 182.565092 \nL 152.721624 182.736263 \nL 158.915252 183.084531 \nL 163.732519 184.105467 \nL 167.173423 185.234948 \nL 174.055232 185.194849 \nL 178.528408 186.056846 \nL 182.657493 186.813425 \nL 188.16294 187.141262 \nL 191.947935 187.880979 \nL 195.73293 188.610157 \nL 199.517925 189.245202 \nL 202.270648 190.170479 \nL 205.023372 190.978592 \nL 207.776095 191.753811 \nL 211.217 192.277322 \nL 212.937452 193.080664 \nL 217.066537 193.403569 \nL 220.507442 193.790243 \nL 224.980617 193.958664 \nL 227.38925 194.609322 \nL 230.141974 195.056314 \nL 235.303331 195.049556 \nL 239.088325 195.416505 \nL 242.185139 195.719676 \nL 243.905592 196.238709 \nL 247.690586 196.543534 \nL 249.066948 197.134415 \nL 251.131491 197.544063 \nL 253.540124 197.890228 \nL 255.948757 198.242048 \nL 259.045571 198.519475 \nL 261.454204 198.808214 \nL 265.92738 198.818614 \nL 267.647832 199.264196 \nL 269.712375 199.614188 \nL 271.432827 199.894626 \nL 273.49737 200.224155 \nL 275.561912 200.567793 \nL 277.970545 200.732066 \nL 280.723269 201.001344 \nL 282.787812 201.203408 \nL 285.196445 201.453255 \nL 287.260987 201.727839 \nL 288.293259 202.037437 \nL 291.045982 202.234814 \nL 293.454615 202.3865 \nL 295.519158 202.622093 \nL 296.89552 202.929698 \nL 299.304153 203.096479 \nL 302.400967 203.111808 \nL 305.497781 203.194531 \nL 306.530052 203.500347 \nL 308.594595 203.696961 \nL 311.347318 203.792532 \nL 315.476404 203.811237 \nL 316.852765 203.968479 \nL 319.949579 204.06366 \nL 323.734574 204.077057 \nL 325.455026 204.221679 \nL 328.895931 204.315845 \nL 333.025016 204.249611 \nL 336.46592 204.282464 \nL 339.562734 204.362419 \nL 342.659548 204.36469 \nL 347.476815 204.304194 \nL 349.885448 204.420974 \nL 352.982262 204.492082 \nL 355.390895 204.618317 \nL 358.487709 204.6442 \nL 360.208161 204.809596 \nL 362.616794 204.856668 \nL 364.681337 205.023396 \nL 367.43406 205.061041 \nL 370.530874 205.099768 \nL 373.627688 205.150971 \nL 376.724502 205.193085 \nL 379.133135 205.293322 \nL 380.165407 205.449331 \nL 381.885859 205.607185 \nL 382.91813 205.879115 \nL 383.262221 206.022484 \nL 383.606311 206.213351 \nL 384.638582 206.394295 \nL 384.982673 206.557327 \nL 386.359035 206.728723 \nL 386.703125 206.892308 \nL 386.703125 207.094473 \n\" style=\"fill:none;stroke:#1f77b4;stroke-linecap:square;stroke-width:1.5;\"/>\n   </g>\n   <g id=\"line2d_14\">\n    <path clip-path=\"url(#p1d4aea5bbe)\" d=\"M 51.903125 228.439219 \nL 386.703125 228.439219 \n\" style=\"fill:none;stroke:#ff7f0e;stroke-dasharray:5.55,2.4;stroke-dashoffset:0;stroke-width:1.5;\"/>\n   </g>\n   <g id=\"patch_3\">\n    <path d=\"M 51.903125 228.439219 \nL 51.903125 10.999219 \n\" style=\"fill:none;stroke:#000000;stroke-linecap:square;stroke-linejoin:miter;stroke-width:0.8;\"/>\n   </g>\n   <g id=\"patch_4\">\n    <path d=\"M 386.703125 228.439219 \nL 386.703125 10.999219 \n\" style=\"fill:none;stroke:#000000;stroke-linecap:square;stroke-linejoin:miter;stroke-width:0.8;\"/>\n   </g>\n   <g id=\"patch_5\">\n    <path d=\"M 51.903125 228.439219 \nL 386.703125 228.439219 \n\" style=\"fill:none;stroke:#000000;stroke-linecap:square;stroke-linejoin:miter;stroke-width:0.8;\"/>\n   </g>\n   <g id=\"patch_6\">\n    <path d=\"M 51.903125 10.999219 \nL 386.703125 10.999219 \n\" style=\"fill:none;stroke:#000000;stroke-linecap:square;stroke-linejoin:miter;stroke-width:0.8;\"/>\n   </g>\n   <g id=\"legend_1\">\n    <g id=\"patch_7\">\n     <path d=\"M 262.795313 48.355469 \nL 379.703125 48.355469 \nQ 381.703125 48.355469 381.703125 46.355469 \nL 381.703125 17.999219 \nQ 381.703125 15.999219 379.703125 15.999219 \nL 262.795313 15.999219 \nQ 260.795313 15.999219 260.795313 17.999219 \nL 260.795313 46.355469 \nQ 260.795313 48.355469 262.795313 48.355469 \nz\n\" style=\"fill:#ffffff;opacity:0.8;stroke:#cccccc;stroke-linejoin:miter;\"/>\n    </g>\n    <g id=\"line2d_15\">\n     <path d=\"M 264.795313 24.097656 \nL 284.795313 24.097656 \n\" style=\"fill:none;stroke:#1f77b4;stroke-linecap:square;stroke-width:1.5;\"/>\n    </g>\n    <g id=\"line2d_16\"/>\n    <g id=\"text_15\">\n     <!-- univariate model -->\n     <defs>\n      <path d=\"M 8.5 21.578125 \nL 8.5 54.6875 \nL 17.484375 54.6875 \nL 17.484375 21.921875 \nQ 17.484375 14.15625 20.5 10.265625 \nQ 23.53125 6.390625 29.59375 6.390625 \nQ 36.859375 6.390625 41.078125 11.03125 \nQ 45.3125 15.671875 45.3125 23.6875 \nL 45.3125 54.6875 \nL 54.296875 54.6875 \nL 54.296875 0 \nL 45.3125 0 \nL 45.3125 8.40625 \nQ 42.046875 3.421875 37.71875 1 \nQ 33.40625 -1.421875 27.6875 -1.421875 \nQ 18.265625 -1.421875 13.375 4.4375 \nQ 8.5 10.296875 8.5 21.578125 \nz\nM 31.109375 56 \nz\n\" id=\"DejaVuSans-117\"/>\n      <path d=\"M 2.984375 54.6875 \nL 12.5 54.6875 \nL 29.59375 8.796875 \nL 46.6875 54.6875 \nL 56.203125 54.6875 \nL 35.6875 0 \nL 23.484375 0 \nz\n\" id=\"DejaVuSans-118\"/>\n      <path d=\"M 18.3125 70.21875 \nL 18.3125 54.6875 \nL 36.8125 54.6875 \nL 36.8125 47.703125 \nL 18.3125 47.703125 \nL 18.3125 18.015625 \nQ 18.3125 11.328125 20.140625 9.421875 \nQ 21.96875 7.515625 27.59375 7.515625 \nL 36.8125 7.515625 \nL 36.8125 0 \nL 27.59375 0 \nQ 17.1875 0 13.234375 3.875 \nQ 9.28125 7.765625 9.28125 18.015625 \nL 9.28125 47.703125 \nL 2.6875 47.703125 \nL 2.6875 54.6875 \nL 9.28125 54.6875 \nL 9.28125 70.21875 \nz\n\" id=\"DejaVuSans-116\"/>\n      <path d=\"M 52 44.1875 \nQ 55.375 50.25 60.0625 53.125 \nQ 64.75 56 71.09375 56 \nQ 79.640625 56 84.28125 50.015625 \nQ 88.921875 44.046875 88.921875 33.015625 \nL 88.921875 0 \nL 79.890625 0 \nL 79.890625 32.71875 \nQ 79.890625 40.578125 77.09375 44.375 \nQ 74.3125 48.1875 68.609375 48.1875 \nQ 61.625 48.1875 57.5625 43.546875 \nQ 53.515625 38.921875 53.515625 30.90625 \nL 53.515625 0 \nL 44.484375 0 \nL 44.484375 32.71875 \nQ 44.484375 40.625 41.703125 44.40625 \nQ 38.921875 48.1875 33.109375 48.1875 \nQ 26.21875 48.1875 22.15625 43.53125 \nQ 18.109375 38.875 18.109375 30.90625 \nL 18.109375 0 \nL 9.078125 0 \nL 9.078125 54.6875 \nL 18.109375 54.6875 \nL 18.109375 46.1875 \nQ 21.1875 51.21875 25.484375 53.609375 \nQ 29.78125 56 35.6875 56 \nQ 41.65625 56 45.828125 52.96875 \nQ 50 49.953125 52 44.1875 \nz\n\" id=\"DejaVuSans-109\"/>\n      <path d=\"M 45.40625 46.390625 \nL 45.40625 75.984375 \nL 54.390625 75.984375 \nL 54.390625 0 \nL 45.40625 0 \nL 45.40625 8.203125 \nQ 42.578125 3.328125 38.25 0.953125 \nQ 33.9375 -1.421875 27.875 -1.421875 \nQ 17.96875 -1.421875 11.734375 6.484375 \nQ 5.515625 14.40625 5.515625 27.296875 \nQ 5.515625 40.1875 11.734375 48.09375 \nQ 17.96875 56 27.875 56 \nQ 33.9375 56 38.25 53.625 \nQ 42.578125 51.265625 45.40625 46.390625 \nz\nM 14.796875 27.296875 \nQ 14.796875 17.390625 18.875 11.75 \nQ 22.953125 6.109375 30.078125 6.109375 \nQ 37.203125 6.109375 41.296875 11.75 \nQ 45.40625 17.390625 45.40625 27.296875 \nQ 45.40625 37.203125 41.296875 42.84375 \nQ 37.203125 48.484375 30.078125 48.484375 \nQ 22.953125 48.484375 18.875 42.84375 \nQ 14.796875 37.203125 14.796875 27.296875 \nz\n\" id=\"DejaVuSans-100\"/>\n     </defs>\n     <g transform=\"translate(292.795313 27.597656)scale(0.1 -0.1)\">\n      <use xlink:href=\"#DejaVuSans-117\"/>\n      <use x=\"63.378906\" xlink:href=\"#DejaVuSans-110\"/>\n      <use x=\"126.757812\" xlink:href=\"#DejaVuSans-105\"/>\n      <use x=\"154.541016\" xlink:href=\"#DejaVuSans-118\"/>\n      <use x=\"213.720703\" xlink:href=\"#DejaVuSans-97\"/>\n      <use x=\"275\" xlink:href=\"#DejaVuSans-114\"/>\n      <use x=\"316.113281\" xlink:href=\"#DejaVuSans-105\"/>\n      <use x=\"343.896484\" xlink:href=\"#DejaVuSans-97\"/>\n      <use x=\"405.175781\" xlink:href=\"#DejaVuSans-116\"/>\n      <use x=\"444.384766\" xlink:href=\"#DejaVuSans-101\"/>\n      <use x=\"505.908203\" xlink:href=\"#DejaVuSans-32\"/>\n      <use x=\"537.695312\" xlink:href=\"#DejaVuSans-109\"/>\n      <use x=\"635.107422\" xlink:href=\"#DejaVuSans-111\"/>\n      <use x=\"696.289062\" xlink:href=\"#DejaVuSans-100\"/>\n      <use x=\"759.765625\" xlink:href=\"#DejaVuSans-101\"/>\n      <use x=\"821.289062\" xlink:href=\"#DejaVuSans-108\"/>\n     </g>\n    </g>\n    <g id=\"line2d_17\">\n     <path d=\"M 264.795313 38.775781 \nL 284.795313 38.775781 \n\" style=\"fill:none;stroke:#ff7f0e;stroke-dasharray:5.55,2.4;stroke-dashoffset:0;stroke-width:1.5;\"/>\n    </g>\n    <g id=\"line2d_18\"/>\n    <g id=\"text_16\">\n     <!-- null model -->\n     <g transform=\"translate(292.795313 42.275781)scale(0.1 -0.1)\">\n      <use xlink:href=\"#DejaVuSans-110\"/>\n      <use x=\"63.378906\" xlink:href=\"#DejaVuSans-117\"/>\n      <use x=\"126.757812\" xlink:href=\"#DejaVuSans-108\"/>\n      <use x=\"154.541016\" xlink:href=\"#DejaVuSans-108\"/>\n      <use x=\"182.324219\" xlink:href=\"#DejaVuSans-32\"/>\n      <use x=\"214.111328\" xlink:href=\"#DejaVuSans-109\"/>\n      <use x=\"311.523438\" xlink:href=\"#DejaVuSans-111\"/>\n      <use x=\"372.705078\" xlink:href=\"#DejaVuSans-100\"/>\n      <use x=\"436.181641\" xlink:href=\"#DejaVuSans-101\"/>\n      <use x=\"497.705078\" xlink:href=\"#DejaVuSans-108\"/>\n     </g>\n    </g>\n   </g>\n  </g>\n </g>\n <defs>\n  <clipPath id=\"p1d4aea5bbe\">\n   <rect height=\"217.44\" width=\"334.8\" x=\"51.903125\" y=\"10.999219\"/>\n  </clipPath>\n </defs>\n</svg>\n"
          },
          "metadata": {
            "tags": [],
            "needs_background": "light"
          }
        }
      ]
    }
  ]
}